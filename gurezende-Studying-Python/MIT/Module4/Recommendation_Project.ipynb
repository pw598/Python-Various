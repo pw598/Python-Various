{
 "cells": [
  {
   "cell_type": "markdown",
   "metadata": {},
   "source": [
    "## Building a Recommendation System"
   ]
  },
  {
   "cell_type": "markdown",
   "metadata": {},
   "source": [
    "*Notebook created by Gustavo R. Santos using the Grocery and Groumet Food ratings only Database by Amazon available on http://jmcauley.ucsd.edu/data/amazon/* "
   ]
  },
  {
   "cell_type": "markdown",
   "metadata": {},
   "source": [
    "In this project, our goal is to create a recommendation system that will give us the *n* recommended products to a given user"
   ]
  },
  {
   "cell_type": "markdown",
   "metadata": {},
   "source": [
    "### Imports"
   ]
  },
  {
   "cell_type": "code",
   "execution_count": 1,
   "metadata": {},
   "outputs": [],
   "source": [
    "# Basics\n",
    "import pandas as pd\n",
    "import numpy as np\n",
    "\n",
    "# Data Visualization\n",
    "import matplotlib.pyplot as plt\n",
    "import seaborn as sns\n",
    "sns.set(style='whitegrid')"
   ]
  },
  {
   "cell_type": "markdown",
   "metadata": {},
   "source": [
    "### Loading the Dataset"
   ]
  },
  {
   "cell_type": "code",
   "execution_count": 2,
   "metadata": {},
   "outputs": [],
   "source": [
    "# Loading CSV file\n",
    "df = pd.read_csv('ratings_Grocery_and_Gourmet_Food.csv', header=None, names = ['user_id','prod_id','rating', 'timestamp'])"
   ]
  },
  {
   "cell_type": "code",
   "execution_count": 4,
   "metadata": {},
   "outputs": [
    {
     "data": {
      "text/html": [
       "<div>\n",
       "<style scoped>\n",
       "    .dataframe tbody tr th:only-of-type {\n",
       "        vertical-align: middle;\n",
       "    }\n",
       "\n",
       "    .dataframe tbody tr th {\n",
       "        vertical-align: top;\n",
       "    }\n",
       "\n",
       "    .dataframe thead th {\n",
       "        text-align: right;\n",
       "    }\n",
       "</style>\n",
       "<table border=\"1\" class=\"dataframe\">\n",
       "  <thead>\n",
       "    <tr style=\"text-align: right;\">\n",
       "      <th></th>\n",
       "      <th>user_id</th>\n",
       "      <th>prod_id</th>\n",
       "      <th>rating</th>\n",
       "      <th>timestamp</th>\n",
       "    </tr>\n",
       "  </thead>\n",
       "  <tbody>\n",
       "    <tr>\n",
       "      <th>0</th>\n",
       "      <td>A1ZQZ8RJS1XVTX</td>\n",
       "      <td>0657745316</td>\n",
       "      <td>5.0</td>\n",
       "      <td>1381449600</td>\n",
       "    </tr>\n",
       "    <tr>\n",
       "      <th>1</th>\n",
       "      <td>A31W38VGZAUUM4</td>\n",
       "      <td>0700026444</td>\n",
       "      <td>5.0</td>\n",
       "      <td>1354752000</td>\n",
       "    </tr>\n",
       "    <tr>\n",
       "      <th>2</th>\n",
       "      <td>A3I0AV0UJX5OH0</td>\n",
       "      <td>1403796890</td>\n",
       "      <td>1.0</td>\n",
       "      <td>1385942400</td>\n",
       "    </tr>\n",
       "    <tr>\n",
       "      <th>3</th>\n",
       "      <td>A3QAAOLIXKV383</td>\n",
       "      <td>1403796890</td>\n",
       "      <td>3.0</td>\n",
       "      <td>1307836800</td>\n",
       "    </tr>\n",
       "  </tbody>\n",
       "</table>\n",
       "</div>"
      ],
      "text/plain": [
       "          user_id     prod_id  rating   timestamp\n",
       "0  A1ZQZ8RJS1XVTX  0657745316     5.0  1381449600\n",
       "1  A31W38VGZAUUM4  0700026444     5.0  1354752000\n",
       "2  A3I0AV0UJX5OH0  1403796890     1.0  1385942400\n",
       "3  A3QAAOLIXKV383  1403796890     3.0  1307836800"
      ]
     },
     "execution_count": 4,
     "metadata": {},
     "output_type": "execute_result"
    }
   ],
   "source": [
    "# First look at the dataset\n",
    "df.head(4)"
   ]
  },
  {
   "cell_type": "code",
   "execution_count": 3,
   "metadata": {},
   "outputs": [],
   "source": [
    "# Drop timestamp columns, as it will not be used in this study\n",
    "df.drop('timestamp',axis=1, inplace=True)"
   ]
  },
  {
   "cell_type": "markdown",
   "metadata": {},
   "source": [
    "### Data Exploratory Analysis"
   ]
  },
  {
   "cell_type": "code",
   "execution_count": 6,
   "metadata": {},
   "outputs": [
    {
     "data": {
      "text/plain": [
       "(1297156, 3)"
      ]
     },
     "execution_count": 6,
     "metadata": {},
     "output_type": "execute_result"
    }
   ],
   "source": [
    "# Shape of the dataset\n",
    "df.shape"
   ]
  },
  {
   "cell_type": "code",
   "execution_count": 7,
   "metadata": {},
   "outputs": [
    {
     "data": {
      "text/html": [
       "<div>\n",
       "<style scoped>\n",
       "    .dataframe tbody tr th:only-of-type {\n",
       "        vertical-align: middle;\n",
       "    }\n",
       "\n",
       "    .dataframe tbody tr th {\n",
       "        vertical-align: top;\n",
       "    }\n",
       "\n",
       "    .dataframe thead th {\n",
       "        text-align: right;\n",
       "    }\n",
       "</style>\n",
       "<table border=\"1\" class=\"dataframe\">\n",
       "  <thead>\n",
       "    <tr style=\"text-align: right;\">\n",
       "      <th></th>\n",
       "      <th>user_id</th>\n",
       "      <th>prod_id</th>\n",
       "      <th>rating</th>\n",
       "    </tr>\n",
       "  </thead>\n",
       "  <tbody>\n",
       "    <tr>\n",
       "      <th>count</th>\n",
       "      <td>1297156</td>\n",
       "      <td>1297156</td>\n",
       "      <td>1.297156e+06</td>\n",
       "    </tr>\n",
       "    <tr>\n",
       "      <th>unique</th>\n",
       "      <td>768438</td>\n",
       "      <td>166049</td>\n",
       "      <td>NaN</td>\n",
       "    </tr>\n",
       "    <tr>\n",
       "      <th>top</th>\n",
       "      <td>AY12DBB0U420B</td>\n",
       "      <td>B0051SU0OW</td>\n",
       "      <td>NaN</td>\n",
       "    </tr>\n",
       "    <tr>\n",
       "      <th>freq</th>\n",
       "      <td>518</td>\n",
       "      <td>6340</td>\n",
       "      <td>NaN</td>\n",
       "    </tr>\n",
       "    <tr>\n",
       "      <th>mean</th>\n",
       "      <td>NaN</td>\n",
       "      <td>NaN</td>\n",
       "      <td>4.254563e+00</td>\n",
       "    </tr>\n",
       "    <tr>\n",
       "      <th>std</th>\n",
       "      <td>NaN</td>\n",
       "      <td>NaN</td>\n",
       "      <td>1.253953e+00</td>\n",
       "    </tr>\n",
       "    <tr>\n",
       "      <th>min</th>\n",
       "      <td>NaN</td>\n",
       "      <td>NaN</td>\n",
       "      <td>1.000000e+00</td>\n",
       "    </tr>\n",
       "    <tr>\n",
       "      <th>25%</th>\n",
       "      <td>NaN</td>\n",
       "      <td>NaN</td>\n",
       "      <td>4.000000e+00</td>\n",
       "    </tr>\n",
       "    <tr>\n",
       "      <th>50%</th>\n",
       "      <td>NaN</td>\n",
       "      <td>NaN</td>\n",
       "      <td>5.000000e+00</td>\n",
       "    </tr>\n",
       "    <tr>\n",
       "      <th>75%</th>\n",
       "      <td>NaN</td>\n",
       "      <td>NaN</td>\n",
       "      <td>5.000000e+00</td>\n",
       "    </tr>\n",
       "    <tr>\n",
       "      <th>max</th>\n",
       "      <td>NaN</td>\n",
       "      <td>NaN</td>\n",
       "      <td>5.000000e+00</td>\n",
       "    </tr>\n",
       "  </tbody>\n",
       "</table>\n",
       "</div>"
      ],
      "text/plain": [
       "              user_id     prod_id        rating\n",
       "count         1297156     1297156  1.297156e+06\n",
       "unique         768438      166049           NaN\n",
       "top     AY12DBB0U420B  B0051SU0OW           NaN\n",
       "freq              518        6340           NaN\n",
       "mean              NaN         NaN  4.254563e+00\n",
       "std               NaN         NaN  1.253953e+00\n",
       "min               NaN         NaN  1.000000e+00\n",
       "25%               NaN         NaN  4.000000e+00\n",
       "50%               NaN         NaN  5.000000e+00\n",
       "75%               NaN         NaN  5.000000e+00\n",
       "max               NaN         NaN  5.000000e+00"
      ]
     },
     "execution_count": 7,
     "metadata": {},
     "output_type": "execute_result"
    }
   ],
   "source": [
    "# Descriptive statistics\n",
    "df.describe(include='all')"
   ]
  },
  {
   "cell_type": "markdown",
   "metadata": {},
   "source": [
    "Comments on the description:\n",
    "* The user ID that appears the most is AY12DBB0U420B - 518 times\n",
    "* Product B0051SU0OW is the most frequently reviewed - 6340 times\n",
    "* Ratings mean is 4.25, what shows us those are skewed towards the positive ratings\n",
    "* Standard deviation is 1.25, what gives us the range of 3 - 5 for most of the grades."
   ]
  },
  {
   "cell_type": "code",
   "execution_count": 8,
   "metadata": {},
   "outputs": [
    {
     "data": {
      "text/plain": [
       "user_id    0\n",
       "prod_id    0\n",
       "rating     0\n",
       "dtype: int64"
      ]
     },
     "execution_count": 8,
     "metadata": {},
     "output_type": "execute_result"
    }
   ],
   "source": [
    "# Checking up for missing entries\n",
    "df.isnull().sum()"
   ]
  },
  {
   "cell_type": "code",
   "execution_count": 9,
   "metadata": {},
   "outputs": [
    {
     "data": {
      "image/png": "[encoded data removed]",
      "text/plain": [
       "<Figure size 864x432 with 1 Axes>"
      ]
     },
     "metadata": {},
     "output_type": "display_data"
    }
   ],
   "source": [
    "# Histogram\n",
    "plt.figure(figsize=(12,6))\n",
    "sns.countplot('rating', data=df, alpha=0.85)\n",
    "plt.xlabel('Ratings', size=12)\n",
    "plt.show()"
   ]
  },
  {
   "cell_type": "markdown",
   "metadata": {},
   "source": [
    "Confirming our statistics, the ratings are heavily skewed towards 5."
   ]
  },
  {
   "cell_type": "code",
   "execution_count": 10,
   "metadata": {},
   "outputs": [
    {
     "name": "stdout",
     "output_type": "stream",
     "text": [
      "Total Number of Ratings: 1297156 \n",
      "Total Number of Users: 768438 \n",
      "Average Number of Ratings by User: 1.69\n"
     ]
    }
   ],
   "source": [
    "print(f'Total Number of Ratings: {len(df)} \\nTotal Number of Users: {len(df.user_id.unique())} \\\n",
    "\\nAverage Number of Ratings by User: {round(len(df)/len(df.user_id.unique()),2)}')"
   ]
  },
  {
   "cell_type": "markdown",
   "metadata": {},
   "source": [
    "The average is 1.7 products reviewed by client, but we know that is usually not true, since there are a few clients who rate hundreds of products and many who don't rate any product."
   ]
  },
  {
   "cell_type": "markdown",
   "metadata": {},
   "source": [
    "### Data Visualization"
   ]
  },
  {
   "cell_type": "code",
   "execution_count": 7,
   "metadata": {},
   "outputs": [],
   "source": [
    "# Let's see the users that rated more\n",
    "more = df.groupby('user_id').rating.count().sort_values(ascending=False)"
   ]
  },
  {
   "cell_type": "code",
   "execution_count": 12,
   "metadata": {},
   "outputs": [
    {
     "data": {
      "image/png": "[encoded data removed]",
      "text/plain": [
       "<Figure size 720x360 with 1 Axes>"
      ]
     },
     "metadata": {},
     "output_type": "display_data"
    }
   ],
   "source": [
    "# Plotting the top 10 raters\n",
    "plt.figure(figsize=(10,5))\n",
    "more.head(10).plot(kind='bar', alpha=0.9, width=0.85)\n",
    "plt.title(\"Users that Rated More Produtcs\", size=15)\n",
    "plt.show()"
   ]
  },
  {
   "cell_type": "code",
   "execution_count": 13,
   "metadata": {},
   "outputs": [],
   "source": [
    "# Creating a set of quantiles from 0 to 100% with 1% step\n",
    "quantiles = more.quantile(np.arange(0,1.01,0.01), interpolation='higher')\n",
    "\n",
    "#quantiles Log scale\n",
    "quantiles_log = np.log(quantiles)"
   ]
  },
  {
   "cell_type": "code",
   "execution_count": 14,
   "metadata": {},
   "outputs": [
    {
     "data": {
      "image/png": "[encoded data removed]",
      "text/plain": [
       "<Figure size 1224x432 with 2 Axes>"
      ]
     },
     "metadata": {},
     "output_type": "display_data"
    }
   ],
   "source": [
    "# Plot of the quantiles\n",
    "fig, (ax1, ax2) = plt.subplots(1,2, figsize=(17,6))\n",
    "ax1.plot(quantiles_log, c='red')\n",
    "ax2.plot(quantiles, linewidth=2)\n",
    "fig.suptitle('- - Ratings by User - - Quantiles Plot Log | Quantiles Plot - - - -', size=18)\n",
    "plt.xlabel('Quantiles')\n",
    "plt.ylabel('Number of Ratings')\n",
    "plt.xticks(np.arange(0.,1.01, 0.1))\n",
    "plt.show()"
   ]
  },
  {
   "cell_type": "markdown",
   "metadata": {},
   "source": [
    "From the plot above, we can see that 75% of the users didn't rate any product. Then it starts to grow a lot in the 99% quantile. "
   ]
  },
  {
   "cell_type": "code",
   "execution_count": 22,
   "metadata": {},
   "outputs": [
    {
     "name": "stdout",
     "output_type": "stream",
     "text": [
      "Rated 50 or more products: 474\n",
      "Rated more than 50 products: 459\n"
     ]
    }
   ],
   "source": [
    "# Quantity of users that rated more than 50 products\n",
    "print(f'Rated 50 or more products: {sum(more>=50)}')\n",
    "print(f'Rated more than 50 products: {sum(more>50)}')"
   ]
  },
  {
   "cell_type": "markdown",
   "metadata": {},
   "source": [
    "### Popularity Based Recommender"
   ]
  },
  {
   "cell_type": "markdown",
   "metadata": {},
   "source": [
    "The simplest recommendation system to be built is one based on popularity, or in other words, you will just calculate the quantities of reviews and the average of each item and will calculate a ranking based on that.\n",
    "The problem is that it does not allow you any kind of personalization."
   ]
  },
  {
   "cell_type": "code",
   "execution_count": 4,
   "metadata": {},
   "outputs": [],
   "source": [
    "# Dataframe with products that have more than 50 rates\n",
    "new_df=df.groupby(\"prod_id\").filter(lambda x:x['rating'].count() >=50)"
   ]
  },
  {
   "cell_type": "code",
   "execution_count": 17,
   "metadata": {},
   "outputs": [
    {
     "data": {
      "text/html": [
       "<div>\n",
       "<style scoped>\n",
       "    .dataframe tbody tr th:only-of-type {\n",
       "        vertical-align: middle;\n",
       "    }\n",
       "\n",
       "    .dataframe tbody tr th {\n",
       "        vertical-align: top;\n",
       "    }\n",
       "\n",
       "    .dataframe thead th {\n",
       "        text-align: right;\n",
       "    }\n",
       "</style>\n",
       "<table border=\"1\" class=\"dataframe\">\n",
       "  <thead>\n",
       "    <tr style=\"text-align: right;\">\n",
       "      <th></th>\n",
       "      <th>user_id</th>\n",
       "      <th>prod_id</th>\n",
       "      <th>rating</th>\n",
       "    </tr>\n",
       "  </thead>\n",
       "  <tbody>\n",
       "    <tr>\n",
       "      <th>51</th>\n",
       "      <td>A36WJI0C99GC0Y</td>\n",
       "      <td>616719923X</td>\n",
       "      <td>4.0</td>\n",
       "    </tr>\n",
       "    <tr>\n",
       "      <th>52</th>\n",
       "      <td>A2CV5SDHJEMFQL</td>\n",
       "      <td>616719923X</td>\n",
       "      <td>5.0</td>\n",
       "    </tr>\n",
       "    <tr>\n",
       "      <th>53</th>\n",
       "      <td>A1QZDDMXSTNZN8</td>\n",
       "      <td>616719923X</td>\n",
       "      <td>3.0</td>\n",
       "    </tr>\n",
       "    <tr>\n",
       "      <th>54</th>\n",
       "      <td>AG0GO069IUZY1</td>\n",
       "      <td>616719923X</td>\n",
       "      <td>5.0</td>\n",
       "    </tr>\n",
       "    <tr>\n",
       "      <th>55</th>\n",
       "      <td>A2AW6171Q8A4LY</td>\n",
       "      <td>616719923X</td>\n",
       "      <td>5.0</td>\n",
       "    </tr>\n",
       "  </tbody>\n",
       "</table>\n",
       "</div>"
      ],
      "text/plain": [
       "           user_id     prod_id  rating\n",
       "51  A36WJI0C99GC0Y  616719923X     4.0\n",
       "52  A2CV5SDHJEMFQL  616719923X     5.0\n",
       "53  A1QZDDMXSTNZN8  616719923X     3.0\n",
       "54   AG0GO069IUZY1  616719923X     5.0\n",
       "55  A2AW6171Q8A4LY  616719923X     5.0"
      ]
     },
     "execution_count": 17,
     "metadata": {},
     "output_type": "execute_result"
    }
   ],
   "source": [
    "new_df.head()"
   ]
  },
  {
   "cell_type": "code",
   "execution_count": 26,
   "metadata": {},
   "outputs": [],
   "source": [
    "# Creating a new DataFrame with mean rating and number of ratings by product\n",
    "ratings_df = pd.DataFrame(new_df.groupby('prod_id').rating.mean())"
   ]
  },
  {
   "cell_type": "code",
   "execution_count": 27,
   "metadata": {},
   "outputs": [],
   "source": [
    "# Adding column with number of ratings by product\n",
    "ratings_df['rating_counts'] = new_df.groupby('prod_id').rating.count()"
   ]
  },
  {
   "cell_type": "code",
   "execution_count": 28,
   "metadata": {},
   "outputs": [
    {
     "data": {
      "text/html": [
       "<div>\n",
       "<style scoped>\n",
       "    .dataframe tbody tr th:only-of-type {\n",
       "        vertical-align: middle;\n",
       "    }\n",
       "\n",
       "    .dataframe tbody tr th {\n",
       "        vertical-align: top;\n",
       "    }\n",
       "\n",
       "    .dataframe thead th {\n",
       "        text-align: right;\n",
       "    }\n",
       "</style>\n",
       "<table border=\"1\" class=\"dataframe\">\n",
       "  <thead>\n",
       "    <tr style=\"text-align: right;\">\n",
       "      <th></th>\n",
       "      <th>rating</th>\n",
       "      <th>rating_counts</th>\n",
       "    </tr>\n",
       "    <tr>\n",
       "      <th>prod_id</th>\n",
       "      <th></th>\n",
       "      <th></th>\n",
       "    </tr>\n",
       "  </thead>\n",
       "  <tbody>\n",
       "    <tr>\n",
       "      <th>B0051SU0OW</th>\n",
       "      <td>4.135016</td>\n",
       "      <td>6340</td>\n",
       "    </tr>\n",
       "    <tr>\n",
       "      <th>B00DS842HS</th>\n",
       "      <td>4.788815</td>\n",
       "      <td>3755</td>\n",
       "    </tr>\n",
       "    <tr>\n",
       "      <th>B000E1D7RS</th>\n",
       "      <td>4.504513</td>\n",
       "      <td>3102</td>\n",
       "    </tr>\n",
       "    <tr>\n",
       "      <th>B0029XDZIK</th>\n",
       "      <td>4.444371</td>\n",
       "      <td>3011</td>\n",
       "    </tr>\n",
       "    <tr>\n",
       "      <th>B005K4Q1YA</th>\n",
       "      <td>4.163000</td>\n",
       "      <td>3000</td>\n",
       "    </tr>\n",
       "  </tbody>\n",
       "</table>\n",
       "</div>"
      ],
      "text/plain": [
       "              rating  rating_counts\n",
       "prod_id                            \n",
       "B0051SU0OW  4.135016           6340\n",
       "B00DS842HS  4.788815           3755\n",
       "B000E1D7RS  4.504513           3102\n",
       "B0029XDZIK  4.444371           3011\n",
       "B005K4Q1YA  4.163000           3000"
      ]
     },
     "execution_count": 28,
     "metadata": {},
     "output_type": "execute_result"
    }
   ],
   "source": [
    "# Visualizing the 5 top rated products (number of ratings)\n",
    "ratings_df.sort_values(by='rating_counts', ascending=False).head(5)"
   ]
  },
  {
   "cell_type": "code",
   "execution_count": 21,
   "metadata": {},
   "outputs": [
    {
     "data": {
      "image/png": "[encoded data removed]",
      "text/plain": [
       "<Figure size 432x288 with 1 Axes>"
      ]
     },
     "metadata": {},
     "output_type": "display_data"
    }
   ],
   "source": [
    "# Plot Histogram of the counts\n",
    "ratings_df.rating_counts.hist(bins=50)\n",
    "plt.title('Histogram of Products by Number of Ratings', size=14)\n",
    "plt.show()"
   ]
  },
  {
   "cell_type": "code",
   "execution_count": 22,
   "metadata": {},
   "outputs": [
    {
     "data": {
      "image/png": "[encoded data removed]",
      "text/plain": [
       "<Figure size 432x432 with 3 Axes>"
      ]
     },
     "metadata": {},
     "output_type": "display_data"
    }
   ],
   "source": [
    "# Scatter plot of the ratings vs. counts\n",
    "sns.jointplot(x='rating', y='rating_counts', data=ratings_df, alpha=0.4)\n",
    "plt.show()"
   ]
  },
  {
   "cell_type": "markdown",
   "metadata": {},
   "source": [
    "Here we can see - once again - that the ratings are concentrated around the 3-5."
   ]
  },
  {
   "cell_type": "markdown",
   "metadata": {},
   "source": [
    "Now what we're going to do is to calculate the global average. We already have the miminum votes necessary to be eligible for the popularity recommender, that is 50 votes.\n",
    "\n",
    "After that, we will define a function to calculate an weighted average that takes the total number of votes and the threshold (50) and multiply it by the global average and by the average of the product. The formula is:\n",
    "(v/(v+m) * R) + (m/(m+v) * C)\n",
    "\n",
    "- v is the number of votes for the product;\n",
    "- m is the minimum votes required to be listed in the chart;\n",
    "- R is the average rating of the product;\n",
    "- C is the mean vote across the whole report"
   ]
  },
  {
   "cell_type": "code",
   "execution_count": 23,
   "metadata": {},
   "outputs": [
    {
     "name": "stdout",
     "output_type": "stream",
     "text": [
      "4.28\n"
     ]
    }
   ],
   "source": [
    "# The global average of the ratings\n",
    "C = ratings_df['rating'].mean()\n",
    "print(round(C,2))"
   ]
  },
  {
   "cell_type": "code",
   "execution_count": 24,
   "metadata": {},
   "outputs": [
    {
     "data": {
      "text/plain": [
       "50"
      ]
     },
     "execution_count": 24,
     "metadata": {},
     "output_type": "execute_result"
    }
   ],
   "source": [
    "# Use the minimum number of votes required to be in the popularity recommender\n",
    "m = ratings_df.rating_counts.min(); m"
   ]
  },
  {
   "cell_type": "code",
   "execution_count": 25,
   "metadata": {},
   "outputs": [],
   "source": [
    "# Function that computes the weighted rating of each movie\n",
    "def weighted_rating(x, m=m, C=C):\n",
    "    v = x['rating_counts']\n",
    "    R = x['rating']\n",
    "    # Calculation based on the IMDB formula\n",
    "    return (v/(v+m) * R) + (m/(m+v) * C)"
   ]
  },
  {
   "cell_type": "code",
   "execution_count": 26,
   "metadata": {},
   "outputs": [],
   "source": [
    "# Add the calculated 'score' with weighted_rating() to the dataframe\n",
    "ratings_df['score'] = ratings_df.apply(weighted_rating, axis=1)"
   ]
  },
  {
   "cell_type": "code",
   "execution_count": 27,
   "metadata": {},
   "outputs": [
    {
     "data": {
      "text/html": [
       "<div>\n",
       "<style scoped>\n",
       "    .dataframe tbody tr th:only-of-type {\n",
       "        vertical-align: middle;\n",
       "    }\n",
       "\n",
       "    .dataframe tbody tr th {\n",
       "        vertical-align: top;\n",
       "    }\n",
       "\n",
       "    .dataframe thead th {\n",
       "        text-align: right;\n",
       "    }\n",
       "</style>\n",
       "<table border=\"1\" class=\"dataframe\">\n",
       "  <thead>\n",
       "    <tr style=\"text-align: right;\">\n",
       "      <th></th>\n",
       "      <th>rating</th>\n",
       "      <th>rating_counts</th>\n",
       "      <th>score</th>\n",
       "    </tr>\n",
       "    <tr>\n",
       "      <th>prod_id</th>\n",
       "      <th></th>\n",
       "      <th></th>\n",
       "      <th></th>\n",
       "    </tr>\n",
       "  </thead>\n",
       "  <tbody>\n",
       "    <tr>\n",
       "      <th>B003EJ9KLO</th>\n",
       "      <td>4.911488</td>\n",
       "      <td>531</td>\n",
       "      <td>4.857077</td>\n",
       "    </tr>\n",
       "    <tr>\n",
       "      <th>B000NMJWZO</th>\n",
       "      <td>4.880083</td>\n",
       "      <td>959</td>\n",
       "      <td>4.850309</td>\n",
       "    </tr>\n",
       "    <tr>\n",
       "      <th>B003KRHDMI</th>\n",
       "      <td>4.837185</td>\n",
       "      <td>952</td>\n",
       "      <td>4.809343</td>\n",
       "    </tr>\n",
       "    <tr>\n",
       "      <th>B003QDRJXY</th>\n",
       "      <td>4.842857</td>\n",
       "      <td>700</td>\n",
       "      <td>4.805283</td>\n",
       "    </tr>\n",
       "    <tr>\n",
       "      <th>B00BI8OG2Q</th>\n",
       "      <td>4.803318</td>\n",
       "      <td>1688</td>\n",
       "      <td>4.788241</td>\n",
       "    </tr>\n",
       "    <tr>\n",
       "      <th>B00DS842HS</th>\n",
       "      <td>4.788815</td>\n",
       "      <td>3755</td>\n",
       "      <td>4.782119</td>\n",
       "    </tr>\n",
       "    <tr>\n",
       "      <th>B00HK6FGIS</th>\n",
       "      <td>4.822034</td>\n",
       "      <td>590</td>\n",
       "      <td>4.779628</td>\n",
       "    </tr>\n",
       "    <tr>\n",
       "      <th>B000GAT6NG</th>\n",
       "      <td>4.801839</td>\n",
       "      <td>979</td>\n",
       "      <td>4.776445</td>\n",
       "    </tr>\n",
       "    <tr>\n",
       "      <th>B005EL6VOY</th>\n",
       "      <td>4.918750</td>\n",
       "      <td>160</td>\n",
       "      <td>4.766486</td>\n",
       "    </tr>\n",
       "    <tr>\n",
       "      <th>B005R0ZFW6</th>\n",
       "      <td>4.867220</td>\n",
       "      <td>241</td>\n",
       "      <td>4.766192</td>\n",
       "    </tr>\n",
       "    <tr>\n",
       "      <th>B000EMQF8K</th>\n",
       "      <td>4.915033</td>\n",
       "      <td>153</td>\n",
       "      <td>4.758434</td>\n",
       "    </tr>\n",
       "    <tr>\n",
       "      <th>B001EO5Q64</th>\n",
       "      <td>4.767246</td>\n",
       "      <td>1899</td>\n",
       "      <td>4.754727</td>\n",
       "    </tr>\n",
       "    <tr>\n",
       "      <th>B009E7YC54</th>\n",
       "      <td>4.851064</td>\n",
       "      <td>235</td>\n",
       "      <td>4.750744</td>\n",
       "    </tr>\n",
       "    <tr>\n",
       "      <th>B000SMN0DO</th>\n",
       "      <td>4.828571</td>\n",
       "      <td>280</td>\n",
       "      <td>4.745339</td>\n",
       "    </tr>\n",
       "    <tr>\n",
       "      <th>B000ED9L9E</th>\n",
       "      <td>4.884848</td>\n",
       "      <td>165</td>\n",
       "      <td>4.744009</td>\n",
       "    </tr>\n",
       "  </tbody>\n",
       "</table>\n",
       "</div>"
      ],
      "text/plain": [
       "              rating  rating_counts     score\n",
       "prod_id                                      \n",
       "B003EJ9KLO  4.911488            531  4.857077\n",
       "B000NMJWZO  4.880083            959  4.850309\n",
       "B003KRHDMI  4.837185            952  4.809343\n",
       "B003QDRJXY  4.842857            700  4.805283\n",
       "B00BI8OG2Q  4.803318           1688  4.788241\n",
       "B00DS842HS  4.788815           3755  4.782119\n",
       "B00HK6FGIS  4.822034            590  4.779628\n",
       "B000GAT6NG  4.801839            979  4.776445\n",
       "B005EL6VOY  4.918750            160  4.766486\n",
       "B005R0ZFW6  4.867220            241  4.766192\n",
       "B000EMQF8K  4.915033            153  4.758434\n",
       "B001EO5Q64  4.767246           1899  4.754727\n",
       "B009E7YC54  4.851064            235  4.750744\n",
       "B000SMN0DO  4.828571            280  4.745339\n",
       "B000ED9L9E  4.884848            165  4.744009"
      ]
     },
     "execution_count": 27,
     "metadata": {},
     "output_type": "execute_result"
    }
   ],
   "source": [
    "# Final result with the top 15 most popular products\n",
    "ratings_df.sort_values(by='score', ascending=False).head(15)"
   ]
  },
  {
   "cell_type": "markdown",
   "metadata": {},
   "source": [
    "## Collaberative filtering (Item-Item recommedation)"
   ]
  },
  {
   "cell_type": "markdown",
   "metadata": {},
   "source": [
    "The collaborative filtering models start from the idea that people who think alike or products that are similar tend to give or receive similar rates. We also know that usually a person does not rate every product. One will rate a few products. But when a person rates a couple of products with similar grades to another, we can assume that they have similar likes and then, based on that assumption, we can predict the grades that are missing for another similar user, thus completing the missing values in the matrix.\n",
    "\n",
    "In other words, we will transform each people's likes and dislikes in vectors of numbers and compare the angle between those vectors. The lower the angle, more similar they are and the opposite is also true, the higher the angle, they tend to be more different."
   ]
  },
  {
   "cell_type": "code",
   "execution_count": 129,
   "metadata": {},
   "outputs": [],
   "source": [
    "# Imports\n",
    "from surprise import KNNWithMeans\n",
    "from surprise import Dataset\n",
    "from surprise import accuracy\n",
    "from surprise import Reader\n",
    "import os\n",
    "from surprise.model_selection import train_test_split\n",
    "\n",
    "from sklearn.decomposition import TruncatedSVD"
   ]
  },
  {
   "cell_type": "code",
   "execution_count": 130,
   "metadata": {},
   "outputs": [],
   "source": [
    "# Reading the dataset from Pandas using surprise's Reader function, which will parse the file to adjust to be used by the Surprise package\n",
    "reader = Reader(rating_scale=(1, 5))\n",
    "data = Dataset.load_from_df(new_df,reader)"
   ]
  },
  {
   "cell_type": "code",
   "execution_count": 131,
   "metadata": {},
   "outputs": [],
   "source": [
    "# Splitting the dataset\n",
    "trainset, testset = train_test_split(data, test_size=0.3,random_state=10)"
   ]
  },
  {
   "cell_type": "code",
   "execution_count": 132,
   "metadata": {},
   "outputs": [
    {
     "name": "stdout",
     "output_type": "stream",
     "text": [
      "Computing the msd similarity matrix...\n",
      "Done computing similarity matrix.\n"
     ]
    },
    {
     "data": {
      "text/plain": [
       "<surprise.prediction_algorithms.knns.KNNWithMeans at 0x7f7ff9ac4390>"
      ]
     },
     "execution_count": 132,
     "metadata": {},
     "output_type": "execute_result"
    }
   ],
   "source": [
    "# Creating a model item-based (user_based true/false to switch between user-based or item-based collaborative filtering)\n",
    "algo = KNNWithMeans(k=5, sim_options={'user_based': False})\n",
    "algo.fit(trainset)"
   ]
  },
  {
   "cell_type": "code",
   "execution_count": 133,
   "metadata": {},
   "outputs": [],
   "source": [
    "# Testing the model\n",
    "test_pred = algo.test(testset)"
   ]
  },
  {
   "cell_type": "code",
   "execution_count": 134,
   "metadata": {},
   "outputs": [
    {
     "name": "stdout",
     "output_type": "stream",
     "text": [
      "Item-based Model : Test Set\n",
      "RMSE: 1.1980\n"
     ]
    },
    {
     "data": {
      "text/plain": [
       "1.1980300994501594"
      ]
     },
     "execution_count": 134,
     "metadata": {},
     "output_type": "execute_result"
    }
   ],
   "source": [
    "# get RMSE\n",
    "print(\"Item-based Model : Test Set\")\n",
    "accuracy.rmse(test_pred, verbose=True)"
   ]
  },
  {
   "cell_type": "code",
   "execution_count": 148,
   "metadata": {},
   "outputs": [
    {
     "data": {
      "text/plain": [
       "[2, 12, 17, 24, 30, 34, 35, 36, 42, 60]"
      ]
     },
     "execution_count": 148,
     "metadata": {},
     "output_type": "execute_result"
    }
   ],
   "source": [
    "# Using the get_neighbors function to get the 10 recommendations for product on index 1 from the ratings_df = 9742356831\n",
    "algo.get_neighbors(1, 10)"
   ]
  },
  {
   "cell_type": "code",
   "execution_count": 158,
   "metadata": {},
   "outputs": [
    {
     "data": {
      "text/plain": [
       "Index(['B0000531B7', 'B0000CF8T1', 'B0000DC2VI', 'B0000DJT3C', 'B0000T71C6',\n",
       "       'B000100EQ4', 'B00012182G', 'B00014CZP8', 'B00014FT06', 'B00017LEXO'],\n",
       "      dtype='object', name='prod_id')"
      ]
     },
     "execution_count": 158,
     "metadata": {},
     "output_type": "execute_result"
    }
   ],
   "source": [
    "# Here are the 10 recommended product names\n",
    "ratings_df.iloc[[2, 12, 17, 24, 30, 34, 35, 36, 42, 60]].index"
   ]
  },
  {
   "cell_type": "markdown",
   "metadata": {},
   "source": [
    "## Model-based collaborative filtering system"
   ]
  },
  {
   "cell_type": "markdown",
   "metadata": {},
   "source": [
    "Finally, a more complex model that is the Matrix Factorization, taking into consideration the user name and product id to make the predictions."
   ]
  },
  {
   "cell_type": "code",
   "execution_count": 82,
   "metadata": {},
   "outputs": [
    {
     "data": {
      "text/html": [
       "<div>\n",
       "<style scoped>\n",
       "    .dataframe tbody tr th:only-of-type {\n",
       "        vertical-align: middle;\n",
       "    }\n",
       "\n",
       "    .dataframe tbody tr th {\n",
       "        vertical-align: top;\n",
       "    }\n",
       "\n",
       "    .dataframe thead th {\n",
       "        text-align: right;\n",
       "    }\n",
       "</style>\n",
       "<table border=\"1\" class=\"dataframe\">\n",
       "  <thead>\n",
       "    <tr style=\"text-align: right;\">\n",
       "      <th>prod_id</th>\n",
       "      <th>616719923X</th>\n",
       "      <th>9742356831</th>\n",
       "      <th>B0000531B7</th>\n",
       "      <th>B00005344V</th>\n",
       "      <th>B0000537AF</th>\n",
       "      <th>B00005C2M2</th>\n",
       "      <th>B000063D0D</th>\n",
       "      <th>B00006G92S</th>\n",
       "      <th>B00006IUTN</th>\n",
       "      <th>B0000CD06J</th>\n",
       "      <th>...</th>\n",
       "      <th>B000E63LME</th>\n",
       "      <th>B000E63LOM</th>\n",
       "      <th>B000E63LQU</th>\n",
       "      <th>B000E65OF6</th>\n",
       "      <th>B000E65OII</th>\n",
       "      <th>B000E65OJM</th>\n",
       "      <th>B000E65OJW</th>\n",
       "      <th>B000E65OK6</th>\n",
       "      <th>B000E65OKQ</th>\n",
       "      <th>B000E65OQA</th>\n",
       "    </tr>\n",
       "    <tr>\n",
       "      <th>user_id</th>\n",
       "      <th></th>\n",
       "      <th></th>\n",
       "      <th></th>\n",
       "      <th></th>\n",
       "      <th></th>\n",
       "      <th></th>\n",
       "      <th></th>\n",
       "      <th></th>\n",
       "      <th></th>\n",
       "      <th></th>\n",
       "      <th></th>\n",
       "      <th></th>\n",
       "      <th></th>\n",
       "      <th></th>\n",
       "      <th></th>\n",
       "      <th></th>\n",
       "      <th></th>\n",
       "      <th></th>\n",
       "      <th></th>\n",
       "      <th></th>\n",
       "      <th></th>\n",
       "    </tr>\n",
       "  </thead>\n",
       "  <tbody>\n",
       "    <tr>\n",
       "      <th>A0004478EF5NFPHLGCWG</th>\n",
       "      <td>0</td>\n",
       "      <td>0</td>\n",
       "      <td>0</td>\n",
       "      <td>0</td>\n",
       "      <td>0</td>\n",
       "      <td>0</td>\n",
       "      <td>0</td>\n",
       "      <td>0</td>\n",
       "      <td>0</td>\n",
       "      <td>0</td>\n",
       "      <td>...</td>\n",
       "      <td>0</td>\n",
       "      <td>0</td>\n",
       "      <td>0</td>\n",
       "      <td>0</td>\n",
       "      <td>0</td>\n",
       "      <td>0</td>\n",
       "      <td>0</td>\n",
       "      <td>0</td>\n",
       "      <td>0</td>\n",
       "      <td>0</td>\n",
       "    </tr>\n",
       "    <tr>\n",
       "      <th>A0009478CBXKUCALUC7U</th>\n",
       "      <td>0</td>\n",
       "      <td>0</td>\n",
       "      <td>0</td>\n",
       "      <td>0</td>\n",
       "      <td>0</td>\n",
       "      <td>0</td>\n",
       "      <td>0</td>\n",
       "      <td>0</td>\n",
       "      <td>0</td>\n",
       "      <td>0</td>\n",
       "      <td>...</td>\n",
       "      <td>0</td>\n",
       "      <td>0</td>\n",
       "      <td>0</td>\n",
       "      <td>0</td>\n",
       "      <td>0</td>\n",
       "      <td>0</td>\n",
       "      <td>0</td>\n",
       "      <td>0</td>\n",
       "      <td>0</td>\n",
       "      <td>0</td>\n",
       "    </tr>\n",
       "    <tr>\n",
       "      <th>A0010028HGBTWSS5F8J6</th>\n",
       "      <td>0</td>\n",
       "      <td>0</td>\n",
       "      <td>0</td>\n",
       "      <td>0</td>\n",
       "      <td>0</td>\n",
       "      <td>0</td>\n",
       "      <td>0</td>\n",
       "      <td>0</td>\n",
       "      <td>0</td>\n",
       "      <td>0</td>\n",
       "      <td>...</td>\n",
       "      <td>0</td>\n",
       "      <td>0</td>\n",
       "      <td>0</td>\n",
       "      <td>0</td>\n",
       "      <td>0</td>\n",
       "      <td>0</td>\n",
       "      <td>0</td>\n",
       "      <td>0</td>\n",
       "      <td>0</td>\n",
       "      <td>0</td>\n",
       "    </tr>\n",
       "    <tr>\n",
       "      <th>A00635603LUUJQPQWSJW1</th>\n",
       "      <td>0</td>\n",
       "      <td>0</td>\n",
       "      <td>0</td>\n",
       "      <td>0</td>\n",
       "      <td>0</td>\n",
       "      <td>0</td>\n",
       "      <td>0</td>\n",
       "      <td>0</td>\n",
       "      <td>0</td>\n",
       "      <td>0</td>\n",
       "      <td>...</td>\n",
       "      <td>0</td>\n",
       "      <td>0</td>\n",
       "      <td>0</td>\n",
       "      <td>0</td>\n",
       "      <td>0</td>\n",
       "      <td>0</td>\n",
       "      <td>0</td>\n",
       "      <td>0</td>\n",
       "      <td>0</td>\n",
       "      <td>0</td>\n",
       "    </tr>\n",
       "    <tr>\n",
       "      <th>A00785113MS6AJL3V9JOR</th>\n",
       "      <td>0</td>\n",
       "      <td>0</td>\n",
       "      <td>0</td>\n",
       "      <td>0</td>\n",
       "      <td>0</td>\n",
       "      <td>0</td>\n",
       "      <td>0</td>\n",
       "      <td>0</td>\n",
       "      <td>0</td>\n",
       "      <td>0</td>\n",
       "      <td>...</td>\n",
       "      <td>0</td>\n",
       "      <td>0</td>\n",
       "      <td>0</td>\n",
       "      <td>0</td>\n",
       "      <td>0</td>\n",
       "      <td>0</td>\n",
       "      <td>0</td>\n",
       "      <td>0</td>\n",
       "      <td>0</td>\n",
       "      <td>0</td>\n",
       "    </tr>\n",
       "  </tbody>\n",
       "</table>\n",
       "<p>5 rows × 348 columns</p>\n",
       "</div>"
      ],
      "text/plain": [
       "prod_id                616719923X  9742356831  B0000531B7  B00005344V  \\\n",
       "user_id                                                                 \n",
       "A0004478EF5NFPHLGCWG            0           0           0           0   \n",
       "A0009478CBXKUCALUC7U            0           0           0           0   \n",
       "A0010028HGBTWSS5F8J6            0           0           0           0   \n",
       "A00635603LUUJQPQWSJW1           0           0           0           0   \n",
       "A00785113MS6AJL3V9JOR           0           0           0           0   \n",
       "\n",
       "prod_id                B0000537AF  B00005C2M2  B000063D0D  B00006G92S  \\\n",
       "user_id                                                                 \n",
       "A0004478EF5NFPHLGCWG            0           0           0           0   \n",
       "A0009478CBXKUCALUC7U            0           0           0           0   \n",
       "A0010028HGBTWSS5F8J6            0           0           0           0   \n",
       "A00635603LUUJQPQWSJW1           0           0           0           0   \n",
       "A00785113MS6AJL3V9JOR           0           0           0           0   \n",
       "\n",
       "prod_id                B00006IUTN  B0000CD06J  ...  B000E63LME  B000E63LOM  \\\n",
       "user_id                                        ...                           \n",
       "A0004478EF5NFPHLGCWG            0           0  ...           0           0   \n",
       "A0009478CBXKUCALUC7U            0           0  ...           0           0   \n",
       "A0010028HGBTWSS5F8J6            0           0  ...           0           0   \n",
       "A00635603LUUJQPQWSJW1           0           0  ...           0           0   \n",
       "A00785113MS6AJL3V9JOR           0           0  ...           0           0   \n",
       "\n",
       "prod_id                B000E63LQU  B000E65OF6  B000E65OII  B000E65OJM  \\\n",
       "user_id                                                                 \n",
       "A0004478EF5NFPHLGCWG            0           0           0           0   \n",
       "A0009478CBXKUCALUC7U            0           0           0           0   \n",
       "A0010028HGBTWSS5F8J6            0           0           0           0   \n",
       "A00635603LUUJQPQWSJW1           0           0           0           0   \n",
       "A00785113MS6AJL3V9JOR           0           0           0           0   \n",
       "\n",
       "prod_id                B000E65OJW  B000E65OK6  B000E65OKQ  B000E65OQA  \n",
       "user_id                                                                \n",
       "A0004478EF5NFPHLGCWG            0           0           0           0  \n",
       "A0009478CBXKUCALUC7U            0           0           0           0  \n",
       "A0010028HGBTWSS5F8J6            0           0           0           0  \n",
       "A00635603LUUJQPQWSJW1           0           0           0           0  \n",
       "A00785113MS6AJL3V9JOR           0           0           0           0  \n",
       "\n",
       "[5 rows x 348 columns]"
      ]
     },
     "execution_count": 82,
     "metadata": {},
     "output_type": "execute_result"
    }
   ],
   "source": [
    "# Let's work with 50k rows for computational reason \n",
    "new_df1=new_df.head(50000)\n",
    "ratings_matrix = new_df1.pivot_table(values='rating', index='user_id', columns='prod_id', fill_value=0)\n",
    "ratings_matrix.head()"
   ]
  },
  {
   "cell_type": "code",
   "execution_count": 83,
   "metadata": {},
   "outputs": [
    {
     "data": {
      "text/plain": [
       "(46678, 348)"
      ]
     },
     "execution_count": 83,
     "metadata": {},
     "output_type": "execute_result"
    }
   ],
   "source": [
    "ratings_matrix.shape"
   ]
  },
  {
   "cell_type": "code",
   "execution_count": 84,
   "metadata": {},
   "outputs": [
    {
     "data": {
      "text/html": [
       "<div>\n",
       "<style scoped>\n",
       "    .dataframe tbody tr th:only-of-type {\n",
       "        vertical-align: middle;\n",
       "    }\n",
       "\n",
       "    .dataframe tbody tr th {\n",
       "        vertical-align: top;\n",
       "    }\n",
       "\n",
       "    .dataframe thead th {\n",
       "        text-align: right;\n",
       "    }\n",
       "</style>\n",
       "<table border=\"1\" class=\"dataframe\">\n",
       "  <thead>\n",
       "    <tr style=\"text-align: right;\">\n",
       "      <th>user_id</th>\n",
       "      <th>A0004478EF5NFPHLGCWG</th>\n",
       "      <th>A0009478CBXKUCALUC7U</th>\n",
       "      <th>A0010028HGBTWSS5F8J6</th>\n",
       "      <th>A00635603LUUJQPQWSJW1</th>\n",
       "      <th>A00785113MS6AJL3V9JOR</th>\n",
       "      <th>A0143870M4QGI22E43RR</th>\n",
       "      <th>A0175186TQSOXAMVZ3IO</th>\n",
       "      <th>A021874321O48MHLE22YG</th>\n",
       "      <th>A025365536J4VIIEA7QWY</th>\n",
       "      <th>A0292298NUG76VEK5G3J</th>\n",
       "      <th>...</th>\n",
       "      <th>AZZ6UOWM411JM</th>\n",
       "      <th>AZZH3GGYQSBUC</th>\n",
       "      <th>AZZHZZMH3U1VB</th>\n",
       "      <th>AZZIEVSDLDBUK</th>\n",
       "      <th>AZZK743T5BH3T</th>\n",
       "      <th>AZZKE6QEJ2RQ2</th>\n",
       "      <th>AZZNK89PXD006</th>\n",
       "      <th>AZZSJZ0CWCMTL</th>\n",
       "      <th>AZZV61COVM8CA</th>\n",
       "      <th>AZZXT5AZPVZBL</th>\n",
       "    </tr>\n",
       "    <tr>\n",
       "      <th>prod_id</th>\n",
       "      <th></th>\n",
       "      <th></th>\n",
       "      <th></th>\n",
       "      <th></th>\n",
       "      <th></th>\n",
       "      <th></th>\n",
       "      <th></th>\n",
       "      <th></th>\n",
       "      <th></th>\n",
       "      <th></th>\n",
       "      <th></th>\n",
       "      <th></th>\n",
       "      <th></th>\n",
       "      <th></th>\n",
       "      <th></th>\n",
       "      <th></th>\n",
       "      <th></th>\n",
       "      <th></th>\n",
       "      <th></th>\n",
       "      <th></th>\n",
       "      <th></th>\n",
       "    </tr>\n",
       "  </thead>\n",
       "  <tbody>\n",
       "    <tr>\n",
       "      <th>616719923X</th>\n",
       "      <td>0</td>\n",
       "      <td>0</td>\n",
       "      <td>0</td>\n",
       "      <td>0</td>\n",
       "      <td>0</td>\n",
       "      <td>0</td>\n",
       "      <td>0</td>\n",
       "      <td>0</td>\n",
       "      <td>5</td>\n",
       "      <td>0</td>\n",
       "      <td>...</td>\n",
       "      <td>0</td>\n",
       "      <td>0</td>\n",
       "      <td>0</td>\n",
       "      <td>0</td>\n",
       "      <td>0</td>\n",
       "      <td>0</td>\n",
       "      <td>0</td>\n",
       "      <td>0</td>\n",
       "      <td>0</td>\n",
       "      <td>0</td>\n",
       "    </tr>\n",
       "    <tr>\n",
       "      <th>9742356831</th>\n",
       "      <td>0</td>\n",
       "      <td>0</td>\n",
       "      <td>0</td>\n",
       "      <td>0</td>\n",
       "      <td>0</td>\n",
       "      <td>0</td>\n",
       "      <td>0</td>\n",
       "      <td>0</td>\n",
       "      <td>0</td>\n",
       "      <td>0</td>\n",
       "      <td>...</td>\n",
       "      <td>0</td>\n",
       "      <td>0</td>\n",
       "      <td>0</td>\n",
       "      <td>0</td>\n",
       "      <td>0</td>\n",
       "      <td>0</td>\n",
       "      <td>0</td>\n",
       "      <td>0</td>\n",
       "      <td>0</td>\n",
       "      <td>0</td>\n",
       "    </tr>\n",
       "    <tr>\n",
       "      <th>B0000531B7</th>\n",
       "      <td>0</td>\n",
       "      <td>0</td>\n",
       "      <td>0</td>\n",
       "      <td>0</td>\n",
       "      <td>0</td>\n",
       "      <td>0</td>\n",
       "      <td>0</td>\n",
       "      <td>0</td>\n",
       "      <td>0</td>\n",
       "      <td>0</td>\n",
       "      <td>...</td>\n",
       "      <td>0</td>\n",
       "      <td>0</td>\n",
       "      <td>0</td>\n",
       "      <td>0</td>\n",
       "      <td>0</td>\n",
       "      <td>0</td>\n",
       "      <td>0</td>\n",
       "      <td>0</td>\n",
       "      <td>0</td>\n",
       "      <td>0</td>\n",
       "    </tr>\n",
       "    <tr>\n",
       "      <th>B00005344V</th>\n",
       "      <td>0</td>\n",
       "      <td>0</td>\n",
       "      <td>0</td>\n",
       "      <td>0</td>\n",
       "      <td>0</td>\n",
       "      <td>0</td>\n",
       "      <td>0</td>\n",
       "      <td>0</td>\n",
       "      <td>0</td>\n",
       "      <td>0</td>\n",
       "      <td>...</td>\n",
       "      <td>0</td>\n",
       "      <td>0</td>\n",
       "      <td>0</td>\n",
       "      <td>0</td>\n",
       "      <td>0</td>\n",
       "      <td>0</td>\n",
       "      <td>0</td>\n",
       "      <td>0</td>\n",
       "      <td>0</td>\n",
       "      <td>0</td>\n",
       "    </tr>\n",
       "    <tr>\n",
       "      <th>B0000537AF</th>\n",
       "      <td>0</td>\n",
       "      <td>0</td>\n",
       "      <td>0</td>\n",
       "      <td>0</td>\n",
       "      <td>0</td>\n",
       "      <td>0</td>\n",
       "      <td>0</td>\n",
       "      <td>0</td>\n",
       "      <td>0</td>\n",
       "      <td>0</td>\n",
       "      <td>...</td>\n",
       "      <td>0</td>\n",
       "      <td>0</td>\n",
       "      <td>0</td>\n",
       "      <td>0</td>\n",
       "      <td>0</td>\n",
       "      <td>0</td>\n",
       "      <td>0</td>\n",
       "      <td>0</td>\n",
       "      <td>0</td>\n",
       "      <td>0</td>\n",
       "    </tr>\n",
       "  </tbody>\n",
       "</table>\n",
       "<p>5 rows × 46678 columns</p>\n",
       "</div>"
      ],
      "text/plain": [
       "user_id     A0004478EF5NFPHLGCWG  A0009478CBXKUCALUC7U  A0010028HGBTWSS5F8J6  \\\n",
       "prod_id                                                                        \n",
       "616719923X                     0                     0                     0   \n",
       "9742356831                     0                     0                     0   \n",
       "B0000531B7                     0                     0                     0   \n",
       "B00005344V                     0                     0                     0   \n",
       "B0000537AF                     0                     0                     0   \n",
       "\n",
       "user_id     A00635603LUUJQPQWSJW1  A00785113MS6AJL3V9JOR  \\\n",
       "prod_id                                                    \n",
       "616719923X                      0                      0   \n",
       "9742356831                      0                      0   \n",
       "B0000531B7                      0                      0   \n",
       "B00005344V                      0                      0   \n",
       "B0000537AF                      0                      0   \n",
       "\n",
       "user_id     A0143870M4QGI22E43RR  A0175186TQSOXAMVZ3IO  A021874321O48MHLE22YG  \\\n",
       "prod_id                                                                         \n",
       "616719923X                     0                     0                      0   \n",
       "9742356831                     0                     0                      0   \n",
       "B0000531B7                     0                     0                      0   \n",
       "B00005344V                     0                     0                      0   \n",
       "B0000537AF                     0                     0                      0   \n",
       "\n",
       "user_id     A025365536J4VIIEA7QWY  A0292298NUG76VEK5G3J  ...  AZZ6UOWM411JM  \\\n",
       "prod_id                                                  ...                  \n",
       "616719923X                      5                     0  ...              0   \n",
       "9742356831                      0                     0  ...              0   \n",
       "B0000531B7                      0                     0  ...              0   \n",
       "B00005344V                      0                     0  ...              0   \n",
       "B0000537AF                      0                     0  ...              0   \n",
       "\n",
       "user_id     AZZH3GGYQSBUC  AZZHZZMH3U1VB  AZZIEVSDLDBUK  AZZK743T5BH3T  \\\n",
       "prod_id                                                                  \n",
       "616719923X              0              0              0              0   \n",
       "9742356831              0              0              0              0   \n",
       "B0000531B7              0              0              0              0   \n",
       "B00005344V              0              0              0              0   \n",
       "B0000537AF              0              0              0              0   \n",
       "\n",
       "user_id     AZZKE6QEJ2RQ2  AZZNK89PXD006  AZZSJZ0CWCMTL  AZZV61COVM8CA  \\\n",
       "prod_id                                                                  \n",
       "616719923X              0              0              0              0   \n",
       "9742356831              0              0              0              0   \n",
       "B0000531B7              0              0              0              0   \n",
       "B00005344V              0              0              0              0   \n",
       "B0000537AF              0              0              0              0   \n",
       "\n",
       "user_id     AZZXT5AZPVZBL  \n",
       "prod_id                    \n",
       "616719923X              0  \n",
       "9742356831              0  \n",
       "B0000531B7              0  \n",
       "B00005344V              0  \n",
       "B0000537AF              0  \n",
       "\n",
       "[5 rows x 46678 columns]"
      ]
     },
     "execution_count": 84,
     "metadata": {},
     "output_type": "execute_result"
    }
   ],
   "source": [
    "# Transposing the matrix\n",
    "X = ratings_matrix.T\n",
    "X.head()"
   ]
  },
  {
   "cell_type": "code",
   "execution_count": 85,
   "metadata": {},
   "outputs": [
    {
     "data": {
      "text/plain": [
       "(348, 46678)"
      ]
     },
     "execution_count": 85,
     "metadata": {},
     "output_type": "execute_result"
    }
   ],
   "source": [
    "X.shape"
   ]
  },
  {
   "cell_type": "code",
   "execution_count": 177,
   "metadata": {},
   "outputs": [
    {
     "data": {
      "text/plain": [
       "(348, 10)"
      ]
     },
     "execution_count": 177,
     "metadata": {},
     "output_type": "execute_result"
    }
   ],
   "source": [
    "#Decomposing the Matrix.\n",
    "#The Truncated SVD function will actually reduce the dimension of the sparse matrix into the number of components requested \n",
    "SVD_model = TruncatedSVD(n_components=10)\n",
    "decomposed_matrix = SVD_model.fit_transform(X)\n",
    "decomposed_matrix.shape"
   ]
  },
  {
   "cell_type": "code",
   "execution_count": 88,
   "metadata": {},
   "outputs": [
    {
     "data": {
      "text/plain": [
       "(348, 348)"
      ]
     },
     "execution_count": 88,
     "metadata": {},
     "output_type": "execute_result"
    }
   ],
   "source": [
    "#Correlation Matrix\n",
    "correlation_matrix = np.corrcoef(decomposed_matrix)\n",
    "correlation_matrix.shape"
   ]
  },
  {
   "cell_type": "markdown",
   "metadata": {},
   "source": [
    "Now I have just created a correlation matrix out of the decomposed matrix. This means that, for each user I will calculate how similar he is to the other users. The more it goes towards 1, more similar and going to -1, more different."
   ]
  },
  {
   "cell_type": "code",
   "execution_count": 92,
   "metadata": {},
   "outputs": [
    {
     "data": {
      "text/plain": [
       "array([[ 1.        ,  0.86825074,  0.19663589, ..., -0.29780345,\n",
       "        -0.3129282 , -0.53077435],\n",
       "       [ 0.86825074,  1.        ,  0.43560749, ...,  0.00273403,\n",
       "        -0.39470035, -0.47619452],\n",
       "       [ 0.19663589,  0.43560749,  1.        , ...,  0.30518534,\n",
       "         0.24253142,  0.26686407],\n",
       "       ...,\n",
       "       [-0.29780345,  0.00273403,  0.30518534, ...,  1.        ,\n",
       "        -0.12371912,  0.00496465],\n",
       "       [-0.3129282 , -0.39470035,  0.24253142, ..., -0.12371912,\n",
       "         1.        ,  0.64878579],\n",
       "       [-0.53077435, -0.47619452,  0.26686407, ...,  0.00496465,\n",
       "         0.64878579,  1.        ]])"
      ]
     },
     "execution_count": 92,
     "metadata": {},
     "output_type": "execute_result"
    }
   ],
   "source": [
    "correlation_matrix"
   ]
  },
  {
   "cell_type": "code",
   "execution_count": 91,
   "metadata": {},
   "outputs": [
    {
     "data": {
      "text/plain": [
       "1"
      ]
     },
     "execution_count": 91,
     "metadata": {},
     "output_type": "execute_result"
    }
   ],
   "source": [
    "# Choosing a product from the list to get the recommendations for. I have chosen the same as the Item-based recommender.\n",
    "i = \"9742356831\"\n",
    "\n",
    "product_names = list(X.index)\n",
    "product_ID = product_names.index(i)\n",
    "product_ID"
   ]
  },
  {
   "cell_type": "code",
   "execution_count": 93,
   "metadata": {},
   "outputs": [
    {
     "data": {
      "text/plain": [
       "(348,)"
      ]
     },
     "execution_count": 93,
     "metadata": {},
     "output_type": "execute_result"
    }
   ],
   "source": [
    "# Correlation for all items with the item purchased by this customer based on items rated by other customers people who bought the same product\n",
    "correlation_product_ID = correlation_matrix[product_ID]\n",
    "correlation_product_ID.shape"
   ]
  },
  {
   "cell_type": "code",
   "execution_count": 108,
   "metadata": {},
   "outputs": [
    {
     "data": {
      "text/plain": [
       "['616719923X',\n",
       " 'B0000CF8T1',\n",
       " 'B0000DC2VI',\n",
       " 'B0000V8IOE',\n",
       " 'B00015UC4I',\n",
       " 'B00015UC4S',\n",
       " 'B0001AO8DY',\n",
       " 'B0001CXUHW',\n",
       " 'B0001M0Z6Q',\n",
       " 'B00021639Y']"
      ]
     },
     "execution_count": 108,
     "metadata": {},
     "output_type": "execute_result"
    }
   ],
   "source": [
    "# Top 10 products similar to product 9742356831 recommended for this user.\n",
    "Recommend = list(X.index[correlation_product_ID > 0.65])\n",
    "\n",
    "# Removes the item already bought by the customer\n",
    "Recommend.remove(i) \n",
    "\n",
    "Recommend[0:10]"
   ]
  },
  {
   "cell_type": "code",
   "execution_count": 163,
   "metadata": {},
   "outputs": [],
   "source": [
    "# Both model's recommendations\n",
    "item_based = ['B0000531B7','B0000CF8T1','B0000DC2VI','B0000DJT3C','B0000T71C6','B000100EQ4','B00012182G','B00014CZP8','B00014FT06','B00017LEXO']\n",
    "SVD_model_res = ['616719923X', 'B0000CF8T1', 'B0000DC2VI', 'B0000V8IOE', 'B00015UC4I', 'B00015UC4S', 'B0001AO8DY', 'B0001CXUHW', 'B0001M0Z6Q','B00021639Y']"
   ]
  },
  {
   "cell_type": "code",
   "execution_count": 164,
   "metadata": {},
   "outputs": [
    {
     "data": {
      "text/plain": [
       "2"
      ]
     },
     "execution_count": 164,
     "metadata": {},
     "output_type": "execute_result"
    }
   ],
   "source": [
    "# How many overlaps between both models\n",
    "c = 0\n",
    "for i in item_based:\n",
    "    if i in SVD_model_res:\n",
    "        c +=1\n",
    "\n",
    "c"
   ]
  },
  {
   "cell_type": "markdown",
   "metadata": {},
   "source": [
    "### Another way of using the Matrix Factorization (SVD algorithm)"
   ]
  },
  {
   "cell_type": "code",
   "execution_count": 169,
   "metadata": {},
   "outputs": [
    {
     "name": "stdout",
     "output_type": "stream",
     "text": [
      "Imports successful!\n"
     ]
    }
   ],
   "source": [
    "from surprise import SVD\n",
    "from surprise.model_selection import cross_validate, KFold\n",
    "%matplotlib inline"
   ]
  },
  {
   "cell_type": "code",
   "execution_count": 170,
   "metadata": {},
   "outputs": [],
   "source": [
    "model_matrix = SVD()"
   ]
  },
  {
   "cell_type": "code",
   "execution_count": 171,
   "metadata": {},
   "outputs": [
    {
     "name": "stdout",
     "output_type": "stream",
     "text": [
      "Evaluating RMSE of algorithm SVD on 5 split(s).\n",
      "\n",
      "                  Fold 1  Fold 2  Fold 3  Fold 4  Fold 5  Mean    Std     \n",
      "RMSE (testset)    1.1286  1.1279  1.1278  1.1341  1.1294  1.1296  0.0023  \n",
      "Fit time          26.02   27.63   28.46   28.77   27.98   27.77   0.96    \n",
      "Test time         0.72    0.73    1.62    1.49    0.74    1.06    0.41    \n"
     ]
    }
   ],
   "source": [
    "model_matrix_results = cross_validate(model_matrix, data, measures=['RMSE'], cv=5, verbose=True)"
   ]
  },
  {
   "cell_type": "code",
   "execution_count": 210,
   "metadata": {},
   "outputs": [],
   "source": [
    "# Using the get top N function from the Surprise documentation\n",
    "def get_top_n(predictions, n=5):\n",
    "    '''Return the top-N recommendation for each user from a set of predictions.\n",
    "\n",
    "    Args:\n",
    "        predictions(list of Prediction objects): The list of predictions, as\n",
    "            returned by the test method of an algorithm.\n",
    "        n(int): The number of recommendation to output for each user. Default\n",
    "            is 10.\n",
    "\n",
    "    Returns:\n",
    "    A dict where keys are user (raw) ids and values are lists of tuples:\n",
    "        [(raw item id, rating estimation), ...] of size n.\n",
    "    '''\n",
    "\n",
    "    # First map the predictions to each user.\n",
    "    top_n = dict()\n",
    "    for uid, iid, true_r, est, _ in predictions:\n",
    "        current = top_n.get(uid, [])\n",
    "        current.append((iid, est))\n",
    "        top_n[uid] = current\n",
    "\n",
    "    # Then sort the predictions for each user and retrieve the k highest ones.\n",
    "    for uid, user_ratings in top_n.items():\n",
    "        user_ratings.sort(key=lambda x: x[1], reverse=True)\n",
    "        top_n[uid] = user_ratings[:n]\n",
    "\n",
    "    return top_n"
   ]
  },
  {
   "cell_type": "code",
   "execution_count": 211,
   "metadata": {},
   "outputs": [
    {
     "name": "stdout",
     "output_type": "stream",
     "text": [
      "- - - - - - - - - - \n",
      "model name: Matrix Factorization\n",
      "user ID: A2MSQNPTNAAGL1\n",
      "top 5 products ID's this user would like, sorted by rating highest to lowest: [('B0005ZVOR8', 4.668220732150213), ('B002TMV3GC', 4.232921119893836), ('B003VSFELS', 4.221182390968603), ('B000HQL2JA', 4.1919264133940555), ('B005VOOOM0', 4.169132341534536)]\n",
      "Computing the msd similarity matrix...\n",
      "Done computing similarity matrix.\n",
      "- - - - - - - - - - \n",
      "model name: Item-Based\n",
      "user ID: A2MSQNPTNAAGL1\n",
      "top 5 products ID's this user would like, sorted by rating highest to lowest: [('B0005ZVOR8', 5), ('B001IZM92S', 5), ('B000SATIE6', 4.8873962924574315), ('B004MO6NI8', 4.590729524406541), ('B002TMV3GC', 4.554783954795987)]\n"
     ]
    }
   ],
   "source": [
    "models = [model_matrix, algo]\n",
    "model_names = ['Matrix Factorization', 'Item-Based']\n",
    "\n",
    "for i, model in enumerate(models):\n",
    "    model.fit(trainset)\n",
    "    predictions = model.test(testset)\n",
    "    top_n = get_top_n(predictions, n=5)\n",
    "    # Print one line\n",
    "    user = list(top_n.keys())[14]\n",
    "    print('- ' *10)\n",
    "    print(f'model name: {model_names[i]}')\n",
    "    print(f'user ID: {user}')\n",
    "    print(f'top 5 products ID\\'s this user would like, sorted by rating highest to lowest: {top_n[user]}')\n",
    "\n"
   ]
  },
  {
   "cell_type": "markdown",
   "metadata": {},
   "source": [
    ".\n",
    "\n",
    "Like the TruncatedSVD model, this one has 2 overlaps too between the Item-based and SVD."
   ]
  },
  {
   "cell_type": "markdown",
   "metadata": {},
   "source": [
    "### The End"
   ]
  }
 ],
 "metadata": {
  "kernelspec": {
   "display_name": "Python 3",
   "language": "python",
   "name": "python3"
  },
  "language_info": {
   "codemirror_mode": {
    "name": "ipython",
    "version": 3
   },
   "file_extension": ".py",
   "mimetype": "text/x-python",
   "name": "python",
   "nbconvert_exporter": "python",
   "pygments_lexer": "ipython3",
   "version": "3.7.6"
  }
 },
 "nbformat": 4,
 "nbformat_minor": 4
}
