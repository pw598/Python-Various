{
  "nbformat": 4,
  "nbformat_minor": 0,
  "metadata": {
    "colab": {
      "name": "Pandas to Excel.ipynb",
      "provenance": [],
      "collapsed_sections": [
        "J2fLnQedmPgd",
        "Nb5I8rDEiS9B",
        "o2Q3eunTr3kT",
        "UGfW8qIdq0wq",
        "jP0WHTQsM1c9",
        "tEugCSkxcq65",
        "PPvoJAIwfp7X",
        "l7eKZ_NbZVjV",
        "uN5ujrkautHF",
        "0uqxkwmN0ll_",
        "ItXtXfka7ahd",
        "TdkUKaIiSNPP",
        "zsXHt1OJgnng",
        "bftTwgO8pWWr",
        "a8zpBaRApfkm",
        "rGBQjn-vl7Ls"
      ]
    },
    "kernelspec": {
      "name": "python3",
      "display_name": "Python 3"
    },
    "language_info": {
      "name": "python"
    }
  },
  "cells": [
    {
      "cell_type": "markdown",
      "metadata": {
        "id": "NyyoYe19hb9n"
      },
      "source": [
        "# **Workshop Análise de Dados**\n",
        "## Do Excel ao Pandas: As tarefas mais comuns do Excel realizadas no Python.\n",
        "Workshop realizado pela *Escola Britânica de Artes Criativas (EBAC)* entre 25 e 27 de Maio de 2021.\n",
        "\n",
        "Palestrante: [Gustavo Santos](https://www.linkedin.com/in/gurezende/)\n"
      ]
    },
    {
      "cell_type": "markdown",
      "metadata": {
        "id": "bxdYaeJLivx4"
      },
      "source": [
        "### **Microsoft Excel**\n",
        "O Microsoft Excel é o editor de planilhas dominante no mercado há mais de 30 anos. Atualmente, o software é bem mais do que isso e disponibiliza diversas funções que facilitam muito o tratamento dos dados, bem como a realização de cálculos simples ou complexos e, deste modo, atuando como aliado na análise de dados. Devido à sua interface amigável com numerosas funções acionadas por simples cliques, o Excel ainda se destaca no mercado.\n",
        "\n",
        "Entretanto, como nenhuma ferramenta é perfeita, o Excel sofre proporcionalmente à quantidade de dados com que estamos trabalhando.\n",
        "\n",
        "### **Pandas**\n",
        "Por ser um padrão a ser seguido no tratamento, limpeza e manipulação de dados, muitas das funções do Excel foram adaptadas por diversas linguagens de programação.\n",
        "\n",
        "Pandas significa *Panel Data* (Painel de Dados) e foi criado em 2008 para a linguagem de programação Python. Podemos considerar a biblioteca como o \"Excel dentro do Python\", uma vez que é a mais popular ferramenta para manipulação, limpeza e tratamento de dados usada pelos Cientistas de Dados."
      ]
    },
    {
      "cell_type": "markdown",
      "metadata": {
        "id": "QfxFiLuPuMsw"
      },
      "source": [
        "### **Do Excel ao Pandas**\n",
        "Nossa intenção neste notebook é demonstrar como aplicar algumas funcionalidades comuns do Excel no Pandas.\n",
        "Aprenderemos como realizar as seguintes tarefas no Pandas:\n",
        "* [Carregar um conjunto de dados (dataset)](https://pandas.pydata.org/pandas-docs/stable/reference/api/pandas.read_csv.html)\n",
        "* [Filtrar o dataset](https://pandas.pydata.org/docs/reference/api/pandas.DataFrame.loc.html)\n",
        "* Soma por linha\n",
        "* Soma por coluna\n",
        "* Sum If\n",
        "* [Fazer contagem de valores](https://pandas.pydata.org/docs/reference/api/pandas.Series.value_counts.html)\n",
        "* [Remover linhas ou Colunas](https://pandas.pydata.org/pandas-docs/stable/reference/api/pandas.DataFrame.drop.html)\n",
        "* [Fazer agrupamentos](https://pandas.pydata.org/pandas-docs/stable/reference/api/pandas.DataFrame.groupby.html)\n",
        "* Calcular dados estatísticos básicos (Média, Mediana, Desvio Padrão)\n",
        "* [Usar condicional lógico IF](https://numpy.org/doc/stable/reference/generated/numpy.where.html)\n",
        "* [Preencher valores NA](https://pandas.pydata.org/pandas-docs/stable/reference/api/pandas.DataFrame.fillna.html)\n",
        "* Realizar VLookup\n",
        "* [Unir tabelas](https://pandas.pydata.org/pandas-docs/stable/reference/api/pandas.DataFrame.merge.html)\n",
        "* [Criar uma tabela dinâmica (Pivot Table)](https://pandas.pydata.org/docs/reference/api/pandas.pivot_table.html)\n",
        "* [Plotar gráficos](https://pandas.pydata.org/docs/reference/api/pandas.DataFrame.plot.html?highlight=plot)\n",
        "* [Salvar o CSV](https://pandas.pydata.org/docs/reference/api/pandas.DataFrame.to_csv.html)"
      ]
    },
    {
      "cell_type": "markdown",
      "metadata": {
        "id": "HJxZWcmPorv7"
      },
      "source": [
        "Acima eu deixei os links diretos de várias documentações para as tarefas citadas. Entretanto, consultar documentação é uma atividade diária do Cientista de Dados. Deixo aqui o link para o site do Pandas onde fica armazenada toda a documentação da biblioteca.\n",
        "\n",
        "### [**Documentação Pandas**](https://pandas.pydata.org/docs/)"
      ]
    },
    {
      "cell_type": "markdown",
      "metadata": {
        "id": "J2fLnQedmPgd"
      },
      "source": [
        "### **Instalar e Importar o Pandas**"
      ]
    },
    {
      "cell_type": "code",
      "metadata": {
        "id": "7eixsIQLmTrc",
        "colab": {
          "base_uri": "https://localhost:8080/"
        },
        "outputId": "e00820c6-b522-4a27-dc32-ab0a48e7223c"
      },
      "source": [
        "# Instalar biblioteca Pandas e Numpy\n",
        "!pip install pandas\n",
        "!pip install numpy"
      ],
      "execution_count": null,
      "outputs": [
        {
          "output_type": "stream",
          "text": [
            "Requirement already satisfied: pandas in /usr/local/lib/python3.7/dist-packages (1.1.5)\n",
            "Requirement already satisfied: python-dateutil>=2.7.3 in /usr/local/lib/python3.7/dist-packages (from pandas) (2.8.1)\n",
            "Requirement already satisfied: pytz>=2017.2 in /usr/local/lib/python3.7/dist-packages (from pandas) (2018.9)\n",
            "Requirement already satisfied: numpy>=1.15.4 in /usr/local/lib/python3.7/dist-packages (from pandas) (1.19.5)\n",
            "Requirement already satisfied: six>=1.5 in /usr/local/lib/python3.7/dist-packages (from python-dateutil>=2.7.3->pandas) (1.15.0)\n"
          ],
          "name": "stdout"
        }
      ]
    },
    {
      "cell_type": "code",
      "metadata": {
        "id": "ohDW3NdHmeSE"
      },
      "source": [
        "# Importando o Pandas para a Sessão Python\n",
        "import pandas as pd\n",
        "\n",
        "# Importamos também o numpy, para nos beneficiarmos de funcionalidades de cálculos numéricos\n",
        "import numpy as np"
      ],
      "execution_count": null,
      "outputs": []
    },
    {
      "cell_type": "markdown",
      "metadata": {
        "id": "Nb5I8rDEiS9B"
      },
      "source": [
        "### **Carregar um dataset**"
      ]
    },
    {
      "cell_type": "markdown",
      "metadata": {
        "id": "u72IciJOoAN5"
      },
      "source": [
        "Ao utilizar o jupyter notebook ou outros Ambientes de Desenvolvimento (IDE), o comando comum para abrir arquivos CSV está na célula seguinte."
      ]
    },
    {
      "cell_type": "code",
      "metadata": {
        "id": "0H_QjuB2fTnV"
      },
      "source": [
        "# Defina o endereço físico do arquivo no seu computador\n",
        "file = 'C:/Users/12345/Documentos/filename.csv'\n",
        "\n",
        "# Importar o arquivo para o notebook\n",
        "df = pd.read_csv(file)"
      ],
      "execution_count": null,
      "outputs": []
    },
    {
      "cell_type": "markdown",
      "metadata": {
        "id": "nBPs1K4Gon0a"
      },
      "source": [
        "Quando usamos o Google Colab, é necessário um passo extra, importando o arquivo para o Google Colab e, depois, importamos o mesmo arquivo para o notebook."
      ]
    },
    {
      "cell_type": "code",
      "metadata": {
        "colab": {
          "resources": {
            "http://localhost:8080/nbextensions/google.colab/files.js": {
              "data": "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",
              "ok": true,
              "headers": [
                [
                  "content-type",
                  "application/javascript"
                ]
              ],
              "status": 200,
              "status_text": ""
            }
          },
          "base_uri": "https://localhost:8080/",
          "height": 73
        },
        "id": "Im1EPcbFjNwk",
        "outputId": "effd1f68-790a-42a9-bf0c-74db1772e2d4"
      },
      "source": [
        "# Importar o arquivo do seu computador para o Google Colab\n",
        "import pandas as pd\n",
        "from google.colab import files\n",
        "uploaded = files.upload()"
      ],
      "execution_count": 3,
      "outputs": [
        {
          "output_type": "display_data",
          "data": {
            "text/html": [
              "\n",
              "     <input type=\"file\" id=\"files-3448c52b-73fb-4d3e-9dae-cd35812a851a\" name=\"files[]\" multiple disabled\n",
              "        style=\"border:none\" />\n",
              "     <output id=\"result-3448c52b-73fb-4d3e-9dae-cd35812a851a\">\n",
              "      Upload widget is only available when the cell has been executed in the\n",
              "      current browser session. Please rerun this cell to enable.\n",
              "      </output>\n",
              "      <script src=\"/nbextensions/google.colab/files.js\"></script> "
            ],
            "text/plain": [
              "<IPython.core.display.HTML object>"
            ]
          },
          "metadata": {
            "tags": []
          }
        },
        {
          "output_type": "stream",
          "text": [
            "Saving SeoulBikeData.csv to SeoulBikeData.csv\n"
          ],
          "name": "stdout"
        }
      ]
    },
    {
      "cell_type": "code",
      "metadata": {
        "id": "j3weGYgcjsbZ"
      },
      "source": [
        "# Importar o arquivo do Google Colab para o notebook\n",
        "import io\n",
        "df = pd.read_csv(io.BytesIO(uploaded['SeoulBikeData.csv']))"
      ],
      "execution_count": 4,
      "outputs": []
    },
    {
      "cell_type": "markdown",
      "metadata": {
        "id": "_OF3crcXt5oL"
      },
      "source": [
        "\n",
        "Este dataset é público e pode ser encontrado no site da UCI, neste [link](https://archive.ics.uci.edu/ml/datasets/Seoul+Bike+Sharing+Demand#).\n",
        "\n",
        "Aqui está a descrição das colunas:\n",
        "\n",
        "* Date : year-month-day \n",
        "* Rented Bike count - Count of bikes rented at each hour \n",
        "* Hour - Hour of he day \n",
        "* Temperature-Temperature in Celsius \n",
        "* Humidity - % \n",
        "* Windspeed - m/s \n",
        "* Visibility - 10m \n",
        "* Dew point temperature - Celsius \n",
        "* Solar radiation - MJ/m2 \n",
        "* Rainfall - mm \n",
        "* Snowfall - cm \n",
        "* Seasons - Winter, Spring, Summer, Autumn \n",
        "* Holiday - Holiday/No holiday \n",
        "* Functional Day - NoFunc(Non Functional Hours), Fun(Functional hours)"
      ]
    },
    {
      "cell_type": "code",
      "metadata": {
        "id": "jttfitbom3Q0",
        "colab": {
          "base_uri": "https://localhost:8080/",
          "height": 197
        },
        "outputId": "58a03265-1cbe-49a7-f59f-77cb0c960d13"
      },
      "source": [
        "# Verificar as primeiras linhas do arquivo carregado\n",
        "df.head()"
      ],
      "execution_count": null,
      "outputs": [
        {
          "output_type": "execute_result",
          "data": {
            "text/html": [
              "<div>\n",
              "<style scoped>\n",
              "    .dataframe tbody tr th:only-of-type {\n",
              "        vertical-align: middle;\n",
              "    }\n",
              "\n",
              "    .dataframe tbody tr th {\n",
              "        vertical-align: top;\n",
              "    }\n",
              "\n",
              "    .dataframe thead th {\n",
              "        text-align: right;\n",
              "    }\n",
              "</style>\n",
              "<table border=\"1\" class=\"dataframe\">\n",
              "  <thead>\n",
              "    <tr style=\"text-align: right;\">\n",
              "      <th></th>\n",
              "      <th>Date</th>\n",
              "      <th>Rented_Bike_Count</th>\n",
              "      <th>Hour</th>\n",
              "      <th>Temperature_C</th>\n",
              "      <th>Humidity</th>\n",
              "      <th>Wind speed_m/s</th>\n",
              "      <th>Visibility_10m</th>\n",
              "      <th>Dew_point_temp_C</th>\n",
              "      <th>Solar_Radiation_MJ/m2</th>\n",
              "      <th>Rainfall_mm</th>\n",
              "      <th>Snowfall_cm</th>\n",
              "      <th>Seasons</th>\n",
              "      <th>Holiday</th>\n",
              "      <th>Functioning_Day</th>\n",
              "    </tr>\n",
              "  </thead>\n",
              "  <tbody>\n",
              "    <tr>\n",
              "      <th>0</th>\n",
              "      <td>1/12/2017</td>\n",
              "      <td>254</td>\n",
              "      <td>0</td>\n",
              "      <td>-5.2</td>\n",
              "      <td>37</td>\n",
              "      <td>2.2</td>\n",
              "      <td>2000</td>\n",
              "      <td>-17.6</td>\n",
              "      <td>0.0</td>\n",
              "      <td>0.0</td>\n",
              "      <td>0.0</td>\n",
              "      <td>Winter</td>\n",
              "      <td>No Holiday</td>\n",
              "      <td>Yes</td>\n",
              "    </tr>\n",
              "    <tr>\n",
              "      <th>1</th>\n",
              "      <td>1/12/2017</td>\n",
              "      <td>204</td>\n",
              "      <td>1</td>\n",
              "      <td>-5.5</td>\n",
              "      <td>38</td>\n",
              "      <td>0.8</td>\n",
              "      <td>2000</td>\n",
              "      <td>-17.6</td>\n",
              "      <td>0.0</td>\n",
              "      <td>0.0</td>\n",
              "      <td>0.0</td>\n",
              "      <td>Winter</td>\n",
              "      <td>No Holiday</td>\n",
              "      <td>Yes</td>\n",
              "    </tr>\n",
              "    <tr>\n",
              "      <th>2</th>\n",
              "      <td>1/12/2017</td>\n",
              "      <td>173</td>\n",
              "      <td>2</td>\n",
              "      <td>-6.0</td>\n",
              "      <td>39</td>\n",
              "      <td>1.0</td>\n",
              "      <td>2000</td>\n",
              "      <td>-17.7</td>\n",
              "      <td>0.0</td>\n",
              "      <td>0.0</td>\n",
              "      <td>0.0</td>\n",
              "      <td>Winter</td>\n",
              "      <td>No Holiday</td>\n",
              "      <td>Yes</td>\n",
              "    </tr>\n",
              "    <tr>\n",
              "      <th>3</th>\n",
              "      <td>1/12/2017</td>\n",
              "      <td>107</td>\n",
              "      <td>3</td>\n",
              "      <td>-6.2</td>\n",
              "      <td>40</td>\n",
              "      <td>0.9</td>\n",
              "      <td>2000</td>\n",
              "      <td>-17.6</td>\n",
              "      <td>0.0</td>\n",
              "      <td>0.0</td>\n",
              "      <td>0.0</td>\n",
              "      <td>Winter</td>\n",
              "      <td>No Holiday</td>\n",
              "      <td>Yes</td>\n",
              "    </tr>\n",
              "    <tr>\n",
              "      <th>4</th>\n",
              "      <td>1/12/2017</td>\n",
              "      <td>78</td>\n",
              "      <td>4</td>\n",
              "      <td>-6.0</td>\n",
              "      <td>36</td>\n",
              "      <td>2.3</td>\n",
              "      <td>2000</td>\n",
              "      <td>-18.6</td>\n",
              "      <td>0.0</td>\n",
              "      <td>0.0</td>\n",
              "      <td>0.0</td>\n",
              "      <td>Winter</td>\n",
              "      <td>No Holiday</td>\n",
              "      <td>Yes</td>\n",
              "    </tr>\n",
              "  </tbody>\n",
              "</table>\n",
              "</div>"
            ],
            "text/plain": [
              "        Date  Rented_Bike_Count  Hour  ...  Seasons     Holiday  Functioning_Day\n",
              "0  1/12/2017                254     0  ...   Winter  No Holiday              Yes\n",
              "1  1/12/2017                204     1  ...   Winter  No Holiday              Yes\n",
              "2  1/12/2017                173     2  ...   Winter  No Holiday              Yes\n",
              "3  1/12/2017                107     3  ...   Winter  No Holiday              Yes\n",
              "4  1/12/2017                 78     4  ...   Winter  No Holiday              Yes\n",
              "\n",
              "[5 rows x 14 columns]"
            ]
          },
          "metadata": {
            "tags": []
          },
          "execution_count": 18
        }
      ]
    },
    {
      "cell_type": "code",
      "metadata": {
        "colab": {
          "base_uri": "https://localhost:8080/",
          "height": 197
        },
        "id": "uHriOauQpKKE",
        "outputId": "25492241-b117-4802-eaec-370d3325b321"
      },
      "source": [
        "# Verificar as últimas linhas do arquivo carregado\n",
        "df.tail()"
      ],
      "execution_count": null,
      "outputs": [
        {
          "output_type": "execute_result",
          "data": {
            "text/html": [
              "<div>\n",
              "<style scoped>\n",
              "    .dataframe tbody tr th:only-of-type {\n",
              "        vertical-align: middle;\n",
              "    }\n",
              "\n",
              "    .dataframe tbody tr th {\n",
              "        vertical-align: top;\n",
              "    }\n",
              "\n",
              "    .dataframe thead th {\n",
              "        text-align: right;\n",
              "    }\n",
              "</style>\n",
              "<table border=\"1\" class=\"dataframe\">\n",
              "  <thead>\n",
              "    <tr style=\"text-align: right;\">\n",
              "      <th></th>\n",
              "      <th>Date</th>\n",
              "      <th>Rented_Bike_Count</th>\n",
              "      <th>Hour</th>\n",
              "      <th>Temperature_C</th>\n",
              "      <th>Humidity</th>\n",
              "      <th>Wind speed_m/s</th>\n",
              "      <th>Visibility_10m</th>\n",
              "      <th>Dew_point_temp_C</th>\n",
              "      <th>Solar_Radiation_MJ/m2</th>\n",
              "      <th>Rainfall_mm</th>\n",
              "      <th>Snowfall_cm</th>\n",
              "      <th>Seasons</th>\n",
              "      <th>Holiday</th>\n",
              "      <th>Functioning_Day</th>\n",
              "    </tr>\n",
              "  </thead>\n",
              "  <tbody>\n",
              "    <tr>\n",
              "      <th>8755</th>\n",
              "      <td>30/11/2018</td>\n",
              "      <td>1003</td>\n",
              "      <td>19</td>\n",
              "      <td>4.2</td>\n",
              "      <td>34</td>\n",
              "      <td>2.6</td>\n",
              "      <td>1894</td>\n",
              "      <td>-10.3</td>\n",
              "      <td>0.0</td>\n",
              "      <td>0.0</td>\n",
              "      <td>0.0</td>\n",
              "      <td>Autumn</td>\n",
              "      <td>No Holiday</td>\n",
              "      <td>Yes</td>\n",
              "    </tr>\n",
              "    <tr>\n",
              "      <th>8756</th>\n",
              "      <td>30/11/2018</td>\n",
              "      <td>764</td>\n",
              "      <td>20</td>\n",
              "      <td>3.4</td>\n",
              "      <td>37</td>\n",
              "      <td>2.3</td>\n",
              "      <td>2000</td>\n",
              "      <td>-9.9</td>\n",
              "      <td>0.0</td>\n",
              "      <td>0.0</td>\n",
              "      <td>0.0</td>\n",
              "      <td>Autumn</td>\n",
              "      <td>No Holiday</td>\n",
              "      <td>Yes</td>\n",
              "    </tr>\n",
              "    <tr>\n",
              "      <th>8757</th>\n",
              "      <td>30/11/2018</td>\n",
              "      <td>694</td>\n",
              "      <td>21</td>\n",
              "      <td>2.6</td>\n",
              "      <td>39</td>\n",
              "      <td>0.3</td>\n",
              "      <td>1968</td>\n",
              "      <td>-9.9</td>\n",
              "      <td>0.0</td>\n",
              "      <td>0.0</td>\n",
              "      <td>0.0</td>\n",
              "      <td>Autumn</td>\n",
              "      <td>No Holiday</td>\n",
              "      <td>Yes</td>\n",
              "    </tr>\n",
              "    <tr>\n",
              "      <th>8758</th>\n",
              "      <td>30/11/2018</td>\n",
              "      <td>712</td>\n",
              "      <td>22</td>\n",
              "      <td>2.1</td>\n",
              "      <td>41</td>\n",
              "      <td>1.0</td>\n",
              "      <td>1859</td>\n",
              "      <td>-9.8</td>\n",
              "      <td>0.0</td>\n",
              "      <td>0.0</td>\n",
              "      <td>0.0</td>\n",
              "      <td>Autumn</td>\n",
              "      <td>No Holiday</td>\n",
              "      <td>Yes</td>\n",
              "    </tr>\n",
              "    <tr>\n",
              "      <th>8759</th>\n",
              "      <td>30/11/2018</td>\n",
              "      <td>584</td>\n",
              "      <td>23</td>\n",
              "      <td>1.9</td>\n",
              "      <td>43</td>\n",
              "      <td>1.3</td>\n",
              "      <td>1909</td>\n",
              "      <td>-9.3</td>\n",
              "      <td>0.0</td>\n",
              "      <td>0.0</td>\n",
              "      <td>0.0</td>\n",
              "      <td>Autumn</td>\n",
              "      <td>No Holiday</td>\n",
              "      <td>Yes</td>\n",
              "    </tr>\n",
              "  </tbody>\n",
              "</table>\n",
              "</div>"
            ],
            "text/plain": [
              "            Date  Rented_Bike_Count  Hour  ...  Seasons     Holiday  Functioning_Day\n",
              "8755  30/11/2018               1003    19  ...   Autumn  No Holiday              Yes\n",
              "8756  30/11/2018                764    20  ...   Autumn  No Holiday              Yes\n",
              "8757  30/11/2018                694    21  ...   Autumn  No Holiday              Yes\n",
              "8758  30/11/2018                712    22  ...   Autumn  No Holiday              Yes\n",
              "8759  30/11/2018                584    23  ...   Autumn  No Holiday              Yes\n",
              "\n",
              "[5 rows x 14 columns]"
            ]
          },
          "metadata": {
            "tags": []
          },
          "execution_count": 19
        }
      ]
    },
    {
      "cell_type": "code",
      "metadata": {
        "colab": {
          "base_uri": "https://localhost:8080/"
        },
        "id": "H0whbJubpchi",
        "outputId": "45ef1a77-5e4c-4023-9763-5b88b6b3d4ab"
      },
      "source": [
        "# Verificar as dimensões do arquivo carregado (linhas, colunas)\n",
        "print(df.shape)\n",
        "print(f'O dataset tem {df.shape[0]} linhas e {df.shape[1]} colunas.')"
      ],
      "execution_count": null,
      "outputs": [
        {
          "output_type": "stream",
          "text": [
            "(8760, 14)\n",
            "O dataset tem 8760 linhas e 14 colunas.\n"
          ],
          "name": "stdout"
        }
      ]
    },
    {
      "cell_type": "code",
      "metadata": {
        "colab": {
          "base_uri": "https://localhost:8080/"
        },
        "id": "xzm8_jzvsySz",
        "outputId": "baecac94-2e24-4f79-e0b8-28b73c09f9ab"
      },
      "source": [
        "# Confirmando o tipo de objeto gerado\n",
        "type(df)"
      ],
      "execution_count": null,
      "outputs": [
        {
          "output_type": "execute_result",
          "data": {
            "text/plain": [
              "pandas.core.frame.DataFrame"
            ]
          },
          "metadata": {
            "tags": []
          },
          "execution_count": 24
        }
      ]
    },
    {
      "cell_type": "code",
      "metadata": {
        "colab": {
          "base_uri": "https://localhost:8080/"
        },
        "id": "ww62rbmcUUQ9",
        "outputId": "e590f238-cf1f-43d1-b860-759c2503e8bf"
      },
      "source": [
        "# Confirmando os tipos de objetos em cada coluna\n",
        "# df.dtypes -> traz apenas os tipos\n",
        "df.info()"
      ],
      "execution_count": null,
      "outputs": [
        {
          "output_type": "stream",
          "text": [
            "<class 'pandas.core.frame.DataFrame'>\n",
            "RangeIndex: 8760 entries, 0 to 8759\n",
            "Data columns (total 14 columns):\n",
            " #   Column                 Non-Null Count  Dtype  \n",
            "---  ------                 --------------  -----  \n",
            " 0   Date                   8760 non-null   object \n",
            " 1   Rented_Bike_Count      8760 non-null   int64  \n",
            " 2   Hour                   8760 non-null   int64  \n",
            " 3   Temperature_C          8760 non-null   float64\n",
            " 4   Humidity               8760 non-null   int64  \n",
            " 5   Wind speed_m/s         8760 non-null   float64\n",
            " 6   Visibility_10m         8760 non-null   int64  \n",
            " 7   Dew_point_temp_C       8760 non-null   float64\n",
            " 8   Solar_Radiation_MJ/m2  8760 non-null   float64\n",
            " 9   Rainfall_mm            8760 non-null   float64\n",
            " 10  Snowfall_cm            8760 non-null   float64\n",
            " 11  Seasons                8760 non-null   object \n",
            " 12  Holiday                8760 non-null   object \n",
            " 13  Functioning_Day        8760 non-null   object \n",
            "dtypes: float64(6), int64(4), object(4)\n",
            "memory usage: 958.2+ KB\n"
          ],
          "name": "stdout"
        }
      ]
    },
    {
      "cell_type": "markdown",
      "metadata": {
        "id": "o2Q3eunTr3kT"
      },
      "source": [
        "### **Fatiar Dataset**"
      ]
    },
    {
      "cell_type": "markdown",
      "metadata": {
        "id": "rd_LtQ54sVIN"
      },
      "source": [
        "Existem diferentes maneiras de filtrar o seu conjunto de dados no Pandas. A prática é conhecida como *slicing* ou *fatiamento* na Ciência de Dados.\n",
        "\n",
        "Vamos aprender as maneiras mais comuns de fatiar um objeto do tipo DataFrame do Pandas."
      ]
    },
    {
      "cell_type": "code",
      "metadata": {
        "colab": {
          "base_uri": "https://localhost:8080/",
          "height": 264
        },
        "id": "LZKH9q5GsL95",
        "outputId": "c20bfd8b-83c6-47da-cd8e-6194300eab05"
      },
      "source": [
        "# Fatiamento por linhas\n",
        "# IMPORTANTE: Indexação em Python começa por 0 e o número final é exclusivo, ou seja, não é retornado no fatiamento.\n",
        "# df [linha início: linha fim +1]\n",
        "# Fatiar da primeira linha até a quarta.\n",
        "df[0:4]"
      ],
      "execution_count": null,
      "outputs": [
        {
          "output_type": "execute_result",
          "data": {
            "text/html": [
              "<div>\n",
              "<style scoped>\n",
              "    .dataframe tbody tr th:only-of-type {\n",
              "        vertical-align: middle;\n",
              "    }\n",
              "\n",
              "    .dataframe tbody tr th {\n",
              "        vertical-align: top;\n",
              "    }\n",
              "\n",
              "    .dataframe thead th {\n",
              "        text-align: right;\n",
              "    }\n",
              "</style>\n",
              "<table border=\"1\" class=\"dataframe\">\n",
              "  <thead>\n",
              "    <tr style=\"text-align: right;\">\n",
              "      <th></th>\n",
              "      <th>Date</th>\n",
              "      <th>Rented_Bike_Count</th>\n",
              "      <th>Hour</th>\n",
              "      <th>Temperature_C</th>\n",
              "      <th>Humidity</th>\n",
              "      <th>Wind_speed_m/s</th>\n",
              "      <th>Visibility_10m</th>\n",
              "      <th>Dew_point_temperature_C</th>\n",
              "      <th>Solar_Radiation_MJ/m2</th>\n",
              "      <th>Rainfall_mm</th>\n",
              "      <th>Snowfall_cm</th>\n",
              "      <th>Seasons</th>\n",
              "      <th>Holiday</th>\n",
              "      <th>Functioning_Day</th>\n",
              "    </tr>\n",
              "  </thead>\n",
              "  <tbody>\n",
              "    <tr>\n",
              "      <th>0</th>\n",
              "      <td>01/12/2017</td>\n",
              "      <td>254</td>\n",
              "      <td>0</td>\n",
              "      <td>-5.2</td>\n",
              "      <td>37</td>\n",
              "      <td>2.2</td>\n",
              "      <td>2000</td>\n",
              "      <td>-17.6</td>\n",
              "      <td>0.0</td>\n",
              "      <td>0.0</td>\n",
              "      <td>0.0</td>\n",
              "      <td>Winter</td>\n",
              "      <td>No Holiday</td>\n",
              "      <td>Yes</td>\n",
              "    </tr>\n",
              "    <tr>\n",
              "      <th>1</th>\n",
              "      <td>01/12/2017</td>\n",
              "      <td>204</td>\n",
              "      <td>1</td>\n",
              "      <td>-5.5</td>\n",
              "      <td>38</td>\n",
              "      <td>0.8</td>\n",
              "      <td>2000</td>\n",
              "      <td>-17.6</td>\n",
              "      <td>0.0</td>\n",
              "      <td>0.0</td>\n",
              "      <td>0.0</td>\n",
              "      <td>Winter</td>\n",
              "      <td>No Holiday</td>\n",
              "      <td>Yes</td>\n",
              "    </tr>\n",
              "    <tr>\n",
              "      <th>2</th>\n",
              "      <td>01/12/2017</td>\n",
              "      <td>173</td>\n",
              "      <td>2</td>\n",
              "      <td>-6.0</td>\n",
              "      <td>39</td>\n",
              "      <td>1.0</td>\n",
              "      <td>2000</td>\n",
              "      <td>-17.7</td>\n",
              "      <td>0.0</td>\n",
              "      <td>0.0</td>\n",
              "      <td>0.0</td>\n",
              "      <td>Winter</td>\n",
              "      <td>No Holiday</td>\n",
              "      <td>Yes</td>\n",
              "    </tr>\n",
              "    <tr>\n",
              "      <th>3</th>\n",
              "      <td>01/12/2017</td>\n",
              "      <td>107</td>\n",
              "      <td>3</td>\n",
              "      <td>-6.2</td>\n",
              "      <td>40</td>\n",
              "      <td>0.9</td>\n",
              "      <td>2000</td>\n",
              "      <td>-17.6</td>\n",
              "      <td>0.0</td>\n",
              "      <td>0.0</td>\n",
              "      <td>0.0</td>\n",
              "      <td>Winter</td>\n",
              "      <td>No Holiday</td>\n",
              "      <td>Yes</td>\n",
              "    </tr>\n",
              "  </tbody>\n",
              "</table>\n",
              "</div>"
            ],
            "text/plain": [
              "         Date  Rented_Bike_Count  Hour  ...  Seasons     Holiday  Functioning_Day\n",
              "0  01/12/2017                254     0  ...   Winter  No Holiday              Yes\n",
              "1  01/12/2017                204     1  ...   Winter  No Holiday              Yes\n",
              "2  01/12/2017                173     2  ...   Winter  No Holiday              Yes\n",
              "3  01/12/2017                107     3  ...   Winter  No Holiday              Yes\n",
              "\n",
              "[4 rows x 14 columns]"
            ]
          },
          "metadata": {
            "tags": []
          },
          "execution_count": 28
        }
      ]
    },
    {
      "cell_type": "code",
      "metadata": {
        "colab": {
          "base_uri": "https://localhost:8080/"
        },
        "id": "AJR6xhg7v0Rv",
        "outputId": "95b366d1-cef6-4987-bc09-b1842975e951"
      },
      "source": [
        "# Fatiamento por coluna\n",
        "# df['nome da coluna'] para uma coluna\n",
        "df['Rented_Bike_Count']"
      ],
      "execution_count": null,
      "outputs": [
        {
          "output_type": "execute_result",
          "data": {
            "text/plain": [
              "0        254\n",
              "1        204\n",
              "2        173\n",
              "3        107\n",
              "4         78\n",
              "        ... \n",
              "8755    1003\n",
              "8756     764\n",
              "8757     694\n",
              "8758     712\n",
              "8759     584\n",
              "Name: Rented_Bike_Count, Length: 8760, dtype: int64"
            ]
          },
          "metadata": {
            "tags": []
          },
          "execution_count": 29
        }
      ]
    },
    {
      "cell_type": "code",
      "metadata": {
        "colab": {
          "base_uri": "https://localhost:8080/",
          "height": 424
        },
        "id": "P2Alz__2v0ai",
        "outputId": "fd0c5f6a-8759-4dfc-f342-1faa2c5e1ff4"
      },
      "source": [
        "# Fatiamento por lista de colunas\n",
        "# df[['col1', 'col2', 'col3'...'colN']] para uma lista de colunas\n",
        "df[['Rented_Bike_Count', 'Temperature_C']]"
      ],
      "execution_count": null,
      "outputs": [
        {
          "output_type": "execute_result",
          "data": {
            "text/html": [
              "<div>\n",
              "<style scoped>\n",
              "    .dataframe tbody tr th:only-of-type {\n",
              "        vertical-align: middle;\n",
              "    }\n",
              "\n",
              "    .dataframe tbody tr th {\n",
              "        vertical-align: top;\n",
              "    }\n",
              "\n",
              "    .dataframe thead th {\n",
              "        text-align: right;\n",
              "    }\n",
              "</style>\n",
              "<table border=\"1\" class=\"dataframe\">\n",
              "  <thead>\n",
              "    <tr style=\"text-align: right;\">\n",
              "      <th></th>\n",
              "      <th>Rented_Bike_Count</th>\n",
              "      <th>Temperature_C</th>\n",
              "    </tr>\n",
              "  </thead>\n",
              "  <tbody>\n",
              "    <tr>\n",
              "      <th>0</th>\n",
              "      <td>254</td>\n",
              "      <td>-5.2</td>\n",
              "    </tr>\n",
              "    <tr>\n",
              "      <th>1</th>\n",
              "      <td>204</td>\n",
              "      <td>-5.5</td>\n",
              "    </tr>\n",
              "    <tr>\n",
              "      <th>2</th>\n",
              "      <td>173</td>\n",
              "      <td>-6.0</td>\n",
              "    </tr>\n",
              "    <tr>\n",
              "      <th>3</th>\n",
              "      <td>107</td>\n",
              "      <td>-6.2</td>\n",
              "    </tr>\n",
              "    <tr>\n",
              "      <th>4</th>\n",
              "      <td>78</td>\n",
              "      <td>-6.0</td>\n",
              "    </tr>\n",
              "    <tr>\n",
              "      <th>...</th>\n",
              "      <td>...</td>\n",
              "      <td>...</td>\n",
              "    </tr>\n",
              "    <tr>\n",
              "      <th>8755</th>\n",
              "      <td>1003</td>\n",
              "      <td>4.2</td>\n",
              "    </tr>\n",
              "    <tr>\n",
              "      <th>8756</th>\n",
              "      <td>764</td>\n",
              "      <td>3.4</td>\n",
              "    </tr>\n",
              "    <tr>\n",
              "      <th>8757</th>\n",
              "      <td>694</td>\n",
              "      <td>2.6</td>\n",
              "    </tr>\n",
              "    <tr>\n",
              "      <th>8758</th>\n",
              "      <td>712</td>\n",
              "      <td>2.1</td>\n",
              "    </tr>\n",
              "    <tr>\n",
              "      <th>8759</th>\n",
              "      <td>584</td>\n",
              "      <td>1.9</td>\n",
              "    </tr>\n",
              "  </tbody>\n",
              "</table>\n",
              "<p>8760 rows × 2 columns</p>\n",
              "</div>"
            ],
            "text/plain": [
              "      Rented_Bike_Count  Temperature_C\n",
              "0                   254           -5.2\n",
              "1                   204           -5.5\n",
              "2                   173           -6.0\n",
              "3                   107           -6.2\n",
              "4                    78           -6.0\n",
              "...                 ...            ...\n",
              "8755               1003            4.2\n",
              "8756                764            3.4\n",
              "8757                694            2.6\n",
              "8758                712            2.1\n",
              "8759                584            1.9\n",
              "\n",
              "[8760 rows x 2 columns]"
            ]
          },
          "metadata": {
            "tags": []
          },
          "execution_count": 30
        }
      ]
    },
    {
      "cell_type": "code",
      "metadata": {
        "colab": {
          "base_uri": "https://localhost:8080/"
        },
        "id": "OiSwHRmzv0jU",
        "outputId": "8914f858-d879-4b6a-8766-d180e778390a"
      },
      "source": [
        "# Fatiar por Linhas e Colunas\n",
        "# Com LOC -> localizador de nomes dos índices.\n",
        "# Note que os nomes dos índices das linhas (a coluna mais à esquerda, em negrito) são números.\n",
        "df.loc[0:3,'Temperature_C']"
      ],
      "execution_count": null,
      "outputs": [
        {
          "output_type": "execute_result",
          "data": {
            "text/plain": [
              "0   -5.2\n",
              "1   -5.5\n",
              "2   -6.0\n",
              "3   -6.2\n",
              "Name: Temperature_C, dtype: float64"
            ]
          },
          "metadata": {
            "tags": []
          },
          "execution_count": 41
        }
      ]
    },
    {
      "cell_type": "code",
      "metadata": {
        "colab": {
          "base_uri": "https://localhost:8080/",
          "height": 143
        },
        "id": "iONDVS-2y8qX",
        "outputId": "d28eb598-9bb4-4df6-90a6-77be8686ff94"
      },
      "source": [
        "# Fatiar por Linhas e Colunas\n",
        "# Com iLOC -> localizador de números dos índices, seguindo o padrão Excel [L inicio: L fim, Cinicio: Cfim]\n",
        "# LEMBRE-SE: Os números finais são exclusivos\n",
        "df.iloc[0:3,0:2]"
      ],
      "execution_count": null,
      "outputs": [
        {
          "output_type": "execute_result",
          "data": {
            "text/html": [
              "<div>\n",
              "<style scoped>\n",
              "    .dataframe tbody tr th:only-of-type {\n",
              "        vertical-align: middle;\n",
              "    }\n",
              "\n",
              "    .dataframe tbody tr th {\n",
              "        vertical-align: top;\n",
              "    }\n",
              "\n",
              "    .dataframe thead th {\n",
              "        text-align: right;\n",
              "    }\n",
              "</style>\n",
              "<table border=\"1\" class=\"dataframe\">\n",
              "  <thead>\n",
              "    <tr style=\"text-align: right;\">\n",
              "      <th></th>\n",
              "      <th>Date</th>\n",
              "      <th>Rented_Bike_Count</th>\n",
              "    </tr>\n",
              "  </thead>\n",
              "  <tbody>\n",
              "    <tr>\n",
              "      <th>0</th>\n",
              "      <td>01/12/2017</td>\n",
              "      <td>254</td>\n",
              "    </tr>\n",
              "    <tr>\n",
              "      <th>1</th>\n",
              "      <td>01/12/2017</td>\n",
              "      <td>204</td>\n",
              "    </tr>\n",
              "    <tr>\n",
              "      <th>2</th>\n",
              "      <td>01/12/2017</td>\n",
              "      <td>173</td>\n",
              "    </tr>\n",
              "  </tbody>\n",
              "</table>\n",
              "</div>"
            ],
            "text/plain": [
              "         Date  Rented_Bike_Count\n",
              "0  01/12/2017                254\n",
              "1  01/12/2017                204\n",
              "2  01/12/2017                173"
            ]
          },
          "metadata": {
            "tags": []
          },
          "execution_count": 43
        }
      ]
    },
    {
      "cell_type": "code",
      "metadata": {
        "colab": {
          "base_uri": "https://localhost:8080/",
          "height": 406
        },
        "id": "REppFELXU9ui",
        "outputId": "fcbd5ad3-6f63-407e-d194-51c75c7dafc9"
      },
      "source": [
        "# Fatiar por condição (Trazer todas as linhas onde Hora == 12)\n",
        "df [df.Hour == 12]"
      ],
      "execution_count": null,
      "outputs": [
        {
          "output_type": "execute_result",
          "data": {
            "text/html": [
              "<div>\n",
              "<style scoped>\n",
              "    .dataframe tbody tr th:only-of-type {\n",
              "        vertical-align: middle;\n",
              "    }\n",
              "\n",
              "    .dataframe tbody tr th {\n",
              "        vertical-align: top;\n",
              "    }\n",
              "\n",
              "    .dataframe thead th {\n",
              "        text-align: right;\n",
              "    }\n",
              "</style>\n",
              "<table border=\"1\" class=\"dataframe\">\n",
              "  <thead>\n",
              "    <tr style=\"text-align: right;\">\n",
              "      <th></th>\n",
              "      <th>Date</th>\n",
              "      <th>Rented_Bike_Count</th>\n",
              "      <th>Hour</th>\n",
              "      <th>Temperature_C</th>\n",
              "      <th>Humidity</th>\n",
              "      <th>Wind speed_m/s</th>\n",
              "      <th>Visibility_10m</th>\n",
              "      <th>Dew_point_temp_C</th>\n",
              "      <th>Solar_Radiation_MJ/m2</th>\n",
              "      <th>Rainfall_mm</th>\n",
              "      <th>Snowfall_cm</th>\n",
              "      <th>Seasons</th>\n",
              "      <th>Holiday</th>\n",
              "      <th>Functioning_Day</th>\n",
              "    </tr>\n",
              "  </thead>\n",
              "  <tbody>\n",
              "    <tr>\n",
              "      <th>12</th>\n",
              "      <td>1/12/2017</td>\n",
              "      <td>449</td>\n",
              "      <td>12</td>\n",
              "      <td>1.7</td>\n",
              "      <td>23</td>\n",
              "      <td>1.4</td>\n",
              "      <td>2000</td>\n",
              "      <td>-17.2</td>\n",
              "      <td>1.11</td>\n",
              "      <td>0.0</td>\n",
              "      <td>0.0</td>\n",
              "      <td>Winter</td>\n",
              "      <td>No Holiday</td>\n",
              "      <td>Yes</td>\n",
              "    </tr>\n",
              "    <tr>\n",
              "      <th>36</th>\n",
              "      <td>2/12/2017</td>\n",
              "      <td>479</td>\n",
              "      <td>12</td>\n",
              "      <td>4.3</td>\n",
              "      <td>41</td>\n",
              "      <td>1.3</td>\n",
              "      <td>1666</td>\n",
              "      <td>-7.8</td>\n",
              "      <td>1.09</td>\n",
              "      <td>0.0</td>\n",
              "      <td>0.0</td>\n",
              "      <td>Winter</td>\n",
              "      <td>No Holiday</td>\n",
              "      <td>Yes</td>\n",
              "    </tr>\n",
              "    <tr>\n",
              "      <th>60</th>\n",
              "      <td>3/12/2017</td>\n",
              "      <td>333</td>\n",
              "      <td>12</td>\n",
              "      <td>5.8</td>\n",
              "      <td>85</td>\n",
              "      <td>1.7</td>\n",
              "      <td>349</td>\n",
              "      <td>3.4</td>\n",
              "      <td>0.43</td>\n",
              "      <td>0.0</td>\n",
              "      <td>0.0</td>\n",
              "      <td>Winter</td>\n",
              "      <td>No Holiday</td>\n",
              "      <td>Yes</td>\n",
              "    </tr>\n",
              "    <tr>\n",
              "      <th>84</th>\n",
              "      <td>4/12/2017</td>\n",
              "      <td>393</td>\n",
              "      <td>12</td>\n",
              "      <td>-0.3</td>\n",
              "      <td>38</td>\n",
              "      <td>4.8</td>\n",
              "      <td>1823</td>\n",
              "      <td>-12.9</td>\n",
              "      <td>1.11</td>\n",
              "      <td>0.0</td>\n",
              "      <td>0.0</td>\n",
              "      <td>Winter</td>\n",
              "      <td>No Holiday</td>\n",
              "      <td>Yes</td>\n",
              "    </tr>\n",
              "    <tr>\n",
              "      <th>108</th>\n",
              "      <td>5/12/2017</td>\n",
              "      <td>321</td>\n",
              "      <td>12</td>\n",
              "      <td>-2.3</td>\n",
              "      <td>25</td>\n",
              "      <td>0.0</td>\n",
              "      <td>1962</td>\n",
              "      <td>-19.7</td>\n",
              "      <td>0.00</td>\n",
              "      <td>0.0</td>\n",
              "      <td>0.0</td>\n",
              "      <td>Winter</td>\n",
              "      <td>No Holiday</td>\n",
              "      <td>Yes</td>\n",
              "    </tr>\n",
              "    <tr>\n",
              "      <th>...</th>\n",
              "      <td>...</td>\n",
              "      <td>...</td>\n",
              "      <td>...</td>\n",
              "      <td>...</td>\n",
              "      <td>...</td>\n",
              "      <td>...</td>\n",
              "      <td>...</td>\n",
              "      <td>...</td>\n",
              "      <td>...</td>\n",
              "      <td>...</td>\n",
              "      <td>...</td>\n",
              "      <td>...</td>\n",
              "      <td>...</td>\n",
              "      <td>...</td>\n",
              "    </tr>\n",
              "    <tr>\n",
              "      <th>8652</th>\n",
              "      <td>26/11/2018</td>\n",
              "      <td>752</td>\n",
              "      <td>12</td>\n",
              "      <td>9.1</td>\n",
              "      <td>57</td>\n",
              "      <td>1.1</td>\n",
              "      <td>562</td>\n",
              "      <td>1.0</td>\n",
              "      <td>1.69</td>\n",
              "      <td>0.0</td>\n",
              "      <td>0.0</td>\n",
              "      <td>Autumn</td>\n",
              "      <td>No Holiday</td>\n",
              "      <td>Yes</td>\n",
              "    </tr>\n",
              "    <tr>\n",
              "      <th>8676</th>\n",
              "      <td>27/11/2018</td>\n",
              "      <td>672</td>\n",
              "      <td>12</td>\n",
              "      <td>9.3</td>\n",
              "      <td>61</td>\n",
              "      <td>1.5</td>\n",
              "      <td>390</td>\n",
              "      <td>2.1</td>\n",
              "      <td>0.85</td>\n",
              "      <td>0.0</td>\n",
              "      <td>0.0</td>\n",
              "      <td>Autumn</td>\n",
              "      <td>No Holiday</td>\n",
              "      <td>Yes</td>\n",
              "    </tr>\n",
              "    <tr>\n",
              "      <th>8700</th>\n",
              "      <td>28/11/2018</td>\n",
              "      <td>635</td>\n",
              "      <td>12</td>\n",
              "      <td>7.9</td>\n",
              "      <td>14</td>\n",
              "      <td>1.7</td>\n",
              "      <td>1688</td>\n",
              "      <td>-18.0</td>\n",
              "      <td>1.81</td>\n",
              "      <td>0.0</td>\n",
              "      <td>0.0</td>\n",
              "      <td>Autumn</td>\n",
              "      <td>No Holiday</td>\n",
              "      <td>Yes</td>\n",
              "    </tr>\n",
              "    <tr>\n",
              "      <th>8724</th>\n",
              "      <td>29/11/2018</td>\n",
              "      <td>661</td>\n",
              "      <td>12</td>\n",
              "      <td>5.6</td>\n",
              "      <td>27</td>\n",
              "      <td>0.3</td>\n",
              "      <td>1522</td>\n",
              "      <td>-11.9</td>\n",
              "      <td>0.34</td>\n",
              "      <td>0.0</td>\n",
              "      <td>0.0</td>\n",
              "      <td>Autumn</td>\n",
              "      <td>No Holiday</td>\n",
              "      <td>Yes</td>\n",
              "    </tr>\n",
              "    <tr>\n",
              "      <th>8748</th>\n",
              "      <td>30/11/2018</td>\n",
              "      <td>720</td>\n",
              "      <td>12</td>\n",
              "      <td>6.6</td>\n",
              "      <td>35</td>\n",
              "      <td>1.3</td>\n",
              "      <td>1409</td>\n",
              "      <td>-7.8</td>\n",
              "      <td>1.70</td>\n",
              "      <td>0.0</td>\n",
              "      <td>0.0</td>\n",
              "      <td>Autumn</td>\n",
              "      <td>No Holiday</td>\n",
              "      <td>Yes</td>\n",
              "    </tr>\n",
              "  </tbody>\n",
              "</table>\n",
              "<p>365 rows × 14 columns</p>\n",
              "</div>"
            ],
            "text/plain": [
              "            Date  Rented_Bike_Count  Hour  ...  Seasons     Holiday  Functioning_Day\n",
              "12     1/12/2017                449    12  ...   Winter  No Holiday              Yes\n",
              "36     2/12/2017                479    12  ...   Winter  No Holiday              Yes\n",
              "60     3/12/2017                333    12  ...   Winter  No Holiday              Yes\n",
              "84     4/12/2017                393    12  ...   Winter  No Holiday              Yes\n",
              "108    5/12/2017                321    12  ...   Winter  No Holiday              Yes\n",
              "...          ...                ...   ...  ...      ...         ...              ...\n",
              "8652  26/11/2018                752    12  ...   Autumn  No Holiday              Yes\n",
              "8676  27/11/2018                672    12  ...   Autumn  No Holiday              Yes\n",
              "8700  28/11/2018                635    12  ...   Autumn  No Holiday              Yes\n",
              "8724  29/11/2018                661    12  ...   Autumn  No Holiday              Yes\n",
              "8748  30/11/2018                720    12  ...   Autumn  No Holiday              Yes\n",
              "\n",
              "[365 rows x 14 columns]"
            ]
          },
          "metadata": {
            "tags": []
          },
          "execution_count": 25
        }
      ]
    },
    {
      "cell_type": "code",
      "metadata": {
        "colab": {
          "base_uri": "https://localhost:8080/"
        },
        "id": "i9OkY_0dVL30",
        "outputId": "7fc69315-d31f-4ed1-a52d-eb240d414ef2"
      },
      "source": [
        "# Fatiar por condição (Trazer apenas linhas onde Hora == 12 e apenas a coluna Rented Bike Count)\n",
        "df ['Rented_Bike_Count'] [df.Hour == 12].head(5)"
      ],
      "execution_count": null,
      "outputs": [
        {
          "output_type": "execute_result",
          "data": {
            "text/plain": [
              "12     449\n",
              "36     479\n",
              "60     333\n",
              "84     393\n",
              "108    321\n",
              "Name: Rented_Bike_Count, dtype: int64"
            ]
          },
          "metadata": {
            "tags": []
          },
          "execution_count": 27
        }
      ]
    },
    {
      "cell_type": "markdown",
      "metadata": {
        "id": "UGfW8qIdq0wq"
      },
      "source": [
        "### **Soma por Linhas e Colunas**"
      ]
    },
    {
      "cell_type": "code",
      "metadata": {
        "colab": {
          "base_uri": "https://localhost:8080/"
        },
        "id": "JyJRZrBppiGq",
        "outputId": "3eb2bd28-e027-48cb-a774-49617ee8ca3a"
      },
      "source": [
        "# Calculando Soma Total por linha\n",
        "df[['Rented_Bike_Count','Hour']].sum(axis=1)"
      ],
      "execution_count": null,
      "outputs": [
        {
          "output_type": "execute_result",
          "data": {
            "text/plain": [
              "0        254\n",
              "1        205\n",
              "2        175\n",
              "3        110\n",
              "4         82\n",
              "        ... \n",
              "8755    1022\n",
              "8756     784\n",
              "8757     715\n",
              "8758     734\n",
              "8759     607\n",
              "Length: 8760, dtype: int64"
            ]
          },
          "metadata": {
            "tags": []
          },
          "execution_count": 22
        }
      ]
    },
    {
      "cell_type": "code",
      "metadata": {
        "colab": {
          "base_uri": "https://localhost:8080/"
        },
        "id": "tTjoVP5NqgfC",
        "outputId": "933756ea-0fed-4069-8219-fcd830aef044"
      },
      "source": [
        "# Calculando Soma Total por Coluna\n",
        "df[['Rented_Bike_Count','Hour']].sum()"
      ],
      "execution_count": null,
      "outputs": [
        {
          "output_type": "execute_result",
          "data": {
            "text/plain": [
              "Rented_Bike_Count    6172314\n",
              "Hour                  100740\n",
              "dtype: int64"
            ]
          },
          "metadata": {
            "tags": []
          },
          "execution_count": 23
        }
      ]
    },
    {
      "cell_type": "markdown",
      "metadata": {
        "id": "jP0WHTQsM1c9"
      },
      "source": [
        "### **Sum IF**"
      ]
    },
    {
      "cell_type": "markdown",
      "metadata": {
        "id": "GnJHD1T4NFbG"
      },
      "source": [
        "No Excel, o SUM IF é uma função que percorre um array e seleciona os valores iguais a uma dada célula, retornando a soma referente aos valores associados àquele critério.\n",
        "\n",
        "No Pandas, o caminho é fatiar por um critério e aplicar a soma dos valores em seguida."
      ]
    },
    {
      "cell_type": "code",
      "metadata": {
        "colab": {
          "base_uri": "https://localhost:8080/"
        },
        "id": "A9rDwfbnWKkY",
        "outputId": "d5b9001b-bb1d-460f-faa3-2912487fe60f"
      },
      "source": [
        "# Veja como o Pandas retorna um array condicional\n",
        "df.Hour == 1"
      ],
      "execution_count": null,
      "outputs": [
        {
          "output_type": "execute_result",
          "data": {
            "text/plain": [
              "0       False\n",
              "1        True\n",
              "2       False\n",
              "3       False\n",
              "4       False\n",
              "        ...  \n",
              "8755    False\n",
              "8756    False\n",
              "8757    False\n",
              "8758    False\n",
              "8759    False\n",
              "Name: Hour, Length: 8760, dtype: bool"
            ]
          },
          "metadata": {
            "tags": []
          },
          "execution_count": 30
        }
      ]
    },
    {
      "cell_type": "code",
      "metadata": {
        "colab": {
          "base_uri": "https://localhost:8080/"
        },
        "id": "39_liMZuYgJj",
        "outputId": "7abec4ff-e541-46c4-dae9-936ef30280b7"
      },
      "source": [
        "# Como o Python computa True e False\n",
        "print('True:',int(True), ' | False:', int(False))"
      ],
      "execution_count": null,
      "outputs": [
        {
          "output_type": "stream",
          "text": [
            "True: 1  | False: 0\n"
          ],
          "name": "stdout"
        }
      ]
    },
    {
      "cell_type": "markdown",
      "metadata": {
        "id": "3KxxJS46WeWf"
      },
      "source": [
        "Sabendo que o Pandas retorna um array de Verdadeiros e Falsos quando escrevemos um condicional e que o Python entende True = 1 e False = 0, podemos usar esse código como um filtro. O Pandas irá, então, descartar todos os índices False (0) e retornar os índices True (1)."
      ]
    },
    {
      "cell_type": "code",
      "metadata": {
        "colab": {
          "base_uri": "https://localhost:8080/"
        },
        "id": "RrAL63kqM5El",
        "outputId": "c3421ce9-5ea9-488a-c3e3-f433fc8ca325"
      },
      "source": [
        "# Soma de Bikes alugadas SE Hora == 1\n",
        "# Sintaxe: df[condição][coluna].sum()\n",
        "df [df.Hour == 1]['Rented_Bike_Count'].sum()"
      ],
      "execution_count": null,
      "outputs": [
        {
          "output_type": "execute_result",
          "data": {
            "text/plain": [
              "155557"
            ]
          },
          "metadata": {
            "tags": []
          },
          "execution_count": 31
        }
      ]
    },
    {
      "cell_type": "code",
      "metadata": {
        "colab": {
          "base_uri": "https://localhost:8080/"
        },
        "id": "sTYBfF-xUPHw",
        "outputId": "44c762bf-9a91-46d2-855e-7da001351fca"
      },
      "source": [
        "# Outro exemplo\n",
        "df [df.Hour >= 12]['Rented_Bike_Count'].sum()"
      ],
      "execution_count": null,
      "outputs": [
        {
          "output_type": "execute_result",
          "data": {
            "text/plain": [
              "4191018"
            ]
          },
          "metadata": {
            "tags": []
          },
          "execution_count": 38
        }
      ]
    },
    {
      "cell_type": "markdown",
      "metadata": {
        "id": "tEugCSkxcq65"
      },
      "source": [
        "### **Contagem de Valores**"
      ]
    },
    {
      "cell_type": "markdown",
      "metadata": {
        "id": "z0bpZHaccu0o"
      },
      "source": [
        "Contar valores é sempre necessário quando estamos explorando dados. Saber quais valores mais ou menos se repetem nos ajuda a entender nosso conjunto de dados.\n",
        "No Excel, temos diferents funções para contagem de valores, como COUNT, COUNTIF, COUNTA.\n",
        "\n",
        "No Pandas, podemos usar o *value_counts( )*."
      ]
    },
    {
      "cell_type": "code",
      "metadata": {
        "colab": {
          "base_uri": "https://localhost:8080/"
        },
        "id": "zUdsyZx6cya3",
        "outputId": "6ca65f8f-dd80-45b7-f88e-0df629cf53b9"
      },
      "source": [
        "# Contando número de observações de cada estação (Seasons)\n",
        "df['Seasons'].value_counts()"
      ],
      "execution_count": null,
      "outputs": [
        {
          "output_type": "execute_result",
          "data": {
            "text/plain": [
              "Summer    2208\n",
              "Spring    2208\n",
              "Autumn    2184\n",
              "Winter    2160\n",
              "Name: Seasons, dtype: int64"
            ]
          },
          "metadata": {
            "tags": []
          },
          "execution_count": 46
        }
      ]
    },
    {
      "cell_type": "code",
      "metadata": {
        "colab": {
          "base_uri": "https://localhost:8080/"
        },
        "id": "f7ltsZ5MeKgM",
        "outputId": "8b0b2f77-e007-40a4-a6e7-83602787534a"
      },
      "source": [
        "# Inseri artificialmente três linhas com valores nulos para demonstrar a funcionalidade de contagem de valores nulos\n",
        "df.isnull().value_counts()"
      ],
      "execution_count": null,
      "outputs": [
        {
          "output_type": "execute_result",
          "data": {
            "text/plain": [
              "Date   Rented_Bike_Count  Hour   Temperature_C  Humidity  Wind speed_m/s  Visibility_10m  Dew_point_temp_C  Solar_Radiation_MJ/m2  Rainfall_mm  Snowfall_cm  Seasons  Holiday  Functioning_Day\n",
              "False  False              False  False          False     False           False           False             False                  False        False        False    False    False              8760\n",
              "       True               True   True           True      True            False           True              True                   True         True         True     True     True                  1\n",
              "                                                          False           True            True              True                   True         True         True     True     True                  1\n",
              "                                 False          False     True            True            True              True                   True         True         True     True     True                  1\n",
              "dtype: int64"
            ]
          },
          "metadata": {
            "tags": []
          },
          "execution_count": 56
        }
      ]
    },
    {
      "cell_type": "code",
      "metadata": {
        "colab": {
          "base_uri": "https://localhost:8080/"
        },
        "id": "mbi2QOg9n7G0",
        "outputId": "54f51654-b50e-42a6-c8c9-63a703d3f61e"
      },
      "source": [
        "# Usando a função count\n",
        "# Quantidade de linhas onde a data é maior do que 01/Dezembro/2018\n",
        "df['Date'][df.Date > \"2018-12-01\"].count()"
      ],
      "execution_count": 12,
      "outputs": [
        {
          "output_type": "execute_result",
          "data": {
            "text/plain": [
              "5016"
            ]
          },
          "metadata": {
            "tags": []
          },
          "execution_count": 12
        }
      ]
    },
    {
      "cell_type": "markdown",
      "metadata": {
        "id": "PPvoJAIwfp7X"
      },
      "source": [
        "### **Remover Linhas ou Colunas**"
      ]
    },
    {
      "cell_type": "markdown",
      "metadata": {
        "id": "-kek3dqqf1xq"
      },
      "source": [
        "Para remover linhas ou colunas, trabalhamos com os índices do Dataframe do Pandas ou utilizamos métodos específicos, como o dropna."
      ]
    },
    {
      "cell_type": "code",
      "metadata": {
        "colab": {
          "base_uri": "https://localhost:8080/",
          "height": 197
        },
        "id": "th5dWKzFftZP",
        "outputId": "c1075251-0ef8-42ff-addf-f8154ed49036"
      },
      "source": [
        "# Vamos visualizar os valores nulos, artificialmente inseridos para demonstração\n",
        "df.tail()"
      ],
      "execution_count": null,
      "outputs": [
        {
          "output_type": "execute_result",
          "data": {
            "text/html": [
              "<div>\n",
              "<style scoped>\n",
              "    .dataframe tbody tr th:only-of-type {\n",
              "        vertical-align: middle;\n",
              "    }\n",
              "\n",
              "    .dataframe tbody tr th {\n",
              "        vertical-align: top;\n",
              "    }\n",
              "\n",
              "    .dataframe thead th {\n",
              "        text-align: right;\n",
              "    }\n",
              "</style>\n",
              "<table border=\"1\" class=\"dataframe\">\n",
              "  <thead>\n",
              "    <tr style=\"text-align: right;\">\n",
              "      <th></th>\n",
              "      <th>Date</th>\n",
              "      <th>Rented_Bike_Count</th>\n",
              "      <th>Hour</th>\n",
              "      <th>Temperature_C</th>\n",
              "      <th>Humidity</th>\n",
              "      <th>Wind speed_m/s</th>\n",
              "      <th>Visibility_10m</th>\n",
              "      <th>Dew_point_temp_C</th>\n",
              "      <th>Solar_Radiation_MJ/m2</th>\n",
              "      <th>Rainfall_mm</th>\n",
              "      <th>Snowfall_cm</th>\n",
              "      <th>Seasons</th>\n",
              "      <th>Holiday</th>\n",
              "      <th>Functioning_Day</th>\n",
              "    </tr>\n",
              "  </thead>\n",
              "  <tbody>\n",
              "    <tr>\n",
              "      <th>8758</th>\n",
              "      <td>30/11/2018</td>\n",
              "      <td>712.0</td>\n",
              "      <td>22.0</td>\n",
              "      <td>2.1</td>\n",
              "      <td>41.0</td>\n",
              "      <td>1.0</td>\n",
              "      <td>1859.0</td>\n",
              "      <td>-9.8</td>\n",
              "      <td>0.0</td>\n",
              "      <td>0.0</td>\n",
              "      <td>0.0</td>\n",
              "      <td>Autumn</td>\n",
              "      <td>No Holiday</td>\n",
              "      <td>Yes</td>\n",
              "    </tr>\n",
              "    <tr>\n",
              "      <th>8759</th>\n",
              "      <td>30/11/2018</td>\n",
              "      <td>584.0</td>\n",
              "      <td>23.0</td>\n",
              "      <td>1.9</td>\n",
              "      <td>43.0</td>\n",
              "      <td>1.3</td>\n",
              "      <td>1909.0</td>\n",
              "      <td>-9.3</td>\n",
              "      <td>0.0</td>\n",
              "      <td>0.0</td>\n",
              "      <td>0.0</td>\n",
              "      <td>Autumn</td>\n",
              "      <td>No Holiday</td>\n",
              "      <td>Yes</td>\n",
              "    </tr>\n",
              "    <tr>\n",
              "      <th>8760</th>\n",
              "      <td>1/1/1900</td>\n",
              "      <td>NaN</td>\n",
              "      <td>NaN</td>\n",
              "      <td>-1.0</td>\n",
              "      <td>-1.0</td>\n",
              "      <td>NaN</td>\n",
              "      <td>NaN</td>\n",
              "      <td>NaN</td>\n",
              "      <td>NaN</td>\n",
              "      <td>NaN</td>\n",
              "      <td>NaN</td>\n",
              "      <td>NaN</td>\n",
              "      <td>NaN</td>\n",
              "      <td>NaN</td>\n",
              "    </tr>\n",
              "    <tr>\n",
              "      <th>8761</th>\n",
              "      <td>1/1/1900</td>\n",
              "      <td>NaN</td>\n",
              "      <td>NaN</td>\n",
              "      <td>NaN</td>\n",
              "      <td>NaN</td>\n",
              "      <td>-1.0</td>\n",
              "      <td>NaN</td>\n",
              "      <td>NaN</td>\n",
              "      <td>NaN</td>\n",
              "      <td>NaN</td>\n",
              "      <td>NaN</td>\n",
              "      <td>NaN</td>\n",
              "      <td>NaN</td>\n",
              "      <td>NaN</td>\n",
              "    </tr>\n",
              "    <tr>\n",
              "      <th>8762</th>\n",
              "      <td>1/1/1900</td>\n",
              "      <td>NaN</td>\n",
              "      <td>NaN</td>\n",
              "      <td>NaN</td>\n",
              "      <td>NaN</td>\n",
              "      <td>NaN</td>\n",
              "      <td>-1.0</td>\n",
              "      <td>NaN</td>\n",
              "      <td>NaN</td>\n",
              "      <td>NaN</td>\n",
              "      <td>NaN</td>\n",
              "      <td>NaN</td>\n",
              "      <td>NaN</td>\n",
              "      <td>NaN</td>\n",
              "    </tr>\n",
              "  </tbody>\n",
              "</table>\n",
              "</div>"
            ],
            "text/plain": [
              "            Date  Rented_Bike_Count  Hour  ...  Seasons     Holiday  Functioning_Day\n",
              "8758  30/11/2018              712.0  22.0  ...   Autumn  No Holiday              Yes\n",
              "8759  30/11/2018              584.0  23.0  ...   Autumn  No Holiday              Yes\n",
              "8760    1/1/1900                NaN   NaN  ...      NaN         NaN              NaN\n",
              "8761    1/1/1900                NaN   NaN  ...      NaN         NaN              NaN\n",
              "8762    1/1/1900                NaN   NaN  ...      NaN         NaN              NaN\n",
              "\n",
              "[5 rows x 14 columns]"
            ]
          },
          "metadata": {
            "tags": []
          },
          "execution_count": 5
        }
      ]
    },
    {
      "cell_type": "code",
      "metadata": {
        "colab": {
          "base_uri": "https://localhost:8080/",
          "height": 406
        },
        "id": "iFyNtg2DgX3J",
        "outputId": "7ddc5d50-7ac1-4fe5-b256-03ec565a58ab"
      },
      "source": [
        "# Remover valores NA: veja que agora o dataset só vai até 8759 linhas. Removemos as 3 últimas.\n",
        "# Para aplicar essa mudança, é preciso usar o parâmetro [ df.dropna(inplace = True) ] ou associar a mudança à variável do seu dataset [ df = df.dropna() ]\n",
        "df.dropna()"
      ],
      "execution_count": null,
      "outputs": [
        {
          "output_type": "execute_result",
          "data": {
            "text/html": [
              "<div>\n",
              "<style scoped>\n",
              "    .dataframe tbody tr th:only-of-type {\n",
              "        vertical-align: middle;\n",
              "    }\n",
              "\n",
              "    .dataframe tbody tr th {\n",
              "        vertical-align: top;\n",
              "    }\n",
              "\n",
              "    .dataframe thead th {\n",
              "        text-align: right;\n",
              "    }\n",
              "</style>\n",
              "<table border=\"1\" class=\"dataframe\">\n",
              "  <thead>\n",
              "    <tr style=\"text-align: right;\">\n",
              "      <th></th>\n",
              "      <th>Date</th>\n",
              "      <th>Rented_Bike_Count</th>\n",
              "      <th>Hour</th>\n",
              "      <th>Temperature_C</th>\n",
              "      <th>Humidity</th>\n",
              "      <th>Wind speed_m/s</th>\n",
              "      <th>Visibility_10m</th>\n",
              "      <th>Dew_point_temp_C</th>\n",
              "      <th>Solar_Radiation_MJ/m2</th>\n",
              "      <th>Rainfall_mm</th>\n",
              "      <th>Snowfall_cm</th>\n",
              "      <th>Seasons</th>\n",
              "      <th>Holiday</th>\n",
              "      <th>Functioning_Day</th>\n",
              "    </tr>\n",
              "  </thead>\n",
              "  <tbody>\n",
              "    <tr>\n",
              "      <th>0</th>\n",
              "      <td>1/12/2017</td>\n",
              "      <td>254.0</td>\n",
              "      <td>0.0</td>\n",
              "      <td>-5.2</td>\n",
              "      <td>37.0</td>\n",
              "      <td>2.2</td>\n",
              "      <td>2000.0</td>\n",
              "      <td>-17.6</td>\n",
              "      <td>0.0</td>\n",
              "      <td>0.0</td>\n",
              "      <td>0.0</td>\n",
              "      <td>Winter</td>\n",
              "      <td>No Holiday</td>\n",
              "      <td>Yes</td>\n",
              "    </tr>\n",
              "    <tr>\n",
              "      <th>1</th>\n",
              "      <td>1/12/2017</td>\n",
              "      <td>204.0</td>\n",
              "      <td>1.0</td>\n",
              "      <td>-5.5</td>\n",
              "      <td>38.0</td>\n",
              "      <td>0.8</td>\n",
              "      <td>2000.0</td>\n",
              "      <td>-17.6</td>\n",
              "      <td>0.0</td>\n",
              "      <td>0.0</td>\n",
              "      <td>0.0</td>\n",
              "      <td>Winter</td>\n",
              "      <td>No Holiday</td>\n",
              "      <td>Yes</td>\n",
              "    </tr>\n",
              "    <tr>\n",
              "      <th>2</th>\n",
              "      <td>1/12/2017</td>\n",
              "      <td>173.0</td>\n",
              "      <td>2.0</td>\n",
              "      <td>-6.0</td>\n",
              "      <td>39.0</td>\n",
              "      <td>1.0</td>\n",
              "      <td>2000.0</td>\n",
              "      <td>-17.7</td>\n",
              "      <td>0.0</td>\n",
              "      <td>0.0</td>\n",
              "      <td>0.0</td>\n",
              "      <td>Winter</td>\n",
              "      <td>No Holiday</td>\n",
              "      <td>Yes</td>\n",
              "    </tr>\n",
              "    <tr>\n",
              "      <th>3</th>\n",
              "      <td>1/12/2017</td>\n",
              "      <td>107.0</td>\n",
              "      <td>3.0</td>\n",
              "      <td>-6.2</td>\n",
              "      <td>40.0</td>\n",
              "      <td>0.9</td>\n",
              "      <td>2000.0</td>\n",
              "      <td>-17.6</td>\n",
              "      <td>0.0</td>\n",
              "      <td>0.0</td>\n",
              "      <td>0.0</td>\n",
              "      <td>Winter</td>\n",
              "      <td>No Holiday</td>\n",
              "      <td>Yes</td>\n",
              "    </tr>\n",
              "    <tr>\n",
              "      <th>4</th>\n",
              "      <td>1/12/2017</td>\n",
              "      <td>78.0</td>\n",
              "      <td>4.0</td>\n",
              "      <td>-6.0</td>\n",
              "      <td>36.0</td>\n",
              "      <td>2.3</td>\n",
              "      <td>2000.0</td>\n",
              "      <td>-18.6</td>\n",
              "      <td>0.0</td>\n",
              "      <td>0.0</td>\n",
              "      <td>0.0</td>\n",
              "      <td>Winter</td>\n",
              "      <td>No Holiday</td>\n",
              "      <td>Yes</td>\n",
              "    </tr>\n",
              "    <tr>\n",
              "      <th>...</th>\n",
              "      <td>...</td>\n",
              "      <td>...</td>\n",
              "      <td>...</td>\n",
              "      <td>...</td>\n",
              "      <td>...</td>\n",
              "      <td>...</td>\n",
              "      <td>...</td>\n",
              "      <td>...</td>\n",
              "      <td>...</td>\n",
              "      <td>...</td>\n",
              "      <td>...</td>\n",
              "      <td>...</td>\n",
              "      <td>...</td>\n",
              "      <td>...</td>\n",
              "    </tr>\n",
              "    <tr>\n",
              "      <th>8755</th>\n",
              "      <td>30/11/2018</td>\n",
              "      <td>1003.0</td>\n",
              "      <td>19.0</td>\n",
              "      <td>4.2</td>\n",
              "      <td>34.0</td>\n",
              "      <td>2.6</td>\n",
              "      <td>1894.0</td>\n",
              "      <td>-10.3</td>\n",
              "      <td>0.0</td>\n",
              "      <td>0.0</td>\n",
              "      <td>0.0</td>\n",
              "      <td>Autumn</td>\n",
              "      <td>No Holiday</td>\n",
              "      <td>Yes</td>\n",
              "    </tr>\n",
              "    <tr>\n",
              "      <th>8756</th>\n",
              "      <td>30/11/2018</td>\n",
              "      <td>764.0</td>\n",
              "      <td>20.0</td>\n",
              "      <td>3.4</td>\n",
              "      <td>37.0</td>\n",
              "      <td>2.3</td>\n",
              "      <td>2000.0</td>\n",
              "      <td>-9.9</td>\n",
              "      <td>0.0</td>\n",
              "      <td>0.0</td>\n",
              "      <td>0.0</td>\n",
              "      <td>Autumn</td>\n",
              "      <td>No Holiday</td>\n",
              "      <td>Yes</td>\n",
              "    </tr>\n",
              "    <tr>\n",
              "      <th>8757</th>\n",
              "      <td>30/11/2018</td>\n",
              "      <td>694.0</td>\n",
              "      <td>21.0</td>\n",
              "      <td>2.6</td>\n",
              "      <td>39.0</td>\n",
              "      <td>0.3</td>\n",
              "      <td>1968.0</td>\n",
              "      <td>-9.9</td>\n",
              "      <td>0.0</td>\n",
              "      <td>0.0</td>\n",
              "      <td>0.0</td>\n",
              "      <td>Autumn</td>\n",
              "      <td>No Holiday</td>\n",
              "      <td>Yes</td>\n",
              "    </tr>\n",
              "    <tr>\n",
              "      <th>8758</th>\n",
              "      <td>30/11/2018</td>\n",
              "      <td>712.0</td>\n",
              "      <td>22.0</td>\n",
              "      <td>2.1</td>\n",
              "      <td>41.0</td>\n",
              "      <td>1.0</td>\n",
              "      <td>1859.0</td>\n",
              "      <td>-9.8</td>\n",
              "      <td>0.0</td>\n",
              "      <td>0.0</td>\n",
              "      <td>0.0</td>\n",
              "      <td>Autumn</td>\n",
              "      <td>No Holiday</td>\n",
              "      <td>Yes</td>\n",
              "    </tr>\n",
              "    <tr>\n",
              "      <th>8759</th>\n",
              "      <td>30/11/2018</td>\n",
              "      <td>584.0</td>\n",
              "      <td>23.0</td>\n",
              "      <td>1.9</td>\n",
              "      <td>43.0</td>\n",
              "      <td>1.3</td>\n",
              "      <td>1909.0</td>\n",
              "      <td>-9.3</td>\n",
              "      <td>0.0</td>\n",
              "      <td>0.0</td>\n",
              "      <td>0.0</td>\n",
              "      <td>Autumn</td>\n",
              "      <td>No Holiday</td>\n",
              "      <td>Yes</td>\n",
              "    </tr>\n",
              "  </tbody>\n",
              "</table>\n",
              "<p>8760 rows × 14 columns</p>\n",
              "</div>"
            ],
            "text/plain": [
              "            Date  Rented_Bike_Count  Hour  ...  Seasons     Holiday  Functioning_Day\n",
              "0      1/12/2017              254.0   0.0  ...   Winter  No Holiday              Yes\n",
              "1      1/12/2017              204.0   1.0  ...   Winter  No Holiday              Yes\n",
              "2      1/12/2017              173.0   2.0  ...   Winter  No Holiday              Yes\n",
              "3      1/12/2017              107.0   3.0  ...   Winter  No Holiday              Yes\n",
              "4      1/12/2017               78.0   4.0  ...   Winter  No Holiday              Yes\n",
              "...          ...                ...   ...  ...      ...         ...              ...\n",
              "8755  30/11/2018             1003.0  19.0  ...   Autumn  No Holiday              Yes\n",
              "8756  30/11/2018              764.0  20.0  ...   Autumn  No Holiday              Yes\n",
              "8757  30/11/2018              694.0  21.0  ...   Autumn  No Holiday              Yes\n",
              "8758  30/11/2018              712.0  22.0  ...   Autumn  No Holiday              Yes\n",
              "8759  30/11/2018              584.0  23.0  ...   Autumn  No Holiday              Yes\n",
              "\n",
              "[8760 rows x 14 columns]"
            ]
          },
          "metadata": {
            "tags": []
          },
          "execution_count": 58
        }
      ]
    },
    {
      "cell_type": "code",
      "metadata": {
        "colab": {
          "base_uri": "https://localhost:8080/",
          "height": 406
        },
        "id": "e0XEiFwWgYDP",
        "outputId": "d680551b-8ea3-4b3c-938d-f2c1c1a111cf"
      },
      "source": [
        "# Removendo linhas\n",
        "# Usa-se uma lista com o índice das linhas a serem removidas e o parâmetro axis=0 (para o Pandas ler o comando por linhas)\n",
        "df.drop([8760, 8761, 8762], axis=0, inplace=True)\n",
        "df"
      ],
      "execution_count": null,
      "outputs": [
        {
          "output_type": "execute_result",
          "data": {
            "text/html": [
              "<div>\n",
              "<style scoped>\n",
              "    .dataframe tbody tr th:only-of-type {\n",
              "        vertical-align: middle;\n",
              "    }\n",
              "\n",
              "    .dataframe tbody tr th {\n",
              "        vertical-align: top;\n",
              "    }\n",
              "\n",
              "    .dataframe thead th {\n",
              "        text-align: right;\n",
              "    }\n",
              "</style>\n",
              "<table border=\"1\" class=\"dataframe\">\n",
              "  <thead>\n",
              "    <tr style=\"text-align: right;\">\n",
              "      <th></th>\n",
              "      <th>Date</th>\n",
              "      <th>Rented_Bike_Count</th>\n",
              "      <th>Hour</th>\n",
              "      <th>Temperature_C</th>\n",
              "      <th>Humidity</th>\n",
              "      <th>Wind speed_m/s</th>\n",
              "      <th>Visibility_10m</th>\n",
              "      <th>Dew_point_temp_C</th>\n",
              "      <th>Solar_Radiation_MJ/m2</th>\n",
              "      <th>Rainfall_mm</th>\n",
              "      <th>Snowfall_cm</th>\n",
              "      <th>Seasons</th>\n",
              "      <th>Holiday</th>\n",
              "      <th>Functioning_Day</th>\n",
              "    </tr>\n",
              "  </thead>\n",
              "  <tbody>\n",
              "    <tr>\n",
              "      <th>0</th>\n",
              "      <td>1/12/2017</td>\n",
              "      <td>254.0</td>\n",
              "      <td>0.0</td>\n",
              "      <td>-5.2</td>\n",
              "      <td>37.0</td>\n",
              "      <td>2.2</td>\n",
              "      <td>2000.0</td>\n",
              "      <td>-17.6</td>\n",
              "      <td>0.0</td>\n",
              "      <td>0.0</td>\n",
              "      <td>0.0</td>\n",
              "      <td>Winter</td>\n",
              "      <td>No Holiday</td>\n",
              "      <td>Yes</td>\n",
              "    </tr>\n",
              "    <tr>\n",
              "      <th>1</th>\n",
              "      <td>1/12/2017</td>\n",
              "      <td>204.0</td>\n",
              "      <td>1.0</td>\n",
              "      <td>-5.5</td>\n",
              "      <td>38.0</td>\n",
              "      <td>0.8</td>\n",
              "      <td>2000.0</td>\n",
              "      <td>-17.6</td>\n",
              "      <td>0.0</td>\n",
              "      <td>0.0</td>\n",
              "      <td>0.0</td>\n",
              "      <td>Winter</td>\n",
              "      <td>No Holiday</td>\n",
              "      <td>Yes</td>\n",
              "    </tr>\n",
              "    <tr>\n",
              "      <th>2</th>\n",
              "      <td>1/12/2017</td>\n",
              "      <td>173.0</td>\n",
              "      <td>2.0</td>\n",
              "      <td>-6.0</td>\n",
              "      <td>39.0</td>\n",
              "      <td>1.0</td>\n",
              "      <td>2000.0</td>\n",
              "      <td>-17.7</td>\n",
              "      <td>0.0</td>\n",
              "      <td>0.0</td>\n",
              "      <td>0.0</td>\n",
              "      <td>Winter</td>\n",
              "      <td>No Holiday</td>\n",
              "      <td>Yes</td>\n",
              "    </tr>\n",
              "    <tr>\n",
              "      <th>3</th>\n",
              "      <td>1/12/2017</td>\n",
              "      <td>107.0</td>\n",
              "      <td>3.0</td>\n",
              "      <td>-6.2</td>\n",
              "      <td>40.0</td>\n",
              "      <td>0.9</td>\n",
              "      <td>2000.0</td>\n",
              "      <td>-17.6</td>\n",
              "      <td>0.0</td>\n",
              "      <td>0.0</td>\n",
              "      <td>0.0</td>\n",
              "      <td>Winter</td>\n",
              "      <td>No Holiday</td>\n",
              "      <td>Yes</td>\n",
              "    </tr>\n",
              "    <tr>\n",
              "      <th>4</th>\n",
              "      <td>1/12/2017</td>\n",
              "      <td>78.0</td>\n",
              "      <td>4.0</td>\n",
              "      <td>-6.0</td>\n",
              "      <td>36.0</td>\n",
              "      <td>2.3</td>\n",
              "      <td>2000.0</td>\n",
              "      <td>-18.6</td>\n",
              "      <td>0.0</td>\n",
              "      <td>0.0</td>\n",
              "      <td>0.0</td>\n",
              "      <td>Winter</td>\n",
              "      <td>No Holiday</td>\n",
              "      <td>Yes</td>\n",
              "    </tr>\n",
              "    <tr>\n",
              "      <th>...</th>\n",
              "      <td>...</td>\n",
              "      <td>...</td>\n",
              "      <td>...</td>\n",
              "      <td>...</td>\n",
              "      <td>...</td>\n",
              "      <td>...</td>\n",
              "      <td>...</td>\n",
              "      <td>...</td>\n",
              "      <td>...</td>\n",
              "      <td>...</td>\n",
              "      <td>...</td>\n",
              "      <td>...</td>\n",
              "      <td>...</td>\n",
              "      <td>...</td>\n",
              "    </tr>\n",
              "    <tr>\n",
              "      <th>8755</th>\n",
              "      <td>30/11/2018</td>\n",
              "      <td>1003.0</td>\n",
              "      <td>19.0</td>\n",
              "      <td>4.2</td>\n",
              "      <td>34.0</td>\n",
              "      <td>2.6</td>\n",
              "      <td>1894.0</td>\n",
              "      <td>-10.3</td>\n",
              "      <td>0.0</td>\n",
              "      <td>0.0</td>\n",
              "      <td>0.0</td>\n",
              "      <td>Autumn</td>\n",
              "      <td>No Holiday</td>\n",
              "      <td>Yes</td>\n",
              "    </tr>\n",
              "    <tr>\n",
              "      <th>8756</th>\n",
              "      <td>30/11/2018</td>\n",
              "      <td>764.0</td>\n",
              "      <td>20.0</td>\n",
              "      <td>3.4</td>\n",
              "      <td>37.0</td>\n",
              "      <td>2.3</td>\n",
              "      <td>2000.0</td>\n",
              "      <td>-9.9</td>\n",
              "      <td>0.0</td>\n",
              "      <td>0.0</td>\n",
              "      <td>0.0</td>\n",
              "      <td>Autumn</td>\n",
              "      <td>No Holiday</td>\n",
              "      <td>Yes</td>\n",
              "    </tr>\n",
              "    <tr>\n",
              "      <th>8757</th>\n",
              "      <td>30/11/2018</td>\n",
              "      <td>694.0</td>\n",
              "      <td>21.0</td>\n",
              "      <td>2.6</td>\n",
              "      <td>39.0</td>\n",
              "      <td>0.3</td>\n",
              "      <td>1968.0</td>\n",
              "      <td>-9.9</td>\n",
              "      <td>0.0</td>\n",
              "      <td>0.0</td>\n",
              "      <td>0.0</td>\n",
              "      <td>Autumn</td>\n",
              "      <td>No Holiday</td>\n",
              "      <td>Yes</td>\n",
              "    </tr>\n",
              "    <tr>\n",
              "      <th>8758</th>\n",
              "      <td>30/11/2018</td>\n",
              "      <td>712.0</td>\n",
              "      <td>22.0</td>\n",
              "      <td>2.1</td>\n",
              "      <td>41.0</td>\n",
              "      <td>1.0</td>\n",
              "      <td>1859.0</td>\n",
              "      <td>-9.8</td>\n",
              "      <td>0.0</td>\n",
              "      <td>0.0</td>\n",
              "      <td>0.0</td>\n",
              "      <td>Autumn</td>\n",
              "      <td>No Holiday</td>\n",
              "      <td>Yes</td>\n",
              "    </tr>\n",
              "    <tr>\n",
              "      <th>8759</th>\n",
              "      <td>30/11/2018</td>\n",
              "      <td>584.0</td>\n",
              "      <td>23.0</td>\n",
              "      <td>1.9</td>\n",
              "      <td>43.0</td>\n",
              "      <td>1.3</td>\n",
              "      <td>1909.0</td>\n",
              "      <td>-9.3</td>\n",
              "      <td>0.0</td>\n",
              "      <td>0.0</td>\n",
              "      <td>0.0</td>\n",
              "      <td>Autumn</td>\n",
              "      <td>No Holiday</td>\n",
              "      <td>Yes</td>\n",
              "    </tr>\n",
              "  </tbody>\n",
              "</table>\n",
              "<p>8760 rows × 14 columns</p>\n",
              "</div>"
            ],
            "text/plain": [
              "            Date  Rented_Bike_Count  Hour  ...  Seasons     Holiday  Functioning_Day\n",
              "0      1/12/2017              254.0   0.0  ...   Winter  No Holiday              Yes\n",
              "1      1/12/2017              204.0   1.0  ...   Winter  No Holiday              Yes\n",
              "2      1/12/2017              173.0   2.0  ...   Winter  No Holiday              Yes\n",
              "3      1/12/2017              107.0   3.0  ...   Winter  No Holiday              Yes\n",
              "4      1/12/2017               78.0   4.0  ...   Winter  No Holiday              Yes\n",
              "...          ...                ...   ...  ...      ...         ...              ...\n",
              "8755  30/11/2018             1003.0  19.0  ...   Autumn  No Holiday              Yes\n",
              "8756  30/11/2018              764.0  20.0  ...   Autumn  No Holiday              Yes\n",
              "8757  30/11/2018              694.0  21.0  ...   Autumn  No Holiday              Yes\n",
              "8758  30/11/2018              712.0  22.0  ...   Autumn  No Holiday              Yes\n",
              "8759  30/11/2018              584.0  23.0  ...   Autumn  No Holiday              Yes\n",
              "\n",
              "[8760 rows x 14 columns]"
            ]
          },
          "metadata": {
            "tags": []
          },
          "execution_count": 6
        }
      ]
    },
    {
      "cell_type": "code",
      "metadata": {
        "colab": {
          "base_uri": "https://localhost:8080/",
          "height": 197
        },
        "id": "nmHzgyZSiHHj",
        "outputId": "69ce5f8f-cdf1-4515-8e98-ee12405c7a65"
      },
      "source": [
        "# INSERIR colunas\n",
        "# Para criar uma nova coluna, é preciso fornecer uma lista ou series com o mesmo tamanho da tabela ao Pandas. Outra opção aplicar alguma operação sobre uma das colunas para criar uma nova (somar, dividir, mapear etc)\n",
        "\n",
        "# Cria uma coluna onde Functioning Day Yes será 1 e No será 0\n",
        "df['Functioning_Day_Binario'] = df.Functioning_Day.map({'Yes':1, 'No':0})\n",
        "df.head()"
      ],
      "execution_count": null,
      "outputs": [
        {
          "output_type": "execute_result",
          "data": {
            "text/html": [
              "<div>\n",
              "<style scoped>\n",
              "    .dataframe tbody tr th:only-of-type {\n",
              "        vertical-align: middle;\n",
              "    }\n",
              "\n",
              "    .dataframe tbody tr th {\n",
              "        vertical-align: top;\n",
              "    }\n",
              "\n",
              "    .dataframe thead th {\n",
              "        text-align: right;\n",
              "    }\n",
              "</style>\n",
              "<table border=\"1\" class=\"dataframe\">\n",
              "  <thead>\n",
              "    <tr style=\"text-align: right;\">\n",
              "      <th></th>\n",
              "      <th>Date</th>\n",
              "      <th>Rented_Bike_Count</th>\n",
              "      <th>Hour</th>\n",
              "      <th>Temperature_C</th>\n",
              "      <th>Humidity</th>\n",
              "      <th>Wind speed_m/s</th>\n",
              "      <th>Visibility_10m</th>\n",
              "      <th>Dew_point_temp_C</th>\n",
              "      <th>Solar_Radiation_MJ/m2</th>\n",
              "      <th>Rainfall_mm</th>\n",
              "      <th>Snowfall_cm</th>\n",
              "      <th>Seasons</th>\n",
              "      <th>Holiday</th>\n",
              "      <th>Functioning_Day</th>\n",
              "      <th>Functioning_Day_Binario</th>\n",
              "    </tr>\n",
              "  </thead>\n",
              "  <tbody>\n",
              "    <tr>\n",
              "      <th>0</th>\n",
              "      <td>1/12/2017</td>\n",
              "      <td>254.0</td>\n",
              "      <td>0.0</td>\n",
              "      <td>-5.2</td>\n",
              "      <td>37.0</td>\n",
              "      <td>2.2</td>\n",
              "      <td>2000.0</td>\n",
              "      <td>-17.6</td>\n",
              "      <td>0.0</td>\n",
              "      <td>0.0</td>\n",
              "      <td>0.0</td>\n",
              "      <td>Winter</td>\n",
              "      <td>No Holiday</td>\n",
              "      <td>Yes</td>\n",
              "      <td>1.0</td>\n",
              "    </tr>\n",
              "    <tr>\n",
              "      <th>1</th>\n",
              "      <td>1/12/2017</td>\n",
              "      <td>204.0</td>\n",
              "      <td>1.0</td>\n",
              "      <td>-5.5</td>\n",
              "      <td>38.0</td>\n",
              "      <td>0.8</td>\n",
              "      <td>2000.0</td>\n",
              "      <td>-17.6</td>\n",
              "      <td>0.0</td>\n",
              "      <td>0.0</td>\n",
              "      <td>0.0</td>\n",
              "      <td>Winter</td>\n",
              "      <td>No Holiday</td>\n",
              "      <td>Yes</td>\n",
              "      <td>1.0</td>\n",
              "    </tr>\n",
              "    <tr>\n",
              "      <th>2</th>\n",
              "      <td>1/12/2017</td>\n",
              "      <td>173.0</td>\n",
              "      <td>2.0</td>\n",
              "      <td>-6.0</td>\n",
              "      <td>39.0</td>\n",
              "      <td>1.0</td>\n",
              "      <td>2000.0</td>\n",
              "      <td>-17.7</td>\n",
              "      <td>0.0</td>\n",
              "      <td>0.0</td>\n",
              "      <td>0.0</td>\n",
              "      <td>Winter</td>\n",
              "      <td>No Holiday</td>\n",
              "      <td>Yes</td>\n",
              "      <td>1.0</td>\n",
              "    </tr>\n",
              "    <tr>\n",
              "      <th>3</th>\n",
              "      <td>1/12/2017</td>\n",
              "      <td>107.0</td>\n",
              "      <td>3.0</td>\n",
              "      <td>-6.2</td>\n",
              "      <td>40.0</td>\n",
              "      <td>0.9</td>\n",
              "      <td>2000.0</td>\n",
              "      <td>-17.6</td>\n",
              "      <td>0.0</td>\n",
              "      <td>0.0</td>\n",
              "      <td>0.0</td>\n",
              "      <td>Winter</td>\n",
              "      <td>No Holiday</td>\n",
              "      <td>Yes</td>\n",
              "      <td>1.0</td>\n",
              "    </tr>\n",
              "    <tr>\n",
              "      <th>4</th>\n",
              "      <td>1/12/2017</td>\n",
              "      <td>78.0</td>\n",
              "      <td>4.0</td>\n",
              "      <td>-6.0</td>\n",
              "      <td>36.0</td>\n",
              "      <td>2.3</td>\n",
              "      <td>2000.0</td>\n",
              "      <td>-18.6</td>\n",
              "      <td>0.0</td>\n",
              "      <td>0.0</td>\n",
              "      <td>0.0</td>\n",
              "      <td>Winter</td>\n",
              "      <td>No Holiday</td>\n",
              "      <td>Yes</td>\n",
              "      <td>1.0</td>\n",
              "    </tr>\n",
              "  </tbody>\n",
              "</table>\n",
              "</div>"
            ],
            "text/plain": [
              "        Date  Rented_Bike_Count  ...  Functioning_Day  Functioning_Day_Binario\n",
              "0  1/12/2017              254.0  ...              Yes                      1.0\n",
              "1  1/12/2017              204.0  ...              Yes                      1.0\n",
              "2  1/12/2017              173.0  ...              Yes                      1.0\n",
              "3  1/12/2017              107.0  ...              Yes                      1.0\n",
              "4  1/12/2017               78.0  ...              Yes                      1.0\n",
              "\n",
              "[5 rows x 15 columns]"
            ]
          },
          "metadata": {
            "tags": []
          },
          "execution_count": 64
        }
      ]
    },
    {
      "cell_type": "code",
      "metadata": {
        "colab": {
          "base_uri": "https://localhost:8080/",
          "height": 406
        },
        "id": "Bd-VMDYviHaT",
        "outputId": "60886f25-1bee-4d48-e894-5f1e8d91288e"
      },
      "source": [
        "# Deletar colunas: fornecemos o nome da coluna ou uma lista de nomes a serem removidos para o método drop()\n",
        "# O parâmetro axis=1 (para o Pandas ler o comando por colunas). Deve-se usar o comando inplace=True para que a mudança seja aplicada\n",
        "df.drop(['Functioning_Day_Binario'], axis=1, inplace=True)"
      ],
      "execution_count": null,
      "outputs": [
        {
          "output_type": "execute_result",
          "data": {
            "text/html": [
              "<div>\n",
              "<style scoped>\n",
              "    .dataframe tbody tr th:only-of-type {\n",
              "        vertical-align: middle;\n",
              "    }\n",
              "\n",
              "    .dataframe tbody tr th {\n",
              "        vertical-align: top;\n",
              "    }\n",
              "\n",
              "    .dataframe thead th {\n",
              "        text-align: right;\n",
              "    }\n",
              "</style>\n",
              "<table border=\"1\" class=\"dataframe\">\n",
              "  <thead>\n",
              "    <tr style=\"text-align: right;\">\n",
              "      <th></th>\n",
              "      <th>Date</th>\n",
              "      <th>Rented_Bike_Count</th>\n",
              "      <th>Hour</th>\n",
              "      <th>Temperature_C</th>\n",
              "      <th>Humidity</th>\n",
              "      <th>Wind speed_m/s</th>\n",
              "      <th>Visibility_10m</th>\n",
              "      <th>Dew_point_temp_C</th>\n",
              "      <th>Solar_Radiation_MJ/m2</th>\n",
              "      <th>Rainfall_mm</th>\n",
              "      <th>Snowfall_cm</th>\n",
              "      <th>Seasons</th>\n",
              "      <th>Holiday</th>\n",
              "      <th>Functioning_Day</th>\n",
              "    </tr>\n",
              "  </thead>\n",
              "  <tbody>\n",
              "    <tr>\n",
              "      <th>0</th>\n",
              "      <td>1/12/2017</td>\n",
              "      <td>254.0</td>\n",
              "      <td>0.0</td>\n",
              "      <td>-5.2</td>\n",
              "      <td>37.0</td>\n",
              "      <td>2.2</td>\n",
              "      <td>2000.0</td>\n",
              "      <td>-17.6</td>\n",
              "      <td>0.0</td>\n",
              "      <td>0.0</td>\n",
              "      <td>0.0</td>\n",
              "      <td>Winter</td>\n",
              "      <td>No Holiday</td>\n",
              "      <td>Yes</td>\n",
              "    </tr>\n",
              "    <tr>\n",
              "      <th>1</th>\n",
              "      <td>1/12/2017</td>\n",
              "      <td>204.0</td>\n",
              "      <td>1.0</td>\n",
              "      <td>-5.5</td>\n",
              "      <td>38.0</td>\n",
              "      <td>0.8</td>\n",
              "      <td>2000.0</td>\n",
              "      <td>-17.6</td>\n",
              "      <td>0.0</td>\n",
              "      <td>0.0</td>\n",
              "      <td>0.0</td>\n",
              "      <td>Winter</td>\n",
              "      <td>No Holiday</td>\n",
              "      <td>Yes</td>\n",
              "    </tr>\n",
              "    <tr>\n",
              "      <th>2</th>\n",
              "      <td>1/12/2017</td>\n",
              "      <td>173.0</td>\n",
              "      <td>2.0</td>\n",
              "      <td>-6.0</td>\n",
              "      <td>39.0</td>\n",
              "      <td>1.0</td>\n",
              "      <td>2000.0</td>\n",
              "      <td>-17.7</td>\n",
              "      <td>0.0</td>\n",
              "      <td>0.0</td>\n",
              "      <td>0.0</td>\n",
              "      <td>Winter</td>\n",
              "      <td>No Holiday</td>\n",
              "      <td>Yes</td>\n",
              "    </tr>\n",
              "    <tr>\n",
              "      <th>3</th>\n",
              "      <td>1/12/2017</td>\n",
              "      <td>107.0</td>\n",
              "      <td>3.0</td>\n",
              "      <td>-6.2</td>\n",
              "      <td>40.0</td>\n",
              "      <td>0.9</td>\n",
              "      <td>2000.0</td>\n",
              "      <td>-17.6</td>\n",
              "      <td>0.0</td>\n",
              "      <td>0.0</td>\n",
              "      <td>0.0</td>\n",
              "      <td>Winter</td>\n",
              "      <td>No Holiday</td>\n",
              "      <td>Yes</td>\n",
              "    </tr>\n",
              "    <tr>\n",
              "      <th>4</th>\n",
              "      <td>1/12/2017</td>\n",
              "      <td>78.0</td>\n",
              "      <td>4.0</td>\n",
              "      <td>-6.0</td>\n",
              "      <td>36.0</td>\n",
              "      <td>2.3</td>\n",
              "      <td>2000.0</td>\n",
              "      <td>-18.6</td>\n",
              "      <td>0.0</td>\n",
              "      <td>0.0</td>\n",
              "      <td>0.0</td>\n",
              "      <td>Winter</td>\n",
              "      <td>No Holiday</td>\n",
              "      <td>Yes</td>\n",
              "    </tr>\n",
              "    <tr>\n",
              "      <th>...</th>\n",
              "      <td>...</td>\n",
              "      <td>...</td>\n",
              "      <td>...</td>\n",
              "      <td>...</td>\n",
              "      <td>...</td>\n",
              "      <td>...</td>\n",
              "      <td>...</td>\n",
              "      <td>...</td>\n",
              "      <td>...</td>\n",
              "      <td>...</td>\n",
              "      <td>...</td>\n",
              "      <td>...</td>\n",
              "      <td>...</td>\n",
              "      <td>...</td>\n",
              "    </tr>\n",
              "    <tr>\n",
              "      <th>8755</th>\n",
              "      <td>30/11/2018</td>\n",
              "      <td>1003.0</td>\n",
              "      <td>19.0</td>\n",
              "      <td>4.2</td>\n",
              "      <td>34.0</td>\n",
              "      <td>2.6</td>\n",
              "      <td>1894.0</td>\n",
              "      <td>-10.3</td>\n",
              "      <td>0.0</td>\n",
              "      <td>0.0</td>\n",
              "      <td>0.0</td>\n",
              "      <td>Autumn</td>\n",
              "      <td>No Holiday</td>\n",
              "      <td>Yes</td>\n",
              "    </tr>\n",
              "    <tr>\n",
              "      <th>8756</th>\n",
              "      <td>30/11/2018</td>\n",
              "      <td>764.0</td>\n",
              "      <td>20.0</td>\n",
              "      <td>3.4</td>\n",
              "      <td>37.0</td>\n",
              "      <td>2.3</td>\n",
              "      <td>2000.0</td>\n",
              "      <td>-9.9</td>\n",
              "      <td>0.0</td>\n",
              "      <td>0.0</td>\n",
              "      <td>0.0</td>\n",
              "      <td>Autumn</td>\n",
              "      <td>No Holiday</td>\n",
              "      <td>Yes</td>\n",
              "    </tr>\n",
              "    <tr>\n",
              "      <th>8757</th>\n",
              "      <td>30/11/2018</td>\n",
              "      <td>694.0</td>\n",
              "      <td>21.0</td>\n",
              "      <td>2.6</td>\n",
              "      <td>39.0</td>\n",
              "      <td>0.3</td>\n",
              "      <td>1968.0</td>\n",
              "      <td>-9.9</td>\n",
              "      <td>0.0</td>\n",
              "      <td>0.0</td>\n",
              "      <td>0.0</td>\n",
              "      <td>Autumn</td>\n",
              "      <td>No Holiday</td>\n",
              "      <td>Yes</td>\n",
              "    </tr>\n",
              "    <tr>\n",
              "      <th>8758</th>\n",
              "      <td>30/11/2018</td>\n",
              "      <td>712.0</td>\n",
              "      <td>22.0</td>\n",
              "      <td>2.1</td>\n",
              "      <td>41.0</td>\n",
              "      <td>1.0</td>\n",
              "      <td>1859.0</td>\n",
              "      <td>-9.8</td>\n",
              "      <td>0.0</td>\n",
              "      <td>0.0</td>\n",
              "      <td>0.0</td>\n",
              "      <td>Autumn</td>\n",
              "      <td>No Holiday</td>\n",
              "      <td>Yes</td>\n",
              "    </tr>\n",
              "    <tr>\n",
              "      <th>8759</th>\n",
              "      <td>30/11/2018</td>\n",
              "      <td>584.0</td>\n",
              "      <td>23.0</td>\n",
              "      <td>1.9</td>\n",
              "      <td>43.0</td>\n",
              "      <td>1.3</td>\n",
              "      <td>1909.0</td>\n",
              "      <td>-9.3</td>\n",
              "      <td>0.0</td>\n",
              "      <td>0.0</td>\n",
              "      <td>0.0</td>\n",
              "      <td>Autumn</td>\n",
              "      <td>No Holiday</td>\n",
              "      <td>Yes</td>\n",
              "    </tr>\n",
              "  </tbody>\n",
              "</table>\n",
              "<p>8760 rows × 14 columns</p>\n",
              "</div>"
            ],
            "text/plain": [
              "            Date  Rented_Bike_Count  Hour  ...  Seasons     Holiday  Functioning_Day\n",
              "0      1/12/2017              254.0   0.0  ...   Winter  No Holiday              Yes\n",
              "1      1/12/2017              204.0   1.0  ...   Winter  No Holiday              Yes\n",
              "2      1/12/2017              173.0   2.0  ...   Winter  No Holiday              Yes\n",
              "3      1/12/2017              107.0   3.0  ...   Winter  No Holiday              Yes\n",
              "4      1/12/2017               78.0   4.0  ...   Winter  No Holiday              Yes\n",
              "...          ...                ...   ...  ...      ...         ...              ...\n",
              "8755  30/11/2018             1003.0  19.0  ...   Autumn  No Holiday              Yes\n",
              "8756  30/11/2018              764.0  20.0  ...   Autumn  No Holiday              Yes\n",
              "8757  30/11/2018              694.0  21.0  ...   Autumn  No Holiday              Yes\n",
              "8758  30/11/2018              712.0  22.0  ...   Autumn  No Holiday              Yes\n",
              "8759  30/11/2018              584.0  23.0  ...   Autumn  No Holiday              Yes\n",
              "\n",
              "[8760 rows x 14 columns]"
            ]
          },
          "metadata": {
            "tags": []
          },
          "execution_count": 68
        }
      ]
    },
    {
      "cell_type": "markdown",
      "metadata": {
        "id": "l7eKZ_NbZVjV"
      },
      "source": [
        "### **Agrupamentos**"
      ]
    },
    {
      "cell_type": "markdown",
      "metadata": {
        "id": "wMABmZaeak61"
      },
      "source": [
        "O Excel nos permite agrupar dados de uma maneira rápida e fácil com os cliques nos filtros, talvez aliados à função SUBTOTAL.\n",
        "\n",
        "Já no Pandas, a melhor maneira de agrupar dados é usando a função *groupby( )*. A função groupby requer o uso de um método de agregação. Afinal, se estamos agrupando os dados, temos que informar ao computador, como vamos agregar os valores: contagem, soma, média, mediana, desvio padrão."
      ]
    },
    {
      "cell_type": "code",
      "metadata": {
        "colab": {
          "base_uri": "https://localhost:8080/",
          "height": 197
        },
        "id": "HDRYXVsPZISy",
        "outputId": "e40d2de9-15bb-41a7-b337-0599e46cb5e3"
      },
      "source": [
        "# Vamos agrupar dados por estação do ano (Seasons)\n",
        "df.groupby('Seasons').count()"
      ],
      "execution_count": null,
      "outputs": [
        {
          "output_type": "execute_result",
          "data": {
            "text/html": [
              "<div>\n",
              "<style scoped>\n",
              "    .dataframe tbody tr th:only-of-type {\n",
              "        vertical-align: middle;\n",
              "    }\n",
              "\n",
              "    .dataframe tbody tr th {\n",
              "        vertical-align: top;\n",
              "    }\n",
              "\n",
              "    .dataframe thead th {\n",
              "        text-align: right;\n",
              "    }\n",
              "</style>\n",
              "<table border=\"1\" class=\"dataframe\">\n",
              "  <thead>\n",
              "    <tr style=\"text-align: right;\">\n",
              "      <th></th>\n",
              "      <th>Date</th>\n",
              "      <th>Rented_Bike_Count</th>\n",
              "      <th>Hour</th>\n",
              "      <th>Temperature_C</th>\n",
              "      <th>Humidity</th>\n",
              "      <th>Wind speed_m/s</th>\n",
              "      <th>Visibility_10m</th>\n",
              "      <th>Dew_point_temp_C</th>\n",
              "      <th>Solar_Radiation_MJ/m2</th>\n",
              "      <th>Rainfall_mm</th>\n",
              "      <th>Snowfall_cm</th>\n",
              "      <th>Holiday</th>\n",
              "      <th>Functioning_Day</th>\n",
              "    </tr>\n",
              "    <tr>\n",
              "      <th>Seasons</th>\n",
              "      <th></th>\n",
              "      <th></th>\n",
              "      <th></th>\n",
              "      <th></th>\n",
              "      <th></th>\n",
              "      <th></th>\n",
              "      <th></th>\n",
              "      <th></th>\n",
              "      <th></th>\n",
              "      <th></th>\n",
              "      <th></th>\n",
              "      <th></th>\n",
              "      <th></th>\n",
              "    </tr>\n",
              "  </thead>\n",
              "  <tbody>\n",
              "    <tr>\n",
              "      <th>Autumn</th>\n",
              "      <td>2184</td>\n",
              "      <td>2184</td>\n",
              "      <td>2184</td>\n",
              "      <td>2184</td>\n",
              "      <td>2184</td>\n",
              "      <td>2184</td>\n",
              "      <td>2184</td>\n",
              "      <td>2184</td>\n",
              "      <td>2184</td>\n",
              "      <td>2184</td>\n",
              "      <td>2184</td>\n",
              "      <td>2184</td>\n",
              "      <td>2184</td>\n",
              "    </tr>\n",
              "    <tr>\n",
              "      <th>Spring</th>\n",
              "      <td>2208</td>\n",
              "      <td>2208</td>\n",
              "      <td>2208</td>\n",
              "      <td>2208</td>\n",
              "      <td>2208</td>\n",
              "      <td>2208</td>\n",
              "      <td>2208</td>\n",
              "      <td>2208</td>\n",
              "      <td>2208</td>\n",
              "      <td>2208</td>\n",
              "      <td>2208</td>\n",
              "      <td>2208</td>\n",
              "      <td>2208</td>\n",
              "    </tr>\n",
              "    <tr>\n",
              "      <th>Summer</th>\n",
              "      <td>2208</td>\n",
              "      <td>2208</td>\n",
              "      <td>2208</td>\n",
              "      <td>2208</td>\n",
              "      <td>2208</td>\n",
              "      <td>2208</td>\n",
              "      <td>2208</td>\n",
              "      <td>2208</td>\n",
              "      <td>2208</td>\n",
              "      <td>2208</td>\n",
              "      <td>2208</td>\n",
              "      <td>2208</td>\n",
              "      <td>2208</td>\n",
              "    </tr>\n",
              "    <tr>\n",
              "      <th>Winter</th>\n",
              "      <td>2160</td>\n",
              "      <td>2160</td>\n",
              "      <td>2160</td>\n",
              "      <td>2160</td>\n",
              "      <td>2160</td>\n",
              "      <td>2160</td>\n",
              "      <td>2160</td>\n",
              "      <td>2160</td>\n",
              "      <td>2160</td>\n",
              "      <td>2160</td>\n",
              "      <td>2160</td>\n",
              "      <td>2160</td>\n",
              "      <td>2160</td>\n",
              "    </tr>\n",
              "  </tbody>\n",
              "</table>\n",
              "</div>"
            ],
            "text/plain": [
              "         Date  Rented_Bike_Count  Hour  ...  Snowfall_cm  Holiday  Functioning_Day\n",
              "Seasons                                 ...                                       \n",
              "Autumn   2184               2184  2184  ...         2184     2184             2184\n",
              "Spring   2208               2208  2208  ...         2208     2208             2208\n",
              "Summer   2208               2208  2208  ...         2208     2208             2208\n",
              "Winter   2160               2160  2160  ...         2160     2160             2160\n",
              "\n",
              "[4 rows x 13 columns]"
            ]
          },
          "metadata": {
            "tags": []
          },
          "execution_count": 45
        }
      ]
    },
    {
      "cell_type": "markdown",
      "metadata": {
        "id": "ioRT6YYEcLY4"
      },
      "source": [
        "O método groupby ganha maior poder quando sabemos fatiar melhor, escolhendo as colunas que queremos agrupar e o tipo de agregação a ser feita, de modo a receber um resultado mais limpo na tela e mais fácil de extrair os insights."
      ]
    },
    {
      "cell_type": "code",
      "metadata": {
        "colab": {
          "base_uri": "https://localhost:8080/"
        },
        "id": "dc05c7vcbI38",
        "outputId": "a86ece61-9a9f-4e9e-d97f-1ebd4a0cee5e"
      },
      "source": [
        "# Se quero saber qual é a estação que tenho quantidade de bicicletas alugadas, devo agrupar por Seasons e somar as Bike Rented Count\n",
        "df.groupby('Seasons')['Rented_Bike_Count'].sum() "
      ],
      "execution_count": null,
      "outputs": [
        {
          "output_type": "execute_result",
          "data": {
            "text/plain": [
              "Seasons\n",
              "Autumn    1790002.0\n",
              "Spring    1611909.0\n",
              "Summer    2283234.0\n",
              "Winter     487169.0\n",
              "Name: Rented_Bike_Count, dtype: float64"
            ]
          },
          "metadata": {
            "tags": []
          },
          "execution_count": 69
        }
      ]
    },
    {
      "cell_type": "code",
      "metadata": {
        "colab": {
          "base_uri": "https://localhost:8080/"
        },
        "id": "rB-Y-5fsqkIj",
        "outputId": "fd6053c2-d0c8-4cbf-cf68-8560a1498c4b"
      },
      "source": [
        "# Qual é a hora do dia em que se aluga mais bicicletas?\n",
        "# Agruparemos por Hour e somamos Rented Bike Count\n",
        "df.groupby('Hour').Rented_Bike_Count.sum()"
      ],
      "execution_count": null,
      "outputs": [
        {
          "output_type": "execute_result",
          "data": {
            "text/plain": [
              "Hour\n",
              "0.0     197633.0\n",
              "1.0     155557.0\n",
              "2.0     110095.0\n",
              "3.0      74216.0\n",
              "4.0      48396.0\n",
              "5.0      50765.0\n",
              "6.0     104961.0\n",
              "7.0     221192.0\n",
              "8.0     370731.0\n",
              "9.0     235784.0\n",
              "10.0    192655.0\n",
              "11.0    219311.0\n",
              "12.0    255296.0\n",
              "13.0    267635.0\n",
              "14.0    276971.0\n",
              "15.0    302653.0\n",
              "16.0    339677.0\n",
              "17.0    415556.0\n",
              "18.0    548568.0\n",
              "19.0    436229.0\n",
              "20.0    390172.0\n",
              "21.0    376479.0\n",
              "22.0    336821.0\n",
              "23.0    244961.0\n",
              "Name: Rented_Bike_Count, dtype: float64"
            ]
          },
          "metadata": {
            "tags": []
          },
          "execution_count": 76
        }
      ]
    },
    {
      "cell_type": "code",
      "metadata": {
        "colab": {
          "base_uri": "https://localhost:8080/",
          "height": 278
        },
        "id": "yDOb7mGhrGjp",
        "outputId": "a4a0e134-39ed-40da-a541-ec62bfa8a703"
      },
      "source": [
        "# Conteúdo Extra: Plotando e interpretando o gráfico de linha\n",
        "df.groupby('Hour').Rented_Bike_Count.sum().plot();"
      ],
      "execution_count": null,
      "outputs": [
        {
          "output_type": "display_data",
          "data": {
            "image/png": "[encoded data removed]",
            "text/plain": [
              "<Figure size 432x288 with 1 Axes>"
            ]
          },
          "metadata": {
            "tags": [],
            "needs_background": "light"
          }
        }
      ]
    },
    {
      "cell_type": "markdown",
      "metadata": {
        "id": "xXsE5-cauG8B"
      },
      "source": [
        "Vemos que os aluguéis caem durante a madrugada. No começo do dia, vão aumentando até o pico às 8hs. Depois de uma queda, volta a subir no final da manhã, se extendendo até o pico do dia às 18hs. \n",
        "\n",
        "Veja que os picos são nos horários de rush de trabalho."
      ]
    },
    {
      "cell_type": "markdown",
      "metadata": {
        "id": "uN5ujrkautHF"
      },
      "source": [
        "### **Calcular Dados Estatísticos**"
      ]
    },
    {
      "cell_type": "markdown",
      "metadata": {
        "id": "2aDu3KmNu0qQ"
      },
      "source": [
        "Durante a análise exploratória de dados, saber calcular e interpretar a estatística descritiva pode ajudar no entendimento do problema de negócios e em sua solução."
      ]
    },
    {
      "cell_type": "code",
      "metadata": {
        "colab": {
          "base_uri": "https://localhost:8080/"
        },
        "id": "bWjYPQytu0G7",
        "outputId": "1182a6b7-a484-435e-cd85-b6f339ccb62a"
      },
      "source": [
        "# Cálculo de média, mediana, desvio padrão\n",
        "# Todas essas medidas podem ser calculadas por coluna usando métodos do Pandas.\n",
        "# Média Bikes alugadas\n",
        "media = df.Rented_Bike_Count.mean()\n",
        "# Mediana Bikes alugadas\n",
        "mediana = df.Rented_Bike_Count.median()\n",
        "# Desvio Padrão Bikes alugadas\n",
        "desvio = df.Rented_Bike_Count.std()\n",
        "# Valor mínimo\n",
        "minimo = df.Rented_Bike_Count.min()\n",
        "# Valor máximo\n",
        "maximo = df.Rented_Bike_Count.max()\n",
        "\n",
        "# Print dos dados\n",
        "print('Média:', media)\n",
        "print('Médiana:', mediana)\n",
        "print('Desvio Padrão:', desvio)\n",
        "print('Mínimo:', minimo)\n",
        "print('Máximo:', maximo)"
      ],
      "execution_count": null,
      "outputs": [
        {
          "output_type": "stream",
          "text": [
            "Média: 704.6020547945205\n",
            "Médiana: 504.5\n",
            "Desvio Padrão: 644.9974677392172\n",
            "Mínimo: 0.0\n",
            "Máximo: 3556.0\n"
          ],
          "name": "stdout"
        }
      ]
    },
    {
      "cell_type": "code",
      "metadata": {
        "colab": {
          "base_uri": "https://localhost:8080/",
          "height": 287
        },
        "id": "9RrZu5s_uETw",
        "outputId": "fdb62fcc-8753-40f5-f956-0ec63f962d97"
      },
      "source": [
        "# Existe um jeito mais fácil de visualizar essas informações para todas as colunas numéricas com apenas o comando describe\n",
        "df.describe()"
      ],
      "execution_count": null,
      "outputs": [
        {
          "output_type": "execute_result",
          "data": {
            "text/html": [
              "<div>\n",
              "<style scoped>\n",
              "    .dataframe tbody tr th:only-of-type {\n",
              "        vertical-align: middle;\n",
              "    }\n",
              "\n",
              "    .dataframe tbody tr th {\n",
              "        vertical-align: top;\n",
              "    }\n",
              "\n",
              "    .dataframe thead th {\n",
              "        text-align: right;\n",
              "    }\n",
              "</style>\n",
              "<table border=\"1\" class=\"dataframe\">\n",
              "  <thead>\n",
              "    <tr style=\"text-align: right;\">\n",
              "      <th></th>\n",
              "      <th>Rented_Bike_Count</th>\n",
              "      <th>Hour</th>\n",
              "      <th>Temperature_C</th>\n",
              "      <th>Humidity</th>\n",
              "      <th>Wind speed_m/s</th>\n",
              "      <th>Visibility_10m</th>\n",
              "      <th>Dew_point_temp_C</th>\n",
              "      <th>Solar_Radiation_MJ/m2</th>\n",
              "      <th>Rainfall_mm</th>\n",
              "      <th>Snowfall_cm</th>\n",
              "    </tr>\n",
              "  </thead>\n",
              "  <tbody>\n",
              "    <tr>\n",
              "      <th>count</th>\n",
              "      <td>8760.000000</td>\n",
              "      <td>8760.000000</td>\n",
              "      <td>8760.000000</td>\n",
              "      <td>8760.000000</td>\n",
              "      <td>8760.000000</td>\n",
              "      <td>8760.000000</td>\n",
              "      <td>8760.000000</td>\n",
              "      <td>8760.000000</td>\n",
              "      <td>8760.000000</td>\n",
              "      <td>8760.000000</td>\n",
              "    </tr>\n",
              "    <tr>\n",
              "      <th>mean</th>\n",
              "      <td>704.602055</td>\n",
              "      <td>11.500000</td>\n",
              "      <td>12.882922</td>\n",
              "      <td>58.226256</td>\n",
              "      <td>1.724909</td>\n",
              "      <td>1436.825799</td>\n",
              "      <td>4.073813</td>\n",
              "      <td>0.569111</td>\n",
              "      <td>0.148687</td>\n",
              "      <td>0.075068</td>\n",
              "    </tr>\n",
              "    <tr>\n",
              "      <th>std</th>\n",
              "      <td>644.997468</td>\n",
              "      <td>6.922582</td>\n",
              "      <td>11.944825</td>\n",
              "      <td>20.362413</td>\n",
              "      <td>1.036300</td>\n",
              "      <td>608.298712</td>\n",
              "      <td>13.060369</td>\n",
              "      <td>0.868746</td>\n",
              "      <td>1.128193</td>\n",
              "      <td>0.436746</td>\n",
              "    </tr>\n",
              "    <tr>\n",
              "      <th>min</th>\n",
              "      <td>0.000000</td>\n",
              "      <td>0.000000</td>\n",
              "      <td>-17.800000</td>\n",
              "      <td>0.000000</td>\n",
              "      <td>0.000000</td>\n",
              "      <td>27.000000</td>\n",
              "      <td>-30.600000</td>\n",
              "      <td>0.000000</td>\n",
              "      <td>0.000000</td>\n",
              "      <td>0.000000</td>\n",
              "    </tr>\n",
              "    <tr>\n",
              "      <th>25%</th>\n",
              "      <td>191.000000</td>\n",
              "      <td>5.750000</td>\n",
              "      <td>3.500000</td>\n",
              "      <td>42.000000</td>\n",
              "      <td>0.900000</td>\n",
              "      <td>940.000000</td>\n",
              "      <td>-4.700000</td>\n",
              "      <td>0.000000</td>\n",
              "      <td>0.000000</td>\n",
              "      <td>0.000000</td>\n",
              "    </tr>\n",
              "    <tr>\n",
              "      <th>50%</th>\n",
              "      <td>504.500000</td>\n",
              "      <td>11.500000</td>\n",
              "      <td>13.700000</td>\n",
              "      <td>57.000000</td>\n",
              "      <td>1.500000</td>\n",
              "      <td>1698.000000</td>\n",
              "      <td>5.100000</td>\n",
              "      <td>0.010000</td>\n",
              "      <td>0.000000</td>\n",
              "      <td>0.000000</td>\n",
              "    </tr>\n",
              "    <tr>\n",
              "      <th>75%</th>\n",
              "      <td>1065.250000</td>\n",
              "      <td>17.250000</td>\n",
              "      <td>22.500000</td>\n",
              "      <td>74.000000</td>\n",
              "      <td>2.300000</td>\n",
              "      <td>2000.000000</td>\n",
              "      <td>14.800000</td>\n",
              "      <td>0.930000</td>\n",
              "      <td>0.000000</td>\n",
              "      <td>0.000000</td>\n",
              "    </tr>\n",
              "    <tr>\n",
              "      <th>max</th>\n",
              "      <td>3556.000000</td>\n",
              "      <td>23.000000</td>\n",
              "      <td>39.400000</td>\n",
              "      <td>98.000000</td>\n",
              "      <td>7.400000</td>\n",
              "      <td>2000.000000</td>\n",
              "      <td>27.200000</td>\n",
              "      <td>3.520000</td>\n",
              "      <td>35.000000</td>\n",
              "      <td>8.800000</td>\n",
              "    </tr>\n",
              "  </tbody>\n",
              "</table>\n",
              "</div>"
            ],
            "text/plain": [
              "       Rented_Bike_Count         Hour  ...  Rainfall_mm  Snowfall_cm\n",
              "count        8760.000000  8760.000000  ...  8760.000000  8760.000000\n",
              "mean          704.602055    11.500000  ...     0.148687     0.075068\n",
              "std           644.997468     6.922582  ...     1.128193     0.436746\n",
              "min             0.000000     0.000000  ...     0.000000     0.000000\n",
              "25%           191.000000     5.750000  ...     0.000000     0.000000\n",
              "50%           504.500000    11.500000  ...     0.000000     0.000000\n",
              "75%          1065.250000    17.250000  ...     0.000000     0.000000\n",
              "max          3556.000000    23.000000  ...    35.000000     8.800000\n",
              "\n",
              "[8 rows x 10 columns]"
            ]
          },
          "metadata": {
            "tags": []
          },
          "execution_count": 81
        }
      ]
    },
    {
      "cell_type": "markdown",
      "metadata": {
        "id": "Ch8I3ZNxxc2y"
      },
      "source": [
        "Veja como o comando acima é rico em informações. Podemos extrair alguns bons insights apenas olhando para essa tabela:\n",
        "* A média de bikes alugadas por dia é de 704, porém há uma grande variação de 644;\n",
        "* A temperatura média é de 12 graus, também com uma boa amplitude térmica, sendo que o desvio padrão aqui é de praticamente 12 graus. Será que a temperatura afeta o número de bikes alugadas?\n",
        "* A quantidade de chuvas e neve é baixa, mas a humidade do ar é razoável ao longo do ano."
      ]
    },
    {
      "cell_type": "code",
      "metadata": {
        "colab": {
          "base_uri": "https://localhost:8080/",
          "height": 167
        },
        "id": "mSuS16hgwlBU",
        "outputId": "bc2e5b46-4d57-4f18-f372-e9c716b13a12"
      },
      "source": [
        "# Verificando dados para colunas não numéricas\n",
        "df.describe(include='object')"
      ],
      "execution_count": null,
      "outputs": [
        {
          "output_type": "execute_result",
          "data": {
            "text/html": [
              "<div>\n",
              "<style scoped>\n",
              "    .dataframe tbody tr th:only-of-type {\n",
              "        vertical-align: middle;\n",
              "    }\n",
              "\n",
              "    .dataframe tbody tr th {\n",
              "        vertical-align: top;\n",
              "    }\n",
              "\n",
              "    .dataframe thead th {\n",
              "        text-align: right;\n",
              "    }\n",
              "</style>\n",
              "<table border=\"1\" class=\"dataframe\">\n",
              "  <thead>\n",
              "    <tr style=\"text-align: right;\">\n",
              "      <th></th>\n",
              "      <th>Date</th>\n",
              "      <th>Seasons</th>\n",
              "      <th>Holiday</th>\n",
              "      <th>Functioning_Day</th>\n",
              "    </tr>\n",
              "  </thead>\n",
              "  <tbody>\n",
              "    <tr>\n",
              "      <th>count</th>\n",
              "      <td>8760</td>\n",
              "      <td>8760</td>\n",
              "      <td>8760</td>\n",
              "      <td>8760</td>\n",
              "    </tr>\n",
              "    <tr>\n",
              "      <th>unique</th>\n",
              "      <td>365</td>\n",
              "      <td>4</td>\n",
              "      <td>2</td>\n",
              "      <td>2</td>\n",
              "    </tr>\n",
              "    <tr>\n",
              "      <th>top</th>\n",
              "      <td>9/7/2018</td>\n",
              "      <td>Summer</td>\n",
              "      <td>No Holiday</td>\n",
              "      <td>Yes</td>\n",
              "    </tr>\n",
              "    <tr>\n",
              "      <th>freq</th>\n",
              "      <td>24</td>\n",
              "      <td>2208</td>\n",
              "      <td>8328</td>\n",
              "      <td>8465</td>\n",
              "    </tr>\n",
              "  </tbody>\n",
              "</table>\n",
              "</div>"
            ],
            "text/plain": [
              "            Date Seasons     Holiday Functioning_Day\n",
              "count       8760    8760        8760            8760\n",
              "unique       365       4           2               2\n",
              "top     9/7/2018  Summer  No Holiday             Yes\n",
              "freq          24    2208        8328            8465"
            ]
          },
          "metadata": {
            "tags": []
          },
          "execution_count": 82
        }
      ]
    },
    {
      "cell_type": "markdown",
      "metadata": {
        "id": "0uqxkwmN0ll_"
      },
      "source": [
        "### **Condicional Lógico IF**"
      ]
    },
    {
      "cell_type": "markdown",
      "metadata": {
        "id": "u4fgPLBo1a3q"
      },
      "source": [
        "A fórmula IF do Excel é, sem dúvida, muito utilizada. Com ela, podemos criar novas colunas para contagem ou para filtrar dados.\n",
        "\n",
        "Nas linguagens de programação, a cláusula IF é uma das pedras fundamentais de sua lógica, possibilitando-nos de criar programações simples e complexas.\n",
        "Vou mostrar algumas maneiras que julgo serem mais fáceis de usar condicional, mas existem diversas maneiras de fazer essas operações."
      ]
    },
    {
      "cell_type": "code",
      "metadata": {
        "colab": {
          "base_uri": "https://localhost:8080/",
          "height": 197
        },
        "id": "cYm-iDTgwrSk",
        "outputId": "52623738-b73e-4650-ebd2-3113d09ed0bd"
      },
      "source": [
        "df.head()"
      ],
      "execution_count": null,
      "outputs": [
        {
          "output_type": "execute_result",
          "data": {
            "text/html": [
              "<div>\n",
              "<style scoped>\n",
              "    .dataframe tbody tr th:only-of-type {\n",
              "        vertical-align: middle;\n",
              "    }\n",
              "\n",
              "    .dataframe tbody tr th {\n",
              "        vertical-align: top;\n",
              "    }\n",
              "\n",
              "    .dataframe thead th {\n",
              "        text-align: right;\n",
              "    }\n",
              "</style>\n",
              "<table border=\"1\" class=\"dataframe\">\n",
              "  <thead>\n",
              "    <tr style=\"text-align: right;\">\n",
              "      <th></th>\n",
              "      <th>Date</th>\n",
              "      <th>Rented_Bike_Count</th>\n",
              "      <th>Hour</th>\n",
              "      <th>Temperature_C</th>\n",
              "      <th>Humidity</th>\n",
              "      <th>Wind speed_m/s</th>\n",
              "      <th>Visibility_10m</th>\n",
              "      <th>Dew_point_temp_C</th>\n",
              "      <th>Solar_Radiation_MJ/m2</th>\n",
              "      <th>Rainfall_mm</th>\n",
              "      <th>Snowfall_cm</th>\n",
              "      <th>Seasons</th>\n",
              "      <th>Holiday</th>\n",
              "      <th>Functioning_Day</th>\n",
              "    </tr>\n",
              "  </thead>\n",
              "  <tbody>\n",
              "    <tr>\n",
              "      <th>0</th>\n",
              "      <td>1/12/2017</td>\n",
              "      <td>254.0</td>\n",
              "      <td>0.0</td>\n",
              "      <td>-5.2</td>\n",
              "      <td>37.0</td>\n",
              "      <td>2.2</td>\n",
              "      <td>2000.0</td>\n",
              "      <td>-17.6</td>\n",
              "      <td>0.0</td>\n",
              "      <td>0.0</td>\n",
              "      <td>0.0</td>\n",
              "      <td>Winter</td>\n",
              "      <td>No Holiday</td>\n",
              "      <td>Yes</td>\n",
              "    </tr>\n",
              "    <tr>\n",
              "      <th>1</th>\n",
              "      <td>1/12/2017</td>\n",
              "      <td>204.0</td>\n",
              "      <td>1.0</td>\n",
              "      <td>-5.5</td>\n",
              "      <td>38.0</td>\n",
              "      <td>0.8</td>\n",
              "      <td>2000.0</td>\n",
              "      <td>-17.6</td>\n",
              "      <td>0.0</td>\n",
              "      <td>0.0</td>\n",
              "      <td>0.0</td>\n",
              "      <td>Winter</td>\n",
              "      <td>No Holiday</td>\n",
              "      <td>Yes</td>\n",
              "    </tr>\n",
              "    <tr>\n",
              "      <th>2</th>\n",
              "      <td>1/12/2017</td>\n",
              "      <td>173.0</td>\n",
              "      <td>2.0</td>\n",
              "      <td>-6.0</td>\n",
              "      <td>39.0</td>\n",
              "      <td>1.0</td>\n",
              "      <td>2000.0</td>\n",
              "      <td>-17.7</td>\n",
              "      <td>0.0</td>\n",
              "      <td>0.0</td>\n",
              "      <td>0.0</td>\n",
              "      <td>Winter</td>\n",
              "      <td>No Holiday</td>\n",
              "      <td>Yes</td>\n",
              "    </tr>\n",
              "    <tr>\n",
              "      <th>3</th>\n",
              "      <td>1/12/2017</td>\n",
              "      <td>107.0</td>\n",
              "      <td>3.0</td>\n",
              "      <td>-6.2</td>\n",
              "      <td>40.0</td>\n",
              "      <td>0.9</td>\n",
              "      <td>2000.0</td>\n",
              "      <td>-17.6</td>\n",
              "      <td>0.0</td>\n",
              "      <td>0.0</td>\n",
              "      <td>0.0</td>\n",
              "      <td>Winter</td>\n",
              "      <td>No Holiday</td>\n",
              "      <td>Yes</td>\n",
              "    </tr>\n",
              "    <tr>\n",
              "      <th>4</th>\n",
              "      <td>1/12/2017</td>\n",
              "      <td>78.0</td>\n",
              "      <td>4.0</td>\n",
              "      <td>-6.0</td>\n",
              "      <td>36.0</td>\n",
              "      <td>2.3</td>\n",
              "      <td>2000.0</td>\n",
              "      <td>-18.6</td>\n",
              "      <td>0.0</td>\n",
              "      <td>0.0</td>\n",
              "      <td>0.0</td>\n",
              "      <td>Winter</td>\n",
              "      <td>No Holiday</td>\n",
              "      <td>Yes</td>\n",
              "    </tr>\n",
              "  </tbody>\n",
              "</table>\n",
              "</div>"
            ],
            "text/plain": [
              "        Date  Rented_Bike_Count  Hour  ...  Seasons     Holiday  Functioning_Day\n",
              "0  1/12/2017              254.0   0.0  ...   Winter  No Holiday              Yes\n",
              "1  1/12/2017              204.0   1.0  ...   Winter  No Holiday              Yes\n",
              "2  1/12/2017              173.0   2.0  ...   Winter  No Holiday              Yes\n",
              "3  1/12/2017              107.0   3.0  ...   Winter  No Holiday              Yes\n",
              "4  1/12/2017               78.0   4.0  ...   Winter  No Holiday              Yes\n",
              "\n",
              "[5 rows x 14 columns]"
            ]
          },
          "metadata": {
            "tags": []
          },
          "execution_count": 84
        }
      ]
    },
    {
      "cell_type": "code",
      "metadata": {
        "colab": {
          "base_uri": "https://localhost:8080/",
          "height": 406
        },
        "id": "L-jR1akn2N2K",
        "outputId": "a2ed56db-3e26-496b-9e19-281bf8ea8dbe"
      },
      "source": [
        "# Usamos o método where do Numpy para criar condicionais binários\n",
        "df['Temp_Negativa'] = np.where( df.Temperature_C < 0,  'Negativa' , 'Positiva') \n",
        "df"
      ],
      "execution_count": null,
      "outputs": [
        {
          "output_type": "execute_result",
          "data": {
            "text/html": [
              "<div>\n",
              "<style scoped>\n",
              "    .dataframe tbody tr th:only-of-type {\n",
              "        vertical-align: middle;\n",
              "    }\n",
              "\n",
              "    .dataframe tbody tr th {\n",
              "        vertical-align: top;\n",
              "    }\n",
              "\n",
              "    .dataframe thead th {\n",
              "        text-align: right;\n",
              "    }\n",
              "</style>\n",
              "<table border=\"1\" class=\"dataframe\">\n",
              "  <thead>\n",
              "    <tr style=\"text-align: right;\">\n",
              "      <th></th>\n",
              "      <th>Date</th>\n",
              "      <th>Rented_Bike_Count</th>\n",
              "      <th>Hour</th>\n",
              "      <th>Temperature_C</th>\n",
              "      <th>Humidity</th>\n",
              "      <th>Wind speed_m/s</th>\n",
              "      <th>Visibility_10m</th>\n",
              "      <th>Dew_point_temp_C</th>\n",
              "      <th>Solar_Radiation_MJ/m2</th>\n",
              "      <th>Rainfall_mm</th>\n",
              "      <th>Snowfall_cm</th>\n",
              "      <th>Seasons</th>\n",
              "      <th>Holiday</th>\n",
              "      <th>Functioning_Day</th>\n",
              "      <th>Temp_Negativa</th>\n",
              "    </tr>\n",
              "  </thead>\n",
              "  <tbody>\n",
              "    <tr>\n",
              "      <th>0</th>\n",
              "      <td>1/12/2017</td>\n",
              "      <td>254.0</td>\n",
              "      <td>0.0</td>\n",
              "      <td>-5.2</td>\n",
              "      <td>37.0</td>\n",
              "      <td>2.2</td>\n",
              "      <td>2000.0</td>\n",
              "      <td>-17.6</td>\n",
              "      <td>0.0</td>\n",
              "      <td>0.0</td>\n",
              "      <td>0.0</td>\n",
              "      <td>Winter</td>\n",
              "      <td>No Holiday</td>\n",
              "      <td>Yes</td>\n",
              "      <td>Negativa</td>\n",
              "    </tr>\n",
              "    <tr>\n",
              "      <th>1</th>\n",
              "      <td>1/12/2017</td>\n",
              "      <td>204.0</td>\n",
              "      <td>1.0</td>\n",
              "      <td>-5.5</td>\n",
              "      <td>38.0</td>\n",
              "      <td>0.8</td>\n",
              "      <td>2000.0</td>\n",
              "      <td>-17.6</td>\n",
              "      <td>0.0</td>\n",
              "      <td>0.0</td>\n",
              "      <td>0.0</td>\n",
              "      <td>Winter</td>\n",
              "      <td>No Holiday</td>\n",
              "      <td>Yes</td>\n",
              "      <td>Negativa</td>\n",
              "    </tr>\n",
              "    <tr>\n",
              "      <th>2</th>\n",
              "      <td>1/12/2017</td>\n",
              "      <td>173.0</td>\n",
              "      <td>2.0</td>\n",
              "      <td>-6.0</td>\n",
              "      <td>39.0</td>\n",
              "      <td>1.0</td>\n",
              "      <td>2000.0</td>\n",
              "      <td>-17.7</td>\n",
              "      <td>0.0</td>\n",
              "      <td>0.0</td>\n",
              "      <td>0.0</td>\n",
              "      <td>Winter</td>\n",
              "      <td>No Holiday</td>\n",
              "      <td>Yes</td>\n",
              "      <td>Negativa</td>\n",
              "    </tr>\n",
              "    <tr>\n",
              "      <th>3</th>\n",
              "      <td>1/12/2017</td>\n",
              "      <td>107.0</td>\n",
              "      <td>3.0</td>\n",
              "      <td>-6.2</td>\n",
              "      <td>40.0</td>\n",
              "      <td>0.9</td>\n",
              "      <td>2000.0</td>\n",
              "      <td>-17.6</td>\n",
              "      <td>0.0</td>\n",
              "      <td>0.0</td>\n",
              "      <td>0.0</td>\n",
              "      <td>Winter</td>\n",
              "      <td>No Holiday</td>\n",
              "      <td>Yes</td>\n",
              "      <td>Negativa</td>\n",
              "    </tr>\n",
              "    <tr>\n",
              "      <th>4</th>\n",
              "      <td>1/12/2017</td>\n",
              "      <td>78.0</td>\n",
              "      <td>4.0</td>\n",
              "      <td>-6.0</td>\n",
              "      <td>36.0</td>\n",
              "      <td>2.3</td>\n",
              "      <td>2000.0</td>\n",
              "      <td>-18.6</td>\n",
              "      <td>0.0</td>\n",
              "      <td>0.0</td>\n",
              "      <td>0.0</td>\n",
              "      <td>Winter</td>\n",
              "      <td>No Holiday</td>\n",
              "      <td>Yes</td>\n",
              "      <td>Negativa</td>\n",
              "    </tr>\n",
              "    <tr>\n",
              "      <th>...</th>\n",
              "      <td>...</td>\n",
              "      <td>...</td>\n",
              "      <td>...</td>\n",
              "      <td>...</td>\n",
              "      <td>...</td>\n",
              "      <td>...</td>\n",
              "      <td>...</td>\n",
              "      <td>...</td>\n",
              "      <td>...</td>\n",
              "      <td>...</td>\n",
              "      <td>...</td>\n",
              "      <td>...</td>\n",
              "      <td>...</td>\n",
              "      <td>...</td>\n",
              "      <td>...</td>\n",
              "    </tr>\n",
              "    <tr>\n",
              "      <th>8755</th>\n",
              "      <td>30/11/2018</td>\n",
              "      <td>1003.0</td>\n",
              "      <td>19.0</td>\n",
              "      <td>4.2</td>\n",
              "      <td>34.0</td>\n",
              "      <td>2.6</td>\n",
              "      <td>1894.0</td>\n",
              "      <td>-10.3</td>\n",
              "      <td>0.0</td>\n",
              "      <td>0.0</td>\n",
              "      <td>0.0</td>\n",
              "      <td>Autumn</td>\n",
              "      <td>No Holiday</td>\n",
              "      <td>Yes</td>\n",
              "      <td>Positiva</td>\n",
              "    </tr>\n",
              "    <tr>\n",
              "      <th>8756</th>\n",
              "      <td>30/11/2018</td>\n",
              "      <td>764.0</td>\n",
              "      <td>20.0</td>\n",
              "      <td>3.4</td>\n",
              "      <td>37.0</td>\n",
              "      <td>2.3</td>\n",
              "      <td>2000.0</td>\n",
              "      <td>-9.9</td>\n",
              "      <td>0.0</td>\n",
              "      <td>0.0</td>\n",
              "      <td>0.0</td>\n",
              "      <td>Autumn</td>\n",
              "      <td>No Holiday</td>\n",
              "      <td>Yes</td>\n",
              "      <td>Positiva</td>\n",
              "    </tr>\n",
              "    <tr>\n",
              "      <th>8757</th>\n",
              "      <td>30/11/2018</td>\n",
              "      <td>694.0</td>\n",
              "      <td>21.0</td>\n",
              "      <td>2.6</td>\n",
              "      <td>39.0</td>\n",
              "      <td>0.3</td>\n",
              "      <td>1968.0</td>\n",
              "      <td>-9.9</td>\n",
              "      <td>0.0</td>\n",
              "      <td>0.0</td>\n",
              "      <td>0.0</td>\n",
              "      <td>Autumn</td>\n",
              "      <td>No Holiday</td>\n",
              "      <td>Yes</td>\n",
              "      <td>Positiva</td>\n",
              "    </tr>\n",
              "    <tr>\n",
              "      <th>8758</th>\n",
              "      <td>30/11/2018</td>\n",
              "      <td>712.0</td>\n",
              "      <td>22.0</td>\n",
              "      <td>2.1</td>\n",
              "      <td>41.0</td>\n",
              "      <td>1.0</td>\n",
              "      <td>1859.0</td>\n",
              "      <td>-9.8</td>\n",
              "      <td>0.0</td>\n",
              "      <td>0.0</td>\n",
              "      <td>0.0</td>\n",
              "      <td>Autumn</td>\n",
              "      <td>No Holiday</td>\n",
              "      <td>Yes</td>\n",
              "      <td>Positiva</td>\n",
              "    </tr>\n",
              "    <tr>\n",
              "      <th>8759</th>\n",
              "      <td>30/11/2018</td>\n",
              "      <td>584.0</td>\n",
              "      <td>23.0</td>\n",
              "      <td>1.9</td>\n",
              "      <td>43.0</td>\n",
              "      <td>1.3</td>\n",
              "      <td>1909.0</td>\n",
              "      <td>-9.3</td>\n",
              "      <td>0.0</td>\n",
              "      <td>0.0</td>\n",
              "      <td>0.0</td>\n",
              "      <td>Autumn</td>\n",
              "      <td>No Holiday</td>\n",
              "      <td>Yes</td>\n",
              "      <td>Positiva</td>\n",
              "    </tr>\n",
              "  </tbody>\n",
              "</table>\n",
              "<p>8760 rows × 15 columns</p>\n",
              "</div>"
            ],
            "text/plain": [
              "            Date  Rented_Bike_Count  ...  Functioning_Day  Temp_Negativa\n",
              "0      1/12/2017              254.0  ...              Yes       Negativa\n",
              "1      1/12/2017              204.0  ...              Yes       Negativa\n",
              "2      1/12/2017              173.0  ...              Yes       Negativa\n",
              "3      1/12/2017              107.0  ...              Yes       Negativa\n",
              "4      1/12/2017               78.0  ...              Yes       Negativa\n",
              "...          ...                ...  ...              ...            ...\n",
              "8755  30/11/2018             1003.0  ...              Yes       Positiva\n",
              "8756  30/11/2018              764.0  ...              Yes       Positiva\n",
              "8757  30/11/2018              694.0  ...              Yes       Positiva\n",
              "8758  30/11/2018              712.0  ...              Yes       Positiva\n",
              "8759  30/11/2018              584.0  ...              Yes       Positiva\n",
              "\n",
              "[8760 rows x 15 columns]"
            ]
          },
          "metadata": {
            "tags": []
          },
          "execution_count": 105
        }
      ]
    },
    {
      "cell_type": "code",
      "metadata": {
        "id": "9Zbfx-n15TCS"
      },
      "source": [
        "# Podemos agregar vários condicionais, assim como fazemos com o IF no Excel\n",
        "df['Temp_'] = np.where( df.Temperature_C < 0,  'Negativa' , np.where(df.Temperature_C <= 25, 'Normal', 'Alta') )"
      ],
      "execution_count": null,
      "outputs": []
    },
    {
      "cell_type": "markdown",
      "metadata": {
        "id": "ItXtXfka7ahd"
      },
      "source": [
        "### **Criar um DataFrame e Preencher Valores NA**"
      ]
    },
    {
      "cell_type": "code",
      "metadata": {
        "colab": {
          "base_uri": "https://localhost:8080/",
          "height": 227
        },
        "id": "5rWKfsai6J9u",
        "outputId": "5016895d-1813-4876-9edc-714af1a32c89"
      },
      "source": [
        "# Criando um DataFrame com valores NA\n",
        "Colunas = ['Produto', 'Categoria','Quantidade','Preço']\n",
        "Linhas = [ ['P1', 'Fruta', 1,5.99], ['P2', 'Fruta', np.nan,2.99],['P3', 'Bebida', np.nan,],['P4', np.nan, 5,5.99],['P4', np.nan, 5,1.99],['P4', np.nan, 5,3.99] ]\n",
        "data = pd.DataFrame(Linhas, columns=Colunas)\n",
        "data"
      ],
      "execution_count": null,
      "outputs": [
        {
          "output_type": "execute_result",
          "data": {
            "text/html": [
              "<div>\n",
              "<style scoped>\n",
              "    .dataframe tbody tr th:only-of-type {\n",
              "        vertical-align: middle;\n",
              "    }\n",
              "\n",
              "    .dataframe tbody tr th {\n",
              "        vertical-align: top;\n",
              "    }\n",
              "\n",
              "    .dataframe thead th {\n",
              "        text-align: right;\n",
              "    }\n",
              "</style>\n",
              "<table border=\"1\" class=\"dataframe\">\n",
              "  <thead>\n",
              "    <tr style=\"text-align: right;\">\n",
              "      <th></th>\n",
              "      <th>Produto</th>\n",
              "      <th>Categoria</th>\n",
              "      <th>Quantidade</th>\n",
              "      <th>Preço</th>\n",
              "    </tr>\n",
              "  </thead>\n",
              "  <tbody>\n",
              "    <tr>\n",
              "      <th>0</th>\n",
              "      <td>P1</td>\n",
              "      <td>Fruta</td>\n",
              "      <td>1.0</td>\n",
              "      <td>5.99</td>\n",
              "    </tr>\n",
              "    <tr>\n",
              "      <th>1</th>\n",
              "      <td>P2</td>\n",
              "      <td>Fruta</td>\n",
              "      <td>NaN</td>\n",
              "      <td>2.99</td>\n",
              "    </tr>\n",
              "    <tr>\n",
              "      <th>2</th>\n",
              "      <td>P3</td>\n",
              "      <td>Bebida</td>\n",
              "      <td>NaN</td>\n",
              "      <td>NaN</td>\n",
              "    </tr>\n",
              "    <tr>\n",
              "      <th>3</th>\n",
              "      <td>P4</td>\n",
              "      <td>NaN</td>\n",
              "      <td>5.0</td>\n",
              "      <td>5.99</td>\n",
              "    </tr>\n",
              "    <tr>\n",
              "      <th>4</th>\n",
              "      <td>P4</td>\n",
              "      <td>NaN</td>\n",
              "      <td>5.0</td>\n",
              "      <td>1.99</td>\n",
              "    </tr>\n",
              "    <tr>\n",
              "      <th>5</th>\n",
              "      <td>P4</td>\n",
              "      <td>NaN</td>\n",
              "      <td>5.0</td>\n",
              "      <td>3.99</td>\n",
              "    </tr>\n",
              "  </tbody>\n",
              "</table>\n",
              "</div>"
            ],
            "text/plain": [
              "  Produto Categoria  Quantidade  Preço\n",
              "0      P1     Fruta         1.0   5.99\n",
              "1      P2     Fruta         NaN   2.99\n",
              "2      P3    Bebida         NaN    NaN\n",
              "3      P4       NaN         5.0   5.99\n",
              "4      P4       NaN         5.0   1.99\n",
              "5      P4       NaN         5.0   3.99"
            ]
          },
          "metadata": {
            "tags": []
          },
          "execution_count": 153
        }
      ]
    },
    {
      "cell_type": "markdown",
      "metadata": {
        "id": "fDbuegQOPQZN"
      },
      "source": [
        "Podemos preencher todos os valores NA com zero. Entretanto, sabemos que esse valor não será interessante em colunas categóricas."
      ]
    },
    {
      "cell_type": "code",
      "metadata": {
        "colab": {
          "base_uri": "https://localhost:8080/",
          "height": 227
        },
        "id": "DhBCLB-RL-LY",
        "outputId": "e8fc08d0-8bbe-4388-c5cb-41b469c46bcc"
      },
      "source": [
        "# Preencher Valores NA com zero\n",
        "data.fillna(0)"
      ],
      "execution_count": null,
      "outputs": [
        {
          "output_type": "execute_result",
          "data": {
            "text/html": [
              "<div>\n",
              "<style scoped>\n",
              "    .dataframe tbody tr th:only-of-type {\n",
              "        vertical-align: middle;\n",
              "    }\n",
              "\n",
              "    .dataframe tbody tr th {\n",
              "        vertical-align: top;\n",
              "    }\n",
              "\n",
              "    .dataframe thead th {\n",
              "        text-align: right;\n",
              "    }\n",
              "</style>\n",
              "<table border=\"1\" class=\"dataframe\">\n",
              "  <thead>\n",
              "    <tr style=\"text-align: right;\">\n",
              "      <th></th>\n",
              "      <th>Produto</th>\n",
              "      <th>Categoria</th>\n",
              "      <th>Quantidade</th>\n",
              "      <th>Preço</th>\n",
              "    </tr>\n",
              "  </thead>\n",
              "  <tbody>\n",
              "    <tr>\n",
              "      <th>0</th>\n",
              "      <td>P1</td>\n",
              "      <td>Fruta</td>\n",
              "      <td>1.0</td>\n",
              "      <td>5.99</td>\n",
              "    </tr>\n",
              "    <tr>\n",
              "      <th>1</th>\n",
              "      <td>P2</td>\n",
              "      <td>Fruta</td>\n",
              "      <td>0.0</td>\n",
              "      <td>2.99</td>\n",
              "    </tr>\n",
              "    <tr>\n",
              "      <th>2</th>\n",
              "      <td>P3</td>\n",
              "      <td>Bebida</td>\n",
              "      <td>0.0</td>\n",
              "      <td>0.00</td>\n",
              "    </tr>\n",
              "    <tr>\n",
              "      <th>3</th>\n",
              "      <td>P4</td>\n",
              "      <td>0</td>\n",
              "      <td>5.0</td>\n",
              "      <td>5.99</td>\n",
              "    </tr>\n",
              "    <tr>\n",
              "      <th>4</th>\n",
              "      <td>P4</td>\n",
              "      <td>0</td>\n",
              "      <td>5.0</td>\n",
              "      <td>1.99</td>\n",
              "    </tr>\n",
              "    <tr>\n",
              "      <th>5</th>\n",
              "      <td>P4</td>\n",
              "      <td>0</td>\n",
              "      <td>5.0</td>\n",
              "      <td>3.99</td>\n",
              "    </tr>\n",
              "  </tbody>\n",
              "</table>\n",
              "</div>"
            ],
            "text/plain": [
              "  Produto Categoria  Quantidade  Preço\n",
              "0      P1     Fruta         1.0   5.99\n",
              "1      P2     Fruta         0.0   2.99\n",
              "2      P3    Bebida         0.0   0.00\n",
              "3      P4         0         5.0   5.99\n",
              "4      P4         0         5.0   1.99\n",
              "5      P4         0         5.0   3.99"
            ]
          },
          "metadata": {
            "tags": []
          },
          "execution_count": 154
        }
      ]
    },
    {
      "cell_type": "markdown",
      "metadata": {
        "id": "DkhfW2AhPd8r"
      },
      "source": [
        "Podemos preencher com a média para a quantidade e com o valor mais frequente para a coluna categórica."
      ]
    },
    {
      "cell_type": "code",
      "metadata": {
        "colab": {
          "base_uri": "https://localhost:8080/",
          "height": 227
        },
        "id": "bSqwubHqO1KA",
        "outputId": "45c07540-bb04-4fd5-da1b-757eca3e05c1"
      },
      "source": [
        "# Preenchendo valores numéricos com a média. Perceba que ele já calcula a média de cada coluna\n",
        "data.fillna(data.mean())"
      ],
      "execution_count": null,
      "outputs": [
        {
          "output_type": "execute_result",
          "data": {
            "text/html": [
              "<div>\n",
              "<style scoped>\n",
              "    .dataframe tbody tr th:only-of-type {\n",
              "        vertical-align: middle;\n",
              "    }\n",
              "\n",
              "    .dataframe tbody tr th {\n",
              "        vertical-align: top;\n",
              "    }\n",
              "\n",
              "    .dataframe thead th {\n",
              "        text-align: right;\n",
              "    }\n",
              "</style>\n",
              "<table border=\"1\" class=\"dataframe\">\n",
              "  <thead>\n",
              "    <tr style=\"text-align: right;\">\n",
              "      <th></th>\n",
              "      <th>Produto</th>\n",
              "      <th>Categoria</th>\n",
              "      <th>Quantidade</th>\n",
              "      <th>Preço</th>\n",
              "    </tr>\n",
              "  </thead>\n",
              "  <tbody>\n",
              "    <tr>\n",
              "      <th>0</th>\n",
              "      <td>P1</td>\n",
              "      <td>Fruta</td>\n",
              "      <td>1.0</td>\n",
              "      <td>5.99</td>\n",
              "    </tr>\n",
              "    <tr>\n",
              "      <th>1</th>\n",
              "      <td>P2</td>\n",
              "      <td>Fruta</td>\n",
              "      <td>4.0</td>\n",
              "      <td>2.99</td>\n",
              "    </tr>\n",
              "    <tr>\n",
              "      <th>2</th>\n",
              "      <td>P3</td>\n",
              "      <td>Bebida</td>\n",
              "      <td>4.0</td>\n",
              "      <td>4.19</td>\n",
              "    </tr>\n",
              "    <tr>\n",
              "      <th>3</th>\n",
              "      <td>P4</td>\n",
              "      <td>NaN</td>\n",
              "      <td>5.0</td>\n",
              "      <td>5.99</td>\n",
              "    </tr>\n",
              "    <tr>\n",
              "      <th>4</th>\n",
              "      <td>P4</td>\n",
              "      <td>NaN</td>\n",
              "      <td>5.0</td>\n",
              "      <td>1.99</td>\n",
              "    </tr>\n",
              "    <tr>\n",
              "      <th>5</th>\n",
              "      <td>P4</td>\n",
              "      <td>NaN</td>\n",
              "      <td>5.0</td>\n",
              "      <td>3.99</td>\n",
              "    </tr>\n",
              "  </tbody>\n",
              "</table>\n",
              "</div>"
            ],
            "text/plain": [
              "  Produto Categoria  Quantidade  Preço\n",
              "0      P1     Fruta         1.0   5.99\n",
              "1      P2     Fruta         4.0   2.99\n",
              "2      P3    Bebida         4.0   4.19\n",
              "3      P4       NaN         5.0   5.99\n",
              "4      P4       NaN         5.0   1.99\n",
              "5      P4       NaN         5.0   3.99"
            ]
          },
          "metadata": {
            "tags": []
          },
          "execution_count": 155
        }
      ]
    },
    {
      "cell_type": "code",
      "metadata": {
        "colab": {
          "base_uri": "https://localhost:8080/",
          "height": 227
        },
        "id": "yI4BLP3dPyCj",
        "outputId": "3cdccbc8-76a1-47d3-c438-9a52cf487188"
      },
      "source": [
        "# Preenchendo os valores com o último valor conhecido da coluna : \"Bebida\"\n",
        "# bfill = pad / ffill: copia a última observação válida para o próximo NA \n",
        "# backfill / bfill: usa a próxima observação válida para preencher a lacuna anterior.\n",
        "data.fillna(method='ffill')"
      ],
      "execution_count": null,
      "outputs": [
        {
          "output_type": "execute_result",
          "data": {
            "text/html": [
              "<div>\n",
              "<style scoped>\n",
              "    .dataframe tbody tr th:only-of-type {\n",
              "        vertical-align: middle;\n",
              "    }\n",
              "\n",
              "    .dataframe tbody tr th {\n",
              "        vertical-align: top;\n",
              "    }\n",
              "\n",
              "    .dataframe thead th {\n",
              "        text-align: right;\n",
              "    }\n",
              "</style>\n",
              "<table border=\"1\" class=\"dataframe\">\n",
              "  <thead>\n",
              "    <tr style=\"text-align: right;\">\n",
              "      <th></th>\n",
              "      <th>Produto</th>\n",
              "      <th>Categoria</th>\n",
              "      <th>Quantidade</th>\n",
              "      <th>Preço</th>\n",
              "    </tr>\n",
              "  </thead>\n",
              "  <tbody>\n",
              "    <tr>\n",
              "      <th>0</th>\n",
              "      <td>P1</td>\n",
              "      <td>Fruta</td>\n",
              "      <td>1.0</td>\n",
              "      <td>5.99</td>\n",
              "    </tr>\n",
              "    <tr>\n",
              "      <th>1</th>\n",
              "      <td>P2</td>\n",
              "      <td>Fruta</td>\n",
              "      <td>1.0</td>\n",
              "      <td>2.99</td>\n",
              "    </tr>\n",
              "    <tr>\n",
              "      <th>2</th>\n",
              "      <td>P3</td>\n",
              "      <td>Bebida</td>\n",
              "      <td>1.0</td>\n",
              "      <td>2.99</td>\n",
              "    </tr>\n",
              "    <tr>\n",
              "      <th>3</th>\n",
              "      <td>P4</td>\n",
              "      <td>Bebida</td>\n",
              "      <td>5.0</td>\n",
              "      <td>5.99</td>\n",
              "    </tr>\n",
              "    <tr>\n",
              "      <th>4</th>\n",
              "      <td>P4</td>\n",
              "      <td>Bebida</td>\n",
              "      <td>5.0</td>\n",
              "      <td>1.99</td>\n",
              "    </tr>\n",
              "    <tr>\n",
              "      <th>5</th>\n",
              "      <td>P4</td>\n",
              "      <td>Bebida</td>\n",
              "      <td>5.0</td>\n",
              "      <td>3.99</td>\n",
              "    </tr>\n",
              "  </tbody>\n",
              "</table>\n",
              "</div>"
            ],
            "text/plain": [
              "  Produto Categoria  Quantidade  Preço\n",
              "0      P1     Fruta         1.0   5.99\n",
              "1      P2     Fruta         1.0   2.99\n",
              "2      P3    Bebida         1.0   2.99\n",
              "3      P4    Bebida         5.0   5.99\n",
              "4      P4    Bebida         5.0   1.99\n",
              "5      P4    Bebida         5.0   3.99"
            ]
          },
          "metadata": {
            "tags": []
          },
          "execution_count": 160
        }
      ]
    },
    {
      "cell_type": "markdown",
      "metadata": {
        "id": "TdkUKaIiSNPP"
      },
      "source": [
        "### **Realizar VLookup**"
      ]
    },
    {
      "cell_type": "markdown",
      "metadata": {
        "id": "Is2Mg5K3UZS4"
      },
      "source": [
        "VLookup, também conhecido como ProcV ou busca de valores em colunas (na Vertical) é uma das funções mais conhecidas do Excel, já que possibilita juntar informações de várias tabelas em uma única planilha. Em resumo, oferecemos um valor ao Excel e pedimos para ele retornar o próprio valor ou um valor associado a ele.\n",
        "\n",
        "O Pandas não possui uma função específica para VLookup, mas podemos simular o mesmo comportamento usando linguagem Python ou as funções prontas do Pandas."
      ]
    },
    {
      "cell_type": "code",
      "metadata": {
        "id": "5LMnRHUXRp5D"
      },
      "source": [
        "# Função customizada VLookup\n",
        "def VLookup(Valores, ColBusca, ColRetorna):\n",
        "  '''Função que simula o VLookup do Excel\n",
        "  ---\n",
        "  Inputs:\n",
        "  * Valores : lista de valores. Mesmo que usar apenas um valor, use formato de lista [1], ['a',2,'g'] \n",
        "  * ColBusca : Pandas Series. Coluna onde seus valores devem ser buscados.\n",
        "  * ColRetorna : Pandas series. Indica a coluna com os valores a serem retornados\n",
        "  \n",
        "  e.g.\n",
        "  VLookup([3,4,5], df.coluna1, df.coluna2)'''\n",
        "\n",
        "  resultado = [ ColRetorna[i] if ColBusca[i] in Valores else np.nan for i in range( len(ColBusca) ) ]\n",
        "  return resultado"
      ],
      "execution_count": null,
      "outputs": []
    },
    {
      "cell_type": "code",
      "metadata": {
        "colab": {
          "base_uri": "https://localhost:8080/",
          "height": 197
        },
        "id": "tZ5edIIsVhyS",
        "outputId": "afaa9f1b-791a-45c9-a969-dd8bd3710d3a"
      },
      "source": [
        "# Criando nova coluna com a função\n",
        "df['VLOOKUP'] = VLookup([254, 204, 107], df.Rented_Bike_Count, df.Temperature_C)\n",
        "df.head()"
      ],
      "execution_count": null,
      "outputs": [
        {
          "output_type": "execute_result",
          "data": {
            "text/html": [
              "<div>\n",
              "<style scoped>\n",
              "    .dataframe tbody tr th:only-of-type {\n",
              "        vertical-align: middle;\n",
              "    }\n",
              "\n",
              "    .dataframe tbody tr th {\n",
              "        vertical-align: top;\n",
              "    }\n",
              "\n",
              "    .dataframe thead th {\n",
              "        text-align: right;\n",
              "    }\n",
              "</style>\n",
              "<table border=\"1\" class=\"dataframe\">\n",
              "  <thead>\n",
              "    <tr style=\"text-align: right;\">\n",
              "      <th></th>\n",
              "      <th>Date</th>\n",
              "      <th>Rented_Bike_Count</th>\n",
              "      <th>Hour</th>\n",
              "      <th>Temperature_C</th>\n",
              "      <th>Humidity</th>\n",
              "      <th>Wind speed_m/s</th>\n",
              "      <th>Visibility_10m</th>\n",
              "      <th>Dew_point_temp_C</th>\n",
              "      <th>Solar_Radiation_MJ/m2</th>\n",
              "      <th>Rainfall_mm</th>\n",
              "      <th>Snowfall_cm</th>\n",
              "      <th>Seasons</th>\n",
              "      <th>Holiday</th>\n",
              "      <th>Functioning_Day</th>\n",
              "      <th>VLOOKUP</th>\n",
              "    </tr>\n",
              "  </thead>\n",
              "  <tbody>\n",
              "    <tr>\n",
              "      <th>0</th>\n",
              "      <td>1/12/2017</td>\n",
              "      <td>254.0</td>\n",
              "      <td>0.0</td>\n",
              "      <td>-5.2</td>\n",
              "      <td>37.0</td>\n",
              "      <td>2.2</td>\n",
              "      <td>2000.0</td>\n",
              "      <td>-17.6</td>\n",
              "      <td>0.0</td>\n",
              "      <td>0.0</td>\n",
              "      <td>0.0</td>\n",
              "      <td>Winter</td>\n",
              "      <td>No Holiday</td>\n",
              "      <td>Yes</td>\n",
              "      <td>-5.2</td>\n",
              "    </tr>\n",
              "    <tr>\n",
              "      <th>1</th>\n",
              "      <td>1/12/2017</td>\n",
              "      <td>204.0</td>\n",
              "      <td>1.0</td>\n",
              "      <td>-5.5</td>\n",
              "      <td>38.0</td>\n",
              "      <td>0.8</td>\n",
              "      <td>2000.0</td>\n",
              "      <td>-17.6</td>\n",
              "      <td>0.0</td>\n",
              "      <td>0.0</td>\n",
              "      <td>0.0</td>\n",
              "      <td>Winter</td>\n",
              "      <td>No Holiday</td>\n",
              "      <td>Yes</td>\n",
              "      <td>-5.5</td>\n",
              "    </tr>\n",
              "    <tr>\n",
              "      <th>2</th>\n",
              "      <td>1/12/2017</td>\n",
              "      <td>173.0</td>\n",
              "      <td>2.0</td>\n",
              "      <td>-6.0</td>\n",
              "      <td>39.0</td>\n",
              "      <td>1.0</td>\n",
              "      <td>2000.0</td>\n",
              "      <td>-17.7</td>\n",
              "      <td>0.0</td>\n",
              "      <td>0.0</td>\n",
              "      <td>0.0</td>\n",
              "      <td>Winter</td>\n",
              "      <td>No Holiday</td>\n",
              "      <td>Yes</td>\n",
              "      <td>NaN</td>\n",
              "    </tr>\n",
              "    <tr>\n",
              "      <th>3</th>\n",
              "      <td>1/12/2017</td>\n",
              "      <td>107.0</td>\n",
              "      <td>3.0</td>\n",
              "      <td>-6.2</td>\n",
              "      <td>40.0</td>\n",
              "      <td>0.9</td>\n",
              "      <td>2000.0</td>\n",
              "      <td>-17.6</td>\n",
              "      <td>0.0</td>\n",
              "      <td>0.0</td>\n",
              "      <td>0.0</td>\n",
              "      <td>Winter</td>\n",
              "      <td>No Holiday</td>\n",
              "      <td>Yes</td>\n",
              "      <td>-6.2</td>\n",
              "    </tr>\n",
              "    <tr>\n",
              "      <th>4</th>\n",
              "      <td>1/12/2017</td>\n",
              "      <td>78.0</td>\n",
              "      <td>4.0</td>\n",
              "      <td>-6.0</td>\n",
              "      <td>36.0</td>\n",
              "      <td>2.3</td>\n",
              "      <td>2000.0</td>\n",
              "      <td>-18.6</td>\n",
              "      <td>0.0</td>\n",
              "      <td>0.0</td>\n",
              "      <td>0.0</td>\n",
              "      <td>Winter</td>\n",
              "      <td>No Holiday</td>\n",
              "      <td>Yes</td>\n",
              "      <td>NaN</td>\n",
              "    </tr>\n",
              "  </tbody>\n",
              "</table>\n",
              "</div>"
            ],
            "text/plain": [
              "        Date  Rented_Bike_Count  Hour  ...     Holiday  Functioning_Day  VLOOKUP\n",
              "0  1/12/2017              254.0   0.0  ...  No Holiday              Yes     -5.2\n",
              "1  1/12/2017              204.0   1.0  ...  No Holiday              Yes     -5.5\n",
              "2  1/12/2017              173.0   2.0  ...  No Holiday              Yes      NaN\n",
              "3  1/12/2017              107.0   3.0  ...  No Holiday              Yes     -6.2\n",
              "4  1/12/2017               78.0   4.0  ...  No Holiday              Yes      NaN\n",
              "\n",
              "[5 rows x 15 columns]"
            ]
          },
          "metadata": {
            "tags": []
          },
          "execution_count": 199
        }
      ]
    },
    {
      "cell_type": "code",
      "metadata": {
        "colab": {
          "base_uri": "https://localhost:8080/"
        },
        "id": "NJriyZl2VjBA",
        "outputId": "10af3cb8-95d0-4733-a19c-4c86eba54597"
      },
      "source": [
        "# Usando a função 'in' para saber se um valor está na coluna\n",
        "7898 in df.Rented_Bike_Count.values"
      ],
      "execution_count": null,
      "outputs": [
        {
          "output_type": "execute_result",
          "data": {
            "text/plain": [
              "False"
            ]
          },
          "metadata": {
            "tags": []
          },
          "execution_count": 209
        }
      ]
    },
    {
      "cell_type": "code",
      "metadata": {
        "colab": {
          "base_uri": "https://localhost:8080/"
        },
        "id": "0Xng5ItlY3Wo",
        "outputId": "1c4c0573-81fc-4054-81fe-b036acf6b65b"
      },
      "source": [
        "# Usando a função 'in' para saber se um valor está na coluna\n",
        "'Winter' in df.Seasons.values"
      ],
      "execution_count": null,
      "outputs": [
        {
          "output_type": "execute_result",
          "data": {
            "text/plain": [
              "True"
            ]
          },
          "metadata": {
            "tags": []
          },
          "execution_count": 202
        }
      ]
    },
    {
      "cell_type": "code",
      "metadata": {
        "colab": {
          "base_uri": "https://localhost:8080/"
        },
        "id": "jbTnfK5EcaCG",
        "outputId": "99b278c3-733e-49cf-d1f4-ebb98f974684"
      },
      "source": [
        "# Usando o comparativo == para o Python retornar verdadeiros e falsos\n",
        "df.Rented_Bike_Count == 254"
      ],
      "execution_count": null,
      "outputs": [
        {
          "output_type": "execute_result",
          "data": {
            "text/plain": [
              "0        True\n",
              "1       False\n",
              "2       False\n",
              "3       False\n",
              "4       False\n",
              "        ...  \n",
              "8755    False\n",
              "8756    False\n",
              "8757    False\n",
              "8758    False\n",
              "8759    False\n",
              "Name: Rented_Bike_Count, Length: 8760, dtype: bool"
            ]
          },
          "metadata": {
            "tags": []
          },
          "execution_count": 210
        }
      ]
    },
    {
      "cell_type": "markdown",
      "metadata": {
        "id": "zsXHt1OJgnng"
      },
      "source": [
        "### **Unir Tabelas**"
      ]
    },
    {
      "cell_type": "markdown",
      "metadata": {
        "id": "jeW33HcFg6C7"
      },
      "source": [
        "Uma funcionalidade muito boa do Pandas é unir tabelas. O Excel não é a melhor ferramenta para fazer essa tarefa, apesar de ter a funcionalidade.\n",
        "\n",
        "A união de tabelas é um conceito muito difundido em bancos de dados relacionais com a linguagem SQL. Com o Pandas, é simples fazer.\n",
        "![sql-joins.png](data:image/png;base64,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)"
      ]
    },
    {
      "cell_type": "markdown",
      "metadata": {
        "id": "MxmhBr45ibzZ"
      },
      "source": [
        "Existem 4 tipos diferentes de unir tabelas, mas a mais comumente utilizada é o LEFT JOIN, que traz tudo da tabela 1 com aquilo que você quer trazer da tabela 2. Para saber mais, consulte a [documentação da função merge do Pandas](https://pandas.pydata.org/pandas-docs/stable/reference/api/pandas.DataFrame.merge.html), que é muito completa."
      ]
    },
    {
      "cell_type": "code",
      "metadata": {
        "colab": {
          "base_uri": "https://localhost:8080/"
        },
        "id": "Da7t4m9xf5Ek",
        "outputId": "98782180-6db1-4851-933f-a045da779276"
      },
      "source": [
        "# Criando duas tabelas\n",
        "df1 = pd.DataFrame({'Nome': ['F', 'B', 'F', 'J'],\n",
        "                    'Valor': [1, 2, 3, 5]})\n",
        "df2 = pd.DataFrame({'Nome': ['F', 'B', 'D', 'C'],\n",
        "                    'Quantidade': [15, 16, 17, 15]})\n",
        "print(df1)\n",
        "print('---------------------------------')\n",
        "print(df2)"
      ],
      "execution_count": null,
      "outputs": [
        {
          "output_type": "stream",
          "text": [
            "  Nome  Valor\n",
            "0    F      1\n",
            "1    B      2\n",
            "2    F      3\n",
            "3    J      5\n",
            "---------------------------------\n",
            "  Nome  Quantidade\n",
            "0    F          15\n",
            "1    B          16\n",
            "2    D          17\n",
            "3    C          15\n"
          ],
          "name": "stdout"
        }
      ]
    },
    {
      "cell_type": "code",
      "metadata": {
        "colab": {
          "base_uri": "https://localhost:8080/",
          "height": 167
        },
        "id": "UaODap9ljWim",
        "outputId": "77df69cc-83f6-4c61-93b4-ade49ecdb77d"
      },
      "source": [
        "# LEFT Join: Traz todas as informações da tabela 1 - fora dos parênteses - e os valores encontrados na tabela 2. Quando não encontra, traz NA\n",
        "# Usar a função merge\n",
        "# DICA: na tabela 2, o ideal é ter apenas uma entrada de cada, caso contrário você recebe valores duplicados\n",
        "df1.merge(df2, how='left', on='Nome')"
      ],
      "execution_count": null,
      "outputs": [
        {
          "output_type": "execute_result",
          "data": {
            "text/html": [
              "<div>\n",
              "<style scoped>\n",
              "    .dataframe tbody tr th:only-of-type {\n",
              "        vertical-align: middle;\n",
              "    }\n",
              "\n",
              "    .dataframe tbody tr th {\n",
              "        vertical-align: top;\n",
              "    }\n",
              "\n",
              "    .dataframe thead th {\n",
              "        text-align: right;\n",
              "    }\n",
              "</style>\n",
              "<table border=\"1\" class=\"dataframe\">\n",
              "  <thead>\n",
              "    <tr style=\"text-align: right;\">\n",
              "      <th></th>\n",
              "      <th>Nome</th>\n",
              "      <th>Valor</th>\n",
              "      <th>Quantidade</th>\n",
              "    </tr>\n",
              "  </thead>\n",
              "  <tbody>\n",
              "    <tr>\n",
              "      <th>0</th>\n",
              "      <td>F</td>\n",
              "      <td>1</td>\n",
              "      <td>15.0</td>\n",
              "    </tr>\n",
              "    <tr>\n",
              "      <th>1</th>\n",
              "      <td>B</td>\n",
              "      <td>2</td>\n",
              "      <td>16.0</td>\n",
              "    </tr>\n",
              "    <tr>\n",
              "      <th>2</th>\n",
              "      <td>F</td>\n",
              "      <td>3</td>\n",
              "      <td>15.0</td>\n",
              "    </tr>\n",
              "    <tr>\n",
              "      <th>3</th>\n",
              "      <td>J</td>\n",
              "      <td>5</td>\n",
              "      <td>NaN</td>\n",
              "    </tr>\n",
              "  </tbody>\n",
              "</table>\n",
              "</div>"
            ],
            "text/plain": [
              "  Nome  Valor  Quantidade\n",
              "0    F      1        15.0\n",
              "1    B      2        16.0\n",
              "2    F      3        15.0\n",
              "3    J      5         NaN"
            ]
          },
          "metadata": {
            "tags": []
          },
          "execution_count": 234
        }
      ]
    },
    {
      "cell_type": "code",
      "metadata": {
        "colab": {
          "base_uri": "https://localhost:8080/",
          "height": 137
        },
        "id": "bATJlyfKjrfK",
        "outputId": "5cbd27e5-b83d-4a7b-af21-f3d1e4e91a1e"
      },
      "source": [
        "# INNER Join: Traz todas as informações da tabela 1 - fora dos parênteses - e os valores encontrados na tabela 2. Quando não encontra, omite o valor.\n",
        "# Usar a função merge\n",
        "df1.merge(df2, how='inner', on='Nome')"
      ],
      "execution_count": null,
      "outputs": [
        {
          "output_type": "execute_result",
          "data": {
            "text/html": [
              "<div>\n",
              "<style scoped>\n",
              "    .dataframe tbody tr th:only-of-type {\n",
              "        vertical-align: middle;\n",
              "    }\n",
              "\n",
              "    .dataframe tbody tr th {\n",
              "        vertical-align: top;\n",
              "    }\n",
              "\n",
              "    .dataframe thead th {\n",
              "        text-align: right;\n",
              "    }\n",
              "</style>\n",
              "<table border=\"1\" class=\"dataframe\">\n",
              "  <thead>\n",
              "    <tr style=\"text-align: right;\">\n",
              "      <th></th>\n",
              "      <th>Nome</th>\n",
              "      <th>Valor</th>\n",
              "      <th>Quantidade</th>\n",
              "    </tr>\n",
              "  </thead>\n",
              "  <tbody>\n",
              "    <tr>\n",
              "      <th>0</th>\n",
              "      <td>F</td>\n",
              "      <td>1</td>\n",
              "      <td>15</td>\n",
              "    </tr>\n",
              "    <tr>\n",
              "      <th>1</th>\n",
              "      <td>F</td>\n",
              "      <td>3</td>\n",
              "      <td>15</td>\n",
              "    </tr>\n",
              "    <tr>\n",
              "      <th>2</th>\n",
              "      <td>B</td>\n",
              "      <td>2</td>\n",
              "      <td>16</td>\n",
              "    </tr>\n",
              "  </tbody>\n",
              "</table>\n",
              "</div>"
            ],
            "text/plain": [
              "  Nome  Valor  Quantidade\n",
              "0    F      1          15\n",
              "1    F      3          15\n",
              "2    B      2          16"
            ]
          },
          "metadata": {
            "tags": []
          },
          "execution_count": 235
        }
      ]
    },
    {
      "cell_type": "markdown",
      "metadata": {
        "id": "39EbJgrHoWKr"
      },
      "source": [
        "Visite a documentação do [pd.concat()](https://pandas.pydata.org/docs/reference/api/pandas.concat.html) e do [pd.append()](https://pandas.pydata.org/pandas-docs/stable/reference/api/pandas.DataFrame.append.html).\n",
        "\n",
        "Ambos os métodos são similares, mas guardam diferenças. O Append é mais usado para adicionar uma segunda tabela após a última linha da primeira quando elas têm as mesmas colunas."
      ]
    },
    {
      "cell_type": "code",
      "metadata": {
        "colab": {
          "base_uri": "https://localhost:8080/",
          "height": 167
        },
        "id": "RMypCBS9m6kC",
        "outputId": "5c6cb491-1d0d-4c32-e0a5-3a280f277c22"
      },
      "source": [
        "# Concatenar tabelas\n",
        "# Concatenar significa juntar tudo da tabela 1 com tudo da tabela 2, seja por linha - uma tabela sobre a outra (axis=0) ou por coluna - uma tabela ao lado da outra (axis=1).\n",
        "pd.concat([df1, df2], axis=1)"
      ],
      "execution_count": null,
      "outputs": [
        {
          "output_type": "execute_result",
          "data": {
            "text/html": [
              "<div>\n",
              "<style scoped>\n",
              "    .dataframe tbody tr th:only-of-type {\n",
              "        vertical-align: middle;\n",
              "    }\n",
              "\n",
              "    .dataframe tbody tr th {\n",
              "        vertical-align: top;\n",
              "    }\n",
              "\n",
              "    .dataframe thead th {\n",
              "        text-align: right;\n",
              "    }\n",
              "</style>\n",
              "<table border=\"1\" class=\"dataframe\">\n",
              "  <thead>\n",
              "    <tr style=\"text-align: right;\">\n",
              "      <th></th>\n",
              "      <th>Nome</th>\n",
              "      <th>Valor</th>\n",
              "      <th>Nome</th>\n",
              "      <th>Quantidade</th>\n",
              "    </tr>\n",
              "  </thead>\n",
              "  <tbody>\n",
              "    <tr>\n",
              "      <th>0</th>\n",
              "      <td>F</td>\n",
              "      <td>1</td>\n",
              "      <td>F</td>\n",
              "      <td>15</td>\n",
              "    </tr>\n",
              "    <tr>\n",
              "      <th>1</th>\n",
              "      <td>B</td>\n",
              "      <td>2</td>\n",
              "      <td>B</td>\n",
              "      <td>16</td>\n",
              "    </tr>\n",
              "    <tr>\n",
              "      <th>2</th>\n",
              "      <td>F</td>\n",
              "      <td>3</td>\n",
              "      <td>D</td>\n",
              "      <td>17</td>\n",
              "    </tr>\n",
              "    <tr>\n",
              "      <th>3</th>\n",
              "      <td>J</td>\n",
              "      <td>5</td>\n",
              "      <td>C</td>\n",
              "      <td>15</td>\n",
              "    </tr>\n",
              "  </tbody>\n",
              "</table>\n",
              "</div>"
            ],
            "text/plain": [
              "  Nome  Valor Nome  Quantidade\n",
              "0    F      1    F          15\n",
              "1    B      2    B          16\n",
              "2    F      3    D          17\n",
              "3    J      5    C          15"
            ]
          },
          "metadata": {
            "tags": []
          },
          "execution_count": 238
        }
      ]
    },
    {
      "cell_type": "code",
      "metadata": {
        "colab": {
          "base_uri": "https://localhost:8080/",
          "height": 287
        },
        "id": "i4XZqz0jnZZi",
        "outputId": "c7920f3a-8d42-4c4c-ad0c-5d92fe9c595f"
      },
      "source": [
        "# Append\n",
        "df1.append(df2)"
      ],
      "execution_count": null,
      "outputs": [
        {
          "output_type": "execute_result",
          "data": {
            "text/html": [
              "<div>\n",
              "<style scoped>\n",
              "    .dataframe tbody tr th:only-of-type {\n",
              "        vertical-align: middle;\n",
              "    }\n",
              "\n",
              "    .dataframe tbody tr th {\n",
              "        vertical-align: top;\n",
              "    }\n",
              "\n",
              "    .dataframe thead th {\n",
              "        text-align: right;\n",
              "    }\n",
              "</style>\n",
              "<table border=\"1\" class=\"dataframe\">\n",
              "  <thead>\n",
              "    <tr style=\"text-align: right;\">\n",
              "      <th></th>\n",
              "      <th>Nome</th>\n",
              "      <th>Valor</th>\n",
              "      <th>Quantidade</th>\n",
              "    </tr>\n",
              "  </thead>\n",
              "  <tbody>\n",
              "    <tr>\n",
              "      <th>0</th>\n",
              "      <td>F</td>\n",
              "      <td>1.0</td>\n",
              "      <td>NaN</td>\n",
              "    </tr>\n",
              "    <tr>\n",
              "      <th>1</th>\n",
              "      <td>B</td>\n",
              "      <td>2.0</td>\n",
              "      <td>NaN</td>\n",
              "    </tr>\n",
              "    <tr>\n",
              "      <th>2</th>\n",
              "      <td>F</td>\n",
              "      <td>3.0</td>\n",
              "      <td>NaN</td>\n",
              "    </tr>\n",
              "    <tr>\n",
              "      <th>3</th>\n",
              "      <td>J</td>\n",
              "      <td>5.0</td>\n",
              "      <td>NaN</td>\n",
              "    </tr>\n",
              "    <tr>\n",
              "      <th>0</th>\n",
              "      <td>F</td>\n",
              "      <td>NaN</td>\n",
              "      <td>15.0</td>\n",
              "    </tr>\n",
              "    <tr>\n",
              "      <th>1</th>\n",
              "      <td>B</td>\n",
              "      <td>NaN</td>\n",
              "      <td>16.0</td>\n",
              "    </tr>\n",
              "    <tr>\n",
              "      <th>2</th>\n",
              "      <td>D</td>\n",
              "      <td>NaN</td>\n",
              "      <td>17.0</td>\n",
              "    </tr>\n",
              "    <tr>\n",
              "      <th>3</th>\n",
              "      <td>C</td>\n",
              "      <td>NaN</td>\n",
              "      <td>15.0</td>\n",
              "    </tr>\n",
              "  </tbody>\n",
              "</table>\n",
              "</div>"
            ],
            "text/plain": [
              "  Nome  Valor  Quantidade\n",
              "0    F    1.0         NaN\n",
              "1    B    2.0         NaN\n",
              "2    F    3.0         NaN\n",
              "3    J    5.0         NaN\n",
              "0    F    NaN        15.0\n",
              "1    B    NaN        16.0\n",
              "2    D    NaN        17.0\n",
              "3    C    NaN        15.0"
            ]
          },
          "metadata": {
            "tags": []
          },
          "execution_count": 243
        }
      ]
    },
    {
      "cell_type": "markdown",
      "metadata": {
        "id": "bftTwgO8pWWr"
      },
      "source": [
        "### **Criar uma Tabela Dinâmica**"
      ]
    },
    {
      "cell_type": "markdown",
      "metadata": {
        "id": "K2pUdk-QpllB"
      },
      "source": [
        "Pivot Table - ou tabela dinâmica - é uma ferramenta conhecida do Excel que nos permite pivotar e agregar valores de uma tabela de acordo com as variáveis escolhidas.\n",
        "\n",
        "Tal funcionalidade foi trazida ao pandas no mesmo estilo.\n",
        "documentação [pd.pivot_table](https://pandas.pydata.org/docs/reference/api/pandas.pivot_table.html)."
      ]
    },
    {
      "cell_type": "code",
      "metadata": {
        "colab": {
          "base_uri": "https://localhost:8080/",
          "height": 227
        },
        "id": "oKNQC378oD9D",
        "outputId": "7ca5795c-8f69-4421-bd18-649a412cd57e"
      },
      "source": [
        "# Criando uma pivot table\n",
        "# Para index, columns e values, pode-se entrar uma lista de colunas (e.g index= ['Seasons','Functioning_Day'] )\n",
        "pd.pivot_table(data=df,\n",
        "               # index são as linhas da tabela\n",
        "               index='Seasons',\n",
        "               # columns são as colunas\n",
        "               columns='Holiday',\n",
        "               # values são os valores\n",
        "               values='Rented_Bike_Count',\n",
        "               # aggfunc é a função de agregação (sum, mean, count)\n",
        "               aggfunc='sum', \n",
        "               # margins=True é para mostrar o total e o name é para nomear a coluna\n",
        "               margins=True, margins_name='Total')"
      ],
      "execution_count": null,
      "outputs": [
        {
          "output_type": "execute_result",
          "data": {
            "text/html": [
              "<div>\n",
              "<style scoped>\n",
              "    .dataframe tbody tr th:only-of-type {\n",
              "        vertical-align: middle;\n",
              "    }\n",
              "\n",
              "    .dataframe tbody tr th {\n",
              "        vertical-align: top;\n",
              "    }\n",
              "\n",
              "    .dataframe thead th {\n",
              "        text-align: right;\n",
              "    }\n",
              "</style>\n",
              "<table border=\"1\" class=\"dataframe\">\n",
              "  <thead>\n",
              "    <tr style=\"text-align: right;\">\n",
              "      <th>Holiday</th>\n",
              "      <th>Holiday</th>\n",
              "      <th>No Holiday</th>\n",
              "      <th>Total</th>\n",
              "    </tr>\n",
              "    <tr>\n",
              "      <th>Seasons</th>\n",
              "      <th></th>\n",
              "      <th></th>\n",
              "      <th></th>\n",
              "    </tr>\n",
              "  </thead>\n",
              "  <tbody>\n",
              "    <tr>\n",
              "      <th>Autumn</th>\n",
              "      <td>91018.0</td>\n",
              "      <td>1698984.0</td>\n",
              "      <td>1790002.0</td>\n",
              "    </tr>\n",
              "    <tr>\n",
              "      <th>Spring</th>\n",
              "      <td>45742.0</td>\n",
              "      <td>1566167.0</td>\n",
              "      <td>1611909.0</td>\n",
              "    </tr>\n",
              "    <tr>\n",
              "      <th>Summer</th>\n",
              "      <td>49063.0</td>\n",
              "      <td>2234171.0</td>\n",
              "      <td>2283234.0</td>\n",
              "    </tr>\n",
              "    <tr>\n",
              "      <th>Winter</th>\n",
              "      <td>30072.0</td>\n",
              "      <td>457097.0</td>\n",
              "      <td>487169.0</td>\n",
              "    </tr>\n",
              "    <tr>\n",
              "      <th>Total</th>\n",
              "      <td>215895.0</td>\n",
              "      <td>5956419.0</td>\n",
              "      <td>6172314.0</td>\n",
              "    </tr>\n",
              "  </tbody>\n",
              "</table>\n",
              "</div>"
            ],
            "text/plain": [
              "Holiday   Holiday  No Holiday      Total\n",
              "Seasons                                 \n",
              "Autumn    91018.0   1698984.0  1790002.0\n",
              "Spring    45742.0   1566167.0  1611909.0\n",
              "Summer    49063.0   2234171.0  2283234.0\n",
              "Winter    30072.0    457097.0   487169.0\n",
              "Total    215895.0   5956419.0  6172314.0"
            ]
          },
          "metadata": {
            "tags": []
          },
          "execution_count": 255
        }
      ]
    },
    {
      "cell_type": "markdown",
      "metadata": {
        "id": "a8zpBaRApfkm"
      },
      "source": [
        "### **Plotar gráficos**"
      ]
    },
    {
      "cell_type": "markdown",
      "metadata": {
        "id": "SXY8bqc3ujCz"
      },
      "source": [
        "Finalizando este notebook, vamos apresentar uma maneira simples de plotar gráficos. Assim como o Excel, o Pandas também tem essa funcionalidade embutida em seu código.\n",
        "\n",
        "Consulte a documentação do [pandas plot](https://pandas.pydata.org/docs/reference/api/pandas.DataFrame.plot.html)."
      ]
    },
    {
      "cell_type": "code",
      "metadata": {
        "colab": {
          "base_uri": "https://localhost:8080/",
          "height": 442
        },
        "id": "7kvrQTZApkOI",
        "outputId": "f8d83d97-3fd5-4bb7-f048-ec1d54ca89bd"
      },
      "source": [
        "# A sintaxe básica dos plots do Pandas são df.plot() ou df.plot.tipo_de_gráfico()\n",
        "\n",
        "# Vamos plotar um gráfico de linha com os aluguéis de bike por dia\n",
        "# Primeiro agrupamos por data e soma de aluguéis\n",
        "rents_by_day = df.groupby('Date')['Rented_Bike_Count'].sum()\n",
        "rents_by_day.plot(figsize=(20,7));"
      ],
      "execution_count": null,
      "outputs": [
        {
          "output_type": "display_data",
          "data": {
            "image/png": "[encoded data removed]",
            "text/plain": [
              "<Figure size 1440x504 with 1 Axes>"
            ]
          },
          "metadata": {
            "tags": [],
            "needs_background": "light"
          }
        }
      ]
    },
    {
      "cell_type": "code",
      "metadata": {
        "colab": {
          "base_uri": "https://localhost:8080/",
          "height": 485
        },
        "id": "lnv2m_4ZvStO",
        "outputId": "84a265c2-235e-452c-ec92-cab18d5b8e47"
      },
      "source": [
        "# Plotando um gráfico em barras\n",
        "\n",
        "# Primeiro agrupamos por Season e soma de aluguéis\n",
        "rents_by_season = df.groupby('Seasons')['Rented_Bike_Count'].sum()\n",
        "rents_by_season.plot.bar(figsize=(15,7), color='coral');"
      ],
      "execution_count": null,
      "outputs": [
        {
          "output_type": "display_data",
          "data": {
            "image/png": "[encoded data removed]",
            "text/plain": [
              "<Figure size 1080x504 with 1 Axes>"
            ]
          },
          "metadata": {
            "tags": [],
            "needs_background": "light"
          }
        }
      ]
    },
    {
      "cell_type": "code",
      "metadata": {
        "id": "Dr6-7FhjvTlV",
        "colab": {
          "base_uri": "https://localhost:8080/",
          "height": 714
        },
        "outputId": "ac1450c6-0c15-4623-a75d-6a7ccdaa7920"
      },
      "source": [
        "# Plotando um scatterplot para verificar a relação entre quantidade de chuva e o número de aluguéis\n",
        "df.plot.scatter(y='Rented_Bike_Count',\n",
        "                x= 'Rainfall_mm',\n",
        "                figsize=(10,12),\n",
        "                color='#0D2873',\n",
        "                alpha=0.2);"
      ],
      "execution_count": null,
      "outputs": [
        {
          "output_type": "display_data",
          "data": {
            "image/png": "[encoded data removed]",
            "text/plain": [
              "<Figure size 720x864 with 1 Axes>"
            ]
          },
          "metadata": {
            "tags": [],
            "needs_background": "light"
          }
        }
      ]
    },
    {
      "cell_type": "markdown",
      "metadata": {
        "id": "h3wbpgKnyivZ"
      },
      "source": [
        "Conforme esperado, a correlação é negativa, isto é, quando aumenta a quantidade de chuvas, o número de aluguéis cai bastante."
      ]
    },
    {
      "cell_type": "markdown",
      "metadata": {
        "id": "rGBQjn-vl7Ls"
      },
      "source": [
        "### **Salvar CSV em disco**"
      ]
    },
    {
      "cell_type": "markdown",
      "metadata": {
        "id": "NyW0X2r6mJ6v"
      },
      "source": [
        "Ao final do seu trabalho, é certo que precisamos salvar o trabalho em disco, seja para backup ou para compartilhamento. Para fazer isso é simples.\n",
        "Use o [DataFrame.to_csv( )](https://pandas.pydata.org/docs/reference/api/pandas.DataFrame.to_csv.html).\n",
        "\n",
        "O arquivo será salvo no mesmo local onde o seu Jupyter Notebook está sendo executado. Caso queira um caminho diferente, basta colocar o caminho da pasta antes do nome do arquivo - e.g. *'C:/file path/arquivo.csv'*."
      ]
    },
    {
      "cell_type": "code",
      "metadata": {
        "id": "dLO5QXuemBoC"
      },
      "source": [
        "# Usar DataFrame.to_csv\n",
        "df.to_csv('arquivo_Bikes.csv')"
      ],
      "execution_count": 10,
      "outputs": []
    },
    {
      "cell_type": "markdown",
      "metadata": {
        "id": "EhZn_b8Jyvg8"
      },
      "source": [
        "## **Conclusão**\n",
        "\n",
        "Com isso chegamos ao fim do notebook.\n",
        "Espero que este material seja proveitoso para os seus estudos e que seja uma inspiração para continuar evoluindo em Análise e na Ciência de Dados.\n",
        "**Obrigado!**"
      ]
    },
    {
      "cell_type": "markdown",
      "metadata": {
        "id": "j-YvsNpAzIw5"
      },
      "source": [
        "# - - - - - - - - - - - - - - - - - - -   FIM   - - - - - - - - - - - - - - - - - - - "
      ]
    }
  ]
}