{
 "cells": [
  {
   "cell_type": "markdown",
   "metadata": {},
   "source": [
    "#### Imports"
   ]
  },
  {
   "cell_type": "code",
   "execution_count": 20,
   "metadata": {},
   "outputs": [],
   "source": [
    "import tweepy\n",
    "from tweepy import Stream\n",
    "from tweepy import OAuthHandler\n",
    "from tweepy.streaming import StreamListener\n",
    "import json\n",
    "import pandas as pd\n",
    "import csv"
   ]
  },
  {
   "cell_type": "markdown",
   "metadata": {},
   "source": [
    "#### Authorization"
   ]
  },
  {
   "cell_type": "code",
   "execution_count": 21,
   "metadata": {},
   "outputs": [],
   "source": [
    "#Twitter credentials for the app\n",
    "consumer_key = 'YOUR_KEY'\n",
    "consumer_secret = 'YOUR_SECRETKEY'\n",
    "access_token= 'TOKEN'\n",
    "access_token_secret = 'SECRET_TOKEN'"
   ]
  },
  {
   "cell_type": "code",
   "execution_count": 130,
   "metadata": {},
   "outputs": [],
   "source": [
    "auth = tweepy.OAuthHandler(consumer_key, consumer_secret)\n",
    "auth.set_access_token(access_token, access_token_secret)\n",
    "api = tweepy.API(auth)\n",
    "\n",
    "# Open/Create a file to append data\n",
    "tweets = tweepy.Cursor(api.search,q=\"foodlion\", lang=\"en\", since='2020-01-01').items(100)"
   ]
  },
  {
   "cell_type": "code",
   "execution_count": 131,
   "metadata": {},
   "outputs": [],
   "source": [
    "# Transform the data into a list\n",
    "data = [[tweet.user.name, tweet.user.location,tweet.created_at, tweet.text] for tweet in tweets]"
   ]
  },
  {
   "cell_type": "code",
   "execution_count": 132,
   "metadata": {},
   "outputs": [],
   "source": [
    "# Put in a dataframe\n",
    "df = pd.DataFrame(data, columns=['name', 'location', 'date', 'text'])"
   ]
  },
  {
   "cell_type": "code",
   "execution_count": 134,
   "metadata": {},
   "outputs": [],
   "source": [
    "df.to_csv('tweets1.csv')"
   ]
  },
  {
   "cell_type": "code",
   "execution_count": 133,
   "metadata": {},
   "outputs": [
    {
     "data": {
      "text/html": [
       "<div>\n",
       "<style scoped>\n",
       "    .dataframe tbody tr th:only-of-type {\n",
       "        vertical-align: middle;\n",
       "    }\n",
       "\n",
       "    .dataframe tbody tr th {\n",
       "        vertical-align: top;\n",
       "    }\n",
       "\n",
       "    .dataframe thead th {\n",
       "        text-align: right;\n",
       "    }\n",
       "</style>\n",
       "<table border=\"1\" class=\"dataframe\">\n",
       "  <thead>\n",
       "    <tr style=\"text-align: right;\">\n",
       "      <th></th>\n",
       "      <th>name</th>\n",
       "      <th>location</th>\n",
       "      <th>date</th>\n",
       "      <th>text</th>\n",
       "    </tr>\n",
       "  </thead>\n",
       "  <tbody>\n",
       "    <tr>\n",
       "      <th>95</th>\n",
       "      <td>Mark Packer</td>\n",
       "      <td>Charlotte, NC</td>\n",
       "      <td>2020-11-10 19:54:09</td>\n",
       "      <td>@JAJensenPhD @ashleykav @UNCBullpen @fletcherj...</td>\n",
       "    </tr>\n",
       "    <tr>\n",
       "      <th>96</th>\n",
       "      <td>David Layton</td>\n",
       "      <td>Concord, NC</td>\n",
       "      <td>2020-11-10 19:54:05</td>\n",
       "      <td>RT @FoodLionNews: Congratulations to @GoHeels ...</td>\n",
       "    </tr>\n",
       "    <tr>\n",
       "      <th>97</th>\n",
       "      <td>neek🐘</td>\n",
       "      <td></td>\n",
       "      <td>2020-11-10 19:36:03</td>\n",
       "      <td>@_ttopnotch girl I miss you moreee! I was just...</td>\n",
       "    </tr>\n",
       "    <tr>\n",
       "      <th>98</th>\n",
       "      <td>Purnell Swett High</td>\n",
       "      <td>Pembroke - Maxton - Prospect</td>\n",
       "      <td>2020-11-10 19:23:27</td>\n",
       "      <td>RT @PackAthletics: For every sack the @PackFoo...</td>\n",
       "    </tr>\n",
       "    <tr>\n",
       "      <th>99</th>\n",
       "      <td>NC State Athletics</td>\n",
       "      <td>Raleigh, N.C.</td>\n",
       "      <td>2020-11-10 19:22:49</td>\n",
       "      <td>For every sack the @PackFootball defense makes...</td>\n",
       "    </tr>\n",
       "  </tbody>\n",
       "</table>\n",
       "</div>"
      ],
      "text/plain": [
       "                  name                      location                date  \\\n",
       "95         Mark Packer                 Charlotte, NC 2020-11-10 19:54:09   \n",
       "96        David Layton                   Concord, NC 2020-11-10 19:54:05   \n",
       "97               neek🐘                               2020-11-10 19:36:03   \n",
       "98  Purnell Swett High  Pembroke - Maxton - Prospect 2020-11-10 19:23:27   \n",
       "99  NC State Athletics                 Raleigh, N.C. 2020-11-10 19:22:49   \n",
       "\n",
       "                                                 text  \n",
       "95  @JAJensenPhD @ashleykav @UNCBullpen @fletcherj...  \n",
       "96  RT @FoodLionNews: Congratulations to @GoHeels ...  \n",
       "97  @_ttopnotch girl I miss you moreee! I was just...  \n",
       "98  RT @PackAthletics: For every sack the @PackFoo...  \n",
       "99  For every sack the @PackFootball defense makes...  "
      ]
     },
     "execution_count": 133,
     "metadata": {},
     "output_type": "execute_result"
    }
   ],
   "source": [
    "df.tail()"
   ]
  },
  {
   "cell_type": "code",
   "execution_count": null,
   "metadata": {},
   "outputs": [],
   "source": []
  }
 ],
 "metadata": {
  "kernelspec": {
   "display_name": "Python 3",
   "language": "python",
   "name": "python3"
  },
  "language_info": {
   "codemirror_mode": {
    "name": "ipython",
    "version": 3
   },
   "file_extension": ".py",
   "mimetype": "text/x-python",
   "name": "python",
   "nbconvert_exporter": "python",
   "pygments_lexer": "ipython3",
   "version": "3.7.3"
  }
 },
 "nbformat": 4,
 "nbformat_minor": 2
}
