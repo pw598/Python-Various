{
 "nbformat": 4,
 "nbformat_minor": 0,
 "metadata": {
  "colab": {
   "provenance": [],
   "collapsed_sections": [
    "wH1ryUB10Cp9"
   ]
  },
  "kernelspec": {
   "name": "python3",
   "display_name": "Python 3"
  },
  "language_info": {
   "name": "python"
  }
 },
 "cells": [
  {
   "cell_type": "markdown",
   "source": [
    "# Voting Classifier"
   ],
   "metadata": {
    "id": "28FrQLwLYS3d",
    "pycharm": {
     "name": "#%% md\n"
    }
   }
  },
  {
   "cell_type": "code",
   "source": [
    "# Imports\n",
    
    "# Data\n",
    "from sklearn.datasets import make_classification\n",
    "\n",
    "# sklearn\n",
    "from sklearn.model_selection import train_test_split\n",
    "from sklearn.tree import DecisionTreeClassifier\n",
    "from sklearn.linear_model import LogisticRegression\n",
    "from sklearn.ensemble import GradientBoostingClassifier, VotingClassifier\n",
    "from sklearn.metrics import f1_score, accuracy_score"
   ],
   "metadata": {
    "id": "Z6dhDFgoyiuc",
    "pycharm": {
     "name": "#%%\n"
    }
   },
   "execution_count": 140,
   "outputs": []
  },
  {
   "cell_type": "code",
   "source": [
    "seed=56456462\n",
    "# Dataset\n",
    "df = make_classification(n_samples=300, n_features=5, \n",
    "                         n_informative=4, n_redundant=1, \n",
    "                         random_state=seed)"
   ],
   "metadata": {
    "id": "kxcHjoB8YeGL",
    "pycharm": {
     "name": "#%%\n"
    }
   },
   "execution_count": 192,
   "outputs": []
  },
  {
   "cell_type": "code",
   "source": [
    "# Split\n",
    "X = df[0]\n",
    "y = df[1]\n",
    "\n",
    "# Train Test\n",
    "X_train, X_test, y_train, y_test = train_test_split(X,y, test_size=0.3, random_state=seed)"
   ],
   "metadata": {
    "id": "ToadLjlIYqki",
    "pycharm": {
     "name": "#%%\n"
    }
   },
   "execution_count": 193,
   "outputs": []
  },
  {
   "cell_type": "code",
   "source": [
    "logit_model = LogisticRegression()\n",
    "dt_model = DecisionTreeClassifier()\n",
    "gb_model = GradientBoostingClassifier()"
   ],
   "metadata": {
    "id": "pkz0d0s6YrIB",
    "pycharm": {
     "name": "#%%\n"
    }
   },
   "execution_count": 194,
   "outputs": []
  },
  {
   "cell_type": "code",
   "source": [
    "# Voting Classifier\n",
    "voting = VotingClassifier(estimators=[\n",
    "    ('lr', logit_model), \n",
    "    ('dt', dt_model), \n",
    "    ('gb', gb_model) ],\n",
    "    voting='hard')\n"
   ],
   "metadata": {
    "id": "-hD36yBmZtsa",
    "pycharm": {
     "name": "#%%\n"
    }
   },
   "execution_count": 195,
   "outputs": []
  },
  {
   "cell_type": "code",
   "source": [
    "# list of classifiers\n",
    "list_of_classifiers = [logit_model, dt_model, gb_model, voting]\n",
    "\n",
    "print(\"F1 Score:\")\n",
    "# Loop F1 score\n",
    "for classifier in list_of_classifiers:\n",
    "  classifier.fit(X_train,y_train)\n",
    "  pred = classifier.predict(X_test)\n",
    "  print(classifier.__class__.__name__, f1_score(y_test, pred))\n",
    "\n",
    "print(\"----------\")\n",
    "print(\"Accuracy:\")\n",
    "\n",
    "  # Loop Accuracy\n",
    "for classifier in list_of_classifiers:\n",
    "  classifier.fit(X_train,y_train)\n",
    "  pred = classifier.predict(X_test)\n",
    "  print(classifier.__class__.__name__, accuracy_score(y_test, pred))"
   ],
   "metadata": {
    "colab": {
     "base_uri": "https://localhost:8080/"
    },
    "id": "Or0uTonBaJIM",
    "outputId": "6e927911-9967-456a-f915-83d1107fd441",
    "pycharm": {
     "name": "#%%\n"
    }
   },
   "execution_count": 196,
   "outputs": [
    {
     "output_type": "stream",
     "name": "stdout",
     "text": [
      "F1 Score:\n",
      "LogisticRegression 0.8260869565217391\n",
      "DecisionTreeClassifier 0.8043478260869565\n",
      "GradientBoostingClassifier 0.8421052631578948\n",
      "VotingClassifier 0.851063829787234\n",
      "----------\n",
      "Accuracy:\n",
      "LogisticRegression 0.8222222222222222\n",
      "DecisionTreeClassifier 0.8111111111111111\n",
      "GradientBoostingClassifier 0.8333333333333334\n",
      "VotingClassifier 0.8555555555555555\n"
     ]
    }
   ]
  },
  {
   "cell_type": "code",
   "source": [],
   "metadata": {
    "id": "UvSGus7IbKpW",
    "pycharm": {
     "name": "#%%\n"
    }
   },
   "execution_count": 186,
   "outputs": []
  }
 ]
}
