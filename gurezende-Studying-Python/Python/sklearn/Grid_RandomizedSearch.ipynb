{
 "nbformat": 4,
 "nbformat_minor": 0,
 "metadata": {
  "colab": {
   "provenance": [],
   "collapsed_sections": [
    "wH1ryUB10Cp9"
   ]
  },
  "kernelspec": {
   "name": "python3",
   "display_name": "Python 3"
  },
  "language_info": {
   "name": "python"
  }
 },
 "cells": [
  {
   "cell_type": "markdown",
   "source": [
    "# Grid Search, Random Search"
   ],
   "metadata": {
    "id": "bvJc7k6Bu3Cq",
    "pycharm": {
     "name": "#%% md\n"
    }
   }
  },
  {
   "cell_type": "code",
   "source": [
    "# Imports\n",
    "import pandas as pd\n",
    "import numpy as np\n",
    "import seaborn as sns\n",
    "\n",
    "# Dataset\n",
    "from sklearn.datasets import make_regression\n",
    "\n",
    "# sklearn preprocess\n",
    "from sklearn.pipeline import Pipeline\n",
    "from sklearn.preprocessing import StandardScaler\n",
    "from sklearn.tree import DecisionTreeRegressor\n",
    "from sklearn.model_selection import train_test_split\n",
    "\n",
    "# Search\n",
    "from sklearn.model_selection import RandomizedSearchCV, GridSearchCV\n",
    "\n",
    "# Metrics\n",
    "from sklearn.metrics import mean_squared_error"
   ],
   "metadata": {
    "id": "vZzsJu1fZlCl",
    "pycharm": {
     "name": "#%%\n"
    }
   },
   "execution_count": 78,
   "outputs": []
  },
  {
   "cell_type": "code",
   "source": [
    "# Dataframe\n",
    "df = make_regression(n_samples=2000, n_features=5,\n",
    "                     n_informative=4, noise=1, random_state=12)\n",
    "\n",
    "# Split X and y\n",
    "X= df[0]\n",
    "y= df[1]"
   ],
   "metadata": {
    "id": "3uPKEuAgvCIY",
    "pycharm": {
     "name": "#%%\n"
    }
   },
   "execution_count": 47,
   "outputs": []
  },
  {
   "cell_type": "code",
   "source": [
    "# Train test split\n",
    "X_train, X_test, y_train, y_test = train_test_split(X, y, test_size=0.2, random)"
   ],
   "metadata": {
    "id": "fSMGJmhJ0ysF",
    "pycharm": {
     "name": "#%%\n"
    }
   },
   "execution_count": 33,
   "outputs": []
  },
  {
   "cell_type": "code",
   "source": [
    "# Creating the steps for the pipeline\n",
    "steps = [ ('scale', StandardScaler()),\n",
    "          ('model', DecisionTreeRegressor())  ]\n",
    "\n",
    "# Creating pipeline for Decision Tree Regressor\n",
    "pipe = Pipeline(steps)\n",
    "\n",
    "# Fit the model\n",
    "pipe.fit(X_train, y_train)"
   ],
   "metadata": {
    "colab": {
     "base_uri": "https://localhost:8080/"
    },
    "id": "ljdz9wWpvbdU",
    "outputId": "f3f7e981-827c-4d15-8555-9c2a1115136a",
    "pycharm": {
     "name": "#%%\n"
    }
   },
   "execution_count": 34,
   "outputs": [
    {
     "output_type": "execute_result",
     "data": {
      "text/plain": [
       "Pipeline(steps=[('scale', StandardScaler()),\n",
       "                ('model', DecisionTreeRegressor())])"
      ]
     },
     "metadata": {},
     "execution_count": 34
    }
   ]
  },
  {
   "cell_type": "markdown",
   "source": [
    "### Grid Search"
   ],
   "metadata": {
    "id": "MuSWAGJC2rT0",
    "pycharm": {
     "name": "#%% md\n"
    }
   }
  },
  {
   "cell_type": "code",
   "source": [
    "%%timeit\n",
    "# Creating dictionary of parameters to be tested\n",
    "params= {'model__max_features': [2,5],\n",
    "         'model__min_samples_split':[2, 5, 10],\n",
    "         'model__criterion': ['friedman_mse', 'absolute_error']}\n",
    "\n",
    "# Applying the Grid Search\n",
    "grid = GridSearchCV(pipe, param_grid=params, cv=5, scoring='neg_mean_squared_error')\n",
    "grid.fit(X_train, y_train)\n",
    "\n",
    "# Best model\n",
    "grid.best_estimator_"
   ],
   "metadata": {
    "colab": {
     "base_uri": "https://localhost:8080/"
    },
    "id": "djrkno6ZvfvZ",
    "outputId": "11bb6edb-7a1e-4b85-f7ac-efc7cfd220bf",
    "pycharm": {
     "name": "#%%\n"
    }
   },
   "execution_count": 86,
   "outputs": [
    {
     "output_type": "stream",
     "name": "stdout",
     "text": [
      "1.89 s ± 228 ms per loop (mean ± std. dev. of 7 runs, 1 loop each)\n"
     ]
    }
   ]
  },
  {
   "cell_type": "code",
   "source": [
    "%%timeit\n",
    "# Creating dictionary of parameters to be tested\n",
    "params= {'model__max_features': [2,3,4,5],\n",
    "         'model__min_samples_split':[2,5,6,7,8,10],\n",
    "         'model__criterion': ['friedman_mse', 'absolute_error']}\n",
    "\n",
    "# Applying the Grid Search\n",
    "grid = GridSearchCV(pipe, param_grid=params, cv=5, scoring='neg_mean_squared_error')\n",
    "grid.fit(X_train, y_train)\n",
    "\n",
    "# Best model\n",
    "grid.best_estimator_"
   ],
   "metadata": {
    "colab": {
     "base_uri": "https://localhost:8080/"
    },
    "id": "TuI3Omgt5HVL",
    "outputId": "4097035a-0c0e-40a5-c5c1-bd6ffa7bbfce",
    "pycharm": {
     "name": "#%%\n"
    }
   },
   "execution_count": 75,
   "outputs": [
    {
     "output_type": "stream",
     "name": "stdout",
     "text": [
      "7.71 s ± 681 ms per loop (mean ± std. dev. of 7 runs, 1 loop each)\n"
     ]
    }
   ]
  },
  {
   "cell_type": "code",
   "source": [
    "# Taking the best estimator\n",
    "best_grid = grid.best_estimator_\n",
    "\n",
    "preds_grid = best_grid.predict(X_test)\n",
    "\n",
    "# RMSE\n",
    "np.sqrt( mean_squared_error(y_test, preds_grid) )"
   ],
   "metadata": {
    "colab": {
     "base_uri": "https://localhost:8080/"
    },
    "id": "VLGNYwKcDFye",
    "outputId": "cadd4e2e-bc63-4078-d5cd-d7986f7db341",
    "pycharm": {
     "name": "#%%\n"
    }
   },
   "execution_count": 85,
   "outputs": [
    {
     "output_type": "execute_result",
     "data": {
      "text/plain": [
       "53.70886778489411"
      ]
     },
     "metadata": {},
     "execution_count": 85
    }
   ]
  },
  {
   "cell_type": "code",
   "source": [
    "# Best Score\n",
    "np.sqrt(-grid.cv_results_['mean_test_score'])"
   ],
   "metadata": {
    "colab": {
     "base_uri": "https://localhost:8080/"
    },
    "id": "ap16fhJt3N7G",
    "outputId": "25f955c7-e59e-403b-f4fc-528248d48fa1",
    "pycharm": {
     "name": "#%%\n"
    }
   },
   "execution_count": 64,
   "outputs": [
    {
     "output_type": "execute_result",
     "data": {
      "text/plain": [
       "array([74.77529745, 71.43364645, 70.35861139, 62.12057004, 61.75300427,\n",
       "       63.68961232, 70.77323106, 72.78083116, 72.12092212, 60.27517609,\n",
       "       59.27527033, 61.29225372])"
      ]
     },
     "metadata": {},
     "execution_count": 64
    }
   ]
  },
  {
   "cell_type": "markdown",
   "source": [
    "### Randomized Search"
   ],
   "metadata": {
    "id": "EVSSaJ5b2omn",
    "pycharm": {
     "name": "#%% md\n"
    }
   }
  },
  {
   "cell_type": "code",
   "source": [
    "%%timeit\n",
    "# Creating dictionary of parameters to be tested\n",
    "params= {'model__max_features': [2,5],\n",
    "         'model__min_samples_split':[2, 5, 10],\n",
    "         'model__criterion': ['friedman_mse', 'absolute_error']}\n",
    "\n",
    "# Applying the Grid Search\n",
    "randcv = RandomizedSearchCV(pipe, param_distributions=params, cv=5, scoring='neg_mean_squared_error')\n",
    "randcv.fit(X_train, y_train)\n",
    "\n",
    "# Best model\n",
    "randcv.best_estimator_"
   ],
   "metadata": {
    "colab": {
     "base_uri": "https://localhost:8080/"
    },
    "id": "4TXiUePUBvLr",
    "outputId": "f48a4d5d-30c8-4228-ab71-3f19e22f54a3",
    "pycharm": {
     "name": "#%%\n"
    }
   },
   "execution_count": 76,
   "outputs": [
    {
     "output_type": "stream",
     "name": "stdout",
     "text": [
      "1.47 s ± 140 ms per loop (mean ± std. dev. of 7 runs, 1 loop each)\n"
     ]
    }
   ]
  },
  {
   "cell_type": "code",
   "source": [
    "%%timeit\n",
    "# Creating dictionary of parameters to be tested\n",
    "params= {'model__max_features': [2,3,4,5],\n",
    "         'model__min_samples_split':[2,5,6,7,8,9,10],\n",
    "         'model__criterion': ['friedman_mse', 'absolute_error']}\n",
    "\n",
    "# Applying the Grid Search\n",
    "randcv = RandomizedSearchCV(pipe, param_distributions=params, cv=5, scoring='neg_mean_squared_error')\n",
    "randcv.fit(X_train, y_train)\n",
    "\n",
    "# Best model\n",
    "randcv.best_estimator_"
   ],
   "metadata": {
    "colab": {
     "base_uri": "https://localhost:8080/"
    },
    "id": "OXExSPb21uFr",
    "outputId": "355288e3-1553-4c57-ec02-589b89b528e2",
    "pycharm": {
     "name": "#%%\n"
    }
   },
   "execution_count": 91,
   "outputs": [
    {
     "output_type": "stream",
     "name": "stdout",
     "text": [
      "1.52 s ± 352 ms per loop (mean ± std. dev. of 7 runs, 1 loop each)\n"
     ]
    }
   ]
  },
  {
   "cell_type": "code",
   "source": [
    "# Taking the best estimator\n",
    "best_rand = randcv.best_estimator_\n",
    "\n",
    "preds_rand = best_rand.predict(X_test)\n",
    "\n",
    "# RMSE\n",
    "np.sqrt( mean_squared_error(y_test, preds_rand) )"
   ],
   "metadata": {
    "colab": {
     "base_uri": "https://localhost:8080/"
    },
    "id": "ib6f_J6NEGq1",
    "outputId": "68ceec11-2c44-456a-ec6c-9225873b7e0f",
    "pycharm": {
     "name": "#%%\n"
    }
   },
   "execution_count": 90,
   "outputs": [
    {
     "output_type": "execute_result",
     "data": {
      "text/plain": [
       "55.35583215782757"
      ]
     },
     "metadata": {},
     "execution_count": 90
    }
   ]
  },
  {
   "cell_type": "code",
   "source": [
    "# Best Score\n",
    "np.sqrt(-randcv.cv_results_['mean_test_score'])"
   ],
   "metadata": {
    "colab": {
     "base_uri": "https://localhost:8080/"
    },
    "id": "IDElThFN2v2H",
    "outputId": "a56b1006-09f7-4428-bcce-aeeff6c23279",
    "pycharm": {
     "name": "#%%\n"
    }
   },
   "execution_count": 73,
   "outputs": [
    {
     "output_type": "execute_result",
     "data": {
      "text/plain": [
       "array([60.90828553, 71.58519132, 73.54790483, 61.4266836 , 72.81570668,\n",
       "       72.91009214, 60.4132181 , 60.64637689, 72.06737796, 61.54023208])"
      ]
     },
     "metadata": {},
     "execution_count": 73
    }
   ]
  },
  {
   "cell_type": "code",
   "source": [
    "#Difference\n",
    "(55.35583215782757 - 53.70886778489411)/53.70886778489411"
   ],
   "metadata": {
    "colab": {
     "base_uri": "https://localhost:8080/"
    },
    "id": "lnK9p8-y48b1",
    "outputId": "f1b27988-114a-4b6b-b665-d32648ae93c7",
    "pycharm": {
     "name": "#%%\n"
    }
   },
   "execution_count": 92,
   "outputs": [
    {
     "output_type": "execute_result",
     "data": {
      "text/plain": [
       "0.030664663785682663"
      ]
     },
     "metadata": {},
     "execution_count": 92
    }
   ]
  },
  {
   "cell_type": "code",
   "source": [],
   "metadata": {
    "id": "qnespNOzE_ck",
    "pycharm": {
     "name": "#%%\n"
    }
   },
   "execution_count": null,
   "outputs": []
  }
 ]
}