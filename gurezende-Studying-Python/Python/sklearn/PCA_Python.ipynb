{
 "nbformat": 4,
 "nbformat_minor": 0,
 "metadata": {
  "colab": {
   "provenance": [],
   "collapsed_sections": []
  },
  "kernelspec": {
   "name": "python3",
   "display_name": "Python 3"
  },
  "language_info": {
   "name": "python"
  }
 },
 "cells": [
  {
   "cell_type": "code",
   "metadata": {
    "id": "luTX-En7uYQb",
    "pycharm": {
     "name": "#%%\n"
    }
   },
   "source": [
    "import pandas as pd\n",
    "import random as rd\n",
    "import numpy as np\n",
    "from sklearn.decomposition import PCA\n",
    "from sklearn import preprocessing\n",
    "import matplotlib.pyplot as plt\n"
   ],
   "execution_count": 18,
   "outputs": []
  },
  {
   "cell_type": "markdown",
   "source": [
    "# PCA Example"
   ],
   "metadata": {
    "id": "25lVu4sQ21xy",
    "pycharm": {
     "name": "#%% md\n"
    }
   }
  },
  {
   "cell_type": "code",
   "source": [
    "from sklearn.datasets import make_regression\n",
    "# Dataset\n",
    "X, y = make_regression(n_features=100, n_informative=40, random_state=12)"
   ],
   "metadata": {
    "id": "TGFkdets23rB",
    "pycharm": {
     "name": "#%%\n"
    }
   },
   "execution_count": 22,
   "outputs": []
  },
  {
   "cell_type": "code",
   "source": [
    "pd.DataFrame(X).head()"
   ],
   "metadata": {
    "colab": {
     "base_uri": "https://localhost:8080/",
     "height": 279
    },
    "id": "soNTErhy3APE",
    "outputId": "d0675431-62b2-4bc0-f7a7-99fb84227bd2",
    "pycharm": {
     "name": "#%%\n"
    }
   },
   "execution_count": 24,
   "outputs": [
    {
     "output_type": "execute_result",
     "data": {
      "text/plain": [
       "         0         1         2         3         4         5         6   \\\n",
       "0  1.546395 -0.554573 -1.283520 -1.189634 -0.405893  0.067492  1.204768   \n",
       "1 -1.153621  1.135172 -0.323426 -1.857512 -1.254399  0.212554 -0.607379   \n",
       "2 -1.141271 -0.628966 -1.831642 -0.762998 -0.035456  1.661222  1.602735   \n",
       "3 -0.512016 -0.579175 -0.756323 -0.320136  0.242372  0.141914 -1.870016   \n",
       "4 -0.853469  0.421215  0.380686  1.073296  0.839941  1.134185  0.639146   \n",
       "\n",
       "         7         8         9   ...        90        91        92        93  \\\n",
       "0  1.101842  0.288635  1.068235  ...  1.738898  1.664709  0.892834 -0.658659   \n",
       "1  1.173099  0.395522 -0.458011  ... -0.516529 -0.373196  0.955241  2.314128   \n",
       "2  0.086537  0.353388  0.240666  ...  1.835465 -0.370547 -0.202469  0.195755   \n",
       "3 -1.149307 -2.454029 -1.114201  ... -1.182566 -1.244197  0.528904  0.570788   \n",
       "4  0.080379  1.407700 -0.920043  ...  0.555535  2.568656  0.707241 -0.289593   \n",
       "\n",
       "         94        95        96        97        98        99  \n",
       "0  0.046808  0.236788  0.507824 -0.193501 -0.298570  1.129548  \n",
       "1 -0.030294  0.284300 -1.619432  1.380640  0.930196 -0.370562  \n",
       "2  0.683278 -2.595385 -1.143789 -1.542901 -0.405384  0.117448  \n",
       "3 -0.903276  0.104502 -0.279561  0.426413 -0.228506  0.088998  \n",
       "4  0.168347 -0.922538 -0.352458 -0.055467 -1.871257  1.530724  \n",
       "\n",
       "[5 rows x 100 columns]"
      ],
      "text/html": [
       "\n",
       "  <div id=\"df-bfdab1dc-de28-4461-8168-bf65ab132cae\">\n",
       "    <div class=\"colab-df-container\">\n",
       "      <div>\n",
       "<style scoped>\n",
       "    .dataframe tbody tr th:only-of-type {\n",
       "        vertical-align: middle;\n",
       "    }\n",
       "\n",
       "    .dataframe tbody tr th {\n",
       "        vertical-align: top;\n",
       "    }\n",
       "\n",
       "    .dataframe thead th {\n",
       "        text-align: right;\n",
       "    }\n",
       "</style>\n",
       "<table border=\"1\" class=\"dataframe\">\n",
       "  <thead>\n",
       "    <tr style=\"text-align: right;\">\n",
       "      <th></th>\n",
       "      <th>0</th>\n",
       "      <th>1</th>\n",
       "      <th>2</th>\n",
       "      <th>3</th>\n",
       "      <th>4</th>\n",
       "      <th>5</th>\n",
       "      <th>6</th>\n",
       "      <th>7</th>\n",
       "      <th>8</th>\n",
       "      <th>9</th>\n",
       "      <th>...</th>\n",
       "      <th>90</th>\n",
       "      <th>91</th>\n",
       "      <th>92</th>\n",
       "      <th>93</th>\n",
       "      <th>94</th>\n",
       "      <th>95</th>\n",
       "      <th>96</th>\n",
       "      <th>97</th>\n",
       "      <th>98</th>\n",
       "      <th>99</th>\n",
       "    </tr>\n",
       "  </thead>\n",
       "  <tbody>\n",
       "    <tr>\n",
       "      <th>0</th>\n",
       "      <td>1.546395</td>\n",
       "      <td>-0.554573</td>\n",
       "      <td>-1.283520</td>\n",
       "      <td>-1.189634</td>\n",
       "      <td>-0.405893</td>\n",
       "      <td>0.067492</td>\n",
       "      <td>1.204768</td>\n",
       "      <td>1.101842</td>\n",
       "      <td>0.288635</td>\n",
       "      <td>1.068235</td>\n",
       "      <td>...</td>\n",
       "      <td>1.738898</td>\n",
       "      <td>1.664709</td>\n",
       "      <td>0.892834</td>\n",
       "      <td>-0.658659</td>\n",
       "      <td>0.046808</td>\n",
       "      <td>0.236788</td>\n",
       "      <td>0.507824</td>\n",
       "      <td>-0.193501</td>\n",
       "      <td>-0.298570</td>\n",
       "      <td>1.129548</td>\n",
       "    </tr>\n",
       "    <tr>\n",
       "      <th>1</th>\n",
       "      <td>-1.153621</td>\n",
       "      <td>1.135172</td>\n",
       "      <td>-0.323426</td>\n",
       "      <td>-1.857512</td>\n",
       "      <td>-1.254399</td>\n",
       "      <td>0.212554</td>\n",
       "      <td>-0.607379</td>\n",
       "      <td>1.173099</td>\n",
       "      <td>0.395522</td>\n",
       "      <td>-0.458011</td>\n",
       "      <td>...</td>\n",
       "      <td>-0.516529</td>\n",
       "      <td>-0.373196</td>\n",
       "      <td>0.955241</td>\n",
       "      <td>2.314128</td>\n",
       "      <td>-0.030294</td>\n",
       "      <td>0.284300</td>\n",
       "      <td>-1.619432</td>\n",
       "      <td>1.380640</td>\n",
       "      <td>0.930196</td>\n",
       "      <td>-0.370562</td>\n",
       "    </tr>\n",
       "    <tr>\n",
       "      <th>2</th>\n",
       "      <td>-1.141271</td>\n",
       "      <td>-0.628966</td>\n",
       "      <td>-1.831642</td>\n",
       "      <td>-0.762998</td>\n",
       "      <td>-0.035456</td>\n",
       "      <td>1.661222</td>\n",
       "      <td>1.602735</td>\n",
       "      <td>0.086537</td>\n",
       "      <td>0.353388</td>\n",
       "      <td>0.240666</td>\n",
       "      <td>...</td>\n",
       "      <td>1.835465</td>\n",
       "      <td>-0.370547</td>\n",
       "      <td>-0.202469</td>\n",
       "      <td>0.195755</td>\n",
       "      <td>0.683278</td>\n",
       "      <td>-2.595385</td>\n",
       "      <td>-1.143789</td>\n",
       "      <td>-1.542901</td>\n",
       "      <td>-0.405384</td>\n",
       "      <td>0.117448</td>\n",
       "    </tr>\n",
       "    <tr>\n",
       "      <th>3</th>\n",
       "      <td>-0.512016</td>\n",
       "      <td>-0.579175</td>\n",
       "      <td>-0.756323</td>\n",
       "      <td>-0.320136</td>\n",
       "      <td>0.242372</td>\n",
       "      <td>0.141914</td>\n",
       "      <td>-1.870016</td>\n",
       "      <td>-1.149307</td>\n",
       "      <td>-2.454029</td>\n",
       "      <td>-1.114201</td>\n",
       "      <td>...</td>\n",
       "      <td>-1.182566</td>\n",
       "      <td>-1.244197</td>\n",
       "      <td>0.528904</td>\n",
       "      <td>0.570788</td>\n",
       "      <td>-0.903276</td>\n",
       "      <td>0.104502</td>\n",
       "      <td>-0.279561</td>\n",
       "      <td>0.426413</td>\n",
       "      <td>-0.228506</td>\n",
       "      <td>0.088998</td>\n",
       "    </tr>\n",
       "    <tr>\n",
       "      <th>4</th>\n",
       "      <td>-0.853469</td>\n",
       "      <td>0.421215</td>\n",
       "      <td>0.380686</td>\n",
       "      <td>1.073296</td>\n",
       "      <td>0.839941</td>\n",
       "      <td>1.134185</td>\n",
       "      <td>0.639146</td>\n",
       "      <td>0.080379</td>\n",
       "      <td>1.407700</td>\n",
       "      <td>-0.920043</td>\n",
       "      <td>...</td>\n",
       "      <td>0.555535</td>\n",
       "      <td>2.568656</td>\n",
       "      <td>0.707241</td>\n",
       "      <td>-0.289593</td>\n",
       "      <td>0.168347</td>\n",
       "      <td>-0.922538</td>\n",
       "      <td>-0.352458</td>\n",
       "      <td>-0.055467</td>\n",
       "      <td>-1.871257</td>\n",
       "      <td>1.530724</td>\n",
       "    </tr>\n",
       "  </tbody>\n",
       "</table>\n",
       "<p>5 rows × 100 columns</p>\n",
       "</div>\n",
       "      <button class=\"colab-df-convert\" onclick=\"convertToInteractive('df-bfdab1dc-de28-4461-8168-bf65ab132cae')\"\n",
       "              title=\"Convert this dataframe to an interactive table.\"\n",
       "              style=\"display:none;\">\n",
       "        \n",
       "  <svg xmlns=\"http://www.w3.org/2000/svg\" height=\"24px\"viewBox=\"0 0 24 24\"\n",
       "       width=\"24px\">\n",
       "    <path d=\"M0 0h24v24H0V0z\" fill=\"none\"/>\n",
       "    <path d=\"M18.56 5.44l.94 2.06.94-2.06 2.06-.94-2.06-.94-.94-2.06-.94 2.06-2.06.94zm-11 1L8.5 8.5l.94-2.06 2.06-.94-2.06-.94L8.5 2.5l-.94 2.06-2.06.94zm10 10l.94 2.06.94-2.06 2.06-.94-2.06-.94-.94-2.06-.94 2.06-2.06.94z\"/><path d=\"M17.41 7.96l-1.37-1.37c-.4-.4-.92-.59-1.43-.59-.52 0-1.04.2-1.43.59L10.3 9.45l-7.72 7.72c-.78.78-.78 2.05 0 2.83L4 21.41c.39.39.9.59 1.41.59.51 0 1.02-.2 1.41-.59l7.78-7.78 2.81-2.81c.8-.78.8-2.07 0-2.86zM5.41 20L4 18.59l7.72-7.72 1.47 1.35L5.41 20z\"/>\n",
       "  </svg>\n",
       "      </button>\n",
       "      \n",
       "  <style>\n",
       "    .colab-df-container {\n",
       "      display:flex;\n",
       "      flex-wrap:wrap;\n",
       "      gap: 12px;\n",
       "    }\n",
       "\n",
       "    .colab-df-convert {\n",
       "      background-color: #E8F0FE;\n",
       "      border: none;\n",
       "      border-radius: 50%;\n",
       "      cursor: pointer;\n",
       "      display: none;\n",
       "      fill: #1967D2;\n",
       "      height: 32px;\n",
       "      padding: 0 0 0 0;\n",
       "      width: 32px;\n",
       "    }\n",
       "\n",
       "    .colab-df-convert:hover {\n",
       "      background-color: #E2EBFA;\n",
       "      box-shadow: 0px 1px 2px rgba(60, 64, 67, 0.3), 0px 1px 3px 1px rgba(60, 64, 67, 0.15);\n",
       "      fill: #174EA6;\n",
       "    }\n",
       "\n",
       "    [theme=dark] .colab-df-convert {\n",
       "      background-color: #3B4455;\n",
       "      fill: #D2E3FC;\n",
       "    }\n",
       "\n",
       "    [theme=dark] .colab-df-convert:hover {\n",
       "      background-color: #434B5C;\n",
       "      box-shadow: 0px 1px 3px 1px rgba(0, 0, 0, 0.15);\n",
       "      filter: drop-shadow(0px 1px 2px rgba(0, 0, 0, 0.3));\n",
       "      fill: #FFFFFF;\n",
       "    }\n",
       "  </style>\n",
       "\n",
       "      <script>\n",
       "        const buttonEl =\n",
       "          document.querySelector('#df-bfdab1dc-de28-4461-8168-bf65ab132cae button.colab-df-convert');\n",
       "        buttonEl.style.display =\n",
       "          google.colab.kernel.accessAllowed ? 'block' : 'none';\n",
       "\n",
       "        async function convertToInteractive(key) {\n",
       "          const element = document.querySelector('#df-bfdab1dc-de28-4461-8168-bf65ab132cae');\n",
       "          const dataTable =\n",
       "            await google.colab.kernel.invokeFunction('convertToInteractive',\n",
       "                                                     [key], {});\n",
       "          if (!dataTable) return;\n",
       "\n",
       "          const docLinkHtml = 'Like what you see? Visit the ' +\n",
       "            '<a target=\"_blank\" href=https://colab.research.google.com/notebooks/data_table.ipynb>data table notebook</a>'\n",
       "            + ' to learn more about interactive tables.';\n",
       "          element.innerHTML = '';\n",
       "          dataTable['output_type'] = 'display_data';\n",
       "          await google.colab.output.renderOutput(dataTable, element);\n",
       "          const docLink = document.createElement('div');\n",
       "          docLink.innerHTML = docLinkHtml;\n",
       "          element.appendChild(docLink);\n",
       "        }\n",
       "      </script>\n",
       "    </div>\n",
       "  </div>\n",
       "  "
      ]
     },
     "metadata": {},
     "execution_count": 24
    }
   ]
  },
  {
   "cell_type": "code",
   "source": [
    "#Reduce Dimensionality\n",
    "pca = PCA(n_components=2)\n",
    "# Fit\n",
    "pca_2d = pca.fit_transform(X)\n",
    "df_2d = pd.DataFrame(pca_2d, columns=['PC1', 'PC2'])\n",
    "\n",
    "# Plot 2D PCA\n",
    "plt.figure(figsize=(10,6))\n",
    "plt.scatter(x= df_2d.PC1,\n",
    "                y = df_2d.PC2)\n",
    "plt.title('Principal Components 2D', size=15);\n"
   ],
   "metadata": {
    "colab": {
     "base_uri": "https://localhost:8080/",
     "height": 392
    },
    "id": "lVcKZyYV62Yw",
    "outputId": "5458616d-6ce3-45ca-a723-7806c58df278",
    "pycharm": {
     "name": "#%%\n"
    }
   },
   "execution_count": 71,
   "outputs": [
    {
     "output_type": "display_data",
     "data": {
      "text/plain": [
       "<Figure size 720x432 with 1 Axes>"
      ],
      "image/png": "[encoded data removed]"
     },
     "metadata": {
      "needs_background": "light"
     }
    }
   ]
  },
  {
   "cell_type": "code",
   "source": [
    "from pandas._libs.algos import diff_2d\n",
    "# Create figure\n",
    "fig, (g1, g2) = plt.subplots(1,2, figsize=(15,7))\n",
    "\n",
    "# Plots versus y\n",
    "g1.scatter(x= df_2d.PC1, y=y)\n",
    "g1.set_xlabel('PC1')\n",
    "g1.set_ylabel('y')\n",
    "g2.scatter(x= df_2d.PC2, y=y)\n",
    "g2.set_xlabel('PC2');"
   ],
   "metadata": {
    "colab": {
     "base_uri": "https://localhost:8080/",
     "height": 442
    },
    "id": "RQdvfeTj8bGA",
    "outputId": "68ee6104-e8ca-4d9c-dc63-457814d07b3b",
    "pycharm": {
     "name": "#%%\n"
    }
   },
   "execution_count": 67,
   "outputs": [
    {
     "output_type": "display_data",
     "data": {
      "text/plain": [
       "<Figure size 1080x504 with 2 Axes>"
      ],
      "image/png": "[encoded data removed]"
     },
     "metadata": {
      "needs_background": "light"
     }
    }
   ]
  },
  {
   "cell_type": "code",
   "source": [
    "# Variance comprehended in 2D\n",
    "pca.explained_variance_ratio_"
   ],
   "metadata": {
    "colab": {
     "base_uri": "https://localhost:8080/"
    },
    "id": "e15NZD1b-n49",
    "outputId": "5704bde4-ade7-4d4e-8586-408f602d05fa",
    "pycharm": {
     "name": "#%%\n"
    }
   },
   "execution_count": 78,
   "outputs": [
    {
     "output_type": "execute_result",
     "data": {
      "text/plain": [
       "array([0.03874607, 0.03712152])"
      ]
     },
     "metadata": {},
     "execution_count": 78
    }
   ]
  },
  {
   "cell_type": "code",
   "source": [
    "#Reduce Dimensionality\n",
    "pca95 = PCA(n_components=0.95)\n",
    "# Fit\n",
    "transformed = pca95.fit_transform(X)"
   ],
   "metadata": {
    "id": "I3BPtNXb3Pfr",
    "pycharm": {
     "name": "#%%\n"
    }
   },
   "execution_count": 82,
   "outputs": []
  },
  {
   "cell_type": "code",
   "source": [
    "# Plot\n",
    "plt.figure(figsize=(19,6))\n",
    "plt.bar(x= [str(i) for i in range(1,pca95.n_components_+1)],\n",
    "        height= pca95.explained_variance_ratio_,)\n",
    "plt.title('Principal Components with 95% data variance', size=15);"
   ],
   "metadata": {
    "colab": {
     "base_uri": "https://localhost:8080/",
     "height": 392
    },
    "id": "43QZ3ONt3j1K",
    "outputId": "cc677e7c-1211-414e-944c-841839d2d042",
    "pycharm": {
     "name": "#%%\n"
    }
   },
   "execution_count": 86,
   "outputs": [
    {
     "output_type": "display_data",
     "data": {
      "text/plain": [
       "<Figure size 1368x432 with 1 Axes>"
      ],
      "image/png": "[encoded data removed]"
     },
     "metadata": {
      "needs_background": "light"
     }
    }
   ]
  },
  {
   "cell_type": "code",
   "source": [],
   "metadata": {
    "id": "RlznwKen4vda",
    "pycharm": {
     "name": "#%%\n"
    }
   },
   "execution_count": null,
   "outputs": []
  }
 ]
}