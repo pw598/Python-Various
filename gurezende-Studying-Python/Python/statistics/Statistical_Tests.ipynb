{
  "nbformat": 4,
  "nbformat_minor": 0,
  "metadata": {
    "colab": {
      "name": "Statistical Tests.ipynb",
      "provenance": []
    },
    "kernelspec": {
      "name": "python3",
      "display_name": "Python 3"
    },
    "language_info": {
      "name": "python"
    }
  },
  "cells": [
    {
      "cell_type": "code",
      "metadata": {
        "id": "gki_4kY5Rijh"
      },
      "source": [
        "from statsmodels.stats.diagnostic import lilliefors # Kolmogorov-Smirnov\n",
        "from statsmodels.stats.weightstats import ztest\n",
        "import statsmodels.stats as sts # probplot\n",
        "import scipy.stats as scs # T-test, Shapiro, Anderson, Wilcoxon, Mann-Whitney\n",
        "import matplotlib.pyplot as plt\n",
        "\n",
        "# Basics\n",
        "import pandas as pd\n",
        "import numpy as np\n",
        "\n",
        "#seaborn\n",
        "import seaborn as sns"
      ],
      "execution_count": null,
      "outputs": []
    },
    {
      "cell_type": "code",
      "metadata": {
        "colab": {
          "base_uri": "https://localhost:8080/",
          "height": 111
        },
        "id": "mbiUAV4xSMJE",
        "outputId": "5b750777-4e6c-4019-fd89-75911ea8ed0c"
      },
      "source": [
        "df = sns.load_dataset('iris')\n",
        "df.head(2)"
      ],
      "execution_count": null,
      "outputs": [
        {
          "output_type": "execute_result",
          "data": {
            "text/html": [
              "<div>\n",
              "<style scoped>\n",
              "    .dataframe tbody tr th:only-of-type {\n",
              "        vertical-align: middle;\n",
              "    }\n",
              "\n",
              "    .dataframe tbody tr th {\n",
              "        vertical-align: top;\n",
              "    }\n",
              "\n",
              "    .dataframe thead th {\n",
              "        text-align: right;\n",
              "    }\n",
              "</style>\n",
              "<table border=\"1\" class=\"dataframe\">\n",
              "  <thead>\n",
              "    <tr style=\"text-align: right;\">\n",
              "      <th></th>\n",
              "      <th>sepal_length</th>\n",
              "      <th>sepal_width</th>\n",
              "      <th>petal_length</th>\n",
              "      <th>petal_width</th>\n",
              "      <th>species</th>\n",
              "    </tr>\n",
              "  </thead>\n",
              "  <tbody>\n",
              "    <tr>\n",
              "      <th>0</th>\n",
              "      <td>5.1</td>\n",
              "      <td>3.5</td>\n",
              "      <td>1.4</td>\n",
              "      <td>0.2</td>\n",
              "      <td>setosa</td>\n",
              "    </tr>\n",
              "    <tr>\n",
              "      <th>1</th>\n",
              "      <td>4.9</td>\n",
              "      <td>3.0</td>\n",
              "      <td>1.4</td>\n",
              "      <td>0.2</td>\n",
              "      <td>setosa</td>\n",
              "    </tr>\n",
              "  </tbody>\n",
              "</table>\n",
              "</div>"
            ],
            "text/plain": [
              "   sepal_length  sepal_width  petal_length  petal_width species\n",
              "0           5.1          3.5           1.4          0.2  setosa\n",
              "1           4.9          3.0           1.4          0.2  setosa"
            ]
          },
          "metadata": {},
          "execution_count": 13
        }
      ]
    },
    {
      "cell_type": "code",
      "metadata": {
        "colab": {
          "base_uri": "https://localhost:8080/"
        },
        "id": "m4Gh6kNDutnx",
        "outputId": "2b66fee5-1661-4722-aa2b-9eab2be2a727"
      },
      "source": [
        "df.species.unique()"
      ],
      "execution_count": null,
      "outputs": [
        {
          "output_type": "execute_result",
          "data": {
            "text/plain": [
              "array(['setosa', 'versicolor', 'virginica'], dtype=object)"
            ]
          },
          "metadata": {},
          "execution_count": 14
        }
      ]
    },
    {
      "cell_type": "markdown",
      "metadata": {
        "id": "BWBc91FDrH0p"
      },
      "source": [
        "**Problem:** We want to compare if the petal length's means among the flowers are different"
      ]
    },
    {
      "cell_type": "code",
      "metadata": {
        "id": "iu5ShzSGS7WA"
      },
      "source": [
        "# Separate both samples\n",
        "setosa = df.query('species == \"setosa\"')['petal_length']\n",
        "versicolor = df.query('species == \"versicolor\"')['petal_length']\n",
        "virginica = df.query('species == \"virginica\"')['petal_length']"
      ],
      "execution_count": null,
      "outputs": []
    },
    {
      "cell_type": "code",
      "metadata": {
        "colab": {
          "base_uri": "https://localhost:8080/"
        },
        "id": "cJH6DGeL3CUB",
        "outputId": "1a93c86c-b7e6-464d-e89f-3bcc282182cc"
      },
      "source": [
        "versicolor.shape"
      ],
      "execution_count": null,
      "outputs": [
        {
          "output_type": "execute_result",
          "data": {
            "text/plain": [
              "(50,)"
            ]
          },
          "metadata": {},
          "execution_count": 66
        }
      ]
    },
    {
      "cell_type": "code",
      "metadata": {
        "colab": {
          "base_uri": "https://localhost:8080/"
        },
        "id": "sDA3t3xur3K6",
        "outputId": "4908a5e2-843c-4e59-cdec-196cb6b4713d"
      },
      "source": [
        "# Check normality (p > 0.05 means normal distribution)\n",
        "print('Setosa:', scs.shapiro(setosa))\n",
        "print('versicolor:', scs.shapiro(versicolor))\n",
        "print('virginica:', scs.shapiro(virginica))"
      ],
      "execution_count": null,
      "outputs": [
        {
          "output_type": "stream",
          "name": "stdout",
          "text": [
            "Setosa: (0.9549766182899475, 0.05481043830513954)\n",
            "versicolor: (0.9660047888755798, 0.1584833413362503)\n",
            "virginica: (0.9621862769126892, 0.10977369546890259)\n"
          ]
        }
      ]
    },
    {
      "cell_type": "code",
      "metadata": {
        "colab": {
          "base_uri": "https://localhost:8080/",
          "height": 295
        },
        "id": "ECJiZXNFvoO5",
        "outputId": "1e864c7e-101c-4f9b-fbfc-ccde965d946f"
      },
      "source": [
        "stats.probplot(setosa, dist='norm', plot=plt)\n",
        "plt.show()"
      ],
      "execution_count": null,
      "outputs": [
        {
          "output_type": "display_data",
          "data": {
            "image/png": "[encoded data removed]",
            "text/plain": [
              "<Figure size 432x288 with 1 Axes>"
            ]
          },
          "metadata": {
            "needs_background": "light"
          }
        }
      ]
    },
    {
      "cell_type": "code",
      "metadata": {
        "colab": {
          "base_uri": "https://localhost:8080/"
        },
        "id": "0KkawCDYwc6_",
        "outputId": "c55c7445-c517-4cd0-efb4-65b236238525"
      },
      "source": [
        "#Homegeneous Variance (Levene Test)\n",
        "stat, p = stats.levene(setosa, virginica, center='mean')\n",
        "print(f'Test Stat: {stat}')\n",
        "print(f'p-Value: {p}')"
      ],
      "execution_count": null,
      "outputs": [
        {
          "output_type": "stream",
          "name": "stdout",
          "text": [
            "Test Stat: 39.80074195637142\n",
            "p-Value: 8.157096871531273e-09\n"
          ]
        }
      ]
    },
    {
      "cell_type": "markdown",
      "metadata": {
        "id": "W000Bnu5xz24"
      },
      "source": [
        "The variance in this case is not homogeneous. "
      ]
    },
    {
      "cell_type": "code",
      "metadata": {
        "colab": {
          "base_uri": "https://localhost:8080/"
        },
        "id": "5YsgP2yl0KNp",
        "outputId": "77b1ae66-04b5-4de7-b39a-c3a0918ab4e4"
      },
      "source": [
        "#Homegeneous Variance (Levene Test)\n",
        "stat, p = stats.levene(setosa, versicolor, center='mean')\n",
        "print(f'Test Stat: {stat}')\n",
        "print(f'p-Value: {p}')"
      ],
      "execution_count": null,
      "outputs": [
        {
          "output_type": "stream",
          "name": "stdout",
          "text": [
            "Test Stat: 35.4197094799367\n",
            "p-Value: 4.132475340907607e-08\n"
          ]
        }
      ]
    },
    {
      "cell_type": "code",
      "metadata": {
        "colab": {
          "base_uri": "https://localhost:8080/"
        },
        "id": "VBm4Vd3j0WUz",
        "outputId": "af18ff65-ab63-4ff6-99d2-5433255ca8fa"
      },
      "source": [
        "#Homegeneous Variance (Levene Test)\n",
        "stat, p = stats.levene(virginica, versicolor, center='mean')\n",
        "print(f'Test Stat: {stat}')\n",
        "print(f'p-Value: {p}')"
      ],
      "execution_count": null,
      "outputs": [
        {
          "output_type": "stream",
          "name": "stdout",
          "text": [
            "Test Stat: 1.0204615845018339\n",
            "p-Value: 0.31489722188956176\n"
          ]
        }
      ]
    },
    {
      "cell_type": "markdown",
      "metadata": {
        "id": "FD0Z-sHzyNHx"
      },
      "source": [
        "## Z Test"
      ]
    },
    {
      "cell_type": "markdown",
      "metadata": {
        "id": "GqwPie6RzV1r"
      },
      "source": [
        "We must set our Hypothesis test parameters.\n",
        "* Ho = No difference between means : p > 0.05\n",
        "* Ha = There is difference between means : p < 0.05"
      ]
    },
    {
      "cell_type": "code",
      "metadata": {
        "colab": {
          "base_uri": "https://localhost:8080/",
          "height": 190
        },
        "id": "IltUuLYjyQHj",
        "outputId": "5a3ac4a6-c0d3-4fdb-d357-79305097d646"
      },
      "source": [
        "# T-Test for two independent Samples\n",
        "ztest(setosa, virginica)"
      ],
      "execution_count": null,
      "outputs": [
        {
          "output_type": "error",
          "ename": "NameError",
          "evalue": "ignored",
          "traceback": [
            "\u001b[0;31m---------------------------------------------------------------------------\u001b[0m",
            "\u001b[0;31mNameError\u001b[0m                                 Traceback (most recent call last)",
            "\u001b[0;32m<ipython-input-1-b857a8c22ca4>\u001b[0m in \u001b[0;36m<module>\u001b[0;34m()\u001b[0m\n\u001b[1;32m      1\u001b[0m \u001b[0;31m# T-Test for two independent Samples\u001b[0m\u001b[0;34m\u001b[0m\u001b[0;34m\u001b[0m\u001b[0;34m\u001b[0m\u001b[0m\n\u001b[0;32m----> 2\u001b[0;31m \u001b[0mztest\u001b[0m\u001b[0;34m(\u001b[0m\u001b[0msetosa\u001b[0m\u001b[0;34m,\u001b[0m \u001b[0mvirginica\u001b[0m\u001b[0;34m)\u001b[0m\u001b[0;34m\u001b[0m\u001b[0;34m\u001b[0m\u001b[0m\n\u001b[0m",
            "\u001b[0;31mNameError\u001b[0m: name 'ztest' is not defined"
          ]
        }
      ]
    },
    {
      "cell_type": "markdown",
      "metadata": {
        "id": "RbCHk5lNz2iF"
      },
      "source": [
        "p-Values is 0, so there we can reject the Null Hypothesis. There is statistically significant difference between the means of *setosa* and *virginica* flowes"
      ]
    },
    {
      "cell_type": "code",
      "metadata": {
        "id": "8qMP5Ukfz16h"
      },
      "source": [
        "# T-Test for two independent Samples\n",
        "ztest(setosa, versicolor)"
      ],
      "execution_count": null,
      "outputs": []
    },
    {
      "cell_type": "markdown",
      "metadata": {
        "id": "gfhG7f3L0ddJ"
      },
      "source": [
        "p-Values is 0, so there we can reject the Null Hypothesis. There is statistically significant difference between the means of setosa and virginica flowes"
      ]
    },
    {
      "cell_type": "code",
      "metadata": {
        "id": "ytTYbz97z13v"
      },
      "source": [
        "# T-Test for two independent Samples\n",
        "ztest(virginica, versicolor)"
      ],
      "execution_count": null,
      "outputs": []
    },
    {
      "cell_type": "markdown",
      "metadata": {
        "id": "5KtGhj5I0ezF"
      },
      "source": [
        "p-Values is 0, so there we can reject the Null Hypothesis. There is statistically significant difference between the means of setosa and virginica flowes"
      ]
    },
    {
      "cell_type": "code",
      "metadata": {
        "id": "Id3-Krsw0ici"
      },
      "source": [
        "print('setosa', setosa.describe() )\n",
        "print('virginica', virginica.describe() )\n",
        "print('versicolor', versicolor.describe() )"
      ],
      "execution_count": null,
      "outputs": []
    },
    {
      "cell_type": "code",
      "metadata": {
        "id": "wNk1lWqPVuoc"
      },
      "source": [
        "def normality_tests(my_sample):\n",
        "  # Shapiro Test\n",
        "  _, p1 = scs.shapiro(my_sample)\n",
        "  print('Shapiro:')\n",
        "  print('Not normal | p-value:' if p1 < 0.05 else 'Normal | p-value:', p1)\n",
        "  print('-------------------------------')\n",
        "\n",
        "# Kolmogorov test\n",
        "  _, p2 = lilliefors(my_sample, dist='norm')\n",
        "  print('Kolmogorov:')\n",
        "  print('Not normal | p-value:' if p2 < 0.05 else 'Normal | p-value:', p2)\n",
        "  print('-------------------------------')\n",
        "\n",
        "  # Anderson\n",
        "  stat, p3, _ = scs.anderson(my_sample, dist='norm')\n",
        "  print('Anderson:')\n",
        "  print('Not normal | p-value:' if stat > p3[2] else 'Normal | stat:', stat, ':: p-value:', p3[2])\n",
        "\n",
        "  # QQPlot\n",
        "  scs.probplot(my_sample, dist='norm', plot=plt)\n",
        "  plt.title('QQ Plot')\n",
        "  plt.show()"
      ],
      "execution_count": null,
      "outputs": []
    },
    {
      "cell_type": "markdown",
      "metadata": {
        "id": "d-55VVyCqAD5"
      },
      "source": [
        "## T-Test"
      ]
    },
    {
      "cell_type": "markdown",
      "metadata": {
        "id": "mZIxX-SKqHvu"
      },
      "source": [
        "1 sample compared to a number (population mean)\n",
        "* Ho = mean is equal : p > 0.05\n",
        "* Ha = mean is different : p < 0.05"
      ]
    },
    {
      "cell_type": "code",
      "metadata": {
        "colab": {
          "base_uri": "https://localhost:8080/"
        },
        "id": "K2YJPBThqoLH",
        "outputId": "02adc566-3413-4650-c252-a55f28b83a1d"
      },
      "source": [
        "# T-Test one sample\n",
        "scipy.stats.ttest_1samp(df.mpg, popmean= 28)"
      ],
      "execution_count": null,
      "outputs": [
        {
          "output_type": "execute_result",
          "data": {
            "text/plain": [
              "Ttest_1sampResult(statistic=-11.448844667034251, pvalue=2.0243620914866503e-26)"
            ]
          },
          "metadata": {},
          "execution_count": 52
        }
      ]
    },
    {
      "cell_type": "markdown",
      "metadata": {
        "id": "G5MtXomHsMX9"
      },
      "source": [
        "p-Value is lower than alfa, so we can reject the Ho with 95% confidence."
      ]
    },
    {
      "cell_type": "markdown",
      "metadata": {
        "id": "2fhDhIEjm_SO"
      },
      "source": [
        "## A/B Testing"
      ]
    },
    {
      "cell_type": "markdown",
      "metadata": {
        "id": "L_O9yRs9nJ_l"
      },
      "source": [
        "**Power Function**: The power of a hypothesis test is the probability of making the correct decision if the alternative hypothesis is true. In general, for every hypothesis test we conduct, we will try to maximize the power. Typically, we desire the power to be 0.8 or greater.\n"
      ]
    },
    {
      "cell_type": "code",
      "metadata": {
        "id": "IqfE048CnA_-"
      },
      "source": [
        "from scipy import stats\n",
        "def get_power(n, p1, p2, cl):\n",
        "  '''size(n), control group mean (p1), test_group mean (p2), and confidence interval (cl)\n",
        "  Returns the prob to make the right decision in an AB test'''\n",
        "\n",
        "  alpha = 1 - cl\n",
        "  qu = stats.norm.ppf(1 - alpha/2)\n",
        "  diff = abs(p2-p1)\n",
        "  bp = (p1+p2) / 2\n",
        "    \n",
        "  v1 = p1 * (1-p1)\n",
        "  v2 = p2 * (1-p2)\n",
        "  bv = bp * (1-bp)\n",
        "    \n",
        "  power_part_one = stats.norm.cdf((n**0.5 * diff - qu * (2 * bv)**0.5) / (v1+v2) ** 0.5)\n",
        "  power_part_two = 1 - stats.norm.cdf((n**0.5 * diff + qu * (2 * bv)**0.5) / (v1+v2) ** 0.5)\n",
        "   \n",
        "  power = power_part_one + power_part_two\n",
        "   \n",
        "  return (power)"
      ],
      "execution_count": null,
      "outputs": []
    },
    {
      "cell_type": "code",
      "metadata": {
        "colab": {
          "base_uri": "https://localhost:8080/"
        },
        "id": "SmM7KbmVocXW",
        "outputId": "a1cd3656-cb9d-4a6a-bf33-e93efd450e68"
      },
      "source": [
        "get_power(1000, 10, 12, 0.95) "
      ],
      "execution_count": null,
      "outputs": [
        {
          "output_type": "execute_result",
          "data": {
            "text/plain": [
              "(-213.79663221513727-1.7763568394002505e-13j)"
            ]
          },
          "metadata": {},
          "execution_count": 5
        }
      ]
    },
    {
      "cell_type": "markdown",
      "metadata": {
        "id": "Oa_dBxN6r_Hx"
      },
      "source": [
        "The sample size the function returns indicates that under the desired power, if analysts want to observe the change in the mean between test groups and control groups for certain confidence interval, the analyst will need N sample."
      ]
    },
    {
      "cell_type": "code",
      "metadata": {
        "id": "nePpjRq1otcn"
      },
      "source": [
        "def get_sample_size(power, p1, p2, cl, max_n=1000000):\n",
        "  n = 1 \n",
        "  while n <= max_n:\n",
        "    tmp_power = get_power(n, p1, p2, cl)\n",
        "    if tmp_power >= power: \n",
        "      return f'Given the power of {power} and C.I. of {cl}, the sample size needed is {n}' \n",
        "    else: \n",
        "      n = n + 100\n",
        "  return \"Increase Max N Value\""
      ],
      "execution_count": null,
      "outputs": []
    },
    {
      "cell_type": "code",
      "metadata": {
        "colab": {
          "base_uri": "https://localhost:8080/"
        },
        "id": "9sN0IgrHsGGd",
        "outputId": "f55e1f57-8914-417e-c084-e39fe90388c4"
      },
      "source": [
        "# Trial1\n",
        "conversion_rate = 0.03\n",
        "power = 0.8\n",
        "cl = 0.9\n",
        "percent_lift = 0.1\n",
        "conversion_rate_p2 = conversion_rate * (1 + percent_lift)\n",
        "\n",
        "get_sample_size(power, conversion_rate, conversion_rate_p2, cl)"
      ],
      "execution_count": null,
      "outputs": [
        {
          "output_type": "execute_result",
          "data": {
            "text/plain": [
              "42001"
            ]
          },
          "metadata": {},
          "execution_count": 13
        }
      ]
    },
    {
      "cell_type": "markdown",
      "metadata": {
        "id": "tcivPWArsqxL"
      },
      "source": [
        "The p-value function here is to test the result value between test groups and control groups, given the sample size of each group, whether the change is significant enough to reach the A/B testing conclusion."
      ]
    },
    {
      "cell_type": "code",
      "metadata": {
        "id": "xzUOi5eisWqH"
      },
      "source": [
        "def get_pvalue(con_conv, test_conv, con_size, test_size):\n",
        "  lift = -abs(test_conv - con_conv)\n",
        "   \n",
        "  scale_one = con_conv * (1-con_conv) * (1/ con_size)\n",
        "  scale_two = test_conv * (1-test_conv) * (1/ test_size)\n",
        "  scale_val = (scale_one + scale_two) ** 0.5\n",
        "   \n",
        "  p_value = 2 * stats.norm.cdf(lift, loc=0, scale = scale_val)  \n",
        "  return p_value"
      ],
      "execution_count": null,
      "outputs": []
    },
    {
      "cell_type": "code",
      "metadata": {
        "colab": {
          "base_uri": "https://localhost:8080/"
        },
        "id": "k_zCsIRssvBO",
        "outputId": "fa5c1b8b-c14c-4f41-8449-d72785c38778"
      },
      "source": [
        "# Trial 1\n",
        "con_conv = 0.034351\n",
        "test_conv = 0.041984\n",
        "con_size = 48236\n",
        "test_size = 49867\n",
        "get_pvalue(con_conv, test_conv, con_size, test_size)   \n",
        "# 4.257297485586909e-10"
      ],
      "execution_count": null,
      "outputs": [
        {
          "output_type": "execute_result",
          "data": {
            "text/plain": [
              "4.257297485586909e-10"
            ]
          },
          "metadata": {},
          "execution_count": 15
        }
      ]
    },
    {
      "cell_type": "markdown",
      "metadata": {
        "id": "t72CDDyht0ig"
      },
      "source": [
        "The last handy function for A/B testing setting is the confidence interval function. Confidence interval will grant the analyst a range of estimation, and it somehow reveals the snapshot of the population mean. "
      ]
    },
    {
      "cell_type": "code",
      "metadata": {
        "id": "5GxzmS8Ztv74"
      },
      "source": [
        "def get_ci(lift, alpha, sd):\n",
        "  val = abs(stats.norm.ppf((1-alpha)/2))\n",
        "    \n",
        "  lwr_bnd = lift - val * sd\n",
        "  upr_bnd = lift + val * sd\n",
        "    \n",
        "  return (lwr_bnd, upr_bnd)"
      ],
      "execution_count": null,
      "outputs": []
    },
    {
      "cell_type": "code",
      "metadata": {
        "colab": {
          "base_uri": "https://localhost:8080/"
        },
        "id": "n1rsSDPut-s5",
        "outputId": "ebb9c380-e86c-48ad-914b-0bd71f2ae780"
      },
      "source": [
        "# Trial 1\n",
        "test_conv = 0.102005\n",
        "con_conv = 0.090965\n",
        "test_size = 56350\n",
        "con_size = 58583\n",
        "lift_mean = test_conv - con_conv\n",
        "lift_variance = (1 - test_conv) * test_conv /test_size + (1 - con_conv) * con_conv / con_size\n",
        "lift_sd = lift_variance**0.5\n",
        "get_ci(lift_mean, 0.95, lift_sd)"
      ],
      "execution_count": null,
      "outputs": [
        {
          "output_type": "execute_result",
          "data": {
            "text/plain": [
              "(0.007624337671217316, 0.014455662328782672)"
            ]
          },
          "metadata": {},
          "execution_count": 17
        }
      ]
    },
    {
      "cell_type": "markdown",
      "metadata": {
        "id": "pYjUAw_20PoO"
      },
      "source": [
        "### Teste"
      ]
    },
    {
      "cell_type": "markdown",
      "metadata": {
        "id": "X6B-t0rk2MtS"
      },
      "source": [
        "#### Define Baseline and Lift"
      ]
    },
    {
      "cell_type": "code",
      "metadata": {
        "id": "zf9T7fkQt_AR"
      },
      "source": [
        "# Define baseline conversion rate. We have 10% conversion and want to improve 2%\n",
        "bcr = 0.10\n",
        "\n",
        "# Desired uplift\n",
        "d_hat = 0.02"
      ],
      "execution_count": null,
      "outputs": []
    },
    {
      "cell_type": "markdown",
      "metadata": {
        "id": "NJDeMU4B2RnE"
      },
      "source": [
        "#### Define Sample Size"
      ]
    },
    {
      "cell_type": "code",
      "metadata": {
        "colab": {
          "base_uri": "https://localhost:8080/",
          "height": 35
        },
        "id": "veKPFYC40aGe",
        "outputId": "85620aba-eb5e-413f-e3ec-ca2e00fb0319"
      },
      "source": [
        "conversion_rate = 0.1\n",
        "power = 0.8\n",
        "cl = 0.9\n",
        "percent_lift = 0.2\n",
        "conversion_rate_p2 = conversion_rate * (1 + percent_lift)\n",
        "\n",
        "get_sample_size(power, conversion_rate, conversion_rate_p2, cl)"
      ],
      "execution_count": null,
      "outputs": [
        {
          "output_type": "execute_result",
          "data": {
            "application/vnd.google.colaboratory.intrinsic+json": {
              "type": "string"
            },
            "text/plain": [
              "'Given the power of 0.8 and C.I. of 0.9, the sample size needed is 3101'"
            ]
          },
          "metadata": {},
          "execution_count": 21
        }
      ]
    },
    {
      "cell_type": "code",
      "metadata": {
        "id": "2r4hTBB62fU6"
      },
      "source": [
        "# Define Control and Test Group Sizes\n",
        "N_A = int(3100/2)\n",
        "N_B = int(3100/2)"
      ],
      "execution_count": null,
      "outputs": []
    },
    {
      "cell_type": "markdown",
      "metadata": {
        "id": "4pUuPVJm3dap"
      },
      "source": [
        "#### Run the Test"
      ]
    },
    {
      "cell_type": "code",
      "metadata": {
        "id": "enhtmmLw3bxS"
      },
      "source": [
        "import scipy.stats as scs\n",
        "import pandas as pd\n",
        "import numpy as np\n",
        "\n",
        "\n",
        "def generate_data(N_A, N_B, p_A, p_B, days=None, control_label='A',\n",
        "                  test_label='B'):\n",
        "    \"\"\"Returns a pandas dataframe with fake CTR data\n",
        "    Example:\n",
        "    Parameters:\n",
        "        N_A (int): sample size for control group\n",
        "        N_B (int): sample size for test group\n",
        "            Note: final sample size may not match N_A provided because the\n",
        "            group at each row is chosen at random (50/50).\n",
        "        p_A (float): conversion rate; conversion rate of control group\n",
        "        p_B (float): conversion rate; conversion rate of test group\n",
        "        days (int): optional; if provided, a column for 'ts' will be included\n",
        "            to divide the data in chunks of time\n",
        "            Note: overflow data will be included in an extra day\n",
        "        control_label (str)\n",
        "        test_label (str)\n",
        "    Returns:\n",
        "        df (df)\n",
        "    \"\"\"\n",
        "\n",
        "    # initiate empty container\n",
        "    data = []\n",
        "\n",
        "    # total amount of rows in the data\n",
        "    N = N_A + N_B\n",
        "\n",
        "    # distribute events based on proportion of group size\n",
        "    group_bern = scs.bernoulli(N_A / (N_A + N_B))\n",
        "\n",
        "    # initiate bernoulli distributions from which to randomly sample\n",
        "    A_bern = scs.bernoulli(p_A)\n",
        "    B_bern = scs.bernoulli(p_B)\n",
        "\n",
        "    for idx in range(N):\n",
        "        # initite empty row\n",
        "        row = {}\n",
        "        # for 'ts' column\n",
        "        if days is not None:\n",
        "            if type(days) == int:\n",
        "                row['ts'] = idx // (N // days)\n",
        "            else:\n",
        "                raise ValueError(\"Provide an integer for the days parameter.\")\n",
        "        # assign group based on 50/50 probability\n",
        "        row['group'] = group_bern.rvs()\n",
        "\n",
        "        if row['group'] == 0:\n",
        "            # assign conversion based on provided parameters\n",
        "            row['converted'] = A_bern.rvs()\n",
        "        else:\n",
        "            row['converted'] = B_bern.rvs()\n",
        "        # collect row into data container\n",
        "        data.append(row)\n",
        "\n",
        "    # convert data into pandas dataframe\n",
        "    df = pd.DataFrame(data)\n",
        "\n",
        "    # transform group labels of 0s and 1s to user-defined group labels\n",
        "    df['group'] = df['group'].apply(\n",
        "        lambda x: control_label if x == 0 else test_label)\n",
        "\n",
        "    return df"
      ],
      "execution_count": null,
      "outputs": []
    },
    {
      "cell_type": "code",
      "metadata": {
        "id": "dk2BUrxR4KTs"
      },
      "source": [
        "ab_data = generate_data(N_A, N_B, bcr, d_hat)"
      ],
      "execution_count": null,
      "outputs": []
    },
    {
      "cell_type": "code",
      "metadata": {
        "colab": {
          "base_uri": "https://localhost:8080/",
          "height": 142
        },
        "id": "ea79TH_M4MKk",
        "outputId": "51f997af-56da-43e9-f2e2-0ab52c1030ae"
      },
      "source": [
        "ab_data.head(3)"
      ],
      "execution_count": null,
      "outputs": [
        {
          "output_type": "execute_result",
          "data": {
            "text/html": [
              "<div>\n",
              "<style scoped>\n",
              "    .dataframe tbody tr th:only-of-type {\n",
              "        vertical-align: middle;\n",
              "    }\n",
              "\n",
              "    .dataframe tbody tr th {\n",
              "        vertical-align: top;\n",
              "    }\n",
              "\n",
              "    .dataframe thead th {\n",
              "        text-align: right;\n",
              "    }\n",
              "</style>\n",
              "<table border=\"1\" class=\"dataframe\">\n",
              "  <thead>\n",
              "    <tr style=\"text-align: right;\">\n",
              "      <th></th>\n",
              "      <th>group</th>\n",
              "      <th>converted</th>\n",
              "    </tr>\n",
              "  </thead>\n",
              "  <tbody>\n",
              "    <tr>\n",
              "      <th>0</th>\n",
              "      <td>B</td>\n",
              "      <td>0</td>\n",
              "    </tr>\n",
              "    <tr>\n",
              "      <th>1</th>\n",
              "      <td>B</td>\n",
              "      <td>0</td>\n",
              "    </tr>\n",
              "    <tr>\n",
              "      <th>2</th>\n",
              "      <td>A</td>\n",
              "      <td>1</td>\n",
              "    </tr>\n",
              "  </tbody>\n",
              "</table>\n",
              "</div>"
            ],
            "text/plain": [
              "  group  converted\n",
              "0     B          0\n",
              "1     B          0\n",
              "2     A          1"
            ]
          },
          "metadata": {},
          "execution_count": 53
        }
      ]
    },
    {
      "cell_type": "code",
      "metadata": {
        "id": "ouM9g3Qj4TU0"
      },
      "source": [
        "ab_summary = ab_data.pivot_table(values='converted', index='group', aggfunc=np.sum)\n",
        "# add additional columns to the pivot table\n",
        "ab_summary['total'] = ab_data.pivot_table(values='converted', index='group', aggfunc=lambda x: len(x))\n",
        "ab_summary['rate'] = ab_data.pivot_table(values='converted', index='group')"
      ],
      "execution_count": null,
      "outputs": []
    },
    {
      "cell_type": "code",
      "metadata": {
        "colab": {
          "base_uri": "https://localhost:8080/",
          "height": 142
        },
        "id": "zRRpUijT4o9F",
        "outputId": "19493012-e5d2-478a-e80f-3cc758508966"
      },
      "source": [
        "ab_summary"
      ],
      "execution_count": null,
      "outputs": [
        {
          "output_type": "execute_result",
          "data": {
            "text/html": [
              "<div>\n",
              "<style scoped>\n",
              "    .dataframe tbody tr th:only-of-type {\n",
              "        vertical-align: middle;\n",
              "    }\n",
              "\n",
              "    .dataframe tbody tr th {\n",
              "        vertical-align: top;\n",
              "    }\n",
              "\n",
              "    .dataframe thead th {\n",
              "        text-align: right;\n",
              "    }\n",
              "</style>\n",
              "<table border=\"1\" class=\"dataframe\">\n",
              "  <thead>\n",
              "    <tr style=\"text-align: right;\">\n",
              "      <th></th>\n",
              "      <th>converted</th>\n",
              "      <th>total</th>\n",
              "      <th>rate</th>\n",
              "    </tr>\n",
              "    <tr>\n",
              "      <th>group</th>\n",
              "      <th></th>\n",
              "      <th></th>\n",
              "      <th></th>\n",
              "    </tr>\n",
              "  </thead>\n",
              "  <tbody>\n",
              "    <tr>\n",
              "      <th>A</th>\n",
              "      <td>136</td>\n",
              "      <td>1512</td>\n",
              "      <td>0.089947</td>\n",
              "    </tr>\n",
              "    <tr>\n",
              "      <th>B</th>\n",
              "      <td>30</td>\n",
              "      <td>1588</td>\n",
              "      <td>0.018892</td>\n",
              "    </tr>\n",
              "  </tbody>\n",
              "</table>\n",
              "</div>"
            ],
            "text/plain": [
              "       converted  total      rate\n",
              "group                            \n",
              "A            136   1512  0.089947\n",
              "B             30   1588  0.018892"
            ]
          },
          "metadata": {},
          "execution_count": 55
        }
      ]
    },
    {
      "cell_type": "code",
      "metadata": {
        "id": "LUyhvrLh5Cyd"
      },
      "source": [
        ""
      ],
      "execution_count": null,
      "outputs": []
    },
    {
      "cell_type": "markdown",
      "metadata": {
        "id": "eOMsP9PBm4Hj"
      },
      "source": [
        "## Test Bus School"
      ]
    },
    {
      "cell_type": "markdown",
      "metadata": {
        "id": "6csbQHF3MKkv"
      },
      "source": [
        "Going to the bus stop, the bus seems to always arrive at different times. But can we have an idea of when it will arrive? \n",
        "Confidence Interval in Python"
      ]
    },
    {
      "cell_type": "code",
      "metadata": {
        "id": "6fITJ_Dhm3L5"
      },
      "source": [
        "import pandas as pd\n",
        "import numpy as np\n",
        "from datetime import time"
      ],
      "execution_count": null,
      "outputs": []
    },
    {
      "cell_type": "code",
      "metadata": {
        "id": "7r_jdB0NMyXC"
      },
      "source": [
        "times = [time(hour=4, minute=np.random.randint(20, 59)) for i in range(50)]\n",
        "df = pd.DataFrame({'day':range(1,51), 'arrival':times})"
      ],
      "execution_count": null,
      "outputs": []
    },
    {
      "cell_type": "code",
      "metadata": {
        "colab": {
          "base_uri": "https://localhost:8080/",
          "height": 142
        },
        "id": "MsxDM9LOM2YQ",
        "outputId": "95a854ec-3d64-4d39-dd79-dcf0d56fb785"
      },
      "source": [
        "df.head(3)"
      ],
      "execution_count": null,
      "outputs": [
        {
          "output_type": "execute_result",
          "data": {
            "text/html": [
              "<div>\n",
              "<style scoped>\n",
              "    .dataframe tbody tr th:only-of-type {\n",
              "        vertical-align: middle;\n",
              "    }\n",
              "\n",
              "    .dataframe tbody tr th {\n",
              "        vertical-align: top;\n",
              "    }\n",
              "\n",
              "    .dataframe thead th {\n",
              "        text-align: right;\n",
              "    }\n",
              "</style>\n",
              "<table border=\"1\" class=\"dataframe\">\n",
              "  <thead>\n",
              "    <tr style=\"text-align: right;\">\n",
              "      <th></th>\n",
              "      <th>day</th>\n",
              "      <th>arrival</th>\n",
              "    </tr>\n",
              "  </thead>\n",
              "  <tbody>\n",
              "    <tr>\n",
              "      <th>0</th>\n",
              "      <td>1</td>\n",
              "      <td>04:20:00</td>\n",
              "    </tr>\n",
              "    <tr>\n",
              "      <th>1</th>\n",
              "      <td>2</td>\n",
              "      <td>04:46:00</td>\n",
              "    </tr>\n",
              "    <tr>\n",
              "      <th>2</th>\n",
              "      <td>3</td>\n",
              "      <td>04:24:00</td>\n",
              "    </tr>\n",
              "  </tbody>\n",
              "</table>\n",
              "</div>"
            ],
            "text/plain": [
              "   day   arrival\n",
              "0    1  04:20:00\n",
              "1    2  04:46:00\n",
              "2    3  04:24:00"
            ]
          },
          "metadata": {},
          "execution_count": 38
        }
      ]
    },
    {
      "cell_type": "markdown",
      "metadata": {
        "id": "tqfxEHE8QNvf"
      },
      "source": [
        "Let's say I was told the bus will arrive daily at 4:30. What's the confidence in that information 95%?"
      ]
    },
    {
      "cell_type": "code",
      "metadata": {
        "colab": {
          "base_uri": "https://localhost:8080/"
        },
        "id": "OENfPgYmPs4h",
        "outputId": "dabd0711-0aba-44ad-dfbd-7875651158c3"
      },
      "source": [
        "# describe\n",
        "df.arrival.describe()"
      ],
      "execution_count": null,
      "outputs": [
        {
          "output_type": "execute_result",
          "data": {
            "text/plain": [
              "count           50\n",
              "unique          28\n",
              "top       04:24:00\n",
              "freq             5\n",
              "Name: arrival, dtype: object"
            ]
          },
          "metadata": {},
          "execution_count": 39
        }
      ]
    },
    {
      "cell_type": "code",
      "metadata": {
        "colab": {
          "base_uri": "https://localhost:8080/",
          "height": 173
        },
        "id": "EOdX6nS5P6E5",
        "outputId": "b45ca0d8-a3bd-482d-ffc8-62cd804ea56a"
      },
      "source": [
        "# prepare data\n",
        "df['minute'] = [df.arrival[i].minute for i, v in enumerate(df.arrival)]\n",
        "df.head(4)"
      ],
      "execution_count": null,
      "outputs": [
        {
          "output_type": "execute_result",
          "data": {
            "text/html": [
              "<div>\n",
              "<style scoped>\n",
              "    .dataframe tbody tr th:only-of-type {\n",
              "        vertical-align: middle;\n",
              "    }\n",
              "\n",
              "    .dataframe tbody tr th {\n",
              "        vertical-align: top;\n",
              "    }\n",
              "\n",
              "    .dataframe thead th {\n",
              "        text-align: right;\n",
              "    }\n",
              "</style>\n",
              "<table border=\"1\" class=\"dataframe\">\n",
              "  <thead>\n",
              "    <tr style=\"text-align: right;\">\n",
              "      <th></th>\n",
              "      <th>day</th>\n",
              "      <th>arrival</th>\n",
              "      <th>minute</th>\n",
              "    </tr>\n",
              "  </thead>\n",
              "  <tbody>\n",
              "    <tr>\n",
              "      <th>0</th>\n",
              "      <td>1</td>\n",
              "      <td>04:20:00</td>\n",
              "      <td>20</td>\n",
              "    </tr>\n",
              "    <tr>\n",
              "      <th>1</th>\n",
              "      <td>2</td>\n",
              "      <td>04:46:00</td>\n",
              "      <td>46</td>\n",
              "    </tr>\n",
              "    <tr>\n",
              "      <th>2</th>\n",
              "      <td>3</td>\n",
              "      <td>04:24:00</td>\n",
              "      <td>24</td>\n",
              "    </tr>\n",
              "    <tr>\n",
              "      <th>3</th>\n",
              "      <td>4</td>\n",
              "      <td>04:47:00</td>\n",
              "      <td>47</td>\n",
              "    </tr>\n",
              "  </tbody>\n",
              "</table>\n",
              "</div>"
            ],
            "text/plain": [
              "   day   arrival  minute\n",
              "0    1  04:20:00      20\n",
              "1    2  04:46:00      46\n",
              "2    3  04:24:00      24\n",
              "3    4  04:47:00      47"
            ]
          },
          "metadata": {},
          "execution_count": 40
        }
      ]
    },
    {
      "cell_type": "code",
      "metadata": {
        "colab": {
          "base_uri": "https://localhost:8080/",
          "height": 279
        },
        "id": "nxBRfHWut4zT",
        "outputId": "0fd5ca2f-4886-493c-bc05-ff2c4aafe309"
      },
      "source": [
        "sns.histplot(df.minute, kde=True);"
      ],
      "execution_count": null,
      "outputs": [
        {
          "output_type": "display_data",
          "data": {
            "image/png": "[encoded data removed]",
            "text/plain": [
              "<Figure size 432x288 with 1 Axes>"
            ]
          },
          "metadata": {
            "needs_background": "light"
          }
        }
      ]
    },
    {
      "cell_type": "code",
      "metadata": {
        "id": "wfLAv71jRSaM"
      },
      "source": [
        "def conf_interval(conf_level, df):\n",
        "  mu = df.mean()\n",
        "  n = len(df)\n",
        "  stdev - df.std()\n",
        "  z_value = {0.90:1.645, 0.95:1.96, 0.99:2.575} \n",
        "  E = z_value[conf_level] * (stdev/np.sqrt(n))\n",
        "\n",
        "  return f'The confidence interval for this distribution is {round(mu - E,1)} < {round(mu,1)} < {round(mu + E, 1)}'"
      ],
      "execution_count": null,
      "outputs": []
    },
    {
      "cell_type": "code",
      "metadata": {
        "colab": {
          "base_uri": "https://localhost:8080/"
        },
        "id": "UDVcA5IIR8yw",
        "outputId": "84b73012-fcc4-43d0-df1e-6ed639956e38"
      },
      "source": [
        "# Shapiro Normal Test\n",
        "scs.shapiro(df.minute)"
      ],
      "execution_count": null,
      "outputs": [
        {
          "output_type": "execute_result",
          "data": {
            "text/plain": [
              "(0.9200297594070435, 0.002363754203543067)"
            ]
          },
          "metadata": {},
          "execution_count": 43
        }
      ]
    },
    {
      "cell_type": "markdown",
      "metadata": {
        "id": "MiQGZLV-Wk1w"
      },
      "source": [
        "Distribution is not normal. So let's bootstrap."
      ]
    },
    {
      "cell_type": "code",
      "metadata": {
        "id": "F7zb9a-yy__e"
      },
      "source": [
        "import scipy.stats as scs\n",
        "import numpy as np\n",
        "\n",
        "def bootstrap_ci(df, samples, reps, conf_level):\n",
        "  '''\n",
        "  Function to calculate the confidence interval of a non-normal sample using bootstrap method.\n",
        "  The function will take in a series or list, extract a random sample for n reps and calculate the mean of the sample.\n",
        "  Then test normality and print the lower and upper boundaries of the confidence interval.\n",
        "  Inputs:\n",
        "  * df: Pandas Series with the data.\n",
        "  * samples: [int] number of samples you want to extract from the series\n",
        "  * reps: [int] repetitions of the bootstrap sampling\n",
        "  * conf_level: [float] 0.90, 0.95 or 0.99.\n",
        "\n",
        "  Example:\n",
        "  bootstrap_ci(df, 30, 50, 0.95)\n",
        "  '''\n",
        "  # Bootstrap Samples\n",
        "  bootstrap = [df.sample(samples, replace=True).mean() for i in range(reps)]\n",
        "  \n",
        "  # Normality Test\n",
        "  stat, p = scs.shapiro(bootstrap)\n",
        "  if p > 0.05:\n",
        "    print(f'Normal distribution confirmed. p-Value: {p}')\n",
        "  else:\n",
        "    return f'Distribution is not normal. Function ended. p-Value: {p}'\n",
        "  \n",
        "  # Return values\n",
        "  if conf_level == 0.90:\n",
        "    return (round( np.percentile(bootstrap, 5), 2) , round( np.percentile(bootstrap, 95), 2) )\n",
        "  elif conf_level == 0.95:\n",
        "    return (round( np.percentile(bootstrap, 2.5), 2) , round( np.percentile(bootstrap, 97.5), 2) )\n",
        "  else:\n",
        "    return (round( np.percentile(bootstrap, 0.5), 2) , round( np.percentile(bootstrap, 99.5), 2) )"
      ],
      "execution_count": null,
      "outputs": []
    },
    {
      "cell_type": "code",
      "metadata": {
        "colab": {
          "base_uri": "https://localhost:8080/"
        },
        "id": "-rUDj3Wy2GCG",
        "outputId": "e82a2d3b-04f2-4972-d557-4d75c2412b8b"
      },
      "source": [
        "bootstrap_ci(df.minute, samples=30, reps=50, conf_level=0.99)"
      ],
      "execution_count": null,
      "outputs": [
        {
          "output_type": "stream",
          "name": "stdout",
          "text": [
            "Normal distribution confirmed. p-Value: 0.6444646120071411\n"
          ]
        },
        {
          "output_type": "execute_result",
          "data": {
            "text/plain": [
              "(33.41, 41.07)"
            ]
          },
          "metadata": {},
          "execution_count": 66
        }
      ]
    },
    {
      "cell_type": "code",
      "metadata": {
        "id": "TKyEUOzAWkH9"
      },
      "source": [
        "min_bootstrap = [df.minute.sample(30, replace=True).mean() for i in range(50)]"
      ],
      "execution_count": null,
      "outputs": []
    },
    {
      "cell_type": "code",
      "metadata": {
        "id": "WL7-zildWTHT"
      },
      "source": [
        "df['bootstrap'] = min_bootstrap"
      ],
      "execution_count": null,
      "outputs": []
    },
    {
      "cell_type": "code",
      "metadata": {
        "colab": {
          "base_uri": "https://localhost:8080/",
          "height": 368
        },
        "id": "L2TK73gSuy_R",
        "outputId": "4fee4695-2808-4aab-acc1-d53531c75011"
      },
      "source": [
        "sns.displot(min_bootstrap, kde=True, color='tomato');"
      ],
      "execution_count": null,
      "outputs": [
        {
          "output_type": "display_data",
          "data": {
            "image/png": "[encoded data removed]",
            "text/plain": [
              "<Figure size 360x360 with 1 Axes>"
            ]
          },
          "metadata": {
            "needs_background": "light"
          }
        }
      ]
    },
    {
      "cell_type": "code",
      "metadata": {
        "colab": {
          "base_uri": "https://localhost:8080/"
        },
        "id": "35QwilyDfDYZ",
        "outputId": "2c8a50a3-9795-4553-d690-4836a5a30ebf"
      },
      "source": [
        "print( f' Lower boundary: {np.percentile(min_bootstrap, 2.5)} | Upper boundary: {np.percentile(min_bootstrap, 97.5)} ')"
      ],
      "execution_count": null,
      "outputs": [
        {
          "output_type": "stream",
          "name": "stdout",
          "text": [
            " Lower boundary: 35.30416666666667 | Upper boundary: 41.22749999999999 \n"
          ]
        }
      ]
    },
    {
      "cell_type": "code",
      "metadata": {
        "colab": {
          "base_uri": "https://localhost:8080/"
        },
        "id": "NI1aRVqcXxFe",
        "outputId": "c429718f-416c-4969-91ff-baa070baad6e"
      },
      "source": [
        "# Now it is normal\n",
        "scs.shapiro(min_bootstrap)"
      ],
      "execution_count": null,
      "outputs": [
        {
          "output_type": "execute_result",
          "data": {
            "text/plain": [
              "(0.9797706604003906, 0.5423312187194824)"
            ]
          },
          "metadata": {},
          "execution_count": 217
        }
      ]
    },
    {
      "cell_type": "code",
      "metadata": {
        "colab": {
          "base_uri": "https://localhost:8080/",
          "height": 35
        },
        "id": "EvP0Y1w7X1zg",
        "outputId": "f694a118-cb7d-4a5e-c8c1-d2f3338c6df1"
      },
      "source": [
        "# Confidence Interval\n",
        "conf_interval(0.95, df.bootstrap)"
      ],
      "execution_count": null,
      "outputs": [
        {
          "output_type": "execute_result",
          "data": {
            "application/vnd.google.colaboratory.intrinsic+json": {
              "type": "string"
            },
            "text/plain": [
              "'The confidence interval for this distribution is 41.0 < 41.8 < 42.5'"
            ]
          },
          "metadata": {},
          "execution_count": 185
        }
      ]
    },
    {
      "cell_type": "code",
      "metadata": {
        "colab": {
          "base_uri": "https://localhost:8080/"
        },
        "id": "dRyuuvEcYYhh",
        "outputId": "0ddc7a93-592e-402d-9247-1071e24b8c21"
      },
      "source": [
        "scs.norm.interval(alpha=0.95, loc=df.minute.mean(), scale=scs.sem(df.minute))"
      ],
      "execution_count": null,
      "outputs": [
        {
          "output_type": "execute_result",
          "data": {
            "text/plain": [
              "(37.677084442794566, 43.92291555720543)"
            ]
          },
          "metadata": {},
          "execution_count": 33
        }
      ]
    },
    {
      "cell_type": "code",
      "metadata": {
        "id": "Mwy1pYO5eBZu"
      },
      "source": [
        ""
      ],
      "execution_count": null,
      "outputs": []
    },
    {
      "cell_type": "markdown",
      "metadata": {
        "id": "BkaTFNg1xVeD"
      },
      "source": [
        "# Mann-Whitney"
      ]
    },
    {
      "cell_type": "code",
      "metadata": {
        "id": "FR2OFh99xZjN",
        "colab": {
          "base_uri": "https://localhost:8080/"
        },
        "outputId": "4e9908ce-d0fd-4779-f564-d96356609419"
      },
      "source": [
        "# imports\n",
        "import pandas as pd\n",
        "# Visualization\n",
        "import seaborn as sns\n",
        "import matplotlib.pyplot as plt\n",
        "\n",
        "# Stats\n",
        "import scipy.stats as scs\n",
        "import statsmodels.stats as sts\n",
        "from statsmodels.stats.diagnostic import lilliefors # Kolmogorov-Smirnov"
      ],
      "execution_count": null,
      "outputs": [
        {
          "output_type": "stream",
          "name": "stderr",
          "text": [
            "/usr/local/lib/python3.7/dist-packages/statsmodels/tools/_testing.py:19: FutureWarning: pandas.util.testing is deprecated. Use the functions in the public API at pandas.testing instead.\n",
            "  import pandas.util.testing as tm\n"
          ]
        }
      ]
    },
    {
      "cell_type": "code",
      "metadata": {
        "id": "vz10Zosfxi2f"
      },
      "source": [
        "# Load a dataframe\n",
        "df = sns.load_dataset('tips')"
      ],
      "execution_count": null,
      "outputs": []
    },
    {
      "cell_type": "code",
      "metadata": {
        "colab": {
          "base_uri": "https://localhost:8080/",
          "height": 110
        },
        "id": "-wQdcY0Txqcf",
        "outputId": "0d4248ef-95d8-4ae7-cfdc-abe08d0740e3"
      },
      "source": [
        "df.head(2)"
      ],
      "execution_count": null,
      "outputs": [
        {
          "output_type": "execute_result",
          "data": {
            "text/html": [
              "<div>\n",
              "<style scoped>\n",
              "    .dataframe tbody tr th:only-of-type {\n",
              "        vertical-align: middle;\n",
              "    }\n",
              "\n",
              "    .dataframe tbody tr th {\n",
              "        vertical-align: top;\n",
              "    }\n",
              "\n",
              "    .dataframe thead th {\n",
              "        text-align: right;\n",
              "    }\n",
              "</style>\n",
              "<table border=\"1\" class=\"dataframe\">\n",
              "  <thead>\n",
              "    <tr style=\"text-align: right;\">\n",
              "      <th></th>\n",
              "      <th>total_bill</th>\n",
              "      <th>tip</th>\n",
              "      <th>sex</th>\n",
              "      <th>smoker</th>\n",
              "      <th>day</th>\n",
              "      <th>time</th>\n",
              "      <th>size</th>\n",
              "    </tr>\n",
              "  </thead>\n",
              "  <tbody>\n",
              "    <tr>\n",
              "      <th>0</th>\n",
              "      <td>16.99</td>\n",
              "      <td>1.01</td>\n",
              "      <td>Female</td>\n",
              "      <td>No</td>\n",
              "      <td>Sun</td>\n",
              "      <td>Dinner</td>\n",
              "      <td>2</td>\n",
              "    </tr>\n",
              "    <tr>\n",
              "      <th>1</th>\n",
              "      <td>10.34</td>\n",
              "      <td>1.66</td>\n",
              "      <td>Male</td>\n",
              "      <td>No</td>\n",
              "      <td>Sun</td>\n",
              "      <td>Dinner</td>\n",
              "      <td>3</td>\n",
              "    </tr>\n",
              "  </tbody>\n",
              "</table>\n",
              "</div>"
            ],
            "text/plain": [
              "   total_bill   tip     sex smoker  day    time  size\n",
              "0       16.99  1.01  Female     No  Sun  Dinner     2\n",
              "1       10.34  1.66    Male     No  Sun  Dinner     3"
            ]
          },
          "metadata": {},
          "execution_count": 3
        }
      ]
    },
    {
      "cell_type": "markdown",
      "metadata": {
        "id": "NanjqPM8xtKZ"
      },
      "source": [
        "We want to know if the differences between the tips given by smokers is different than those given by non-smokers.\n",
        "\n",
        "We're comparing medians, now, as the test is non-parametric."
      ]
    },
    {
      "cell_type": "code",
      "metadata": {
        "id": "A3j_958yxrT1"
      },
      "source": [
        "# Let's separate the  data\n",
        "non_smoker = df.query(' smoker == \"No\" ')['tip']\n",
        "smoker = men = df.query(' smoker == \"Yes\" ')['tip']"
      ],
      "execution_count": null,
      "outputs": []
    },
    {
      "cell_type": "code",
      "metadata": {
        "id": "BNVvu-0UyXh9"
      },
      "source": [
        "def normality_tests(my_sample):\n",
        "  # Shapiro Test\n",
        "  _, p1 = scs.shapiro(my_sample)\n",
        "  print('Shapiro:')\n",
        "  print('Not normal | p-value:' if p1 < 0.05 else 'Normal | p-value:', p1)\n",
        "  print('-------------------------------')\n",
        "\n",
        "# Kolmogorov test\n",
        "  _, p2 = lilliefors(my_sample, dist='norm')\n",
        "  print('Kolmogorov:')\n",
        "  print('Not normal | p-value:' if p2 < 0.05 else 'Normal | p-value:', p2)\n",
        "  print('-------------------------------')\n",
        "\n",
        "  # QQPlot\n",
        "  scs.probplot(my_sample, dist='norm', plot=plt)\n",
        "  plt.title('QQ Plot')\n",
        "  plt.show()"
      ],
      "execution_count": null,
      "outputs": []
    },
    {
      "cell_type": "code",
      "metadata": {
        "colab": {
          "base_uri": "https://localhost:8080/",
          "height": 405
        },
        "id": "MhWAVJQgyPMm",
        "outputId": "38b871f5-f2e0-434e-cecb-3f89aa49d491"
      },
      "source": [
        "# Test Normality\n",
        "# p > 0.05 is normal.\n",
        "# p < 0.05 is not normal\n",
        "normality_tests(non_smoker)"
      ],
      "execution_count": null,
      "outputs": [
        {
          "output_type": "stream",
          "name": "stdout",
          "text": [
            "Shapiro:\n",
            "Not normal | p-value: 2.058691705997262e-08\n",
            "-------------------------------\n",
            "Kolmogorov:\n",
            "Not normal | p-value: 0.00017508524610536795\n",
            "-------------------------------\n"
          ]
        },
        {
          "output_type": "display_data",
          "data": {
            "image/png": "[encoded data removed]",
            "text/plain": [
              "<Figure size 432x288 with 1 Axes>"
            ]
          },
          "metadata": {
            "needs_background": "light"
          }
        }
      ]
    },
    {
      "cell_type": "code",
      "metadata": {
        "colab": {
          "base_uri": "https://localhost:8080/",
          "height": 401
        },
        "id": "zpBKCtdTyrXV",
        "outputId": "2e6d44f6-7e3a-4532-c0dc-ea12b60fc290"
      },
      "source": [
        "# Test Normality\n",
        "# p > 0.05 is normal.\n",
        "# p < 0.05 is not normal\n",
        "normality_tests(smoker)"
      ],
      "execution_count": null,
      "outputs": [
        {
          "output_type": "stream",
          "name": "stdout",
          "text": [
            "Shapiro:\n",
            "Not normal | p-value: 3.6124649227531336e-07\n",
            "-------------------------------\n",
            "Kolmogorov:\n",
            "Not normal | p-value: 0.00558297839995531\n",
            "-------------------------------\n"
          ]
        },
        {
          "output_type": "display_data",
          "data": {
            "image/png": "[encoded data removed]",
            "text/plain": [
              "<Figure size 432x288 with 1 Axes>"
            ]
          },
          "metadata": {
            "needs_background": "light"
          }
        }
      ]
    },
    {
      "cell_type": "markdown",
      "metadata": {
        "id": "_x6eMCCV1w_y"
      },
      "source": [
        "Considering that both distributions are not normally distributed, we're going to perform a non-parametric test, centered in the median.\n",
        "\n",
        "* Ho = There is no difference between medians for tips of smokers and non-smokers | **p-Value > 0.05**\n",
        "* Ha = There is difference between medians for tips of smokers and non-smokers | **p-Value < 0.05**"
      ]
    },
    {
      "cell_type": "code",
      "metadata": {
        "colab": {
          "base_uri": "https://localhost:8080/"
        },
        "id": "7LNFqSMs1ncq",
        "outputId": "ed7a7881-2088-4eaa-bdcc-bb5586c5cff2"
      },
      "source": [
        "# Significance threshold\n",
        "alfa = 0.05\n",
        "\n",
        "# Statistical Test\n",
        "stat, p = scs.mannwhitneyu(smoker, non_smoker)\n",
        "print(f'Test Statistic: {stat}')\n",
        "\n",
        "if p > alfa:\n",
        "  print(f'p-Value: {round(p,3)} is higher than {alfa}, thus there is no difference between the medians.')\n",
        "else:\n",
        "  print(f'p-Value: {round(p,3)} is lower than {alfa}, thus the difference between the medians is statistically significant.')"
      ],
      "execution_count": null,
      "outputs": [
        {
          "output_type": "stream",
          "name": "stdout",
          "text": [
            "Test Statistic: 6880.0\n",
            "p-Value: 0.396 is higher than 0.05, thus there is no difference between the medians.\n"
          ]
        }
      ]
    },
    {
      "cell_type": "code",
      "metadata": {
        "colab": {
          "base_uri": "https://localhost:8080/"
        },
        "id": "_13v_BOa2rvA",
        "outputId": "a9dcebc5-4fff-4cc8-c256-af18e26be8a7"
      },
      "source": [
        "smoker.median()"
      ],
      "execution_count": null,
      "outputs": [
        {
          "output_type": "execute_result",
          "data": {
            "text/plain": [
              "3.0"
            ]
          },
          "metadata": {},
          "execution_count": 33
        }
      ]
    },
    {
      "cell_type": "code",
      "metadata": {
        "colab": {
          "base_uri": "https://localhost:8080/"
        },
        "id": "5v-fvdGd226Z",
        "outputId": "86886910-cd62-4cc7-9633-9257a5a90659"
      },
      "source": [
        "non_smoker.median()"
      ],
      "execution_count": null,
      "outputs": [
        {
          "output_type": "execute_result",
          "data": {
            "text/plain": [
              "2.74"
            ]
          },
          "metadata": {},
          "execution_count": 34
        }
      ]
    },
    {
      "cell_type": "code",
      "metadata": {
        "id": "CYjimtS124eU"
      },
      "source": [
        ""
      ],
      "execution_count": null,
      "outputs": []
    },
    {
      "cell_type": "markdown",
      "metadata": {
        "id": "uP-ujMVcN4WN"
      },
      "source": [
        "# Z-Test One Sample"
      ]
    },
    {
      "cell_type": "code",
      "metadata": {
        "colab": {
          "base_uri": "https://localhost:8080/"
        },
        "id": "dDjvVJ3LN8AC",
        "outputId": "366edbcc-b34c-4c82-8771-032792fba4f6"
      },
      "source": [
        "from scipy import stats #Shapiro\n",
        "from statsmodels.stats.diagnostic import lilliefors # Kolmogorov-Smirnov\n",
        "from statsmodels.stats.weightstats import ztest\n",
        "\n",
        "import statsmodels.stats as sts # probplot\n",
        "import matplotlib.pyplot as plt\n",
        "\n",
        "import pandas as pd\n",
        "\n",
        "#seaborn\n",
        "import seaborn as sns"
      ],
      "execution_count": null,
      "outputs": [
        {
          "output_type": "stream",
          "name": "stderr",
          "text": [
            "/usr/local/lib/python3.7/dist-packages/statsmodels/tools/_testing.py:19: FutureWarning: pandas.util.testing is deprecated. Use the functions in the public API at pandas.testing instead.\n",
            "  import pandas.util.testing as tm\n"
          ]
        }
      ]
    },
    {
      "cell_type": "code",
      "metadata": {
        "id": "WU7yx1_KOS_7"
      },
      "source": [
        "df = sns.load_dataset('tips')"
      ],
      "execution_count": null,
      "outputs": []
    },
    {
      "cell_type": "code",
      "metadata": {
        "colab": {
          "base_uri": "https://localhost:8080/"
        },
        "id": "swLdACPYOdwb",
        "outputId": "9a071be1-7377-43f6-cfc1-3979e299643e"
      },
      "source": [
        "df.tip.mean()"
      ],
      "execution_count": null,
      "outputs": [
        {
          "output_type": "execute_result",
          "data": {
            "text/plain": [
              "2.9982786885245902"
            ]
          },
          "metadata": {},
          "execution_count": 25
        }
      ]
    },
    {
      "cell_type": "code",
      "metadata": {
        "colab": {
          "base_uri": "https://localhost:8080/",
          "height": 442
        },
        "id": "-KdQE2_ZOkHE",
        "outputId": "8b485d28-c836-4f12-ebf0-694d56f70e7e"
      },
      "source": [
        "my_sample = df.tip[df.sex=='Female']\n",
        "normality_tests(my_sample)"
      ],
      "execution_count": null,
      "outputs": [
        {
          "output_type": "stream",
          "name": "stdout",
          "text": [
            "Shapiro:\n",
            "Not normal | p-value: 0.005448382347822189\n",
            "-------------------------------\n",
            "Kolmogorov:\n",
            "Normal | p-value: 0.05278659510924541\n",
            "-------------------------------\n",
            "Anderson:\n",
            "Not normal | p-value: 0.755\n"
          ]
        },
        {
          "output_type": "display_data",
          "data": {
            "image/png": "[encoded data removed]",
            "text/plain": [
              "<Figure size 432x288 with 1 Axes>"
            ]
          },
          "metadata": {
            "needs_background": "light"
          }
        }
      ]
    },
    {
      "cell_type": "code",
      "metadata": {
        "colab": {
          "base_uri": "https://localhost:8080/"
        },
        "id": "9FiHT4EgOtrG",
        "outputId": "ededa9c3-b5a0-4f39-9285-5fa17ebc030b"
      },
      "source": [
        "ztest(my_sample, value=2.99827)"
      ],
      "execution_count": null,
      "outputs": [
        {
          "output_type": "execute_result",
          "data": {
            "text/plain": [
              "(-1.3258835563461384, 0.18487827048905192)"
            ]
          },
          "metadata": {},
          "execution_count": 22
        }
      ]
    },
    {
      "cell_type": "markdown",
      "metadata": {
        "id": "neDmlI7UzgoZ"
      },
      "source": [
        "# T Test for One Sample"
      ]
    },
    {
      "cell_type": "code",
      "metadata": {
        "id": "nrahQ1tkQb6b"
      },
      "source": [
        "#from scipy import stats #Shapiro\n",
        "import scipy.stats as scs # t-test\n",
        "from statsmodels.stats.diagnostic import lilliefors # Kolmogorov-Smirnov\n",
        "\n",
        "import statsmodels.stats as sts # probplot\n",
        "import matplotlib.pyplot as plt\n",
        "\n",
        "import pandas as pd\n",
        "import numpy as np\n"
      ],
      "execution_count": null,
      "outputs": []
    },
    {
      "cell_type": "code",
      "metadata": {
        "colab": {
          "base_uri": "https://localhost:8080/",
          "height": 112
        },
        "id": "zYgiZ4FCzmYe",
        "outputId": "d8d01180-5850-4262-c667-8d9dfc39b84e"
      },
      "source": [
        "df = pd.DataFrame({'my_sampleA':np.random.normal(98, size=100),\n",
        "                   'my_sampleB': np.random.normal(7500, size=100)})\n",
        "df.head(2)"
      ],
      "execution_count": null,
      "outputs": [
        {
          "output_type": "execute_result",
          "data": {
            "text/html": [
              "<div>\n",
              "<style scoped>\n",
              "    .dataframe tbody tr th:only-of-type {\n",
              "        vertical-align: middle;\n",
              "    }\n",
              "\n",
              "    .dataframe tbody tr th {\n",
              "        vertical-align: top;\n",
              "    }\n",
              "\n",
              "    .dataframe thead th {\n",
              "        text-align: right;\n",
              "    }\n",
              "</style>\n",
              "<table border=\"1\" class=\"dataframe\">\n",
              "  <thead>\n",
              "    <tr style=\"text-align: right;\">\n",
              "      <th></th>\n",
              "      <th>my_sampleA</th>\n",
              "      <th>my_sampleB</th>\n",
              "    </tr>\n",
              "  </thead>\n",
              "  <tbody>\n",
              "    <tr>\n",
              "      <th>0</th>\n",
              "      <td>98.733554</td>\n",
              "      <td>7500.554617</td>\n",
              "    </tr>\n",
              "    <tr>\n",
              "      <th>1</th>\n",
              "      <td>97.657984</td>\n",
              "      <td>7499.840939</td>\n",
              "    </tr>\n",
              "  </tbody>\n",
              "</table>\n",
              "</div>"
            ],
            "text/plain": [
              "   my_sampleA   my_sampleB\n",
              "0   98.733554  7500.554617\n",
              "1   97.657984  7499.840939"
            ]
          },
          "metadata": {},
          "execution_count": 14
        }
      ]
    },
    {
      "cell_type": "code",
      "metadata": {
        "colab": {
          "base_uri": "https://localhost:8080/",
          "height": 442
        },
        "id": "YM_kde-Hz8Z8",
        "outputId": "f77dee56-ac43-47fa-cd17-3847aad31b32"
      },
      "source": [
        "normality_tests(df.my_sampleA)"
      ],
      "execution_count": null,
      "outputs": [
        {
          "output_type": "stream",
          "name": "stdout",
          "text": [
            "Shapiro:\n",
            "Normal | p-value: 0.7367318272590637\n",
            "-------------------------------\n",
            "Kolmogorov:\n",
            "Normal | p-value: 0.2\n",
            "-------------------------------\n",
            "Anderson:\n",
            "Normal | stat: 0.1773963163242911 :: p-value: 0.759\n"
          ]
        },
        {
          "output_type": "display_data",
          "data": {
            "image/png": "[encoded data removed]",
            "text/plain": [
              "<Figure size 432x288 with 1 Axes>"
            ]
          },
          "metadata": {
            "needs_background": "light"
          }
        }
      ]
    },
    {
      "cell_type": "code",
      "metadata": {
        "colab": {
          "base_uri": "https://localhost:8080/"
        },
        "id": "c7DIL2CM0P1l",
        "outputId": "2a25af4d-abda-49ce-993a-8f9eff1cdd94"
      },
      "source": [
        "# T Test one sample\n",
        "# Not different: p > 0.05\n",
        "# Different: p < 0.05 \n",
        "scs.ttest_1samp(my_sample, popmean=600)"
      ],
      "execution_count": null,
      "outputs": [
        {
          "output_type": "execute_result",
          "data": {
            "text/plain": [
              "Ttest_1sampResult(statistic=-4803.816459706255, pvalue=3.1649151709332184e-235)"
            ]
          },
          "metadata": {},
          "execution_count": 45
        }
      ]
    },
    {
      "cell_type": "code",
      "metadata": {
        "colab": {
          "base_uri": "https://localhost:8080/"
        },
        "id": "gQMCOex13trC",
        "outputId": "aedf6663-aa21-4164-9f20-3428ff9aaedb"
      },
      "source": [
        "# T Test two dependent samples\n",
        "# Not different: p > 0.05\n",
        "# Different: p <= 0.05 \n",
        "scs.ttest_rel(df.my_sampleA, df.my_sampleB)"
      ],
      "execution_count": null,
      "outputs": [
        {
          "output_type": "execute_result",
          "data": {
            "text/plain": [
              "Ttest_relResult(statistic=-55387.98511342691, pvalue=0.0)"
            ]
          },
          "metadata": {},
          "execution_count": 21
        }
      ]
    },
    {
      "cell_type": "markdown",
      "metadata": {
        "id": "i2QRoB7ZJMAJ"
      },
      "source": [
        "# Wilcoxon"
      ]
    },
    {
      "cell_type": "code",
      "metadata": {
        "colab": {
          "base_uri": "https://localhost:8080/",
          "height": 112
        },
        "id": "5KJ2qux5DPEJ",
        "outputId": "4fdbf231-638d-4653-f601-490f778fe14b"
      },
      "source": [
        "df = pd.DataFrame({'my_sampleA':np.random.randint(30,300, size=100),\n",
        "                   'my_sampleB': np.random.randint(34,600, size=100)})\n",
        "df.head(2)"
      ],
      "execution_count": null,
      "outputs": [
        {
          "output_type": "execute_result",
          "data": {
            "text/html": [
              "<div>\n",
              "<style scoped>\n",
              "    .dataframe tbody tr th:only-of-type {\n",
              "        vertical-align: middle;\n",
              "    }\n",
              "\n",
              "    .dataframe tbody tr th {\n",
              "        vertical-align: top;\n",
              "    }\n",
              "\n",
              "    .dataframe thead th {\n",
              "        text-align: right;\n",
              "    }\n",
              "</style>\n",
              "<table border=\"1\" class=\"dataframe\">\n",
              "  <thead>\n",
              "    <tr style=\"text-align: right;\">\n",
              "      <th></th>\n",
              "      <th>my_sampleA</th>\n",
              "      <th>my_sampleB</th>\n",
              "    </tr>\n",
              "  </thead>\n",
              "  <tbody>\n",
              "    <tr>\n",
              "      <th>0</th>\n",
              "      <td>57</td>\n",
              "      <td>61</td>\n",
              "    </tr>\n",
              "    <tr>\n",
              "      <th>1</th>\n",
              "      <td>238</td>\n",
              "      <td>282</td>\n",
              "    </tr>\n",
              "  </tbody>\n",
              "</table>\n",
              "</div>"
            ],
            "text/plain": [
              "   my_sampleA  my_sampleB\n",
              "0          57          61\n",
              "1         238         282"
            ]
          },
          "metadata": {},
          "execution_count": 43
        }
      ]
    },
    {
      "cell_type": "code",
      "metadata": {
        "colab": {
          "base_uri": "https://localhost:8080/"
        },
        "id": "jXY48F5tJUU5",
        "outputId": "0bc758f6-ff8e-49f6-f85b-eb0208d74d60"
      },
      "source": [
        "# Wilcoxon\n",
        "# Not different: p > 0.05\n",
        "# Different: p <= 0.05 \n",
        "scs.wilcoxon(df.my_sampleA, df.my_sampleB)"
      ],
      "execution_count": null,
      "outputs": [
        {
          "output_type": "execute_result",
          "data": {
            "text/plain": [
              "WilcoxonResult(statistic=540.5, pvalue=8.891312516334361e-12)"
            ]
          },
          "metadata": {},
          "execution_count": 44
        }
      ]
    },
    {
      "cell_type": "code",
      "metadata": {
        "colab": {
          "base_uri": "https://localhost:8080/"
        },
        "id": "IzE2vehUJlJb",
        "outputId": "572893bf-0fd4-4b2f-de1a-7adb4d528ea5"
      },
      "source": [
        "df.my_sampleA.median()"
      ],
      "execution_count": null,
      "outputs": [
        {
          "output_type": "execute_result",
          "data": {
            "text/plain": [
              "153.5"
            ]
          },
          "metadata": {},
          "execution_count": 45
        }
      ]
    },
    {
      "cell_type": "code",
      "metadata": {
        "colab": {
          "base_uri": "https://localhost:8080/"
        },
        "id": "C0M8WrrSKEyk",
        "outputId": "4d4780ac-8db4-496a-c09a-f213bd0d88f2"
      },
      "source": [
        "df.my_sampleB.median()"
      ],
      "execution_count": null,
      "outputs": [
        {
          "output_type": "execute_result",
          "data": {
            "text/plain": [
              "340.0"
            ]
          },
          "metadata": {},
          "execution_count": 46
        }
      ]
    },
    {
      "cell_type": "code",
      "metadata": {
        "id": "4873kfjLKI0k"
      },
      "source": [
        ""
      ],
      "execution_count": null,
      "outputs": []
    }
  ]
}