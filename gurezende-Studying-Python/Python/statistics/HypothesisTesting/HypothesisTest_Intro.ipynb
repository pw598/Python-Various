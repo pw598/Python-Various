{
  "nbformat": 4,
  "nbformat_minor": 0,
  "metadata": {
    "colab": {
      "name": "HypothesisTest-Intro.ipynb",
      "provenance": [],
      "collapsed_sections": []
    },
    "kernelspec": {
      "name": "python3",
      "display_name": "Python 3"
    },
    "language_info": {
      "name": "python"
    }
  },
  "cells": [
    {
      "cell_type": "markdown",
      "source": [
        "## Imports"
      ],
      "metadata": {
        "id": "hWEyWs2p3B6D"
      }
    },
    {
      "cell_type": "code",
      "execution_count": 1,
      "metadata": {
        "colab": {
          "base_uri": "https://localhost:8080/"
        },
        "id": "aZ-dxAgQ28tu",
        "outputId": "dfdf4595-0011-4d45-b586-b4c6d734f653"
      },
      "outputs": [
        {
          "output_type": "stream",
          "name": "stderr",
          "text": [
            "/usr/local/lib/python3.7/dist-packages/statsmodels/tools/_testing.py:19: FutureWarning: pandas.util.testing is deprecated. Use the functions in the public API at pandas.testing instead.\n",
            "  import pandas.util.testing as tm\n"
          ]
        }
      ],
      "source": [
        "import pandas as pd\n",
        "import numpy as np\n",
        "import seaborn as sns\n",
        "sns.set()\n",
        "import matplotlib.pyplot as plt\n",
        "from scipy.stats import f_oneway\n",
        "from statsmodels.stats.weightstats import ztest"
      ]
    },
    {
      "cell_type": "markdown",
      "source": [
        "### Sample 1"
      ],
      "metadata": {
        "id": "RISGzATQ3JLt"
      }
    },
    {
      "cell_type": "code",
      "source": [
        "# Create df\n",
        "df = pd.DataFrame({'id': np.arange(1,51),\n",
        "                  'val': np.random.randn(50)})\n",
        "df.head()\n",
        "\n",
        "# Sample 1 mean\n",
        "df.val.mean()"
      ],
      "metadata": {
        "colab": {
          "base_uri": "https://localhost:8080/"
        },
        "id": "NLZO2vGv3HkJ",
        "outputId": "b5dca9be-323f-412e-ba37-8f9b57b324b1"
      },
      "execution_count": 2,
      "outputs": [
        {
          "output_type": "execute_result",
          "data": {
            "text/plain": [
              "0.05470278117349658"
            ]
          },
          "metadata": {},
          "execution_count": 2
        }
      ]
    },
    {
      "cell_type": "markdown",
      "source": [
        "### Sample 2"
      ],
      "metadata": {
        "id": "71YBHVtO3Psu"
      }
    },
    {
      "cell_type": "code",
      "source": [
        "# Create df2\n",
        "df2 = pd.DataFrame({'id': np.arange(1,31),\n",
        "                   'val': np.random.randint(40,50, size=30)/10})\n",
        "df2.val.mean()"
      ],
      "metadata": {
        "colab": {
          "base_uri": "https://localhost:8080/"
        },
        "id": "6667gi9E3Oh8",
        "outputId": "1bb5452d-4116-4132-d9f9-1dc2bf28c204"
      },
      "execution_count": 3,
      "outputs": [
        {
          "output_type": "execute_result",
          "data": {
            "text/plain": [
              "4.430000000000001"
            ]
          },
          "metadata": {},
          "execution_count": 3
        }
      ]
    },
    {
      "cell_type": "markdown",
      "source": [
        "### Test Sample 1 vs Sample 2"
      ],
      "metadata": {
        "id": "S7XFn23g3T8x"
      }
    },
    {
      "cell_type": "code",
      "source": [
        "# Significancy level (alfa)\n",
        "'''If the probability value (p-value) is lower than this number, \n",
        "then we can't say statistically that both samples come from the same population'''\n",
        "alfa = 0.05"
      ],
      "metadata": {
        "id": "0jDxt9rQ3zqi"
      },
      "execution_count": 8,
      "outputs": []
    },
    {
      "cell_type": "code",
      "source": [
        "# Test Sample 1 vs Sample 2\n",
        "sample1 = df.val\n",
        "mean_sample2 = df2.val.mean()\n",
        "\n",
        "stat, p = ztest(sample1, value=mean_sample2)\n",
        "print(f'Test statistics: {stat}')\n",
        "print(f'p-Value: {p}')\n",
        "print(f'Ho rejected. Assume different population.' if p < alfa else 'Ho not rejected. Assume same population.')\n"
      ],
      "metadata": {
        "colab": {
          "base_uri": "https://localhost:8080/"
        },
        "id": "FQFrYFse3OrZ",
        "outputId": "2650dcd3-a5bb-4e50-8566-29e19b38da22"
      },
      "execution_count": 15,
      "outputs": [
        {
          "output_type": "stream",
          "name": "stdout",
          "text": [
            "Test statistics: -29.069698615811596\n",
            "p-Value: 8.675221904016979e-186\n",
            "Ho rejected. Assume different population.\n"
          ]
        }
      ]
    },
    {
      "cell_type": "markdown",
      "source": [
        "## Sample 3"
      ],
      "metadata": {
        "id": "tN7F4tcU3aBX"
      }
    },
    {
      "cell_type": "code",
      "source": [
        "\"Create a sample 3 out of the sample 1. It is expected that the p-value will be higher than 5%\"\n",
        "# Create df3\n",
        "df3 = pd.DataFrame({'id': np.arange(1,31),\n",
        "                   'val': np.random.choice(df['val'].values, size=30)})\n",
        "\n",
        "# Mean sample 3\n",
        "df3.val.mean()"
      ],
      "metadata": {
        "colab": {
          "base_uri": "https://localhost:8080/"
        },
        "id": "q3NN_W9j3OuB",
        "outputId": "a6a6ce2c-2b49-49b0-e992-bbc1c0134eb3"
      },
      "execution_count": 5,
      "outputs": [
        {
          "output_type": "execute_result",
          "data": {
            "text/plain": [
              "0.04887366631836466"
            ]
          },
          "metadata": {},
          "execution_count": 5
        }
      ]
    },
    {
      "cell_type": "markdown",
      "source": [
        "### Test Sample 1 vs Sample 3"
      ],
      "metadata": {
        "id": "UR-q6J-B3dgU"
      }
    },
    {
      "cell_type": "code",
      "source": [
        "# Test Sample 1 vs Sample 3\n",
        "sample1 = df.val\n",
        "mean_sample3 = df3.val.mean()\n",
        "\n",
        "stat, p = ztest(sample1, value=mean_sample3)\n",
        "print(f'Test statistics: {stat}')\n",
        "print(f'p-Value: {p}')\n",
        "print(f'Ho rejected. Assume different population.' if p < alfa else 'Ho not rejected. Assume same population.')"
      ],
      "metadata": {
        "colab": {
          "base_uri": "https://localhost:8080/"
        },
        "id": "Xj4WKMm_3Ov2",
        "outputId": "418b208c-faee-4c86-b3f3-557250538294"
      },
      "execution_count": 14,
      "outputs": [
        {
          "output_type": "stream",
          "name": "stdout",
          "text": [
            "Test statistics: 0.03872893738658596\n",
            "p-Value: 0.9691065020130489\n",
            "Ho not rejected. Assume same population.\n"
          ]
        }
      ]
    },
    {
      "cell_type": "markdown",
      "source": [
        "### Plot "
      ],
      "metadata": {
        "id": "AWyekxQQ3lX2"
      }
    },
    {
      "cell_type": "code",
      "source": [
        "# Plot the 3 samples distributions\n",
        "plt.figure(figsize=(12,7))\n",
        "g= sns.kdeplot(data=df, x='val', fill=True)\n",
        "g= sns.kdeplot(data=df2, x='val', fill=True)\n",
        "g= sns.kdeplot(data=df3, x='val', fill=True)\n",
        "plt.legend(['Sample1', 'Sample2', 'Sample3'])"
      ],
      "metadata": {
        "colab": {
          "base_uri": "https://localhost:8080/",
          "height": 465
        },
        "id": "DExcj8Pk3knK",
        "outputId": "faad11c3-c7b1-4082-f74b-886039e83a6e"
      },
      "execution_count": 7,
      "outputs": [
        {
          "output_type": "execute_result",
          "data": {
            "text/plain": [
              "<matplotlib.legend.Legend at 0x7ff78b0d7890>"
            ]
          },
          "metadata": {},
          "execution_count": 7
        },
        {
          "output_type": "display_data",
          "data": {
            "text/plain": [
              "<Figure size 864x504 with 1 Axes>"
            ],
            "image/png": "[encoded data removed]"
          },
          "metadata": {
            "needs_background": "light"
          }
        }
      ]
    }
  ]
}