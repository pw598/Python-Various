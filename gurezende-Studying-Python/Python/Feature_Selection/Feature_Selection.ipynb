{
  "nbformat": 4,
  "nbformat_minor": 0,
  "metadata": {
    "colab": {
      "name": "Chi Squared.ipynb",
      "provenance": [],
      "collapsed_sections": []
    },
    "kernelspec": {
      "name": "python3",
      "display_name": "Python 3"
    }
  },
  "cells": [
    {
      "cell_type": "code",
      "metadata": {
        "id": "8oitnXml20OT"
      },
      "source": [
        "# Imports\n",
        "import pandas as pd\n",
        "import numpy as np\n",
        "import seaborn as sns\n",
        "import matplotlib.pyplot as plt\n",
        "from sklearn.preprocessing import scale"
      ],
      "execution_count": 1,
      "outputs": []
    },
    {
      "cell_type": "code",
      "metadata": {
        "id": "nD66Eq5H27SV"
      },
      "source": [
        "# Load do Dataset\n",
        "df = sns.load_dataset(name='penguins')"
      ],
      "execution_count": 2,
      "outputs": []
    },
    {
      "cell_type": "code",
      "metadata": {
        "colab": {
          "base_uri": "https://localhost:8080/",
          "height": 142
        },
        "id": "xw-umUUm3agY",
        "outputId": "169d1982-4830-4154-8bb1-30c56a81c34f"
      },
      "source": [
        "# Visualizando o dataset\n",
        "df.head(3)"
      ],
      "execution_count": 3,
      "outputs": [
        {
          "output_type": "execute_result",
          "data": {
            "text/html": [
              "<div>\n",
              "<style scoped>\n",
              "    .dataframe tbody tr th:only-of-type {\n",
              "        vertical-align: middle;\n",
              "    }\n",
              "\n",
              "    .dataframe tbody tr th {\n",
              "        vertical-align: top;\n",
              "    }\n",
              "\n",
              "    .dataframe thead th {\n",
              "        text-align: right;\n",
              "    }\n",
              "</style>\n",
              "<table border=\"1\" class=\"dataframe\">\n",
              "  <thead>\n",
              "    <tr style=\"text-align: right;\">\n",
              "      <th></th>\n",
              "      <th>species</th>\n",
              "      <th>island</th>\n",
              "      <th>bill_length_mm</th>\n",
              "      <th>bill_depth_mm</th>\n",
              "      <th>flipper_length_mm</th>\n",
              "      <th>body_mass_g</th>\n",
              "      <th>sex</th>\n",
              "    </tr>\n",
              "  </thead>\n",
              "  <tbody>\n",
              "    <tr>\n",
              "      <th>0</th>\n",
              "      <td>Adelie</td>\n",
              "      <td>Torgersen</td>\n",
              "      <td>39.1</td>\n",
              "      <td>18.7</td>\n",
              "      <td>181.0</td>\n",
              "      <td>3750.0</td>\n",
              "      <td>Male</td>\n",
              "    </tr>\n",
              "    <tr>\n",
              "      <th>1</th>\n",
              "      <td>Adelie</td>\n",
              "      <td>Torgersen</td>\n",
              "      <td>39.5</td>\n",
              "      <td>17.4</td>\n",
              "      <td>186.0</td>\n",
              "      <td>3800.0</td>\n",
              "      <td>Female</td>\n",
              "    </tr>\n",
              "    <tr>\n",
              "      <th>2</th>\n",
              "      <td>Adelie</td>\n",
              "      <td>Torgersen</td>\n",
              "      <td>40.3</td>\n",
              "      <td>18.0</td>\n",
              "      <td>195.0</td>\n",
              "      <td>3250.0</td>\n",
              "      <td>Female</td>\n",
              "    </tr>\n",
              "  </tbody>\n",
              "</table>\n",
              "</div>"
            ],
            "text/plain": [
              "  species     island  bill_length_mm  ...  flipper_length_mm  body_mass_g     sex\n",
              "0  Adelie  Torgersen            39.1  ...              181.0       3750.0    Male\n",
              "1  Adelie  Torgersen            39.5  ...              186.0       3800.0  Female\n",
              "2  Adelie  Torgersen            40.3  ...              195.0       3250.0  Female\n",
              "\n",
              "[3 rows x 7 columns]"
            ]
          },
          "metadata": {
            "tags": []
          },
          "execution_count": 3
        }
      ]
    },
    {
      "cell_type": "code",
      "metadata": {
        "colab": {
          "base_uri": "https://localhost:8080/"
        },
        "id": "q5drzXXK5zKy",
        "outputId": "a7e2660f-851f-4c04-fd86-9af14ea91ad3"
      },
      "source": [
        "# Verificando dimensões\n",
        "df.shape"
      ],
      "execution_count": 4,
      "outputs": [
        {
          "output_type": "execute_result",
          "data": {
            "text/plain": [
              "(344, 7)"
            ]
          },
          "metadata": {
            "tags": []
          },
          "execution_count": 4
        }
      ]
    },
    {
      "cell_type": "code",
      "metadata": {
        "colab": {
          "base_uri": "https://localhost:8080/",
          "height": 624
        },
        "id": "78dUgVhv4Rjt",
        "outputId": "448bde85-86de-46fb-f6e9-36785525d632"
      },
      "source": [
        "# Verificar valores nulos\n",
        "sns.heatmap(df.isnull(), yticklabels=False, cbar=False)\n",
        "plt.title('Missing Values', size=18)\n",
        "plt.show()\n",
        "print(df.info())"
      ],
      "execution_count": 5,
      "outputs": [
        {
          "output_type": "display_data",
          "data": {
            "image/png": "[encoded data removed]",
            "text/plain": [
              "<Figure size 432x288 with 1 Axes>"
            ]
          },
          "metadata": {
            "tags": [],
            "needs_background": "light"
          }
        },
        {
          "output_type": "stream",
          "text": [
            "<class 'pandas.core.frame.DataFrame'>\n",
            "RangeIndex: 344 entries, 0 to 343\n",
            "Data columns (total 7 columns):\n",
            " #   Column             Non-Null Count  Dtype  \n",
            "---  ------             --------------  -----  \n",
            " 0   species            344 non-null    object \n",
            " 1   island             344 non-null    object \n",
            " 2   bill_length_mm     342 non-null    float64\n",
            " 3   bill_depth_mm      342 non-null    float64\n",
            " 4   flipper_length_mm  342 non-null    float64\n",
            " 5   body_mass_g        342 non-null    float64\n",
            " 6   sex                333 non-null    object \n",
            "dtypes: float64(4), object(3)\n",
            "memory usage: 18.9+ KB\n",
            "None\n"
          ],
          "name": "stdout"
        }
      ]
    },
    {
      "cell_type": "code",
      "metadata": {
        "id": "0BAkltGl-qdh"
      },
      "source": [
        "# Removendo valores nulos\n",
        "df.dropna(inplace=True)"
      ],
      "execution_count": 6,
      "outputs": []
    },
    {
      "cell_type": "code",
      "metadata": {
        "id": "i9N4lCtGDUuv"
      },
      "source": [
        "# Transformando variáveis categóricas\n",
        "df1 = pd.get_dummies(df, drop_first=True)"
      ],
      "execution_count": 7,
      "outputs": []
    },
    {
      "cell_type": "code",
      "metadata": {
        "colab": {
          "base_uri": "https://localhost:8080/",
          "height": 111
        },
        "id": "1DmbtS3jDkLD",
        "outputId": "59a0c1ac-4687-429d-9f90-ed9163bd3ec1"
      },
      "source": [
        "df1.head(2)"
      ],
      "execution_count": 8,
      "outputs": [
        {
          "output_type": "execute_result",
          "data": {
            "text/html": [
              "<div>\n",
              "<style scoped>\n",
              "    .dataframe tbody tr th:only-of-type {\n",
              "        vertical-align: middle;\n",
              "    }\n",
              "\n",
              "    .dataframe tbody tr th {\n",
              "        vertical-align: top;\n",
              "    }\n",
              "\n",
              "    .dataframe thead th {\n",
              "        text-align: right;\n",
              "    }\n",
              "</style>\n",
              "<table border=\"1\" class=\"dataframe\">\n",
              "  <thead>\n",
              "    <tr style=\"text-align: right;\">\n",
              "      <th></th>\n",
              "      <th>bill_length_mm</th>\n",
              "      <th>bill_depth_mm</th>\n",
              "      <th>flipper_length_mm</th>\n",
              "      <th>body_mass_g</th>\n",
              "      <th>species_Chinstrap</th>\n",
              "      <th>species_Gentoo</th>\n",
              "      <th>island_Dream</th>\n",
              "      <th>island_Torgersen</th>\n",
              "      <th>sex_Male</th>\n",
              "    </tr>\n",
              "  </thead>\n",
              "  <tbody>\n",
              "    <tr>\n",
              "      <th>0</th>\n",
              "      <td>39.1</td>\n",
              "      <td>18.7</td>\n",
              "      <td>181.0</td>\n",
              "      <td>3750.0</td>\n",
              "      <td>0</td>\n",
              "      <td>0</td>\n",
              "      <td>0</td>\n",
              "      <td>1</td>\n",
              "      <td>1</td>\n",
              "    </tr>\n",
              "    <tr>\n",
              "      <th>1</th>\n",
              "      <td>39.5</td>\n",
              "      <td>17.4</td>\n",
              "      <td>186.0</td>\n",
              "      <td>3800.0</td>\n",
              "      <td>0</td>\n",
              "      <td>0</td>\n",
              "      <td>0</td>\n",
              "      <td>1</td>\n",
              "      <td>0</td>\n",
              "    </tr>\n",
              "  </tbody>\n",
              "</table>\n",
              "</div>"
            ],
            "text/plain": [
              "   bill_length_mm  bill_depth_mm  ...  island_Torgersen  sex_Male\n",
              "0            39.1           18.7  ...                 1         1\n",
              "1            39.5           17.4  ...                 1         0\n",
              "\n",
              "[2 rows x 9 columns]"
            ]
          },
          "metadata": {
            "tags": []
          },
          "execution_count": 8
        }
      ]
    },
    {
      "cell_type": "code",
      "metadata": {
        "id": "-ebcSfzQ3diO"
      },
      "source": [
        "# Importar metrica\n",
        "from sklearn.feature_selection import chi2"
      ],
      "execution_count": 9,
      "outputs": []
    },
    {
      "cell_type": "code",
      "metadata": {
        "id": "4FK8qQHF3mVo"
      },
      "source": [
        "# Split dataset\n",
        "X = df1.drop('sex_Male', axis=1)\n",
        "y = df1.sex_Male"
      ],
      "execution_count": 10,
      "outputs": []
    },
    {
      "cell_type": "code",
      "metadata": {
        "id": "qF7Q4vtLFopd"
      },
      "source": [
        "# Normalizando X\n",
        "Xs = scale(X)\n",
        "Xs = Xs**2"
      ],
      "execution_count": 11,
      "outputs": []
    },
    {
      "cell_type": "code",
      "metadata": {
        "id": "SdXJ_oWF39zf"
      },
      "source": [
        "# Calculando Chi-Squared\n",
        "chi_scores = chi2(Xs,y)"
      ],
      "execution_count": 12,
      "outputs": []
    },
    {
      "cell_type": "code",
      "metadata": {
        "id": "hxemB0fX9I6-"
      },
      "source": [
        "# Colocando label nos resultados para posterior plot\n",
        "scores = pd.Series(chi_scores[0], index=X.columns)\n",
        "pvalues = pd.Series(chi_scores[1], index=X.columns)"
      ],
      "execution_count": 13,
      "outputs": []
    },
    {
      "cell_type": "code",
      "metadata": {
        "colab": {
          "base_uri": "https://localhost:8080/",
          "height": 297
        },
        "id": "SWV4651T9loI",
        "outputId": "c36672e9-1719-4070-80e6-57413db166d9"
      },
      "source": [
        "# Results\n",
        "pd.DataFrame({'Chi2':scores, 'p-Value':pvalues})"
      ],
      "execution_count": 14,
      "outputs": [
        {
          "output_type": "execute_result",
          "data": {
            "text/html": [
              "<div>\n",
              "<style scoped>\n",
              "    .dataframe tbody tr th:only-of-type {\n",
              "        vertical-align: middle;\n",
              "    }\n",
              "\n",
              "    .dataframe tbody tr th {\n",
              "        vertical-align: top;\n",
              "    }\n",
              "\n",
              "    .dataframe thead th {\n",
              "        text-align: right;\n",
              "    }\n",
              "</style>\n",
              "<table border=\"1\" class=\"dataframe\">\n",
              "  <thead>\n",
              "    <tr style=\"text-align: right;\">\n",
              "      <th></th>\n",
              "      <th>Chi2</th>\n",
              "      <th>p-Value</th>\n",
              "    </tr>\n",
              "  </thead>\n",
              "  <tbody>\n",
              "    <tr>\n",
              "      <th>bill_length_mm</th>\n",
              "      <td>1.986948</td>\n",
              "      <td>0.158660</td>\n",
              "    </tr>\n",
              "    <tr>\n",
              "      <th>bill_depth_mm</th>\n",
              "      <td>0.287287</td>\n",
              "      <td>0.591965</td>\n",
              "    </tr>\n",
              "    <tr>\n",
              "      <th>flipper_length_mm</th>\n",
              "      <td>6.469398</td>\n",
              "      <td>0.010975</td>\n",
              "    </tr>\n",
              "    <tr>\n",
              "      <th>body_mass_g</th>\n",
              "      <td>5.849896</td>\n",
              "      <td>0.015578</td>\n",
              "    </tr>\n",
              "    <tr>\n",
              "      <th>species_Chinstrap</th>\n",
              "      <td>0.014937</td>\n",
              "      <td>0.902726</td>\n",
              "    </tr>\n",
              "    <tr>\n",
              "      <th>species_Gentoo</th>\n",
              "      <td>0.017226</td>\n",
              "      <td>0.895579</td>\n",
              "    </tr>\n",
              "    <tr>\n",
              "      <th>island_Dream</th>\n",
              "      <td>0.000044</td>\n",
              "      <td>0.994698</td>\n",
              "    </tr>\n",
              "    <tr>\n",
              "      <th>island_Torgersen</th>\n",
              "      <td>0.213312</td>\n",
              "      <td>0.644184</td>\n",
              "    </tr>\n",
              "  </tbody>\n",
              "</table>\n",
              "</div>"
            ],
            "text/plain": [
              "                       Chi2   p-Value\n",
              "bill_length_mm     1.986948  0.158660\n",
              "bill_depth_mm      0.287287  0.591965\n",
              "flipper_length_mm  6.469398  0.010975\n",
              "body_mass_g        5.849896  0.015578\n",
              "species_Chinstrap  0.014937  0.902726\n",
              "species_Gentoo     0.017226  0.895579\n",
              "island_Dream       0.000044  0.994698\n",
              "island_Torgersen   0.213312  0.644184"
            ]
          },
          "metadata": {
            "tags": []
          },
          "execution_count": 14
        }
      ]
    },
    {
      "cell_type": "code",
      "metadata": {
        "colab": {
          "base_uri": "https://localhost:8080/",
          "height": 454
        },
        "id": "ogcvzwmWEvYG",
        "outputId": "fa44135e-4f1c-4cb4-b827-efccbb9b697e"
      },
      "source": [
        "# Dividindo o plot em duas colunas e tamanho da figura\n",
        "fig, ax = plt.subplots(1,2, figsize=(19,6))\n",
        "\n",
        "# Plot 1 - Chi2 scores\n",
        "g = sns.barplot(x=scores.index, y=scores, ax= ax[0])\n",
        "g.set_xticklabels(scores.index, rotation=45)\n",
        "g.set_title('Chi2 Scores')\n",
        "\n",
        "# Plot 2 p-Values\n",
        "g2 = sns.barplot(x=pvalues.index, y=pvalues, ax= ax[1])\n",
        "g2.set_xticklabels(pvalues.index, rotation=45)\n",
        "g2.set_title('p-Values');"
      ],
      "execution_count": 15,
      "outputs": [
        {
          "output_type": "display_data",
          "data": {
            "image/png": "[encoded data removed]",
            "text/plain": [
              "<Figure size 1368x432 with 2 Axes>"
            ]
          },
          "metadata": {
            "tags": [],
            "needs_background": "light"
          }
        }
      ]
    },
    {
      "cell_type": "markdown",
      "metadata": {
        "id": "zbGxMdnxKD_7"
      },
      "source": [
        "Como resultado, temos que os **menores Chi2 scores/ maiores p-Values** são os atributos menos dependentes da variável target Sexo. \n",
        "\n",
        "Portanto, temos que a espécie (species) e a ilha onde habitam (island) são independentes do sexo do animal, não influenciando em uma possível previsão.\n",
        "Isso faz todo o sentido, dado que em todas as ilhas e em todas as espécies, teremos os dois sexos de pinguins, sendo muito difícil prever essa variável com apenas essa informação."
      ]
    },
    {
      "cell_type": "markdown",
      "metadata": {
        "id": "4o1rBEp5IT_x"
      },
      "source": [
        "---"
      ]
    },
    {
      "cell_type": "markdown",
      "metadata": {
        "id": "KGzXD5Z2IVvV"
      },
      "source": [
        "## ANOVA F Test"
      ]
    },
    {
      "cell_type": "markdown",
      "metadata": {
        "id": "s0C6KXQAOB8k"
      },
      "source": [
        "ANOVa (Analysis of Variance) é um teste estatístico que calcula a variância entre as médias de grupos de dados. A Ho (p-value alto) é de que os grupos tem a mesma variância e, portanto, não tem impacto para treinamento de modelo. Halt (p-value baixo) de que existe diferença significativa e o atributo é bom para treinamento de modelo."
      ]
    },
    {
      "cell_type": "code",
      "metadata": {
        "id": "bBnvsyVxLpJM"
      },
      "source": [
        "# Importando library\n",
        "import pingouin as pg"
      ],
      "execution_count": 15,
      "outputs": []
    },
    {
      "cell_type": "code",
      "metadata": {
        "colab": {
          "base_uri": "https://localhost:8080/"
        },
        "id": "AMwHvKekTLUj",
        "outputId": "478d52a3-adf7-4ab9-85f3-ad36481f7fa9"
      },
      "source": [
        "df1.columns"
      ],
      "execution_count": 16,
      "outputs": [
        {
          "output_type": "execute_result",
          "data": {
            "text/plain": [
              "Index(['bill_length_mm', 'bill_depth_mm', 'flipper_length_mm', 'body_mass_g',\n",
              "       'species_Chinstrap', 'species_Gentoo', 'island_Dream',\n",
              "       'island_Torgersen', 'sex_Male'],\n",
              "      dtype='object')"
            ]
          },
          "metadata": {
            "tags": []
          },
          "execution_count": 16
        }
      ]
    },
    {
      "cell_type": "code",
      "metadata": {
        "id": "g632cxhiP5CG"
      },
      "source": [
        "df1['sex_Male'] = df1.sex_Male.astype(int)"
      ],
      "execution_count": 17,
      "outputs": []
    },
    {
      "cell_type": "code",
      "metadata": {
        "id": "cdo1jbaXOwbr"
      },
      "source": [
        "# Calculando a estatística com ANOVA\n",
        "aov = []\n",
        "for variance in df1.columns[:8]:\n",
        "  v = pg.anova(data=df1, dv='sex_Male', between=variance, detailed=True).round(3)\n",
        "  aov.append(v)"
      ],
      "execution_count": 47,
      "outputs": []
    },
    {
      "cell_type": "code",
      "metadata": {
        "colab": {
          "base_uri": "https://localhost:8080/",
          "height": 545
        },
        "id": "x1XjtHFiPnQD",
        "outputId": "48e092d1-7aa7-4289-e12b-e897d8399ed9"
      },
      "source": [
        "pd.concat(aov)"
      ],
      "execution_count": 64,
      "outputs": [
        {
          "output_type": "execute_result",
          "data": {
            "text/html": [
              "<div>\n",
              "<style scoped>\n",
              "    .dataframe tbody tr th:only-of-type {\n",
              "        vertical-align: middle;\n",
              "    }\n",
              "\n",
              "    .dataframe tbody tr th {\n",
              "        vertical-align: top;\n",
              "    }\n",
              "\n",
              "    .dataframe thead th {\n",
              "        text-align: right;\n",
              "    }\n",
              "</style>\n",
              "<table border=\"1\" class=\"dataframe\">\n",
              "  <thead>\n",
              "    <tr style=\"text-align: right;\">\n",
              "      <th></th>\n",
              "      <th>Source</th>\n",
              "      <th>SS</th>\n",
              "      <th>DF</th>\n",
              "      <th>MS</th>\n",
              "      <th>F</th>\n",
              "      <th>p-unc</th>\n",
              "      <th>np2</th>\n",
              "    </tr>\n",
              "  </thead>\n",
              "  <tbody>\n",
              "    <tr>\n",
              "      <th>0</th>\n",
              "      <td>bill_length_mm</td>\n",
              "      <td>53.519</td>\n",
              "      <td>162</td>\n",
              "      <td>0.330</td>\n",
              "      <td>1.889</td>\n",
              "      <td>0.000</td>\n",
              "      <td>0.643</td>\n",
              "    </tr>\n",
              "    <tr>\n",
              "      <th>1</th>\n",
              "      <td>Within</td>\n",
              "      <td>29.724</td>\n",
              "      <td>170</td>\n",
              "      <td>0.175</td>\n",
              "      <td>NaN</td>\n",
              "      <td>NaN</td>\n",
              "      <td>NaN</td>\n",
              "    </tr>\n",
              "    <tr>\n",
              "      <th>0</th>\n",
              "      <td>bill_depth_mm</td>\n",
              "      <td>42.777</td>\n",
              "      <td>78</td>\n",
              "      <td>0.548</td>\n",
              "      <td>3.442</td>\n",
              "      <td>0.000</td>\n",
              "      <td>0.514</td>\n",
              "    </tr>\n",
              "    <tr>\n",
              "      <th>1</th>\n",
              "      <td>Within</td>\n",
              "      <td>40.466</td>\n",
              "      <td>254</td>\n",
              "      <td>0.159</td>\n",
              "      <td>NaN</td>\n",
              "      <td>NaN</td>\n",
              "      <td>NaN</td>\n",
              "    </tr>\n",
              "    <tr>\n",
              "      <th>0</th>\n",
              "      <td>flipper_length_mm</td>\n",
              "      <td>26.592</td>\n",
              "      <td>53</td>\n",
              "      <td>0.502</td>\n",
              "      <td>2.471</td>\n",
              "      <td>0.000</td>\n",
              "      <td>0.319</td>\n",
              "    </tr>\n",
              "    <tr>\n",
              "      <th>1</th>\n",
              "      <td>Within</td>\n",
              "      <td>56.651</td>\n",
              "      <td>279</td>\n",
              "      <td>0.203</td>\n",
              "      <td>NaN</td>\n",
              "      <td>NaN</td>\n",
              "      <td>NaN</td>\n",
              "    </tr>\n",
              "    <tr>\n",
              "      <th>0</th>\n",
              "      <td>body_mass_g</td>\n",
              "      <td>43.097</td>\n",
              "      <td>92</td>\n",
              "      <td>0.468</td>\n",
              "      <td>2.800</td>\n",
              "      <td>0.000</td>\n",
              "      <td>0.518</td>\n",
              "    </tr>\n",
              "    <tr>\n",
              "      <th>1</th>\n",
              "      <td>Within</td>\n",
              "      <td>40.146</td>\n",
              "      <td>240</td>\n",
              "      <td>0.167</td>\n",
              "      <td>NaN</td>\n",
              "      <td>NaN</td>\n",
              "      <td>NaN</td>\n",
              "    </tr>\n",
              "    <tr>\n",
              "      <th>0</th>\n",
              "      <td>species_Chinstrap</td>\n",
              "      <td>0.002</td>\n",
              "      <td>1</td>\n",
              "      <td>0.002</td>\n",
              "      <td>0.007</td>\n",
              "      <td>0.934</td>\n",
              "      <td>0.000</td>\n",
              "    </tr>\n",
              "    <tr>\n",
              "      <th>1</th>\n",
              "      <td>Within</td>\n",
              "      <td>83.242</td>\n",
              "      <td>331</td>\n",
              "      <td>0.251</td>\n",
              "      <td>NaN</td>\n",
              "      <td>NaN</td>\n",
              "      <td>NaN</td>\n",
              "    </tr>\n",
              "    <tr>\n",
              "      <th>0</th>\n",
              "      <td>species_Gentoo</td>\n",
              "      <td>0.012</td>\n",
              "      <td>1</td>\n",
              "      <td>0.012</td>\n",
              "      <td>0.048</td>\n",
              "      <td>0.826</td>\n",
              "      <td>0.000</td>\n",
              "    </tr>\n",
              "    <tr>\n",
              "      <th>1</th>\n",
              "      <td>Within</td>\n",
              "      <td>83.231</td>\n",
              "      <td>331</td>\n",
              "      <td>0.251</td>\n",
              "      <td>NaN</td>\n",
              "      <td>NaN</td>\n",
              "      <td>NaN</td>\n",
              "    </tr>\n",
              "    <tr>\n",
              "      <th>0</th>\n",
              "      <td>island_Dream</td>\n",
              "      <td>0.000</td>\n",
              "      <td>1</td>\n",
              "      <td>0.000</td>\n",
              "      <td>0.000</td>\n",
              "      <td>0.990</td>\n",
              "      <td>0.000</td>\n",
              "    </tr>\n",
              "    <tr>\n",
              "      <th>1</th>\n",
              "      <td>Within</td>\n",
              "      <td>83.243</td>\n",
              "      <td>331</td>\n",
              "      <td>0.251</td>\n",
              "      <td>NaN</td>\n",
              "      <td>NaN</td>\n",
              "      <td>NaN</td>\n",
              "    </tr>\n",
              "    <tr>\n",
              "      <th>0</th>\n",
              "      <td>island_Torgersen</td>\n",
              "      <td>0.013</td>\n",
              "      <td>1</td>\n",
              "      <td>0.013</td>\n",
              "      <td>0.050</td>\n",
              "      <td>0.823</td>\n",
              "      <td>0.000</td>\n",
              "    </tr>\n",
              "    <tr>\n",
              "      <th>1</th>\n",
              "      <td>Within</td>\n",
              "      <td>83.231</td>\n",
              "      <td>331</td>\n",
              "      <td>0.251</td>\n",
              "      <td>NaN</td>\n",
              "      <td>NaN</td>\n",
              "      <td>NaN</td>\n",
              "    </tr>\n",
              "  </tbody>\n",
              "</table>\n",
              "</div>"
            ],
            "text/plain": [
              "              Source      SS   DF     MS      F  p-unc    np2\n",
              "0     bill_length_mm  53.519  162  0.330  1.889  0.000  0.643\n",
              "1             Within  29.724  170  0.175    NaN    NaN    NaN\n",
              "0      bill_depth_mm  42.777   78  0.548  3.442  0.000  0.514\n",
              "1             Within  40.466  254  0.159    NaN    NaN    NaN\n",
              "0  flipper_length_mm  26.592   53  0.502  2.471  0.000  0.319\n",
              "1             Within  56.651  279  0.203    NaN    NaN    NaN\n",
              "0        body_mass_g  43.097   92  0.468  2.800  0.000  0.518\n",
              "1             Within  40.146  240  0.167    NaN    NaN    NaN\n",
              "0  species_Chinstrap   0.002    1  0.002  0.007  0.934  0.000\n",
              "1             Within  83.242  331  0.251    NaN    NaN    NaN\n",
              "0     species_Gentoo   0.012    1  0.012  0.048  0.826  0.000\n",
              "1             Within  83.231  331  0.251    NaN    NaN    NaN\n",
              "0       island_Dream   0.000    1  0.000  0.000  0.990  0.000\n",
              "1             Within  83.243  331  0.251    NaN    NaN    NaN\n",
              "0   island_Torgersen   0.013    1  0.013  0.050  0.823  0.000\n",
              "1             Within  83.231  331  0.251    NaN    NaN    NaN"
            ]
          },
          "metadata": {
            "tags": []
          },
          "execution_count": 64
        }
      ]
    },
    {
      "cell_type": "markdown",
      "metadata": {
        "id": "zQ9XkS6vYqWU"
      },
      "source": [
        "Verificando o resultado das análises de variância, chegamos ao mesmo resultado. As variáveis mais relevantes para construção de um modelo seriam **bill_depth, body_mass_g, Flipper_length e bill_length**, sendo as espécies e ilhas onde eles vivem menos relevantes para prever o sexo do animal."
      ]
    },
    {
      "cell_type": "code",
      "metadata": {
        "id": "U5NBbEVtZL3S"
      },
      "source": [
        ""
      ],
      "execution_count": null,
      "outputs": []
    }
  ]
}