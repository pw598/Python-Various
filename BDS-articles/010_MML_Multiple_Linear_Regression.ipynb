{
 "cells": [
  {
   "cell_type": "markdown",
   "metadata": {},
   "source": [
    "# 2. Linear Regression\n",
    "***\n",
    "\n",
    "- Multiple linear regression differs from the simple one because it can handle multiple input features\n",
    "- It is a simple algorithm initially developed in the field of statistics and was studied as a model for understanding the relationship between input and output variables\n",
    "- It is a linear model - assumes linear relationship between input variables (X) and the output variable (y)\n",
    "- Used to predict continious values (e.g., weight, price...)\n",
    "\n",
    "\n",
    "#### Assumptions\n",
    "1. **Linear Assumption** — model assumes the relationship between variables is linear\n",
    "2. **No Noise** — model assumes that the input and output variables are not noisy — so remove outliers if possible\n",
    "3. **No Collinearity** — model will overfit when you have highly correlated input variables\n",
    "4. **Normal Distribution** — the model will make more reliable predictions if your input and output variables are normally distributed. If that’s not the case, try using some transforms on your variables to make them more normal-looking\n",
    "5. **Rescaled Inputs** — use scalers or normalizer to make more reliable predictions\n",
    "\n",
    "#### Take-home point\n",
    "- Training a linear regression model means calculating the best coefficients for the line equation formula\n",
    "- The best coefficients can be obtained with **gradient descent**\n",
    "    - An iterative optimization algorithm that calculates derivatives wrt. each coefficient, and updates the coefficients on the go\n",
    "    - One additional parameter - *learning rate*, specifies the rate at which coefficients are updated\n",
    "        - High learning rate can lead to \"missing\" the best values\n",
    "        - Low learning rate can lead to slow optimization"
   ]
  },
  {
   "cell_type": "markdown",
   "metadata": {},
   "source": [
    "<br>\n",
    "\n",
    "## Math behind\n",
    "- In a nutshell, we need to calculate an array of weights and a single bias through gradient descent\n",
    "- Weights = slopes, bias = y intercept\n",
    "- We're still solving a simple line equation:"
   ]
  },
  {
   "cell_type": "markdown",
   "metadata": {},
   "source": [
    "$$ \\large \\hat{y} = wx + b $$\n",
    "\n",
    "<br>\n",
    "\n",
    "- We also need a **cost function**\n",
    "    - Function we want to minimize\n",
    "    - Reducing the cost (loss) leads to better equation parameters\n",
    "    - We'll choose Mean Squared Error (MSE), but feel free to work with any other\n",
    "\n",
    "$$ \\large MSE = \\frac{1}{N} \\sum_{i=1}^{n} ((y_i - \\hat{y})^2 $$\n",
    "\n",
    "<br>\n",
    "\n",
    "- $ \\hat{y} $ can be further written into:\n",
    "\n",
    "$$ \\large MSE = \\frac{1}{N} \\sum_{i=1}^{n} ((y_i - (wx_i + b))^2 $$\n",
    "\n",
    "<br>\n",
    "\n",
    "- To update weights and biases, we're using gradient descent\n",
    "- It relies on partial derivatives calculation for each parameter\n",
    "- Below you'll find derived MSE wrt. each parameter:\n",
    "\n",
    "$$ \\large \\partial_w = \\frac{1}{N} \\sum_{i=1}^{n} 2x_i(\\hat{y} - y) $$\n",
    "<br>\n",
    "$$ \\large \\partial_b = \\frac{1}{N} \\sum_{i=1}^{n} 2(\\hat{y} - y) $$\n",
    "\n",
    "<br>\n",
    "\n",
    "- This $ 2 $ can be ommited, or you can leave it - it's not important\n",
    "- Next, we're updating the existing weights and bias according to the following formulas:\n",
    "\n",
    "$$ \\large w = w - \\alpha \\cdot \\partial_w $$\n",
    "<br>\n",
    "$$ \\large b = b - \\alpha \\cdot \\partial_b $$\n",
    "\n",
    "- Where $ \\alpha $ is the learning rate\n",
    "- This process is then repeated for a predefined number of iterations\n",
    "- Let's see this in action"
   ]
  },
  {
   "cell_type": "markdown",
   "metadata": {},
   "source": [
    "<br>\n",
    "\n",
    "## Implementation\n",
    "- You'll need only Numpy to implement the logic\n",
    "- Matplotlib is used for optional visualizations"
   ]
  },
  {
   "cell_type": "code",
   "execution_count": 1,
   "metadata": {},
   "outputs": [],
   "source": [
    "import numpy as np\n",
    "import matplotlib.pyplot as plt\n",
    "from matplotlib import rcParams\n",
    "rcParams['figure.figsize'] = (14, 7)\n",
    "rcParams['axes.spines.top'] = False\n",
    "rcParams['axes.spines.right'] = False"
   ]
  },
  {
   "cell_type": "markdown",
   "metadata": {},
   "source": [
    "<br>\n",
    "\n",
    "- The `LinearRegression` class is written to follow the familiar Scikit-Learn syntax\n",
    "- The coefficients are set to `None` at the start - `__init__()` method\n",
    "- We're also keeping track of the loss (just for visualization purposes)\n",
    "- The `fit()` method calculates the coefficients\n",
    "- The `predict()` method essentially implements the line equation\n",
    "- The `_mean_squared_error()` private function is used to calculate loss at every iteration"
   ]
  },
  {
   "cell_type": "code",
   "execution_count": 2,
   "metadata": {},
   "outputs": [],
   "source": [
    "class LinearRegression:\n",
    "    '''\n",
    "    A class which implements linear regression model with gradient descent.\n",
    "    '''\n",
    "    def __init__(self, learning_rate=0.01, n_iterations=10000):\n",
    "        self.learning_rate = learning_rate\n",
    "        self.n_iterations = n_iterations\n",
    "        self.weights, self.bias = None, None\n",
    "        self.loss = []\n",
    "        \n",
    "    @staticmethod\n",
    "    def _mean_squared_error(y, y_hat):\n",
    "        '''\n",
    "        Private method, used to evaluate loss at each iteration.\n",
    "        \n",
    "        :param: y - array, true values\n",
    "        :param: y_hat - array, predicted values\n",
    "        :return: float\n",
    "        '''\n",
    "        error = 0\n",
    "        for i in range(len(y)):\n",
    "            error += (y[i] - y_hat[i]) ** 2\n",
    "        return error / len(y)\n",
    "    \n",
    "    def fit(self, X, y):\n",
    "        '''\n",
    "        Used to calculate the coefficient of the linear regression model.\n",
    "        \n",
    "        :param X: array, features\n",
    "        :param y: array, true values\n",
    "        :return: None\n",
    "        '''\n",
    "        # 1. Initialize weights and bias to zeros\n",
    "        self.weights = np.zeros(X.shape[1])\n",
    "        self.bias = 0\n",
    "        \n",
    "        # 2. Perform gradient descent\n",
    "        for i in range(self.n_iterations):\n",
    "            # Line equation\n",
    "            y_hat = np.dot(X, self.weights) + self.bias\n",
    "            loss = self._mean_squared_error(y, y_hat)\n",
    "            self.loss.append(loss)\n",
    "            \n",
    "            # Calculate derivatives\n",
    "            partial_w = (1 / X.shape[0]) * (2 * np.dot(X.T, (y_hat - y)))\n",
    "            partial_d = (1 / X.shape[0]) * (2 * np.sum(y_hat - y))\n",
    "            \n",
    "            # Update the coefficients\n",
    "            self.weights -= self.learning_rate * partial_w\n",
    "            self.bias -= self.learning_rate * partial_d\n",
    "        \n",
    "        \n",
    "    def predict(self, X):\n",
    "        '''\n",
    "        Makes predictions using the line equation.\n",
    "        \n",
    "        :param X: array, features\n",
    "        :return: array, predictions\n",
    "        '''\n",
    "        return np.dot(X, self.weights) + self.bias"
   ]
  },
  {
   "cell_type": "markdown",
   "metadata": {},
   "source": [
    "<br>\n",
    "\n",
    "## Testing\n",
    "- We'll use the *diabetes* dataset from Scikit-Learn:"
   ]
  },
  {
   "cell_type": "code",
   "execution_count": 3,
   "metadata": {},
   "outputs": [],
   "source": [
    "from sklearn.datasets import load_diabetes\n",
    "\n",
    "data = load_diabetes()\n",
    "X = data.data\n",
    "y = data.target"
   ]
  },
  {
   "cell_type": "markdown",
   "metadata": {},
   "source": [
    "- The below code cell applies train/test split to the dataset:"
   ]
  },
  {
   "cell_type": "code",
   "execution_count": 4,
   "metadata": {},
   "outputs": [],
   "source": [
    "from sklearn.model_selection import train_test_split\n",
    "\n",
    "X_train, X_test, y_train, y_test = train_test_split(X, y, test_size=0.2, random_state=42)"
   ]
  },
  {
   "cell_type": "markdown",
   "metadata": {},
   "source": [
    "- You can now initialize and train the model, and afterwards make predictions:"
   ]
  },
  {
   "cell_type": "code",
   "execution_count": 5,
   "metadata": {},
   "outputs": [],
   "source": [
    "model = LinearRegression()\n",
    "model.fit(X_train, y_train)\n",
    "preds = model.predict(X_test)"
   ]
  },
  {
   "cell_type": "markdown",
   "metadata": {},
   "source": [
    "- These are the \"optimal\" weights:"
   ]
  },
  {
   "cell_type": "code",
   "execution_count": 6,
   "metadata": {},
   "outputs": [
    {
     "data": {
      "text/plain": [
       "array([  57.01554737,  -44.13781863,  269.89143674,  192.64514651,\n",
       "         27.72222515,    2.18960209, -147.70003766,  136.38206323,\n",
       "        224.11121915,  134.72758341])"
      ]
     },
     "execution_count": 6,
     "metadata": {},
     "output_type": "execute_result"
    }
   ],
   "source": [
    "model.weights"
   ]
  },
  {
   "cell_type": "markdown",
   "metadata": {},
   "source": [
    "- And this is the \"optimal\" bias:"
   ]
  },
  {
   "cell_type": "code",
   "execution_count": 7,
   "metadata": {},
   "outputs": [
    {
     "data": {
      "text/plain": [
       "152.2631135652031"
      ]
     },
     "execution_count": 7,
     "metadata": {},
     "output_type": "execute_result"
    }
   ],
   "source": [
    "model.bias"
   ]
  },
  {
   "cell_type": "markdown",
   "metadata": {},
   "source": [
    "<br>\n",
    "\n",
    "## Loss Evaluation\n",
    "\n",
    "- Let's visualize the loss at each iteration\n",
    "- Ideally, we should see a curve that starts high and soon drops to zero or near zero:"
   ]
  },
  {
   "cell_type": "code",
   "execution_count": 15,
   "metadata": {},
   "outputs": [
    {
     "data": {
      "image/png": "[encoded data removed]",
      "text/plain": [
       "<Figure size 1008x504 with 1 Axes>"
      ]
     },
     "metadata": {
      "needs_background": "light"
     },
     "output_type": "display_data"
    }
   ],
   "source": [
    "xs = np.arange(len(model.loss))\n",
    "ys = model.loss\n",
    "\n",
    "plt.plot(xs, ys, lw=3, c='#087E8B')\n",
    "plt.title('Loss per iteration (MSE)', size=20)\n",
    "plt.xlabel('Iteration', size=14)\n",
    "plt.ylabel('Loss', size=14)\n",
    "plt.savefig('images/002_LinearRegression_loss1.png', dpi=300, bbox_inches='tight')\n",
    "plt.show()"
   ]
  },
  {
   "cell_type": "markdown",
   "metadata": {},
   "source": [
    "- But how do we know we've used good learning rate?\n",
    "- You can evaluate it by trying out a couple, and keeping track of the loss:"
   ]
  },
  {
   "cell_type": "code",
   "execution_count": 9,
   "metadata": {},
   "outputs": [],
   "source": [
    "losses = {}\n",
    "for lr in [0.5, 0.1, 0.01, 0.001]:\n",
    "    model = LinearRegression(learning_rate=lr)\n",
    "    model.fit(X_train, y_train)\n",
    "    losses[f'LR={str(lr)}'] = model.loss"
   ]
  },
  {
   "cell_type": "markdown",
   "metadata": {},
   "source": [
    "- You can now visualize loss at each iteration for these different learning rates:"
   ]
  },
  {
   "cell_type": "code",
   "execution_count": 16,
   "metadata": {},
   "outputs": [
    {
     "data": {
      "image/png": "[encoded data removed]",
      "text/plain": [
       "<Figure size 1008x504 with 1 Axes>"
      ]
     },
     "metadata": {
      "needs_background": "light"
     },
     "output_type": "display_data"
    }
   ],
   "source": [
    "xs = np.arange(len(model.loss))\n",
    "\n",
    "plt.plot(xs, losses['LR=0.5'], lw=3, label=f\"LR = 0.5, Final = {losses['LR=0.5'][-1]:.2f}\")\n",
    "plt.plot(xs, losses['LR=0.1'], lw=3, label=f\"LR = 0.1, Final = {losses['LR=0.1'][-1]:.2f}\")\n",
    "plt.plot(xs, losses['LR=0.01'], lw=3, label=f\"LR = 0.01, Final = {losses['LR=0.01'][-1]:.2f}\")\n",
    "plt.plot(xs, losses['LR=0.001'], lw=3, label=f\"LR = 0.001, Final = {losses['LR=0.001'][-1]:.2f}\")\n",
    "plt.title('Loss per iteration (MSE) for different learning rates', size=20)\n",
    "plt.xlabel('Iteration', size=14)\n",
    "plt.ylabel('Loss', size=14)\n",
    "plt.legend()\n",
    "plt.savefig('images/002_LinearRegression_loss2.png', dpi=300, bbox_inches='tight')\n",
    "plt.show()"
   ]
  },
  {
   "cell_type": "markdown",
   "metadata": {},
   "source": [
    "- Seems like `learning_rate=0.5` works the best\n",
    "- Let's train the model with it and evalute (print MSE):"
   ]
  },
  {
   "cell_type": "code",
   "execution_count": 11,
   "metadata": {},
   "outputs": [
    {
     "data": {
      "text/plain": [
       "2885.8431887424276"
      ]
     },
     "execution_count": 11,
     "metadata": {},
     "output_type": "execute_result"
    }
   ],
   "source": [
    "model = LinearRegression(learning_rate=0.5)\n",
    "model.fit(X_train, y_train)\n",
    "preds = model.predict(X_test)\n",
    "\n",
    "model._mean_squared_error(y_test, preds)"
   ]
  },
  {
   "cell_type": "markdown",
   "metadata": {},
   "source": [
    "<br>\n",
    "\n",
    "## Comparison with Scikit-Learn\n",
    "- We want to know if our model is good, so let's compare it with `LinearRegression` model from Scikit-Learn"
   ]
  },
  {
   "cell_type": "code",
   "execution_count": 13,
   "metadata": {},
   "outputs": [
    {
     "data": {
      "text/plain": [
       "2900.1732878832295"
      ]
     },
     "execution_count": 13,
     "metadata": {},
     "output_type": "execute_result"
    }
   ],
   "source": [
    "from sklearn.linear_model import LinearRegression\n",
    "from sklearn.metrics import mean_squared_error\n",
    "\n",
    "lr_model = LinearRegression()\n",
    "lr_model.fit(X_train, y_train)\n",
    "lr_preds = lr_model.predict(X_test)\n",
    "\n",
    "mean_squared_error(y_test, lr_preds)"
   ]
  },
  {
   "cell_type": "markdown",
   "metadata": {},
   "source": [
    "- Our model actually has a marginally better MSE!"
   ]
  }
 ],
 "metadata": {
  "kernelspec": {
   "display_name": "Python 3",
   "language": "python",
   "name": "python3"
  },
  "language_info": {
   "codemirror_mode": {
    "name": "ipython",
    "version": 3
   },
   "file_extension": ".py",
   "mimetype": "text/x-python",
   "name": "python",
   "nbconvert_exporter": "python",
   "pygments_lexer": "ipython3",
   "version": "3.8.5"
  }
 },
 "nbformat": 4,
 "nbformat_minor": 4
}
