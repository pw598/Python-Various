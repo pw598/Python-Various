{
 "cells": [
  {
   "cell_type": "markdown",
   "metadata": {},
   "source": [
    "# 3. Logistic Regression\n",
    "***\n",
    "\n",
    "- Logistic regression is the most fundamental algorithm for handling binary classification problems\n",
    "- It's a commonly used algorithm for constructing a baseline model, and is generally a good first model to build, because it's highly interpretable\n",
    "- Logistic regression is similar to linear regression\n",
    "    - We're still dealing with the line equation for making predictions, but this time the result is passed through the sigmoid function to turn ouptut into the probability\n",
    "    - The probability tells you the chance of this instance belonging to the positive classs\n",
    "        - For example, if you have two classes (bad, good), \"good\" is the positive class, and output of 0.8 means the model is 80% condifdent the instance belongs to the positive class\n",
    "- In a nutshell, logistic regression model outputs probabilities instead of raw classes\n",
    "    - We then get the classes by applying a certain threshold\n",
    "    - For example, if the probability is greater than 0.5, we assign the positive class, and negtive class in the other case\n",
    "    - This threshold can (and should) be altered depending on the problem and the type of metric you're optimizing for\n",
    "    - More on that later\n",
    "    \n",
    "**Assumptions** (source: https://www.statisticssolutions.com/assumptions-of-logistic-regression/)\n",
    "- Logistic regression **DOES NOT** assume:\n",
    "    - Linear relationship between the dependent and independent variables\n",
    "    - Normal distribution of the residuals\n",
    "    - Homoscedasticity - constant variance in the residuals\n",
    "- Logistic regression **DOES** assume:\n",
    "    - Independent observations\n",
    "    - Little or no multicollinearity among independent variables\n",
    "    - Linearity of indenpendent variables and log odds\n",
    "    - Large sample size - minimum of 10 cases with the least frequent outcome for each independent variable in your model\n",
    "        - E.g., if you have 5 independent variables and expected probability of the least frequenct outcome is 0.1, then you need a minimum sample size of 500 (10 * 5 / 0.1)"
   ]
  },
  {
   "cell_type": "markdown",
   "metadata": {},
   "source": [
    "## Math behind\n",
    "\n",
    "- In a way, we're still dealing with a line equation\n",
    "- Formula of a line equation\n",
    "\n",
    "$$ \\large \\hat{y} = wx + b $$\n",
    "\n",
    "- The **Sigmoid/Logistic** function is applied to the result\n",
    "- The formula for this function is as follows:\n",
    "\n",
    "$$ \\large S(x) = \\frac{1}{1 + e^{-x}} $$\n",
    "\n",
    "- Let's visualize the function to see what happens behind the scenes"
   ]
  },
  {
   "cell_type": "code",
   "execution_count": 1,
   "metadata": {},
   "outputs": [
    {
     "data": {
      "image/png": "[encoded data removed]",
      "text/plain": [
       "<Figure size 1008x504 with 1 Axes>"
      ]
     },
     "metadata": {
      "needs_background": "light"
     },
     "output_type": "display_data"
    }
   ],
   "source": [
    "import numpy as np\n",
    "import matplotlib.pyplot as plt\n",
    "from matplotlib import rcParams\n",
    "rcParams['figure.figsize'] = (14, 7)\n",
    "rcParams['axes.spines.top'] = False\n",
    "rcParams['axes.spines.right'] = False\n",
    "\n",
    "\n",
    "def sigmoid(x):\n",
    "    return 1 / (1 + np.exp(-x))\n",
    "\n",
    "xs = np.arange(-10, 10, 0.1)\n",
    "ys = [sigmoid(x) for x in xs]\n",
    "\n",
    "plt.plot(xs, ys, c='#087E8B', lw=3)\n",
    "plt.title('Sigmoid function', size=20)\n",
    "plt.xlabel('X', size=14)\n",
    "plt.ylabel('Y (probability)', size=14)\n",
    "plt.savefig('images/003_LogisticRegression_sigmoid_function.png', dpi=300, bbox_inches='tight')\n",
    "plt.show()"
   ]
  },
  {
   "cell_type": "markdown",
   "metadata": {},
   "source": [
    "- Essentially, sigmoid function returns a value between 0 and 1\n",
    "- This value is interpreted as a probability of the positive class\n",
    "- We can make classification from probabilities\n",
    "    - If the probability is greater than some threshold (commonly 0.5), assign the positive class\n",
    "    - If the probability is less than some threshold (commonly 0.5), assign the negative class\n",
    "    \n",
    "- As with linear regression, there are two parameters we need to optimize for - weights and bias\n",
    "- To perform the optimization, we'll need to declare **Cost function**\n",
    "    - We can't use Mean Squared Error as with linear regression\n",
    "    - We can, in theory, but it's not a good idea, because MSE was designed to evaluate regression models\n",
    "    - Instead, we can use the **Cross Entropy** function\n",
    "    \n",
    "- Formula of the **Binary Cross Entropy** function (2 classes):\n",
    "\n",
    "$$ \\large BCE = - \\frac{1}{n} \\sum_{i}^{n} y_i \\cdot log \\hat{y}_i + (1 - y_i) \\cdot log (1 - {\\hat{y}_i}) $$\n",
    "\n",
    "- The $ \\hat{y} $ in the formula can be re-written as a sigmoid function for a given input\n",
    "- A brief introduction to BCE is made later\n",
    "- Next you'll need to use this cost function in gradient descent to iteratively update weights and bias\n",
    "- To do so, you'll have to calculate partial derivatives of the cross entropy function wrt. weights and bias parameters:\n",
    "\n",
    "$$ \\large \\partial_w = \\frac{1}{N}\\sum 2x_i(\\hat{y} - y_i)) $$\n",
    "<br>\n",
    "$$ \\large \\partial_b = \\frac{1}{N}\\sum 2(\\hat{y} - y_i)) $$\n",
    "\n",
    "- This $ 2 $ can be ommited, or you can leave it - it's not important\n",
    "- Next, we're updating the existing weights and bias according to the following formulas:\n",
    "\n",
    "$$ \\large w = w - \\alpha \\cdot \\partial_w $$\n",
    "<br>\n",
    "$$ \\large b = b - \\alpha \\cdot \\partial_b $$\n",
    "\n",
    "- Where $ \\alpha $ is the learning rate\n",
    "- This process is then repeated for a predefined number of iterations\n",
    "- Before we see this in action, let's make a brief introduction to the Binary Cross Entropy function\n",
    "\n",
    "<br>\n",
    "\n",
    "## A Brief Introduction to Binary Cross Entropy\n",
    "- Binary cross entropy function is a common cost function for evaluating binary classification machine learning algorithms\n",
    "- Commonly refered to as *log loss*\n",
    "- It's value can be calculated from the previously mentioned formula\n",
    "- This cost function \"punishes\" wrong predictions much more than it \"rewards\" good predictions\n",
    "\n",
    "**Example 1: Calculating BCE for a correct prediction**\n",
    "- Let's say your model predicts the positive class with 90% probability\n",
    "- This means the model is only 10% confident the negative class should be predicted\n",
    "- What's the cross entropy value? \n",
    "\n",
    "![](images/003_logreg_crossentropy_small.jpg)\n",
    "\n",
    "- As you can see, the value of cross entropy (or *loss*) is rather small\n",
    "\n",
    "**Example 2: Calculating BCE for a incorrect prediction**\n",
    "- Let's say your model predicts the positive class with 10% probability\n",
    "- This means the model is 90% confident the negative class should be predicted\n",
    "- What's the cross entropy value? \n",
    "\n",
    "![](images/003_logreg_crossentropy_big.jpg)\n",
    "\n",
    "- As you can see, the loss here is quite big\n",
    "- We can calculate both with Python:"
   ]
  },
  {
   "cell_type": "code",
   "execution_count": 2,
   "metadata": {},
   "outputs": [],
   "source": [
    "def binary_cross_entropy(y, y_hat):\n",
    "    def safe_log(x): return 0 if x == 0 else np.log(x)\n",
    "    \n",
    "    total = 0\n",
    "    for curr_y, curr_y_hat in zip(y, y_hat):\n",
    "        total += (curr_y * safe_log(curr_y_hat) + (1 - curr_y) * safe_log(1 - curr_y_hat))\n",
    "    return - total / len(y)"
   ]
  },
  {
   "cell_type": "markdown",
   "metadata": {},
   "source": [
    "- We need the `safe_log()` function inside because `log(0)` returns infinity:"
   ]
  },
  {
   "cell_type": "code",
   "execution_count": 3,
   "metadata": {},
   "outputs": [
    {
     "name": "stderr",
     "output_type": "stream",
     "text": [
      "<ipython-input-3-f6e7c0610b57>:1: RuntimeWarning: divide by zero encountered in log\n",
      "  np.log(0)\n"
     ]
    },
    {
     "data": {
      "text/plain": [
       "-inf"
      ]
     },
     "execution_count": 3,
     "metadata": {},
     "output_type": "execute_result"
    }
   ],
   "source": [
    "np.log(0)"
   ]
  },
  {
   "cell_type": "markdown",
   "metadata": {},
   "source": [
    "- Let's evalutate for **Example 1**:"
   ]
  },
  {
   "cell_type": "code",
   "execution_count": 4,
   "metadata": {},
   "outputs": [
    {
     "data": {
      "text/plain": [
       "0.10536051565782628"
      ]
     },
     "execution_count": 4,
     "metadata": {},
     "output_type": "execute_result"
    }
   ],
   "source": [
    "binary_cross_entropy(y=[1, 0], y_hat=[0.9, 0.1])"
   ]
  },
  {
   "cell_type": "markdown",
   "metadata": {},
   "source": [
    "- And now for **Example 2**:"
   ]
  },
  {
   "cell_type": "code",
   "execution_count": 5,
   "metadata": {},
   "outputs": [
    {
     "data": {
      "text/plain": [
       "2.302585092994046"
      ]
     },
     "execution_count": 5,
     "metadata": {},
     "output_type": "execute_result"
    }
   ],
   "source": [
    "binary_cross_entropy(y=[1, 0], y_hat=[0.1, 0.9])"
   ]
  },
  {
   "cell_type": "markdown",
   "metadata": {},
   "source": [
    "- You now know everything needed to implement Logistic regression algorithm from scratch\n",
    "\n",
    "<br><br>\n",
    "\n",
    "## Implementation\n",
    "- The `LogisticRegression` class is written to follow the familiar Scikit-Learn syntax\n",
    "- The coefficients are set to None at the start - `__init__()` method\n",
    "- The `fit()` method calculates the coefficients\n",
    "- The `predict()` method essentially implements the line equation passed through a sigmoid function\n",
    "- The `_binary_cross_entropy()` private function is used to calculate loss at every iteration:"
   ]
  },
  {
   "cell_type": "code",
   "execution_count": 6,
   "metadata": {},
   "outputs": [],
   "source": [
    "class LogisticRegression:\n",
    "    '''\n",
    "    A class which implements logistic regression model with gradient descent.\n",
    "    '''\n",
    "    def __init__(self, learning_rate=0.1, n_iterations=1000):\n",
    "        self.learning_rate = learning_rate\n",
    "        self.n_iterations = n_iterations\n",
    "        self.weights, self.bias = None, None\n",
    "        \n",
    "    @staticmethod\n",
    "    def _sigmoid(x):\n",
    "        '''\n",
    "        Private method, used to pass results of the line equation through the sigmoid function.\n",
    "        \n",
    "        :param x: float, prediction made by the line equation\n",
    "        :return: float\n",
    "        '''\n",
    "        return 1 / (1 + np.exp(-x))\n",
    "    \n",
    "    @staticmethod\n",
    "    def _binary_cross_entropy(y, y_hat):\n",
    "        '''\n",
    "        Private method, used to calculate binary cross entropy value between actual classes \n",
    "        and predicted probabilities.\n",
    "        \n",
    "        :param y: array, true class labels\n",
    "        :param y_hat: array, predicted probabilities\n",
    "        :return: float\n",
    "        '''\n",
    "        def safe_log(x): \n",
    "            return 0 if x == 0 else np.log(x)\n",
    "        total = 0\n",
    "        for curr_y, curr_y_hat in zip(y, y_hat):\n",
    "            total += (curr_y * safe_log(curr_y_hat) + (1 - curr_y) * safe_log(1 - curr_y_hat))\n",
    "        return - total / len(y)\n",
    "        \n",
    "    def fit(self, X, y):\n",
    "        '''\n",
    "        Used to calculate the coefficient of the logistic regression model.\n",
    "        \n",
    "        :param X: array, features\n",
    "        :param y: array, true values\n",
    "        :return: None\n",
    "        '''\n",
    "        # 1. Initialize coefficients\n",
    "        self.weights = np.zeros(X.shape[1])\n",
    "        self.bias = 0\n",
    "        \n",
    "        # 2. Perform gradient descent\n",
    "        for i in range(self.n_iterations):\n",
    "            linear_pred = np.dot(X, self.weights) + self.bias\n",
    "            probability = self._sigmoid(linear_pred)\n",
    "            \n",
    "            # Calculate derivatives\n",
    "            partial_w = (1 / X.shape[0]) * (2 * np.dot(X.T, (probability - y)))\n",
    "            partial_d = (1 / X.shape[0]) * (2 * np.sum(probability - y))\n",
    "            \n",
    "            # Update the coefficients\n",
    "            self.weights -= self.learning_rate * partial_w\n",
    "            self.bias -= self.learning_rate * partial_d\n",
    "            \n",
    "    def predict_proba(self, X):\n",
    "        '''\n",
    "        Calculates prediction probabilities for a given threshold using the line equation \n",
    "        passed through the sigmoid function.\n",
    "        \n",
    "        :param X: array, features\n",
    "        :return: array, prediction probabilities\n",
    "        '''\n",
    "        linear_pred = np.dot(X, self.weights) + self.bias\n",
    "        return self._sigmoid(linear_pred)\n",
    "    \n",
    "    def predict(self, X, threshold=0.5):\n",
    "        '''\n",
    "        Makes predictions using the line equation passed through the sigmoid function.\n",
    "        \n",
    "        :param X: array, features\n",
    "        :param threshold: float, classification threshold\n",
    "        :return: array, predictions\n",
    "        '''\n",
    "        probabilities = self.predict_proba(X)\n",
    "        return [1 if i > threshold else 0 for i in probabilities]"
   ]
  },
  {
   "cell_type": "markdown",
   "metadata": {},
   "source": [
    "<br>\n",
    "\n",
    "## Testing\n",
    "- We'll use the *breast cancer* dataset from Scikit-Learn:"
   ]
  },
  {
   "cell_type": "code",
   "execution_count": 7,
   "metadata": {},
   "outputs": [],
   "source": [
    "from sklearn.datasets import load_breast_cancer\n",
    "\n",
    "data = load_breast_cancer()\n",
    "X = data.data\n",
    "y = data.target"
   ]
  },
  {
   "cell_type": "markdown",
   "metadata": {},
   "source": [
    "- The below code cell applies train/test split to the dataset:"
   ]
  },
  {
   "cell_type": "code",
   "execution_count": 8,
   "metadata": {},
   "outputs": [],
   "source": [
    "from sklearn.model_selection import train_test_split\n",
    "\n",
    "X_train, X_test, y_train, y_test = train_test_split(X, y, test_size=0.2, random_state=42)"
   ]
  },
  {
   "cell_type": "markdown",
   "metadata": {},
   "source": [
    "- You can now initialize and train the model, and afterwards make predictions:"
   ]
  },
  {
   "cell_type": "code",
   "execution_count": 9,
   "metadata": {},
   "outputs": [
    {
     "name": "stderr",
     "output_type": "stream",
     "text": [
      "<ipython-input-6-822322b64438>:18: RuntimeWarning: overflow encountered in exp\n",
      "  return 1 / (1 + np.exp(-x))\n"
     ]
    }
   ],
   "source": [
    "model = LogisticRegression()\n",
    "model.fit(X_train, y_train)\n",
    "preds = model.predict(X_test)"
   ]
  },
  {
   "cell_type": "markdown",
   "metadata": {},
   "source": [
    "- These are the \"optimal\" weights:"
   ]
  },
  {
   "cell_type": "code",
   "execution_count": 10,
   "metadata": {},
   "outputs": [
    {
     "data": {
      "text/plain": [
       "array([ 6.48458109e+01,  8.46348283e+01,  3.76652184e+02,  1.54054003e+02,\n",
       "        5.83159961e-01, -2.99918435e-01, -1.18719824e+00, -5.08264671e-01,\n",
       "        1.09780244e+00,  4.70543004e-01,  2.55378613e-01,  6.20056326e+00,\n",
       "       -1.54946182e+00, -1.60920898e+02,  3.11666417e-02, -6.77737261e-02,\n",
       "       -1.32537252e-01, -1.64448048e-02,  9.92337789e-02,  1.02283101e-02,\n",
       "        6.80812543e+01,  1.05097039e+02,  3.79967070e+02, -2.23235180e+02,\n",
       "        7.12011129e-01, -1.31516705e+00, -2.55931308e+00, -5.99329656e-01,\n",
       "        1.40482786e+00,  4.28992752e-01])"
      ]
     },
     "execution_count": 10,
     "metadata": {},
     "output_type": "execute_result"
    }
   ],
   "source": [
    "model.weights"
   ]
  },
  {
   "cell_type": "markdown",
   "metadata": {},
   "source": [
    "- And this is the \"optimal\" bias:"
   ]
  },
  {
   "cell_type": "code",
   "execution_count": 11,
   "metadata": {},
   "outputs": [
    {
     "data": {
      "text/plain": [
       "8.486537143743831"
      ]
     },
     "execution_count": 11,
     "metadata": {},
     "output_type": "execute_result"
    }
   ],
   "source": [
    "model.bias"
   ]
  },
  {
   "cell_type": "markdown",
   "metadata": {},
   "source": [
    "- Let's evaluate the model with two metrics - accuracy score and the confusion matrix"
   ]
  },
  {
   "cell_type": "code",
   "execution_count": 12,
   "metadata": {},
   "outputs": [],
   "source": [
    "from sklearn.metrics import accuracy_score, confusion_matrix"
   ]
  },
  {
   "cell_type": "code",
   "execution_count": 13,
   "metadata": {},
   "outputs": [
    {
     "data": {
      "text/plain": [
       "0.9473684210526315"
      ]
     },
     "execution_count": 13,
     "metadata": {},
     "output_type": "execute_result"
    }
   ],
   "source": [
    "accuracy_score(y_test, preds)"
   ]
  },
  {
   "cell_type": "code",
   "execution_count": 14,
   "metadata": {},
   "outputs": [
    {
     "name": "stdout",
     "output_type": "stream",
     "text": [
      "[[43  0]\n",
      " [ 6 65]]\n"
     ]
    }
   ],
   "source": [
    "print(confusion_matrix(y_test, preds))"
   ]
  },
  {
   "cell_type": "markdown",
   "metadata": {},
   "source": [
    "- The model seems to be performing good\n",
    "- Has more false negatives than false positives\n",
    "\n",
    "<br><br>\n",
    "\n",
    "## Threshold Optimization\n",
    "- There's no guarantee that 0.5 is the best classification threshold for every classification problem\n",
    "- We can change the threshold by altering the `threshold` parameter of the `predict()` method:\n",
    "- Let's optimize the threshold for accuracy - you can choose any metric you want:"
   ]
  },
  {
   "cell_type": "code",
   "execution_count": 15,
   "metadata": {},
   "outputs": [
    {
     "name": "stderr",
     "output_type": "stream",
     "text": [
      "<ipython-input-6-822322b64438>:18: RuntimeWarning: overflow encountered in exp\n",
      "  return 1 / (1 + np.exp(-x))\n"
     ]
    }
   ],
   "source": [
    "evals = []\n",
    "\n",
    "for thresh in np.arange(0, 1.01, 0.01):\n",
    "    preds = model.predict(X_test, threshold=thresh)\n",
    "    acc = accuracy_score(y_test, preds)\n",
    "    evals.append({'Threshold': thresh, 'Accuracy': acc})"
   ]
  },
  {
   "cell_type": "code",
   "execution_count": 16,
   "metadata": {},
   "outputs": [
    {
     "data": {
      "image/png": "[encoded data removed]",
      "text/plain": [
       "<Figure size 1008x504 with 1 Axes>"
      ]
     },
     "metadata": {
      "needs_background": "light"
     },
     "output_type": "display_data"
    }
   ],
   "source": [
    "import pandas as pd\n",
    "evals_df = pd.DataFrame(evals)\n",
    "\n",
    "best_thresh = evals_df.sort_values(by='Accuracy', ascending=False).iloc[0]\n",
    "\n",
    "plt.plot(evals_df['Threshold'], evals_df['Accuracy'], lw=3, c='#087E8B')\n",
    "plt.scatter(best_thresh['Threshold'], best_thresh['Accuracy'], label=f\"Best threshold = {best_thresh['Threshold']}, Accuracy = {(best_thresh['Accuracy'] * 100):.2f}%\", s=250, c='#087E8B')\n",
    "plt.title('Threshold Optimization', size=20)\n",
    "plt.xlabel('Threshold', size=14)\n",
    "plt.ylabel('Accuracy', size=14)\n",
    "plt.legend()\n",
    "plt.savefig('images/003_LogisticRegression_threshold_optimization.png', dpi=300, bbox_inches='tight')\n",
    "plt.show()"
   ]
  },
  {
   "cell_type": "markdown",
   "metadata": {},
   "source": [
    "- You can now retrain with the best threshold:"
   ]
  },
  {
   "cell_type": "code",
   "execution_count": 17,
   "metadata": {},
   "outputs": [
    {
     "name": "stderr",
     "output_type": "stream",
     "text": [
      "<ipython-input-6-822322b64438>:18: RuntimeWarning: overflow encountered in exp\n",
      "  return 1 / (1 + np.exp(-x))\n"
     ]
    }
   ],
   "source": [
    "model = LogisticRegression()\n",
    "model.fit(X_train, y_train)\n",
    "preds = model.predict(X_test, threshold=0)"
   ]
  },
  {
   "cell_type": "markdown",
   "metadata": {},
   "source": [
    "- Let's evaluate again for accuracy and confusion matrix:"
   ]
  },
  {
   "cell_type": "code",
   "execution_count": 18,
   "metadata": {},
   "outputs": [
    {
     "data": {
      "text/plain": [
       "0.956140350877193"
      ]
     },
     "execution_count": 18,
     "metadata": {},
     "output_type": "execute_result"
    }
   ],
   "source": [
    "accuracy_score(y_test, preds)"
   ]
  },
  {
   "cell_type": "code",
   "execution_count": 19,
   "metadata": {},
   "outputs": [
    {
     "name": "stdout",
     "output_type": "stream",
     "text": [
      "[[43  0]\n",
      " [ 5 66]]\n"
     ]
    }
   ],
   "source": [
    "print(confusion_matrix(y_test, preds))"
   ]
  },
  {
   "cell_type": "markdown",
   "metadata": {},
   "source": [
    "<br>\n",
    "\n",
    "## Comparison with Scikit-Learn\n",
    "- We want to know if our model is good, so let's compare it with `LogisticRegression` model from Scikit-Learn"
   ]
  },
  {
   "cell_type": "code",
   "execution_count": 20,
   "metadata": {},
   "outputs": [
    {
     "name": "stderr",
     "output_type": "stream",
     "text": [
      "/Users/dradecic/opt/anaconda3/lib/python3.8/site-packages/sklearn/linear_model/_logistic.py:762: ConvergenceWarning: lbfgs failed to converge (status=1):\n",
      "STOP: TOTAL NO. of ITERATIONS REACHED LIMIT.\n",
      "\n",
      "Increase the number of iterations (max_iter) or scale the data as shown in:\n",
      "    https://scikit-learn.org/stable/modules/preprocessing.html\n",
      "Please also refer to the documentation for alternative solver options:\n",
      "    https://scikit-learn.org/stable/modules/linear_model.html#logistic-regression\n",
      "  n_iter_i = _check_optimize_result(\n"
     ]
    }
   ],
   "source": [
    "from sklearn.linear_model import LogisticRegression\n",
    "\n",
    "lr_model = LogisticRegression()\n",
    "lr_model.fit(X_train, y_train)\n",
    "lr_preds = lr_model.predict(X_test)"
   ]
  },
  {
   "cell_type": "code",
   "execution_count": 21,
   "metadata": {},
   "outputs": [
    {
     "data": {
      "text/plain": [
       "0.956140350877193"
      ]
     },
     "execution_count": 21,
     "metadata": {},
     "output_type": "execute_result"
    }
   ],
   "source": [
    "accuracy_score(y_test, lr_preds)"
   ]
  },
  {
   "cell_type": "code",
   "execution_count": 22,
   "metadata": {},
   "outputs": [
    {
     "name": "stdout",
     "output_type": "stream",
     "text": [
      "[[39  4]\n",
      " [ 1 70]]\n"
     ]
    }
   ],
   "source": [
    "print(confusion_matrix(y_test, lr_preds))"
   ]
  },
  {
   "cell_type": "markdown",
   "metadata": {},
   "source": [
    "- They are more or less the same, accuracy-wise"
   ]
  }
 ],
 "metadata": {
  "kernelspec": {
   "display_name": "Python 3",
   "language": "python",
   "name": "python3"
  },
  "language_info": {
   "codemirror_mode": {
    "name": "ipython",
    "version": 3
   },
   "file_extension": ".py",
   "mimetype": "text/x-python",
   "name": "python",
   "nbconvert_exporter": "python",
   "pygments_lexer": "ipython3",
   "version": "3.8.8"
  }
 },
 "nbformat": 4,
 "nbformat_minor": 4
}
