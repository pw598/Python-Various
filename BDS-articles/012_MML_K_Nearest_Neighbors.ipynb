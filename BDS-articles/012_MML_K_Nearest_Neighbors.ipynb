{
 "cells": [
  {
   "cell_type": "markdown",
   "id": "packed-launch",
   "metadata": {},
   "source": [
    "# 4. K Nearest Neighbors\n",
    "***\n",
    "- One of the easiest machine learning algorithms to implement\n",
    "- Classification algorithm that makes prediction based on a defined number of nearest neighbors\n",
    "    - This is the only hyperparameter\n",
    "    - Well, only one that's mandatory\n",
    "- Doesn't require any \"learning\" - only a simple distance calculation\n",
    "- Basic idea: A sample is classified by a majority vote of its nearest neighbors\n",
    "- The algorithm classifies an instance based on the majority votes from k nearest instances\n",
    "- Gotchas:\n",
    "    - It's a distance-based algorithm, so it's a good idea to standardize your data before training\n",
    "\n",
    "\n",
    "## Math behind\n",
    "\n",
    "- KNN boils down to a single formula for distance\n",
    "- You can choose from many distance metrics, such as Cosine or Euclidean distance\n",
    "- We'll use Euclidean distance\n",
    "- Here's the formula:\n",
    "\n",
    "$$ \\Large d(p, q) = \\sqrt{(p_1 - q_1)^2 + (p_2 - q_2)^2 + ... + (p_n - q_n)^2} $$\n",
    "\n",
    "- Or in a more compact way:\n",
    "\n",
    "$$ \\Large d(p, q) = \\sqrt{\\sum_{i=1}^n (p_i - q_i)^2} $$\n",
    "\n",
    "- It's a simple straight line distance that's easy to implement in Python"
   ]
  },
  {
   "cell_type": "markdown",
   "id": "marine-harmony",
   "metadata": {},
   "source": [
    "<br><br>\n",
    "\n",
    "## Implementation\n",
    "- The `KNN` class was writen with having Scikit-Learn API syntax in mind\n",
    "- The value for `k` is set by default to 3, and is stored to the constructor (`__init__()`) alongside `X_train` and `y_train`, initially set to `None`\n",
    "- The `_euclidean_distance(p, q)` is a private method which implements the formula from above\n",
    "- The `fit(X, y)` method does basically nothing - it just stores training data to the constructor\n",
    "- The `predict(X)` method calculates distances between every row in `X` and every row in `X_train`. The distances are then sorted and only top k are kept. The classificatin is than made by calculating statistical mode"
   ]
  },
  {
   "cell_type": "code",
   "execution_count": 1,
   "id": "intellectual-diamond",
   "metadata": {},
   "outputs": [],
   "source": [
    "import numpy as np\n",
    "import pandas as pd\n",
    "import matplotlib.pyplot as plt\n",
    "from scipy import stats\n",
    "from matplotlib import rcParams\n",
    "rcParams['axes.spines.top'] = False\n",
    "rcParams['axes.spines.right'] = False"
   ]
  },
  {
   "cell_type": "code",
   "execution_count": 2,
   "id": "noticed-vector",
   "metadata": {},
   "outputs": [],
   "source": [
    "class KNN:\n",
    "    '''\n",
    "    A class which implement k Nearest Neighbors algorithm from scratch.\n",
    "    '''\n",
    "    def __init__(self, k=3):\n",
    "        self.k = k\n",
    "        self.X_train = None\n",
    "        self.y_train = None\n",
    "        \n",
    "    @staticmethod\n",
    "    def _euclidean_distance(p, q):\n",
    "        '''\n",
    "        Private method, calculates euclidean distance between two vectors.\n",
    "        \n",
    "        :param p: np.array, first vector\n",
    "        :param q: np.array, second vector\n",
    "        :return: float, distance\n",
    "        '''\n",
    "        return np.sqrt(np.sum((p - q) ** 2))\n",
    "        \n",
    "    def fit(self, X, y):\n",
    "        '''\n",
    "        Trains the model.\n",
    "        No training is required for KNN, so `fit(X, y)` saves both parameteres\n",
    "        to the constructor.\n",
    "        \n",
    "        :param X: pd.DataFrame, features\n",
    "        :param y: pd.Series, target\n",
    "        :return: None\n",
    "        '''\n",
    "        self.X_train = X\n",
    "        self.y_train = y\n",
    "        \n",
    "    def predict(self, X):\n",
    "        '''\n",
    "        Predicts the class labels based on nearest neighbors.\n",
    "        \n",
    "        :param X: pd.DataFrame, features\n",
    "        :return: np.array, predicted class labels\n",
    "        '''\n",
    "        predictions = []\n",
    "        for p in X:\n",
    "            euc_distances = [self._euclidean_distance(p, q) for q in self.X_train]\n",
    "            sorted_k = np.argsort(euc_distances)[:self.k]\n",
    "            k_nearest = [self.y_train[y] for y in sorted_k]\n",
    "            predictions.append(stats.mode(k_nearest)[0][0])\n",
    "            \n",
    "        return np.array(predictions)"
   ]
  },
  {
   "cell_type": "markdown",
   "id": "celtic-emission",
   "metadata": {},
   "source": [
    "<br>\n",
    "\n",
    "## Testing\n",
    "- We'll use the *breast cancer* dataset from Scikit-Learn:"
   ]
  },
  {
   "cell_type": "code",
   "execution_count": 3,
   "id": "drawn-basketball",
   "metadata": {},
   "outputs": [],
   "source": [
    "from sklearn.datasets import load_breast_cancer\n",
    "\n",
    "data = load_breast_cancer()\n",
    "X = data.data\n",
    "y = data.target "
   ]
  },
  {
   "cell_type": "markdown",
   "id": "scientific-still",
   "metadata": {},
   "source": [
    "- The below code cell applies train/test split to the dataset:"
   ]
  },
  {
   "cell_type": "code",
   "execution_count": 4,
   "id": "warming-peoples",
   "metadata": {},
   "outputs": [],
   "source": [
    "from sklearn.model_selection import train_test_split\n",
    "\n",
    "X_train, X_test, y_train, y_test = train_test_split(X, y, test_size=0.2, random_state=42)"
   ]
  },
  {
   "cell_type": "markdown",
   "id": "infectious-paraguay",
   "metadata": {},
   "source": [
    "- You can now initialize and \"train\" the model, and afterwards make predictions:"
   ]
  },
  {
   "cell_type": "code",
   "execution_count": 5,
   "id": "biblical-inflation",
   "metadata": {},
   "outputs": [],
   "source": [
    "model = KNN()\n",
    "model.fit(X_train, y_train)\n",
    "preds = model.predict(X_test)"
   ]
  },
  {
   "cell_type": "code",
   "execution_count": 6,
   "id": "framed-allen",
   "metadata": {},
   "outputs": [
    {
     "data": {
      "text/plain": [
       "array([0, 0, 0, 1, 1, 0, 0, 0, 1, 1, 1, 0, 1, 1, 1, 0, 1, 1, 1, 0, 0, 1,\n",
       "       0, 1, 1, 1, 1, 1, 1, 0, 1, 1, 1, 0, 1, 1, 0, 1, 0, 1, 1, 0, 1, 1,\n",
       "       1, 1, 1, 1, 1, 1, 0, 0, 1, 1, 1, 1, 1, 0, 1, 1, 1, 0, 0, 1, 1, 1,\n",
       "       0, 0, 1, 1, 0, 0, 1, 1, 1, 1, 1, 1, 1, 1, 0, 1, 1, 0, 0, 0, 0, 0,\n",
       "       1, 1, 1, 1, 1, 1, 1, 1, 0, 0, 1, 0, 0, 1, 0, 0, 0, 1, 1, 0, 1, 1,\n",
       "       0, 1, 1, 0])"
      ]
     },
     "execution_count": 6,
     "metadata": {},
     "output_type": "execute_result"
    }
   ],
   "source": [
    "preds"
   ]
  },
  {
   "cell_type": "code",
   "execution_count": 7,
   "id": "published-canadian",
   "metadata": {},
   "outputs": [
    {
     "data": {
      "text/plain": [
       "array([1, 0, 0, 1, 1, 0, 0, 0, 1, 1, 1, 0, 1, 0, 1, 0, 1, 1, 1, 0, 0, 1,\n",
       "       0, 1, 1, 1, 1, 1, 1, 0, 1, 1, 1, 1, 1, 1, 0, 1, 0, 1, 1, 0, 1, 1,\n",
       "       1, 1, 1, 1, 1, 1, 0, 0, 1, 1, 1, 1, 1, 0, 0, 1, 1, 0, 0, 1, 1, 1,\n",
       "       0, 0, 1, 1, 0, 0, 1, 0, 1, 1, 1, 0, 1, 1, 0, 1, 0, 0, 0, 0, 0, 0,\n",
       "       1, 1, 1, 1, 1, 1, 1, 1, 0, 0, 1, 0, 0, 1, 0, 0, 1, 1, 1, 0, 1, 1,\n",
       "       0, 1, 1, 0])"
      ]
     },
     "execution_count": 7,
     "metadata": {},
     "output_type": "execute_result"
    }
   ],
   "source": [
    "y_test"
   ]
  },
  {
   "cell_type": "markdown",
   "id": "broken-scout",
   "metadata": {},
   "source": [
    "- As we can see, the arrays are quite similar but they have some differences\n",
    "- Let's calculate accuracy to evaluate the model:"
   ]
  },
  {
   "cell_type": "code",
   "execution_count": 8,
   "id": "clinical-plastic",
   "metadata": {},
   "outputs": [
    {
     "data": {
      "text/plain": [
       "0.9298245614035088"
      ]
     },
     "execution_count": 8,
     "metadata": {},
     "output_type": "execute_result"
    }
   ],
   "source": [
    "from sklearn.metrics import accuracy_score\n",
    "\n",
    "accuracy_score(y_test, preds)"
   ]
  },
  {
   "cell_type": "markdown",
   "id": "copyrighted-azerbaijan",
   "metadata": {},
   "source": [
    "- The overall performance seems to be good out of the box\n",
    "- Let's tweak it by finding the optimal K value\n",
    "\n",
    "<br>\n",
    "\n",
    "## K Optimization\n",
    "- K value of 3 maybe isn't the best choice\n",
    "- We'll train and evaluate the model for every odd number from 1 to 15\n",
    "- The results are stored to `evals`:"
   ]
  },
  {
   "cell_type": "code",
   "execution_count": 9,
   "id": "sunrise-whole",
   "metadata": {},
   "outputs": [],
   "source": [
    "evals = []\n",
    "\n",
    "for k in range(1, 16, 2):\n",
    "    model = KNN(k=k)\n",
    "    model.fit(X_train, y_train)\n",
    "    preds = model.predict(X_test)\n",
    "    accuracy = accuracy_score(y_test, preds)\n",
    "    evals.append({'k': k, 'accuracy': accuracy})"
   ]
  },
  {
   "cell_type": "markdown",
   "id": "three-momentum",
   "metadata": {},
   "source": [
    "- Let's visually inspect the best K:"
   ]
  },
  {
   "cell_type": "code",
   "execution_count": 10,
   "id": "played-killing",
   "metadata": {},
   "outputs": [
    {
     "data": {
      "image/png": "[encoded data removed]",
      "text/plain": [
       "<Figure size 1152x576 with 1 Axes>"
      ]
     },
     "metadata": {
      "needs_background": "light"
     },
     "output_type": "display_data"
    }
   ],
   "source": [
    "evals = pd.DataFrame(evals)\n",
    "best_k = evals.sort_values(by='accuracy', ascending=False).iloc[0]\n",
    "\n",
    "plt.figure(figsize=(16, 8))\n",
    "plt.plot(evals['k'], evals['accuracy'], lw=3, c='#087E8B')\n",
    "plt.scatter(best_k['k'], best_k['accuracy'], s=200, c='#087E8B')\n",
    "plt.title(f\"K Parameter Optimization, Optimal k = {int(best_k['k'])}\", size=20)\n",
    "plt.xlabel('K', size=14)\n",
    "plt.ylabel('Accuracy', size=14)\n",
    "plt.savefig('images/004_KNN_k_optimization.png', dpi=300, bbox_inches='tight')\n",
    "plt.show()"
   ]
  },
  {
   "cell_type": "markdown",
   "id": "federal-screw",
   "metadata": {},
   "source": [
    "- The K value of 11 seems to work the best with our dataset\n",
    "- You can now retrain the model with having this in mind\n",
    "    - `model = KNN(k=11)`\n",
    "- Let's compare performance with Scikit-Learn model next"
   ]
  },
  {
   "cell_type": "markdown",
   "id": "following-pressing",
   "metadata": {},
   "source": [
    "<br>\n",
    "\n",
    "## Comparison with Scikit-Learn\n",
    "- We want to know if our model is good, so let's compare it with `KNeighborsClassifier` model from Scikit-Learn"
   ]
  },
  {
   "cell_type": "code",
   "execution_count": 11,
   "id": "virtual-location",
   "metadata": {},
   "outputs": [],
   "source": [
    "from sklearn.neighbors import KNeighborsClassifier\n",
    "\n",
    "knn_model = KNeighborsClassifier()\n",
    "knn_model.fit(X_train, y_train)\n",
    "knn_preds = knn_model.predict(X_test)"
   ]
  },
  {
   "cell_type": "code",
   "execution_count": 12,
   "id": "otherwise-passion",
   "metadata": {},
   "outputs": [
    {
     "data": {
      "text/plain": [
       "0.956140350877193"
      ]
     },
     "execution_count": 12,
     "metadata": {},
     "output_type": "execute_result"
    }
   ],
   "source": [
    "accuracy_score(y_test, knn_preds)"
   ]
  },
  {
   "cell_type": "markdown",
   "id": "touched-correlation",
   "metadata": {},
   "source": [
    "- They are more or less the same, but we didn't do K optimization for Scikit-Learn model"
   ]
  }
 ],
 "metadata": {
  "kernelspec": {
   "display_name": "Python 3",
   "language": "python",
   "name": "python3"
  },
  "language_info": {
   "codemirror_mode": {
    "name": "ipython",
    "version": 3
   },
   "file_extension": ".py",
   "mimetype": "text/x-python",
   "name": "python",
   "nbconvert_exporter": "python",
   "pygments_lexer": "ipython3",
   "version": "3.8.8"
  }
 },
 "nbformat": 4,
 "nbformat_minor": 5
}
